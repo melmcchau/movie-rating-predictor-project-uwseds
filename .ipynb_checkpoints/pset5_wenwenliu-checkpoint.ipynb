{
 "cells": [
  {
   "cell_type": "markdown",
   "metadata": {
    "colab_type": "text",
    "id": "wybm1siShkF3"
   },
   "source": [
    "\n",
    "\n",
    "For this assignment, the following libraries may be useful:\n",
    "\n",
    "* [numpy](http://docs.scipy.org/doc/numpy-dev/user/index.html), for arrays\n",
    "* [scikit-learn](http://scikit-learn.org/stable/), for machine learning\n",
    "* [pandas](http://pandas.pydata.org/), for data frames\n",
    "* [matplotlib](http://matplotlib.org/), for plotting\n",
    "\n",
    "In particular, I suggest you familiarize yourself with the following aspects of these libraries, which are not required but which might make your life easier:\n",
    "\n",
    "* `DataFrame` and other basic [data structures](http://pandas.pydata.org/pandas-docs/stable/dsintro.html) in pandas\n",
    "* [`groupby`](http://pandas.pydata.org/pandas-docs/stable/groupby.html), `unique`,  and other simple aggregation functions\n",
    "* [`CountVectorizer`](http://scikit-learn.org/stable/modules/generated/sklearn.feature_extraction.text.CountVectorizer.html) for working with text in sklearn.\n",
    "* [`MultinomialNB`](http://scikit-learn.org/stable/modules/generated/sklearn.naive_bayes.MultinomialNB.html) for Naive Bayes\n",
    "* Simple tools for [Cross-Validation](http://scikit-learn.org/stable/modules/cross_validation.html) in sklearn\n",
    "\n",
    "Make sure they load properly with the following code block:"
   ]
  },
  {
   "cell_type": "code",
   "execution_count": 0,
   "metadata": {
    "colab": {},
    "colab_type": "code",
    "id": "ACs-IwIohkF8",
    "outputId": "b95e4516-1fc2-431f-aac0-f97339c9882f"
   },
   "outputs": [
    {
     "name": "stderr",
     "output_type": "stream",
     "text": [
      "C:\\Users\\Jessica\\Anaconda3\\lib\\site-packages\\sklearn\\cross_validation.py:44: DeprecationWarning: This module was deprecated in version 0.18 in favor of the model_selection module into which all the refactored classes and functions are moved. Also note that the interface of the new CV iterators are different from that of this module. This module will be removed in 0.20.\n",
      "  \"This module will be removed in 0.20.\", DeprecationWarning)\n"
     ]
    }
   ],
   "source": [
    "%matplotlib inline\n",
    "import pandas as pd\n",
    "import numpy as np\n",
    "import matplotlib.pyplot as plt\n",
    "\n",
    "#hint: Consult the scikit-learn documentation to\n",
    "#      learn about what these classes do do\n",
    "from  sklearn.cross_validation import cross_val_score\n",
    "from sklearn.cross_validation import train_test_split\n",
    "from sklearn.naive_bayes import MultinomialNB\n",
    "from sklearn.feature_extraction.text import CountVectorizer\n",
    "import statsmodels.formula.api as smf\n",
    "from sklearn.metrics import mean_squared_error\n",
    "from sklearn.preprocessing import StandardScaler\n",
    "from sklearn.decomposition import PCA"
   ]
  },
  {
   "cell_type": "markdown",
   "metadata": {
    "colab_type": "text",
    "id": "U27AjjlDhkGF"
   },
   "source": [
    "## Introduction to the assignment\n",
    "\n",
    "In this assignment, you'll be analyzing movie reviews in an attempt to determine whether movies are good or bad.  I've downloaded a large number of movie reviews from the [Rotten Tomatoes](http://www.rottentomatoes.com) website, which are available in the file \"reviews.csv\" on Canvas.  I've also put a file \"movies.dat\" on Canvas that contains metadata for ~65,000 different movies\n",
    "\n",
    "If you've never seen Rotten Tomatoes before, go spend a few minutes familiarizing yourself with the website.  It's a meta-review website that aggregates movie reviews from a large number of critics.  Here's what the page for this year's likely [Oscar winner](http://www.rottentomatoes.com/m/the_revenant_2015/) looks like.  Note in particular the section on \"Critic Reviews\" at the bottom -- that's the content that has been scraped and put in the reviews.csv file.  Also note that each movie is given a quantitative score on the Tomatometer which is used to classify the movie as either Fresh (good) or Rotten (bad).\n",
    "\n",
    "Your mission is to develop a classifier to determine whether a movie is Fresh or Rotten based on the contents of the reviews given to the movie.  As usual, we'll start out with some exploratory data analysis."
   ]
  },
  {
   "cell_type": "markdown",
   "metadata": {
    "colab_type": "text",
    "id": "tUfZFTHlhkGH"
   },
   "source": [
    "---\n",
    "\n",
    "## Part 1: Descriptive analysis\n",
    "\n",
    "Before beginning the \"real\" work, dig into the data a bit do see what you're dealing with.  Begin by loading the datasets and dropping rows that have missing data:"
   ]
  },
  {
   "cell_type": "code",
   "execution_count": 0,
   "metadata": {
    "colab": {},
    "colab_type": "code",
    "id": "t9t57NoBhkGI"
   },
   "outputs": [],
   "source": [
    "reviews = pd.read_csv('reviews.csv')\n",
    "movies = pd.read_csv(\"movies.dat\", delimiter='\\t')\n",
    "reviews = reviews[~reviews.quote.isnull()]\n",
    "reviews = reviews[reviews.fresh != 'none']\n",
    "reviews = reviews[reviews.quote.str.len() > 0]"
   ]
  },
  {
   "cell_type": "code",
   "execution_count": 0,
   "metadata": {
    "colab": {},
    "colab_type": "code",
    "id": "BETgis4nhkGO",
    "outputId": "fe9876f2-0488-45e3-883d-ab2b896919c5"
   },
   "outputs": [
    {
     "data": {
      "text/html": [
       "<div>\n",
       "<style>\n",
       "    .dataframe thead tr:only-child th {\n",
       "        text-align: right;\n",
       "    }\n",
       "\n",
       "    .dataframe thead th {\n",
       "        text-align: left;\n",
       "    }\n",
       "\n",
       "    .dataframe tbody tr th {\n",
       "        vertical-align: top;\n",
       "    }\n",
       "</style>\n",
       "<table border=\"1\" class=\"dataframe\">\n",
       "  <thead>\n",
       "    <tr style=\"text-align: right;\">\n",
       "      <th></th>\n",
       "      <th>id</th>\n",
       "      <th>title</th>\n",
       "      <th>imdbID</th>\n",
       "      <th>spanishTitle</th>\n",
       "      <th>imdbPictureURL</th>\n",
       "      <th>year</th>\n",
       "      <th>rtID</th>\n",
       "      <th>rtAllCriticsRating</th>\n",
       "      <th>rtAllCriticsNumReviews</th>\n",
       "      <th>rtAllCriticsNumFresh</th>\n",
       "      <th>...</th>\n",
       "      <th>rtAllCriticsScore</th>\n",
       "      <th>rtTopCriticsRating</th>\n",
       "      <th>rtTopCriticsNumReviews</th>\n",
       "      <th>rtTopCriticsNumFresh</th>\n",
       "      <th>rtTopCriticsNumRotten</th>\n",
       "      <th>rtTopCriticsScore</th>\n",
       "      <th>rtAudienceRating</th>\n",
       "      <th>rtAudienceNumRatings</th>\n",
       "      <th>rtAudienceScore</th>\n",
       "      <th>rtPictureURL</th>\n",
       "    </tr>\n",
       "  </thead>\n",
       "  <tbody>\n",
       "    <tr>\n",
       "      <th>0</th>\n",
       "      <td>1</td>\n",
       "      <td>Toy story</td>\n",
       "      <td>114709</td>\n",
       "      <td>Toy story (juguetes)</td>\n",
       "      <td>http://ia.media-imdb.com/images/M/MV5BMTMwNDU0...</td>\n",
       "      <td>1995</td>\n",
       "      <td>toy_story</td>\n",
       "      <td>9</td>\n",
       "      <td>73</td>\n",
       "      <td>73</td>\n",
       "      <td>...</td>\n",
       "      <td>100</td>\n",
       "      <td>8.5</td>\n",
       "      <td>17</td>\n",
       "      <td>17</td>\n",
       "      <td>0</td>\n",
       "      <td>100</td>\n",
       "      <td>3.7</td>\n",
       "      <td>102338</td>\n",
       "      <td>81</td>\n",
       "      <td>http://content7.flixster.com/movie/10/93/63/10...</td>\n",
       "    </tr>\n",
       "    <tr>\n",
       "      <th>1</th>\n",
       "      <td>2</td>\n",
       "      <td>Jumanji</td>\n",
       "      <td>113497</td>\n",
       "      <td>Jumanji</td>\n",
       "      <td>http://ia.media-imdb.com/images/M/MV5BMzM5NjE1...</td>\n",
       "      <td>1995</td>\n",
       "      <td>1068044-jumanji</td>\n",
       "      <td>5.6</td>\n",
       "      <td>28</td>\n",
       "      <td>13</td>\n",
       "      <td>...</td>\n",
       "      <td>46</td>\n",
       "      <td>5.8</td>\n",
       "      <td>5</td>\n",
       "      <td>2</td>\n",
       "      <td>3</td>\n",
       "      <td>40</td>\n",
       "      <td>3.2</td>\n",
       "      <td>44587</td>\n",
       "      <td>61</td>\n",
       "      <td>http://content8.flixster.com/movie/56/79/73/56...</td>\n",
       "    </tr>\n",
       "  </tbody>\n",
       "</table>\n",
       "<p>2 rows × 21 columns</p>\n",
       "</div>"
      ],
      "text/plain": [
       "   id      title  imdbID          spanishTitle  \\\n",
       "0   1  Toy story  114709  Toy story (juguetes)   \n",
       "1   2    Jumanji  113497               Jumanji   \n",
       "\n",
       "                                      imdbPictureURL  year             rtID  \\\n",
       "0  http://ia.media-imdb.com/images/M/MV5BMTMwNDU0...  1995        toy_story   \n",
       "1  http://ia.media-imdb.com/images/M/MV5BMzM5NjE1...  1995  1068044-jumanji   \n",
       "\n",
       "  rtAllCriticsRating rtAllCriticsNumReviews rtAllCriticsNumFresh  \\\n",
       "0                  9                     73                   73   \n",
       "1                5.6                     28                   13   \n",
       "\n",
       "                         ...                         rtAllCriticsScore  \\\n",
       "0                        ...                                       100   \n",
       "1                        ...                                        46   \n",
       "\n",
       "  rtTopCriticsRating rtTopCriticsNumReviews rtTopCriticsNumFresh  \\\n",
       "0                8.5                     17                   17   \n",
       "1                5.8                      5                    2   \n",
       "\n",
       "  rtTopCriticsNumRotten rtTopCriticsScore rtAudienceRating  \\\n",
       "0                     0               100              3.7   \n",
       "1                     3                40              3.2   \n",
       "\n",
       "  rtAudienceNumRatings rtAudienceScore  \\\n",
       "0               102338              81   \n",
       "1                44587              61   \n",
       "\n",
       "                                        rtPictureURL  \n",
       "0  http://content7.flixster.com/movie/10/93/63/10...  \n",
       "1  http://content8.flixster.com/movie/56/79/73/56...  \n",
       "\n",
       "[2 rows x 21 columns]"
      ]
     },
     "execution_count": 3,
     "metadata": {
      "tags": []
     },
     "output_type": "execute_result"
    }
   ],
   "source": [
    "movies.head(2)"
   ]
  },
  {
   "cell_type": "code",
   "execution_count": 0,
   "metadata": {
    "colab": {},
    "colab_type": "code",
    "id": "Ve5WFkythkGT",
    "outputId": "64929efd-4337-492b-897f-e0729d6b2c4e"
   },
   "outputs": [
    {
     "data": {
      "text/html": [
       "<div>\n",
       "<style>\n",
       "    .dataframe thead tr:only-child th {\n",
       "        text-align: right;\n",
       "    }\n",
       "\n",
       "    .dataframe thead th {\n",
       "        text-align: left;\n",
       "    }\n",
       "\n",
       "    .dataframe tbody tr th {\n",
       "        vertical-align: top;\n",
       "    }\n",
       "</style>\n",
       "<table border=\"1\" class=\"dataframe\">\n",
       "  <thead>\n",
       "    <tr style=\"text-align: right;\">\n",
       "      <th></th>\n",
       "      <th>critic</th>\n",
       "      <th>fresh</th>\n",
       "      <th>imdb</th>\n",
       "      <th>link</th>\n",
       "      <th>publication</th>\n",
       "      <th>quote</th>\n",
       "      <th>review_date</th>\n",
       "      <th>rtid</th>\n",
       "      <th>title</th>\n",
       "    </tr>\n",
       "  </thead>\n",
       "  <tbody>\n",
       "    <tr>\n",
       "      <th>0</th>\n",
       "      <td>Derek Adams</td>\n",
       "      <td>fresh</td>\n",
       "      <td>114709</td>\n",
       "      <td>http://www.timeout.com/film/reviews/87745/toy-...</td>\n",
       "      <td>Time Out</td>\n",
       "      <td>So ingenious in concept, design and execution ...</td>\n",
       "      <td>2009-10-04 00:00:00</td>\n",
       "      <td>9559</td>\n",
       "      <td>Toy Story</td>\n",
       "    </tr>\n",
       "    <tr>\n",
       "      <th>1</th>\n",
       "      <td>Richard Corliss</td>\n",
       "      <td>fresh</td>\n",
       "      <td>114709</td>\n",
       "      <td>http://www.time.com/time/magazine/article/0,91...</td>\n",
       "      <td>TIME Magazine</td>\n",
       "      <td>The year's most inventive comedy.</td>\n",
       "      <td>2008-08-31 00:00:00</td>\n",
       "      <td>9559</td>\n",
       "      <td>Toy Story</td>\n",
       "    </tr>\n",
       "  </tbody>\n",
       "</table>\n",
       "</div>"
      ],
      "text/plain": [
       "            critic  fresh    imdb  \\\n",
       "0      Derek Adams  fresh  114709   \n",
       "1  Richard Corliss  fresh  114709   \n",
       "\n",
       "                                                link    publication  \\\n",
       "0  http://www.timeout.com/film/reviews/87745/toy-...       Time Out   \n",
       "1  http://www.time.com/time/magazine/article/0,91...  TIME Magazine   \n",
       "\n",
       "                                               quote          review_date  \\\n",
       "0  So ingenious in concept, design and execution ...  2009-10-04 00:00:00   \n",
       "1                  The year's most inventive comedy.  2008-08-31 00:00:00   \n",
       "\n",
       "   rtid      title  \n",
       "0  9559  Toy Story  \n",
       "1  9559  Toy Story  "
      ]
     },
     "execution_count": 4,
     "metadata": {
      "tags": []
     },
     "output_type": "execute_result"
    }
   ],
   "source": [
    "reviews.head(2)"
   ]
  },
  {
   "cell_type": "markdown",
   "metadata": {
    "colab_type": "text",
    "id": "uE0RGqZXhkGY"
   },
   "source": [
    "### 1.1: Basic features of the dataset\n",
    "\n",
    "Answer the following questions by having your python code directly print the answers:\n",
    "\n",
    "* How many unique reviews (quotes) are in the `reviews` dataset?\n",
    "* How many unique reviewers (critics) are in the `reviews` dataset?\n",
    "* How many unique movies are in the `reviews` dataset?\n",
    "* How many unique movies are in the *`movies`* dataset?\n",
    "* How many different publications have reviews in the `reviews` dataset?\n"
   ]
  },
  {
   "cell_type": "code",
   "execution_count": 0,
   "metadata": {
    "colab": {},
    "colab_type": "code",
    "id": "a12_c7iBhkGa"
   },
   "outputs": [],
   "source": [
    "# enter your code below\n",
    "# How many unique reviews (quotes) are in the reviews dataset?\n",
    "unique_reviews=reviews['quote'].unique()\n",
    "num_unique_reviews=len(unique_reviews)\n",
    "# How many unique reviewers (critics) are in the reviews dataset?\n",
    "unique_critics=reviews['critic'].unique()\n",
    "num_unique_critics=len(unique_critics)\n",
    "#How many unique movies are in the reviews dataset?\n",
    "unique_movies=reviews['title'].unique()\n",
    "num_unique_movies=len(unique_movies)\n",
    "#How many unique movies are in the movies dataset?\n",
    "unique_movies_m=movies['title'].unique()\n",
    "num_unique_movies_m=len(unique_movies_m)\n",
    "#How many different publications have reviews in the reviews dataset?\n",
    "unique_publications=reviews['publication'].unique()\n",
    "num_unique_publications=len(unique_publications)"
   ]
  },
  {
   "cell_type": "code",
   "execution_count": 0,
   "metadata": {
    "colab": {},
    "colab_type": "code",
    "id": "8wxYanmuhkGf",
    "outputId": "de152207-4bf1-4dff-aed5-cd3cada4f38c"
   },
   "outputs": [
    {
     "name": "stdout",
     "output_type": "stream",
     "text": [
      "Number of reviews: 13419\n",
      "Number of reviews: 12814\n",
      "Number of reviewers: 541\n",
      "Number of unique movies in the reviews dataset: 1720\n",
      "Number of unique movies in the movies dataset: 9405\n",
      "Number of different publications: 64\n"
     ]
    }
   ],
   "source": [
    "print(\"Number of reviews: %i\" % len(reviews))\n",
    "print(\"Number of reviews: %i\" % num_unique_reviews)\n",
    "print(\"Number of reviewers: %i\" % num_unique_critics)\n",
    "print(\"Number of unique movies in the reviews dataset: %i\" % num_unique_movies)\n",
    "print(\"Number of unique movies in the movies dataset: %i\" % num_unique_movies_m)\n",
    "print(\"Number of different publications: %i\" % num_unique_publications)"
   ]
  },
  {
   "cell_type": "markdown",
   "metadata": {
    "colab_type": "text",
    "id": "dnmwgHRvhkGk"
   },
   "source": [
    "### 1.2 Number of reviews per reviewer\n",
    "\n",
    "Using the `reviews` dataset, create a histogram showing the distribution of the number of reviews per reviewer.  Create the bin width (x-axis) to be 1 unit wide, and the range of the axis to be from 0 to 30.  Scale the y-axis to show the logarithm of (count of) the number of reviews.  Label your axes and make your histogram look professional."
   ]
  },
  {
   "cell_type": "code",
   "execution_count": 0,
   "metadata": {
    "colab": {},
    "colab_type": "code",
    "id": "jQs8d-emhkGm",
    "outputId": "c1e37279-4313-4b40-d7fd-7862de110e95",
    "scrolled": true
   },
   "outputs": [
    {
     "data": {
      "image/png": "[encoded data removed]",
      "text/plain": [
       "<matplotlib.figure.Figure at 0x1ec9bcc68d0>"
      ]
     },
     "metadata": {
      "tags": []
     },
     "output_type": "display_data"
    }
   ],
   "source": [
    "# enter your code here  \n",
    "%matplotlib inline  \n",
    "import matplotlib.pyplot as plt \n",
    "reviewer_reviews=pd.DataFrame(reviews.groupby('critic').count())\n",
    "reviewer_reviews.reset_index(level=0, inplace=True)\n",
    "fig, ax = plt.subplots()\n",
    "plt.xlim([0, 30])\n",
    "plt.yscale('log', nonposy='clip')\n",
    "ax.hist(reviewer_reviews.quote, range=[0,30],bins=30,color=['green'],edgecolor = 'white',alpha=0.5)\n",
    "plt.ylabel('Logarithm of (count of) the Number of Reviews') # add labels \n",
    "plt.xlabel('Number of Reviews')\n",
    "plt.title(' The histogram of reviews per reviewer')\n",
    "ax.spines['right'].set_visible(False)\n",
    "ax.spines['top'].set_visible(False)\n",
    "ax.legend(['Number of Reviewers'])\n",
    "plt.show()"
   ]
  },
  {
   "cell_type": "markdown",
   "metadata": {
    "colab_type": "text",
    "id": "NIo16EY7hkGr"
   },
   "source": [
    "### 1.3 Zoom in on a few reviewers\n",
    "Find the 30 critics with the most reviews, and list their names in a table along with (a) the name of the publication they work for, (b) the date of their first review, and (c) the date of their last review\n",
    "\n",
    "*hint: use the groupby function to do this quickly*"
   ]
  },
  {
   "cell_type": "code",
   "execution_count": 0,
   "metadata": {
    "colab": {},
    "colab_type": "code",
    "id": "QDrpNjOOhkGt",
    "outputId": "d61ac2fe-a217-466d-c102-4c8c063fd9f9"
   },
   "outputs": [
    {
     "data": {
      "text/html": [
       "<div>\n",
       "<style>\n",
       "    .dataframe thead tr:only-child th {\n",
       "        text-align: right;\n",
       "    }\n",
       "\n",
       "    .dataframe thead th {\n",
       "        text-align: left;\n",
       "    }\n",
       "\n",
       "    .dataframe tbody tr th {\n",
       "        vertical-align: top;\n",
       "    }\n",
       "</style>\n",
       "<table border=\"1\" class=\"dataframe\">\n",
       "  <thead>\n",
       "    <tr>\n",
       "      <th></th>\n",
       "      <th>critic</th>\n",
       "      <th colspan=\"2\" halign=\"left\">review_date</th>\n",
       "      <th>publication</th>\n",
       "      <th>quote</th>\n",
       "    </tr>\n",
       "    <tr>\n",
       "      <th></th>\n",
       "      <th></th>\n",
       "      <th>max</th>\n",
       "      <th>min</th>\n",
       "      <th>max</th>\n",
       "      <th>count</th>\n",
       "    </tr>\n",
       "  </thead>\n",
       "  <tbody>\n",
       "    <tr>\n",
       "      <th>0</th>\n",
       "      <td>Roger Ebert</td>\n",
       "      <td>2013-06-11 00:00:00</td>\n",
       "      <td>2000-01-01 00:00:00</td>\n",
       "      <td>Chicago Sun-Times</td>\n",
       "      <td>1150</td>\n",
       "    </tr>\n",
       "    <tr>\n",
       "      <th>1</th>\n",
       "      <td>James Berardinelli</td>\n",
       "      <td>2012-02-07 00:00:00</td>\n",
       "      <td>1800-01-01 00:00:00</td>\n",
       "      <td>ReelViews</td>\n",
       "      <td>833</td>\n",
       "    </tr>\n",
       "    <tr>\n",
       "      <th>2</th>\n",
       "      <td>Janet Maslin</td>\n",
       "      <td>2010-09-07 00:00:00</td>\n",
       "      <td>2000-01-01 00:00:00</td>\n",
       "      <td>New York Times</td>\n",
       "      <td>526</td>\n",
       "    </tr>\n",
       "    <tr>\n",
       "      <th>3</th>\n",
       "      <td>Variety Staff</td>\n",
       "      <td>2012-08-15 00:00:00</td>\n",
       "      <td>2001-02-13 00:00:00</td>\n",
       "      <td>Variety</td>\n",
       "      <td>449</td>\n",
       "    </tr>\n",
       "    <tr>\n",
       "      <th>4</th>\n",
       "      <td>Jonathan Rosenbaum</td>\n",
       "      <td>2013-10-22 00:00:00</td>\n",
       "      <td>1988-07-11 00:00:00</td>\n",
       "      <td>Chicago Reader</td>\n",
       "      <td>420</td>\n",
       "    </tr>\n",
       "    <tr>\n",
       "      <th>5</th>\n",
       "      <td>Desson Thomson</td>\n",
       "      <td>2012-10-08 00:00:00</td>\n",
       "      <td>2000-01-01 00:00:00</td>\n",
       "      <td>Washington Post</td>\n",
       "      <td>373</td>\n",
       "    </tr>\n",
       "    <tr>\n",
       "      <th>6</th>\n",
       "      <td>Geoff Andrew</td>\n",
       "      <td>2012-04-05 00:00:00</td>\n",
       "      <td>2005-08-11 00:00:00</td>\n",
       "      <td>Time Out</td>\n",
       "      <td>361</td>\n",
       "    </tr>\n",
       "    <tr>\n",
       "      <th>7</th>\n",
       "      <td>Dave Kehr</td>\n",
       "      <td>2013-11-20 00:00:00</td>\n",
       "      <td>2000-01-01 00:00:00</td>\n",
       "      <td>New York Daily News</td>\n",
       "      <td>360</td>\n",
       "    </tr>\n",
       "    <tr>\n",
       "      <th>8</th>\n",
       "      <td>Kenneth Turan</td>\n",
       "      <td>2013-10-05 00:00:00</td>\n",
       "      <td>2000-01-01 00:00:00</td>\n",
       "      <td>Los Angeles Times</td>\n",
       "      <td>282</td>\n",
       "    </tr>\n",
       "    <tr>\n",
       "      <th>9</th>\n",
       "      <td>Mick LaSalle</td>\n",
       "      <td>2009-11-25 00:00:00</td>\n",
       "      <td>2000-01-01 00:00:00</td>\n",
       "      <td>San Francisco Chronicle</td>\n",
       "      <td>280</td>\n",
       "    </tr>\n",
       "    <tr>\n",
       "      <th>10</th>\n",
       "      <td>Owen Gleiberman</td>\n",
       "      <td>2011-09-07 00:00:00</td>\n",
       "      <td>1800-01-01 00:00:00</td>\n",
       "      <td>Entertainment Weekly</td>\n",
       "      <td>241</td>\n",
       "    </tr>\n",
       "    <tr>\n",
       "      <th>11</th>\n",
       "      <td>Rita Kempley</td>\n",
       "      <td>2013-11-02 00:00:00</td>\n",
       "      <td>2000-01-01 00:00:00</td>\n",
       "      <td>Washington Post</td>\n",
       "      <td>236</td>\n",
       "    </tr>\n",
       "    <tr>\n",
       "      <th>12</th>\n",
       "      <td>Joe Baltake</td>\n",
       "      <td>2013-08-04 00:00:00</td>\n",
       "      <td>2000-01-01 00:00:00</td>\n",
       "      <td>Sacramento Bee</td>\n",
       "      <td>231</td>\n",
       "    </tr>\n",
       "    <tr>\n",
       "      <th>13</th>\n",
       "      <td>Todd McCarthy</td>\n",
       "      <td>2012-10-09 00:00:00</td>\n",
       "      <td>2000-01-01 00:00:00</td>\n",
       "      <td>Variety</td>\n",
       "      <td>223</td>\n",
       "    </tr>\n",
       "    <tr>\n",
       "      <th>14</th>\n",
       "      <td>Vincent Canby</td>\n",
       "      <td>2013-07-29 00:00:00</td>\n",
       "      <td>2000-01-01 00:00:00</td>\n",
       "      <td>New York Times</td>\n",
       "      <td>207</td>\n",
       "    </tr>\n",
       "    <tr>\n",
       "      <th>15</th>\n",
       "      <td>Hal Hinson</td>\n",
       "      <td>2013-06-26 00:00:00</td>\n",
       "      <td>2000-01-01 00:00:00</td>\n",
       "      <td>Washington Post</td>\n",
       "      <td>174</td>\n",
       "    </tr>\n",
       "    <tr>\n",
       "      <th>16</th>\n",
       "      <td>Susan Stark</td>\n",
       "      <td>2002-10-25 00:00:00</td>\n",
       "      <td>2000-01-01 00:00:00</td>\n",
       "      <td>Detroit News</td>\n",
       "      <td>167</td>\n",
       "    </tr>\n",
       "    <tr>\n",
       "      <th>17</th>\n",
       "      <td>Stephen Holden</td>\n",
       "      <td>2009-02-06 00:00:00</td>\n",
       "      <td>2000-01-01 00:00:00</td>\n",
       "      <td>New York Times</td>\n",
       "      <td>166</td>\n",
       "    </tr>\n",
       "    <tr>\n",
       "      <th>18</th>\n",
       "      <td>Derek Adams</td>\n",
       "      <td>2009-10-04 00:00:00</td>\n",
       "      <td>2006-01-26 00:00:00</td>\n",
       "      <td>Time Out</td>\n",
       "      <td>154</td>\n",
       "    </tr>\n",
       "    <tr>\n",
       "      <th>19</th>\n",
       "      <td>Kevin Thomas</td>\n",
       "      <td>2013-11-02 00:00:00</td>\n",
       "      <td>2000-01-01 00:00:00</td>\n",
       "      <td>Los Angeles Times</td>\n",
       "      <td>145</td>\n",
       "    </tr>\n",
       "    <tr>\n",
       "      <th>20</th>\n",
       "      <td>Peter Stack</td>\n",
       "      <td>2002-06-18 00:00:00</td>\n",
       "      <td>2000-01-01 00:00:00</td>\n",
       "      <td>San Francisco Chronicle</td>\n",
       "      <td>138</td>\n",
       "    </tr>\n",
       "    <tr>\n",
       "      <th>21</th>\n",
       "      <td>Bosley Crowther</td>\n",
       "      <td>2008-05-06 00:00:00</td>\n",
       "      <td>2000-01-01 00:00:00</td>\n",
       "      <td>New York Times</td>\n",
       "      <td>137</td>\n",
       "    </tr>\n",
       "    <tr>\n",
       "      <th>22</th>\n",
       "      <td>Rick Groen</td>\n",
       "      <td>2009-08-14 00:00:00</td>\n",
       "      <td>2002-03-19 00:00:00</td>\n",
       "      <td>Globe and Mail</td>\n",
       "      <td>129</td>\n",
       "    </tr>\n",
       "    <tr>\n",
       "      <th>23</th>\n",
       "      <td>Edward Guthmann</td>\n",
       "      <td>2003-04-04 00:00:00</td>\n",
       "      <td>2000-01-01 00:00:00</td>\n",
       "      <td>San Francisco Chronicle</td>\n",
       "      <td>121</td>\n",
       "    </tr>\n",
       "    <tr>\n",
       "      <th>24</th>\n",
       "      <td>Lisa Schwarzbaum</td>\n",
       "      <td>2012-08-15 00:00:00</td>\n",
       "      <td>1979-01-01 00:00:00</td>\n",
       "      <td>Entertainment Weekly</td>\n",
       "      <td>117</td>\n",
       "    </tr>\n",
       "    <tr>\n",
       "      <th>25</th>\n",
       "      <td>Liam Lacey</td>\n",
       "      <td>2012-04-04 00:00:00</td>\n",
       "      <td>2001-08-24 00:00:00</td>\n",
       "      <td>Globe and Mail</td>\n",
       "      <td>111</td>\n",
       "    </tr>\n",
       "    <tr>\n",
       "      <th>26</th>\n",
       "      <td>Emanuel Levy</td>\n",
       "      <td>2010-08-06 00:00:00</td>\n",
       "      <td>2000-01-01 00:00:00</td>\n",
       "      <td>Variety</td>\n",
       "      <td>110</td>\n",
       "    </tr>\n",
       "    <tr>\n",
       "      <th>27</th>\n",
       "      <td>Richard Schickel</td>\n",
       "      <td>2013-08-05 00:00:00</td>\n",
       "      <td>2000-01-01 00:00:00</td>\n",
       "      <td>The Atlantic</td>\n",
       "      <td>106</td>\n",
       "    </tr>\n",
       "    <tr>\n",
       "      <th>28</th>\n",
       "      <td>Richard Corliss</td>\n",
       "      <td>2013-11-06 00:00:00</td>\n",
       "      <td>2003-12-16 00:00:00</td>\n",
       "      <td>TIME Magazine</td>\n",
       "      <td>104</td>\n",
       "    </tr>\n",
       "    <tr>\n",
       "      <th>29</th>\n",
       "      <td>Michael Wilmington</td>\n",
       "      <td>2013-11-21 00:00:00</td>\n",
       "      <td>2000-01-01 00:00:00</td>\n",
       "      <td>Los Angeles Times</td>\n",
       "      <td>103</td>\n",
       "    </tr>\n",
       "  </tbody>\n",
       "</table>\n",
       "</div>"
      ],
      "text/plain": [
       "                critic          review_date                       \\\n",
       "                                        max                  min   \n",
       "0          Roger Ebert  2013-06-11 00:00:00  2000-01-01 00:00:00   \n",
       "1   James Berardinelli  2012-02-07 00:00:00  1800-01-01 00:00:00   \n",
       "2         Janet Maslin  2010-09-07 00:00:00  2000-01-01 00:00:00   \n",
       "3        Variety Staff  2012-08-15 00:00:00  2001-02-13 00:00:00   \n",
       "4   Jonathan Rosenbaum  2013-10-22 00:00:00  1988-07-11 00:00:00   \n",
       "5       Desson Thomson  2012-10-08 00:00:00  2000-01-01 00:00:00   \n",
       "6         Geoff Andrew  2012-04-05 00:00:00  2005-08-11 00:00:00   \n",
       "7            Dave Kehr  2013-11-20 00:00:00  2000-01-01 00:00:00   \n",
       "8        Kenneth Turan  2013-10-05 00:00:00  2000-01-01 00:00:00   \n",
       "9         Mick LaSalle  2009-11-25 00:00:00  2000-01-01 00:00:00   \n",
       "10     Owen Gleiberman  2011-09-07 00:00:00  1800-01-01 00:00:00   \n",
       "11        Rita Kempley  2013-11-02 00:00:00  2000-01-01 00:00:00   \n",
       "12         Joe Baltake  2013-08-04 00:00:00  2000-01-01 00:00:00   \n",
       "13       Todd McCarthy  2012-10-09 00:00:00  2000-01-01 00:00:00   \n",
       "14       Vincent Canby  2013-07-29 00:00:00  2000-01-01 00:00:00   \n",
       "15          Hal Hinson  2013-06-26 00:00:00  2000-01-01 00:00:00   \n",
       "16         Susan Stark  2002-10-25 00:00:00  2000-01-01 00:00:00   \n",
       "17      Stephen Holden  2009-02-06 00:00:00  2000-01-01 00:00:00   \n",
       "18         Derek Adams  2009-10-04 00:00:00  2006-01-26 00:00:00   \n",
       "19        Kevin Thomas  2013-11-02 00:00:00  2000-01-01 00:00:00   \n",
       "20         Peter Stack  2002-06-18 00:00:00  2000-01-01 00:00:00   \n",
       "21     Bosley Crowther  2008-05-06 00:00:00  2000-01-01 00:00:00   \n",
       "22          Rick Groen  2009-08-14 00:00:00  2002-03-19 00:00:00   \n",
       "23     Edward Guthmann  2003-04-04 00:00:00  2000-01-01 00:00:00   \n",
       "24    Lisa Schwarzbaum  2012-08-15 00:00:00  1979-01-01 00:00:00   \n",
       "25          Liam Lacey  2012-04-04 00:00:00  2001-08-24 00:00:00   \n",
       "26        Emanuel Levy  2010-08-06 00:00:00  2000-01-01 00:00:00   \n",
       "27    Richard Schickel  2013-08-05 00:00:00  2000-01-01 00:00:00   \n",
       "28     Richard Corliss  2013-11-06 00:00:00  2003-12-16 00:00:00   \n",
       "29  Michael Wilmington  2013-11-21 00:00:00  2000-01-01 00:00:00   \n",
       "\n",
       "                publication quote  \n",
       "                        max count  \n",
       "0         Chicago Sun-Times  1150  \n",
       "1                 ReelViews   833  \n",
       "2            New York Times   526  \n",
       "3                   Variety   449  \n",
       "4            Chicago Reader   420  \n",
       "5           Washington Post   373  \n",
       "6                  Time Out   361  \n",
       "7       New York Daily News   360  \n",
       "8         Los Angeles Times   282  \n",
       "9   San Francisco Chronicle   280  \n",
       "10     Entertainment Weekly   241  \n",
       "11          Washington Post   236  \n",
       "12           Sacramento Bee   231  \n",
       "13                  Variety   223  \n",
       "14           New York Times   207  \n",
       "15          Washington Post   174  \n",
       "16             Detroit News   167  \n",
       "17           New York Times   166  \n",
       "18                 Time Out   154  \n",
       "19        Los Angeles Times   145  \n",
       "20  San Francisco Chronicle   138  \n",
       "21           New York Times   137  \n",
       "22           Globe and Mail   129  \n",
       "23  San Francisco Chronicle   121  \n",
       "24     Entertainment Weekly   117  \n",
       "25           Globe and Mail   111  \n",
       "26                  Variety   110  \n",
       "27             The Atlantic   106  \n",
       "28            TIME Magazine   104  \n",
       "29        Los Angeles Times   103  "
      ]
     },
     "execution_count": 8,
     "metadata": {
      "tags": []
     },
     "output_type": "execute_result"
    }
   ],
   "source": [
    "Group_Aggregation = reviews[['critic', 'publication', \n",
    "                       'review_date', 'quote']].groupby('critic').agg({'review_date': ['max', 'min'], \n",
    "                                                                                  'publication': ['max'],\n",
    "                                                                                 'quote': ['count']})\n",
    "TOP_30_Critics=Group_Aggregation.sort_values(by=[('quote','count')], ascending = False)[:30]\n",
    "TOP_30_Critics.reset_index(level=0, inplace=True)\n",
    "TOP_30_Critics"
   ]
  },
  {
   "cell_type": "markdown",
   "metadata": {
    "colab_type": "text",
    "id": "eOQ8wkxshkGy"
   },
   "source": [
    "### 1.4 Ratings over time\n",
    "\n",
    "Using the `movies` dataset, create a plot that shows how the average rating per movie (rtAllCriticsRating) has evolved over time.  Do this by creating a scatterplot where the x-axis is the year in which the movie was released and the y-axis is rtAllCriticsRating.  Drop movies with 0 or unknown values to avoid biasing your results.  Then, create a scatterplot that has one <year,rating> point for each remaining movie, and pick an appropriate size/color/transparency for these points to ensure that the graph looks professional.  In other words, do not simply use the default settings, as this will produce a dense mess of dots that will be hard to interpret.  Finally, overlay on this scatterplot a line graph in orange showing how the average movie rating (the average of rtAllCriticsRating across all movies in a year) has changed over time.  Do you notice a trend?  What do you think it means?"
   ]
  },
  {
   "cell_type": "code",
   "execution_count": 0,
   "metadata": {
    "colab": {},
    "colab_type": "code",
    "id": "gTVlGkWVhkG0",
    "outputId": "4c69421a-ad2f-4906-a44c-57c1e0ece366",
    "scrolled": true
   },
   "outputs": [
    {
     "data": {
      "text/html": [
       "<div>\n",
       "<style>\n",
       "    .dataframe thead tr:only-child th {\n",
       "        text-align: right;\n",
       "    }\n",
       "\n",
       "    .dataframe thead th {\n",
       "        text-align: left;\n",
       "    }\n",
       "\n",
       "    .dataframe tbody tr th {\n",
       "        vertical-align: top;\n",
       "    }\n",
       "</style>\n",
       "<table border=\"1\" class=\"dataframe\">\n",
       "  <thead>\n",
       "    <tr style=\"text-align: right;\">\n",
       "      <th></th>\n",
       "      <th>id</th>\n",
       "      <th>title</th>\n",
       "      <th>imdbID</th>\n",
       "      <th>spanishTitle</th>\n",
       "      <th>imdbPictureURL</th>\n",
       "      <th>year</th>\n",
       "      <th>rtID</th>\n",
       "      <th>rtAllCriticsRating</th>\n",
       "      <th>rtAllCriticsNumReviews</th>\n",
       "      <th>rtAllCriticsNumFresh</th>\n",
       "      <th>...</th>\n",
       "      <th>rtAllCriticsScore</th>\n",
       "      <th>rtTopCriticsRating</th>\n",
       "      <th>rtTopCriticsNumReviews</th>\n",
       "      <th>rtTopCriticsNumFresh</th>\n",
       "      <th>rtTopCriticsNumRotten</th>\n",
       "      <th>rtTopCriticsScore</th>\n",
       "      <th>rtAudienceRating</th>\n",
       "      <th>rtAudienceNumRatings</th>\n",
       "      <th>rtAudienceScore</th>\n",
       "      <th>rtPictureURL</th>\n",
       "    </tr>\n",
       "  </thead>\n",
       "  <tbody>\n",
       "    <tr>\n",
       "      <th>0</th>\n",
       "      <td>1</td>\n",
       "      <td>Toy story</td>\n",
       "      <td>114709</td>\n",
       "      <td>Toy story (juguetes)</td>\n",
       "      <td>http://ia.media-imdb.com/images/M/MV5BMTMwNDU0...</td>\n",
       "      <td>1995</td>\n",
       "      <td>toy_story</td>\n",
       "      <td>9</td>\n",
       "      <td>73</td>\n",
       "      <td>73</td>\n",
       "      <td>...</td>\n",
       "      <td>100</td>\n",
       "      <td>8.5</td>\n",
       "      <td>17</td>\n",
       "      <td>17</td>\n",
       "      <td>0</td>\n",
       "      <td>100</td>\n",
       "      <td>3.7</td>\n",
       "      <td>102338</td>\n",
       "      <td>81</td>\n",
       "      <td>http://content7.flixster.com/movie/10/93/63/10...</td>\n",
       "    </tr>\n",
       "    <tr>\n",
       "      <th>1</th>\n",
       "      <td>2</td>\n",
       "      <td>Jumanji</td>\n",
       "      <td>113497</td>\n",
       "      <td>Jumanji</td>\n",
       "      <td>http://ia.media-imdb.com/images/M/MV5BMzM5NjE1...</td>\n",
       "      <td>1995</td>\n",
       "      <td>1068044-jumanji</td>\n",
       "      <td>5.6</td>\n",
       "      <td>28</td>\n",
       "      <td>13</td>\n",
       "      <td>...</td>\n",
       "      <td>46</td>\n",
       "      <td>5.8</td>\n",
       "      <td>5</td>\n",
       "      <td>2</td>\n",
       "      <td>3</td>\n",
       "      <td>40</td>\n",
       "      <td>3.2</td>\n",
       "      <td>44587</td>\n",
       "      <td>61</td>\n",
       "      <td>http://content8.flixster.com/movie/56/79/73/56...</td>\n",
       "    </tr>\n",
       "  </tbody>\n",
       "</table>\n",
       "<p>2 rows × 21 columns</p>\n",
       "</div>"
      ],
      "text/plain": [
       "   id      title  imdbID          spanishTitle  \\\n",
       "0   1  Toy story  114709  Toy story (juguetes)   \n",
       "1   2    Jumanji  113497               Jumanji   \n",
       "\n",
       "                                      imdbPictureURL  year             rtID  \\\n",
       "0  http://ia.media-imdb.com/images/M/MV5BMTMwNDU0...  1995        toy_story   \n",
       "1  http://ia.media-imdb.com/images/M/MV5BMzM5NjE1...  1995  1068044-jumanji   \n",
       "\n",
       "  rtAllCriticsRating rtAllCriticsNumReviews rtAllCriticsNumFresh  \\\n",
       "0                  9                     73                   73   \n",
       "1                5.6                     28                   13   \n",
       "\n",
       "                         ...                         rtAllCriticsScore  \\\n",
       "0                        ...                                       100   \n",
       "1                        ...                                        46   \n",
       "\n",
       "  rtTopCriticsRating rtTopCriticsNumReviews rtTopCriticsNumFresh  \\\n",
       "0                8.5                     17                   17   \n",
       "1                5.8                      5                    2   \n",
       "\n",
       "  rtTopCriticsNumRotten rtTopCriticsScore rtAudienceRating  \\\n",
       "0                     0               100              3.7   \n",
       "1                     3                40              3.2   \n",
       "\n",
       "  rtAudienceNumRatings rtAudienceScore  \\\n",
       "0               102338              81   \n",
       "1                44587              61   \n",
       "\n",
       "                                        rtPictureURL  \n",
       "0  http://content7.flixster.com/movie/10/93/63/10...  \n",
       "1  http://content8.flixster.com/movie/56/79/73/56...  \n",
       "\n",
       "[2 rows x 21 columns]"
      ]
     },
     "execution_count": 9,
     "metadata": {
      "tags": []
     },
     "output_type": "execute_result"
    }
   ],
   "source": [
    "movies.head(2)"
   ]
  },
  {
   "cell_type": "code",
   "execution_count": 0,
   "metadata": {
    "colab": {},
    "colab_type": "code",
    "id": "d8uPoj5ohkG5"
   },
   "outputs": [],
   "source": [
    "# drop movies with unknow or non-numeric values \n",
    "movies['rtAllCriticsRating'] = movies['rtAllCriticsRating'].apply(pd.to_numeric, errors='drop')\n",
    "movies['rtAllCriticsNumReviews'] = movies['rtAllCriticsNumReviews'].apply(pd.to_numeric, errors = 'drop')\n",
    "movies['rtAudienceRating'] = movies['rtAudienceRating'].apply(pd.to_numeric, errors= 'drop')"
   ]
  },
  {
   "cell_type": "code",
   "execution_count": 0,
   "metadata": {
    "colab": {},
    "colab_type": "code",
    "id": "Ss9LcnwxhkG-",
    "outputId": "c4fa14ef-e73f-41c7-b109-a7bf15ab0a0e"
   },
   "outputs": [
    {
     "name": "stderr",
     "output_type": "stream",
     "text": [
      "C:\\Users\\Jessica\\Anaconda3\\lib\\site-packages\\matplotlib\\cbook.py:2649: UserWarning: Saw kwargs ['c', 'color'] which are all aliases for 'color'.  Kept value from 'color'\n",
      "  seen=seen, canon=canonical, used=seen[-1]))\n"
     ]
    },
    {
     "data": {
      "text/plain": [
       "<matplotlib.text.Text at 0x1ec9bfabcf8>"
      ]
     },
     "execution_count": 11,
     "metadata": {
      "tags": []
     },
     "output_type": "execute_result"
    },
    {
     "data": {
      "image/png": "[encoded data removed]",
      "text/plain": [
       "<matplotlib.figure.Figure at 0x1ec9b811a20>"
      ]
     },
     "metadata": {
      "tags": []
     },
     "output_type": "display_data"
    }
   ],
   "source": [
    "# set the size of the figure \n",
    "plt.figure(figsize=(20,15))\n",
    "# drop movies with 0\n",
    "movies['rtAllCriticsRating'] = movies['rtAllCriticsRating'].apply(lambda x: x if x >0 else None)\n",
    "# do the scatter plot \n",
    "sctr = plt.scatter(movies['year'], movies['rtAllCriticsRating'], c='blue', s=60)\n",
    "sctr.set_alpha(0.3)\n",
    "# calculate the average rating by year \n",
    "year_rating= pd.DataFrame(movies.groupby('year')['year'].count())\n",
    "year_rating.columns = ['count']\n",
    "year_rating['sumRating'] = movies.groupby('year')['rtAllCriticsRating'].sum()\n",
    "year_rating['avgRating'] = year_rating['sumRating']/year_rating['count']\n",
    "year_rating.reset_index(level=0, inplace =True)\n",
    "year_rating = year_rating.dropna()\n",
    "#  plot a trend in average rating over the year\n",
    "plt.plot(year_rating['year'],year_rating['avgRating'], c='#6b00b3', color='orange',linewidth=3.0, marker='o', label='Average rating')\n",
    "plt.legend()\n",
    "plt.title('Movie ratings distribution and tendency by year(xaxis)')"
   ]
  },
  {
   "cell_type": "markdown",
   "metadata": {
    "colab_type": "text",
    "id": "63W2AS_0hkHD"
   },
   "source": [
    "*Obeservations*\n",
    "\n",
    "By observing the scatter plot, we could find that the number of ratings are in a increasing trend as time goes by, which could be potrayed by the increasing density of the points towards the right side of x-axis.\n",
    "\n",
    "By observing the trend line, we could find the average rating is decreasing over the years. The reason might be the increasing number of movies. The more movies they have, the more difficult it is to distinct a specific or excellent movie with others. As a result, the average rating will be lower. \n"
   ]
  },
  {
   "cell_type": "markdown",
   "metadata": {
    "colab_type": "text",
    "id": "pKhCVyjdhkHE"
   },
   "source": [
    "---\n",
    "\n",
    "## Part 2: Naive Bayes\n",
    "\n",
    "Now it gets fun!  You are going to use a [Naive Bayes classifier](https://en.wikipedia.org/wiki/Naive_Bayes_classifier) to build a prediction model for whether a review is fresh or rotten, depending on the text of the review. Review the assigned readings on Canvas, as well as the relevant lecture notes before embarking on this journey.\n",
    "\n",
    "### Using CountVectorizer\n",
    "\n",
    "One thing that may help you in the following problems is the [CountVectorizer](http://scikit-learn.org/stable/modules/generated/sklearn.feature_extraction.text.CountVectorizer.html) object in Scikit-learn.  This will help you convert your raw text fields into \"bag of words\" vectors, i.e. a data structure that tells you how many times a particular word appears in a blurb.  Here's a simple example, make sure you understand what's going on!"
   ]
  },
  {
   "cell_type": "code",
   "execution_count": 0,
   "metadata": {
    "colab": {},
    "colab_type": "code",
    "id": "94viJOt3hkHG",
    "outputId": "f7579bde-9ef8-432f-bad1-dca72af4bd6e"
   },
   "outputs": [
    {
     "name": "stdout",
     "output_type": "stream",
     "text": [
      "Original text is\n",
      " machine learning rocks\n",
      "machine learning rules\n",
      "rocks rocks rules\n",
      "Transformed text vector is \n",
      " [[1 1 1 0]\n",
      " [1 1 0 1]\n",
      " [0 0 2 1]]\n",
      "Words for each feature:\n",
      "['learning', 'machine', 'rocks', 'rules']\n"
     ]
    }
   ],
   "source": [
    "from sklearn.feature_extraction.text import CountVectorizer\n",
    "\n",
    "text = ['machine learning rocks', 'machine learning rules', 'rocks rocks rules']\n",
    "print(\"Original text is\\n\", '\\n'.join(text))\n",
    "\n",
    "vectorizer = CountVectorizer(min_df=0)\n",
    "\n",
    "# call `fit` to build the vocabulary\n",
    "vectorizer.fit(text)\n",
    "\n",
    "# call `transform` to convert text to a bag of words\n",
    "x = vectorizer.transform(text)\n",
    "\n",
    "# CountVectorizer uses a sparse array to save memory, but it's easier in this assignment to \n",
    "# convert back to a \"normal\" numpy array\n",
    "x = x.toarray()\n",
    "\n",
    "#print\n",
    "print(\"Transformed text vector is \\n\", x)\n",
    "\n",
    "# `get_feature_names` tracks which word is associated with each column of the transformed x\n",
    "\n",
    "print(\"Words for each feature:\")\n",
    "print(vectorizer.get_feature_names())"
   ]
  },
  {
   "cell_type": "markdown",
   "metadata": {
    "colab_type": "text",
    "id": "ZJR1qFIghkHL"
   },
   "source": [
    "### 2.1 Create your X input and Y output\n",
    "\n",
    "Using the `reviews` dataframe, compute a pair of numerical X, Y arrays where:\n",
    "    \n",
    " * X is a `(nreview, nwords)` array. Each row corresponds to a bag-of-words representation for a single review. This will be the *input* to your model.\n",
    " * Y is a `nreview`-element 1/0 array, encoding whether a review is Fresh (1) or Rotten (0). This is the desired *output* from your model.\n",
    " \n",
    "Make sure to remove items with no review text"
   ]
  },
  {
   "cell_type": "code",
   "execution_count": 0,
   "metadata": {
    "colab": {},
    "colab_type": "code",
    "id": "TMVMZJElhkHM"
   },
   "outputs": [],
   "source": [
    "reviews = reviews[~reviews.quote.isnull()]"
   ]
  },
  {
   "cell_type": "code",
   "execution_count": 0,
   "metadata": {
    "colab": {},
    "colab_type": "code",
    "id": "ZVWXZ-akhkHR"
   },
   "outputs": [],
   "source": [
    "\"\"\"\n",
    "Function\n",
    "--------\n",
    "make_xy\n",
    "\n",
    "Build a bag-of-words training set for the review data\n",
    "\n",
    "Parameters\n",
    "-----------\n",
    "reviews : Pandas DataFrame\n",
    "    The review data from above\n",
    "    \n",
    "vectorizer : CountVectorizer object (optional)\n",
    "    A CountVectorizer object to use. If None,\n",
    "    then create and fit a new CountVectorizer.\n",
    "    Otherwise, re-fit the provided CountVectorizer\n",
    "    using the reviews data\n",
    "    \n",
    "Returns\n",
    "-------\n",
    "X : numpy array (dims: nreview, nwords)\n",
    "    Bag-of-words representation for each review.\n",
    "Y : numpy array (dims: nreview)\n",
    "    1/0 array. 1 = fresh review, 0 = rotten review\n",
    "\n",
    "Examples\n",
    "--------\n",
    "X, Y = make_xy(reviews)\n",
    "\"\"\"\n",
    "def make_xy(reviews, vectorizer=None):\n",
    "    if vectorizer==None:\n",
    "        vectorizer = CountVectorizer(min_df=0)\n",
    "        vectorizer.fit(reviews['quote'])\n",
    "        X = vectorizer.transform(reviews['quote'])\n",
    "        X=X.toarray()\n",
    "    else:\n",
    "        X = vectorizer.transform(reviews['quote'])\n",
    "        X=X.toarray()\n",
    "    Y = [1 if x == 'fresh' else 0 for x in reviews.fresh]\n",
    "    Y=np.array(Y)\n",
    "    return X, Y\n",
    "\n",
    "vectorizer.fit(reviews['quote'])\n",
    "X,Y = make_xy(reviews,vectorizer)"
   ]
  },
  {
   "cell_type": "code",
   "execution_count": 0,
   "metadata": {
    "colab": {},
    "colab_type": "code",
    "id": "dBMp8vhZhkHW"
   },
   "outputs": [],
   "source": [
    "# fresh 1/ rotten 0 "
   ]
  },
  {
   "cell_type": "markdown",
   "metadata": {
    "colab_type": "text",
    "id": "yyUBhuyohkHa"
   },
   "source": [
    "### 2.2 Test-Train split\n",
    "\n",
    "Next, randomly split the data into two groups: a training set and a validation set.  You can do this manually, as you did in the prior problem set.  Or, use [`train_test_split`](http://scikit-learn.org/stable/modules/generated/sklearn.cross_validation.train_test_split.html) to do this auto-magically.  See [this guide](http://scikit-learn.org/stable/modules/cross_validation.html) for a simple example of how `train_test_split` works."
   ]
  },
  {
   "cell_type": "code",
   "execution_count": 0,
   "metadata": {
    "colab": {},
    "colab_type": "code",
    "id": "0cS5pyM1hkHc"
   },
   "outputs": [],
   "source": [
    "# enter your code here\n",
    "from sklearn.model_selection import train_test_split\n",
    "X_train, X_test, y_train, y_test = train_test_split(\n",
    "X, Y, test_size=0.34, random_state=0)"
   ]
  },
  {
   "cell_type": "code",
   "execution_count": 0,
   "metadata": {
    "colab": {},
    "colab_type": "code",
    "id": "1EndlPQ2hkHh",
    "outputId": "cadd47a7-bff8-452a-a7a9-735d93fc0a37"
   },
   "outputs": [
    {
     "name": "stdout",
     "output_type": "stream",
     "text": [
      "(8856, 20875)\n",
      "(4563, 20875)\n",
      "(8856,)\n",
      "(4563,)\n"
     ]
    }
   ],
   "source": [
    "print(X_train.shape)\n",
    "print(X_test.shape)\n",
    "print(y_train.shape)\n",
    "print(y_test.shape)"
   ]
  },
  {
   "cell_type": "markdown",
   "metadata": {
    "colab_type": "text",
    "id": "CdEmIZlKhkHq"
   },
   "source": [
    "### 2.3 Naive Bayes with `MultinomialNB`\n",
    "Use the training set to train a Naive Bayes classifier using the [`MultinomialNB`](http://scikit-learn.org/stable/modules/generated/sklearn.naive_bayes.MultinomialNB.html)\n",
    " object.  Report the accuracy of this model on both the training and testing data.  What do you observe?  Interpret these results!\n",
    "\n",
    "*Hint: This shouldn't take more than 5-10 lines of code to accomplish*\n",
    "\n"
   ]
  },
  {
   "cell_type": "code",
   "execution_count": 0,
   "metadata": {
    "colab": {},
    "colab_type": "code",
    "id": "W0qf1as5hkHs"
   },
   "outputs": [],
   "source": [
    "# enter your code here\n",
    "from sklearn.naive_bayes import MultinomialNB\n",
    "import numpy as np\n",
    "MNB = MultinomialNB()\n",
    "MNB.fit(X_train,y_train)\n",
    "# call the fitted model fitted_model, for future reference:\n",
    "fitted_model = MNB.fit(X_train,y_train)"
   ]
  },
  {
   "cell_type": "code",
   "execution_count": 0,
   "metadata": {
    "colab": {},
    "colab_type": "code",
    "id": "9i10U7u5hkHy"
   },
   "outputs": [],
   "source": [
    "y_train_pred=fitted_model.predict(X_train)\n",
    "y_test_pred = fitted_model.predict(X_test)"
   ]
  },
  {
   "cell_type": "code",
   "execution_count": 0,
   "metadata": {
    "colab": {},
    "colab_type": "code",
    "id": "LfaruwnmhkH2",
    "outputId": "cdf40b35-cf77-40fb-939b-b5dd3ed14749"
   },
   "outputs": [
    {
     "name": "stdout",
     "output_type": "stream",
     "text": [
      "Accuracy of training data: 0.92445799458\n",
      "Accuracy of testing data: 0.778654394039\n"
     ]
    }
   ],
   "source": [
    "from sklearn import metrics\n",
    "accuracy_train=metrics.accuracy_score(y_train, y_train_pred)\n",
    "accuracy_test=metrics.accuracy_score(y_test, y_test_pred)\n",
    "print(\"Accuracy of training data: \"+str(accuracy_train))\n",
    "print(\"Accuracy of testing data: \"+str(accuracy_test))\n"
   ]
  },
  {
   "cell_type": "markdown",
   "metadata": {
    "colab_type": "text",
    "id": "C8fyU9UMhkH7"
   },
   "source": [
    "*enter your observations here*\n",
    "\n",
    "\n",
    "\n",
    "The accuracy for the training dateset is 0.9245 and for the testing dataset is 0.7787. \n",
    "We could find the accuracy is far more higher in training dataset than that in testing dataset, which means the model is overfitting. \n",
    "We need to use cross validation to minimize the overfitting problem. "
   ]
  },
  {
   "cell_type": "markdown",
   "metadata": {
    "colab_type": "text",
    "id": "MosF6A7AhkH9"
   },
   "source": [
    "---\n",
    "\n",
    "## Part 3: Evaluation\n",
    "\n",
    "### 3.1 Estimate the likelihood of your data\n",
    "\n",
    "Given a fitted model, you can compute the log-likelihood of your data as a way to assess the performance of your model.  Using `fitted_model.predict_logproba`, the idea is to write a function that computes the log-likelihood of a dataset, so that we can inspect the log-likelihood of your training and testing data given your fitted model from part 2.\n",
    "\n",
    "To help you out a little bit, we'll do this part for you. But make sure you understand it, because you'll need to use this later!"
   ]
  },
  {
   "cell_type": "code",
   "execution_count": 0,
   "metadata": {
    "colab": {},
    "colab_type": "code",
    "id": "0J4U-pUShkH-",
    "outputId": "5e98ef2f-4c3f-4140-904d-3ce3ab3b3ce3",
    "scrolled": true
   },
   "outputs": [
    {
     "data": {
      "text/plain": [
       "-2538.6142904817857"
      ]
     },
     "execution_count": 22,
     "metadata": {
      "tags": []
     },
     "output_type": "execute_result"
    }
   ],
   "source": [
    "\"\"\"\n",
    "Function\n",
    "--------\n",
    "log_likelihood\n",
    "\n",
    "Compute the log likelihood of a dataset according to a bayesian classifier. \n",
    "The Log Likelihood is defined by\n",
    "\n",
    "L = Sum_fresh(logP(fresh)) + Sum_rotten(logP(rotten))\n",
    "\n",
    "Where Sum_fresh indicates a sum over all fresh reviews, \n",
    "and Sum_rotten indicates a sum over rotten reviews\n",
    "    \n",
    "Parameters\n",
    "----------\n",
    "model : Bayesian classifier\n",
    "x : (nexample, nfeature) array\n",
    "    The input data\n",
    "y : (nexample) integer array\n",
    "    Whether each review is Fresh\n",
    "\"\"\"\n",
    "\n",
    "def log_likelihood(model, x, y):\n",
    "    prob = model.predict_log_proba(x)\n",
    "    rotten = y == 0\n",
    "    fresh = ~rotten\n",
    "    return prob[rotten, 0].sum() + prob[fresh, 1].sum()\n",
    "\n",
    "# output the likelihood of your test data (example - you may need to \n",
    "# chance the nambes of the variables below to match your code in 2.2 and 2.3\n",
    "log_likelihood(fitted_model, X_test, y_test)"
   ]
  },
  {
   "cell_type": "markdown",
   "metadata": {
    "colab_type": "text",
    "id": "yxnFxyVBhkIF"
   },
   "source": [
    "### 3.2 Cross-Validation\n",
    "\n",
    "Why do we care about the log-likelihood of our data?  You guessed it: Cross-Validation.\n",
    "\n",
    "Our classifier has a few hyperparameters. The two most important are:\n",
    "\n",
    " 1. The `min_df` keyword in `CountVectorizer`, which will ignore words which appear in fewer than `min_df` fraction of reviews. Words that appear only once or twice can lead to overfitting, since words which occur only a few times might correlate very well with Fresh/Rotten reviews by chance in the training dataset.\n",
    " \n",
    " 2. The [`alpha` keyword](http://scikit-learn.org/stable/modules/naive_bayes.html#multinomial-naive-bayes) in the Bayesian classifier is a \"smoothing parameter\" -- increasing the value decreases the sensitivity to any single feature, and tends to pull prediction probabilities closer to 50%. \n",
    "\n",
    "How are we are going to use cross-validation to tune these hyperparameters?  The objective function we want to maximize is the log-likelihood of our data.  Fill in the remaining code in this block, to loop over many values of `alpha` and `min_df` to determine\n",
    "which settings are \"best\" in the sense of maximizing the cross-validated log-likelihood.\n",
    "\n",
    "*hint: sklearn has a built-in function, `sklearn.cross_validation.cross_val_score`, that might save you a lot of time here...*"
   ]
  },
  {
   "cell_type": "code",
   "execution_count": 0,
   "metadata": {
    "colab": {},
    "colab_type": "code",
    "id": "sJLZZP0khkIG"
   },
   "outputs": [],
   "source": [
    "from sklearn import cross_validation\n",
    "from sklearn.model_selection import cross_val_score\n",
    "from scipy.optimize import minimize\n",
    "from sklearn.model_selection import KFold\n",
    "from sklearn.model_selection import ShuffleSplit"
   ]
  },
  {
   "cell_type": "code",
   "execution_count": 0,
   "metadata": {
    "colab": {},
    "colab_type": "code",
    "id": "03_jaqEmhkIK",
    "outputId": "1c201671-d305-46eb-e8b3-bae75578055b"
   },
   "outputs": [
    {
     "name": "stderr",
     "output_type": "stream",
     "text": [
      "C:\\Users\\Jessica\\Anaconda3\\lib\\site-packages\\sklearn\\naive_bayes.py:699: RuntimeWarning: divide by zero encountered in log\n",
      "  self.feature_log_prob_ = (np.log(smoothed_fc) -\n",
      "C:\\Users\\Jessica\\Anaconda3\\lib\\site-packages\\sklearn\\naive_bayes.py:699: RuntimeWarning: divide by zero encountered in log\n",
      "  self.feature_log_prob_ = (np.log(smoothed_fc) -\n",
      "C:\\Users\\Jessica\\Anaconda3\\lib\\site-packages\\sklearn\\naive_bayes.py:699: RuntimeWarning: divide by zero encountered in log\n",
      "  self.feature_log_prob_ = (np.log(smoothed_fc) -\n",
      "C:\\Users\\Jessica\\Anaconda3\\lib\\site-packages\\sklearn\\naive_bayes.py:699: RuntimeWarning: divide by zero encountered in log\n",
      "  self.feature_log_prob_ = (np.log(smoothed_fc) -\n",
      "C:\\Users\\Jessica\\Anaconda3\\lib\\site-packages\\sklearn\\naive_bayes.py:699: RuntimeWarning: divide by zero encountered in log\n",
      "  self.feature_log_prob_ = (np.log(smoothed_fc) -\n",
      "C:\\Users\\Jessica\\Anaconda3\\lib\\site-packages\\sklearn\\naive_bayes.py:699: RuntimeWarning: divide by zero encountered in log\n",
      "  self.feature_log_prob_ = (np.log(smoothed_fc) -\n",
      "C:\\Users\\Jessica\\Anaconda3\\lib\\site-packages\\sklearn\\naive_bayes.py:699: RuntimeWarning: divide by zero encountered in log\n",
      "  self.feature_log_prob_ = (np.log(smoothed_fc) -\n",
      "C:\\Users\\Jessica\\Anaconda3\\lib\\site-packages\\sklearn\\naive_bayes.py:699: RuntimeWarning: divide by zero encountered in log\n",
      "  self.feature_log_prob_ = (np.log(smoothed_fc) -\n",
      "C:\\Users\\Jessica\\Anaconda3\\lib\\site-packages\\sklearn\\naive_bayes.py:699: RuntimeWarning: divide by zero encountered in log\n",
      "  self.feature_log_prob_ = (np.log(smoothed_fc) -\n",
      "C:\\Users\\Jessica\\Anaconda3\\lib\\site-packages\\sklearn\\naive_bayes.py:699: RuntimeWarning: divide by zero encountered in log\n",
      "  self.feature_log_prob_ = (np.log(smoothed_fc) -\n",
      "C:\\Users\\Jessica\\Anaconda3\\lib\\site-packages\\sklearn\\naive_bayes.py:699: RuntimeWarning: divide by zero encountered in log\n",
      "  self.feature_log_prob_ = (np.log(smoothed_fc) -\n",
      "C:\\Users\\Jessica\\Anaconda3\\lib\\site-packages\\sklearn\\naive_bayes.py:699: RuntimeWarning: divide by zero encountered in log\n",
      "  self.feature_log_prob_ = (np.log(smoothed_fc) -\n",
      "C:\\Users\\Jessica\\Anaconda3\\lib\\site-packages\\sklearn\\naive_bayes.py:699: RuntimeWarning: divide by zero encountered in log\n",
      "  self.feature_log_prob_ = (np.log(smoothed_fc) -\n",
      "C:\\Users\\Jessica\\Anaconda3\\lib\\site-packages\\sklearn\\naive_bayes.py:699: RuntimeWarning: divide by zero encountered in log\n",
      "  self.feature_log_prob_ = (np.log(smoothed_fc) -\n",
      "C:\\Users\\Jessica\\Anaconda3\\lib\\site-packages\\sklearn\\naive_bayes.py:699: RuntimeWarning: divide by zero encountered in log\n",
      "  self.feature_log_prob_ = (np.log(smoothed_fc) -\n"
     ]
    },
    {
     "name": "stdout",
     "output_type": "stream",
     "text": [
      "The best score is  -984.778941899 with alpha  5 with min_df 0.001\n"
     ]
    }
   ],
   "source": [
    "from sklearn.model_selection import cross_val_score\n",
    "from sklearn.model_selection import KFold\n",
    "#the grid of parameters to search over\n",
    "alphas = [0, .1, 1, 5, 10, 50]\n",
    "min_dfs = [1e-5, 1e-4, 1e-3, 1e-2, 1e-1]\n",
    "#Find the best value for alpha and min_df, and the best classifier\n",
    "best_alpha = None\n",
    "best_min_df = None\n",
    "max_loglike = -np.inf\n",
    "\n",
    "for alpha in alphas:\n",
    "    for min_df in min_dfs:\n",
    "        vectorizer = CountVectorizer(min_df = min_df)  \n",
    "        vectorizer = vectorizer.fit(reviews['quote'])\n",
    "        X, Y = make_xy(reviews, vectorizer)\n",
    "        CV_xtrain,CV_xtest,CV_ytrain,CV_ytest=train_test_split(X,Y,test_size=0.33,random_state=123)\n",
    "        fitted_model=MultinomialNB(alpha = alpha)\n",
    "        log_score = np.mean(cross_val_score(fitted_model,CV_xtrain,CV_ytrain,cv =KFold(5), scoring= log_likelihood))\n",
    "        if log_score > max_loglike:\n",
    "            best_alpha = alpha\n",
    "            best_min_df = min_df\n",
    "            max_loglike = log_score\n",
    "print(\"The best score is \",max_loglike, \"with alpha \", best_alpha, \"with min_df\", best_min_df)  "
   ]
  },
  {
   "cell_type": "markdown",
   "metadata": {
    "colab_type": "text",
    "id": "p5IRtEakhkIO"
   },
   "source": [
    "### 3.3 Putting it together\n",
    "\n",
    "Now that you've determined values for alpha and min_df that optimize the cross-validated log-likelihood, repeat the steps in 2.1-2.3 to train a final classifier with these parameters and re-evaluate the accuracy.  Discuss the various ways in which Cross-Validation has affected the model. Is the new model more or less accurate? Is overfitting better or worse?"
   ]
  },
  {
   "cell_type": "code",
   "execution_count": 0,
   "metadata": {
    "colab": {},
    "colab_type": "code",
    "id": "Xh8kPmrLhkIP",
    "outputId": "b5462614-54bf-4828-baae-5df0cb9182d2"
   },
   "outputs": [
    {
     "name": "stdout",
     "output_type": "stream",
     "text": [
      "Accuracy on the Training dataset:  0.790424570912\n",
      "Accuracy on the Testing dataset:  0.738987508218\n"
     ]
    }
   ],
   "source": [
    "#Enter your code here\n",
    "optimize_vectorizer = CountVectorizer(min_df = best_min_df)\n",
    "optimize_vectorizer=optimize_vectorizer.fit(reviews['quote'])\n",
    "X, Y = make_xy(reviews,optimize_vectorizer)\n",
    "OXtrain,OXtest,OYtrain,OYtest = train_test_split(X, Y, test_size=0.34, random_state=90)\n",
    "# Fitting the naive Bayes model\n",
    "cv_fitted_model = MultinomialNB(alpha =best_alpha)\n",
    "cv_fitted_model.fit(OXtrain, OYtrain)\n",
    "# Accuracy on the training model.\n",
    "print(\"Accuracy on the Training dataset: \", cv_fitted_model.score(OXtrain, OYtrain))\n",
    "# Accuracy on the training model.\n",
    "print(\"Accuracy on the Testing dataset: \", cv_fitted_model.score(OXtest, OYtest))"
   ]
  },
  {
   "cell_type": "markdown",
   "metadata": {
    "colab_type": "text",
    "id": "fjY4yKyVhkIT"
   },
   "source": [
    "*enter your observations here*\n",
    "\n",
    "\n",
    "In the result of 2.3 where we just use the MultinomialNB in the dataset, we got the accuracy as 0.925 in the training dataset and 0.7756 in the test dataset where there is big discrepancy.\n",
    "\n",
    "By doing cross-validation and find the optimal hyperparameters in our classifier, we find even though the accuracy in both datasets has decreased, the discrpancy of accuracy between training and testing dataset has decreased a lot. This means our model is more accurated and the overfitting problem is better.\n",
    "\n",
    "The reason why the model is more accurate might be that the log loss function has penalized  those predictions that are confident but wrong.  By looking the formula of log loss function, we could find it will produce low scores fo observations labeled \"fresh\" but have a lower predicted probabilities. This is same for the observations labelled as \"rotten\" having lower predicted probability. \n"
   ]
  },
  {
   "cell_type": "markdown",
   "metadata": {
    "colab_type": "text",
    "id": "xuvuwR0bhkIV"
   },
   "source": [
    "### 3.4 (Extra Credit)\n",
    "\n",
    "What happens if you tried this again using a function besides the log-likelihood -- for example, the classification accuracy?  Interpret these results"
   ]
  },
  {
   "cell_type": "code",
   "execution_count": 0,
   "metadata": {
    "colab": {},
    "colab_type": "code",
    "id": "Lh4jHcAJhkIY",
    "outputId": "628c37ee-6359-403f-f7c3-41e451324551"
   },
   "outputs": [
    {
     "name": "stderr",
     "output_type": "stream",
     "text": [
      "C:\\Users\\Jessica\\Anaconda3\\lib\\site-packages\\sklearn\\naive_bayes.py:699: RuntimeWarning: divide by zero encountered in log\n",
      "  self.feature_log_prob_ = (np.log(smoothed_fc) -\n",
      "C:\\Users\\Jessica\\Anaconda3\\lib\\site-packages\\sklearn\\naive_bayes.py:699: RuntimeWarning: divide by zero encountered in log\n",
      "  self.feature_log_prob_ = (np.log(smoothed_fc) -\n",
      "C:\\Users\\Jessica\\Anaconda3\\lib\\site-packages\\sklearn\\naive_bayes.py:699: RuntimeWarning: divide by zero encountered in log\n",
      "  self.feature_log_prob_ = (np.log(smoothed_fc) -\n",
      "C:\\Users\\Jessica\\Anaconda3\\lib\\site-packages\\sklearn\\naive_bayes.py:699: RuntimeWarning: divide by zero encountered in log\n",
      "  self.feature_log_prob_ = (np.log(smoothed_fc) -\n",
      "C:\\Users\\Jessica\\Anaconda3\\lib\\site-packages\\sklearn\\naive_bayes.py:699: RuntimeWarning: divide by zero encountered in log\n",
      "  self.feature_log_prob_ = (np.log(smoothed_fc) -\n",
      "C:\\Users\\Jessica\\Anaconda3\\lib\\site-packages\\sklearn\\naive_bayes.py:699: RuntimeWarning: divide by zero encountered in log\n",
      "  self.feature_log_prob_ = (np.log(smoothed_fc) -\n",
      "C:\\Users\\Jessica\\Anaconda3\\lib\\site-packages\\sklearn\\naive_bayes.py:699: RuntimeWarning: divide by zero encountered in log\n",
      "  self.feature_log_prob_ = (np.log(smoothed_fc) -\n",
      "C:\\Users\\Jessica\\Anaconda3\\lib\\site-packages\\sklearn\\naive_bayes.py:699: RuntimeWarning: divide by zero encountered in log\n",
      "  self.feature_log_prob_ = (np.log(smoothed_fc) -\n",
      "C:\\Users\\Jessica\\Anaconda3\\lib\\site-packages\\sklearn\\naive_bayes.py:699: RuntimeWarning: divide by zero encountered in log\n",
      "  self.feature_log_prob_ = (np.log(smoothed_fc) -\n",
      "C:\\Users\\Jessica\\Anaconda3\\lib\\site-packages\\sklearn\\naive_bayes.py:699: RuntimeWarning: divide by zero encountered in log\n",
      "  self.feature_log_prob_ = (np.log(smoothed_fc) -\n",
      "C:\\Users\\Jessica\\Anaconda3\\lib\\site-packages\\sklearn\\naive_bayes.py:699: RuntimeWarning: divide by zero encountered in log\n",
      "  self.feature_log_prob_ = (np.log(smoothed_fc) -\n",
      "C:\\Users\\Jessica\\Anaconda3\\lib\\site-packages\\sklearn\\naive_bayes.py:699: RuntimeWarning: divide by zero encountered in log\n",
      "  self.feature_log_prob_ = (np.log(smoothed_fc) -\n",
      "C:\\Users\\Jessica\\Anaconda3\\lib\\site-packages\\sklearn\\naive_bayes.py:699: RuntimeWarning: divide by zero encountered in log\n",
      "  self.feature_log_prob_ = (np.log(smoothed_fc) -\n",
      "C:\\Users\\Jessica\\Anaconda3\\lib\\site-packages\\sklearn\\naive_bayes.py:699: RuntimeWarning: divide by zero encountered in log\n",
      "  self.feature_log_prob_ = (np.log(smoothed_fc) -\n",
      "C:\\Users\\Jessica\\Anaconda3\\lib\\site-packages\\sklearn\\naive_bayes.py:699: RuntimeWarning: divide by zero encountered in log\n",
      "  self.feature_log_prob_ = (np.log(smoothed_fc) -\n"
     ]
    },
    {
     "name": "stdout",
     "output_type": "stream",
     "text": [
      "The best values of the hyperparameters are:\n",
      "Alpha =  1\n",
      "Minimum Docment Frequency =  0.0001\n",
      "max score:  0.766740823137\n"
     ]
    }
   ],
   "source": [
    "#Enter your code here\n",
    "alphas = [0, .1, 1, 5, 10, 50]\n",
    "min_dfs = [1e-5, 1e-4, 1e-3, 1e-2, 1e-1]\n",
    "#Find the best value for alpha and min_df, and the best classifier\n",
    "best_alpha = None\n",
    "best_min_df = None\n",
    "max_score = -np.inf\n",
    "for alpha in alphas:\n",
    "    for min_df in min_dfs:         \n",
    "        vectorizer = CountVectorizer(min_df = min_df) \n",
    "        vectorizer=vectorizer.fit(reviews['quote'])\n",
    "        X, Y = make_xy(reviews, vectorizer)\n",
    "        \n",
    "        # Performing 10-fold cross validation\n",
    "    \n",
    "        CV_xtrain,CV_xtest,CV_ytrain,CV_ytest=train_test_split(X,Y,test_size=0.33,random_state=123)\n",
    "        fitted_model=MultinomialNB(alpha = alpha)\n",
    "        log_score = np.mean(cross_val_score(fitted_model,CV_xtrain,CV_ytrain,cv =KFold(5), scoring= 'accuracy'))\n",
    "        if log_score > max_loglike:\n",
    "            best_alpha = alpha\n",
    "            best_min_df = min_df\n",
    "            max_loglike = log_score\n",
    "\n",
    "print(\"The best values of the hyperparameters are:\")\n",
    "print(\"Alpha = \", best_alpha)\n",
    "print(\"Minimum Docment Frequency = \", best_min_df)\n",
    "print(\"max score: \",  max_loglike)\n",
    "#print(\"Training Score: \", max_score_train)"
   ]
  },
  {
   "cell_type": "code",
   "execution_count": 0,
   "metadata": {
    "colab": {},
    "colab_type": "code",
    "id": "SlDuVJ6phkId",
    "outputId": "101c78f8-bb1a-403d-8c53-efc2144a944c"
   },
   "outputs": [
    {
     "name": "stdout",
     "output_type": "stream",
     "text": [
      "Accuracy on the Training dataset:  0.910117434508\n",
      "Accuracy on the Testing dataset:  0.774271312733\n"
     ]
    }
   ],
   "source": [
    "optimize_vectorizer = CountVectorizer(min_df = 0.0001)\n",
    "optimize_vectorizer=optimize_vectorizer.fit(reviews['quote'])\n",
    "X, Y = make_xy(reviews,optimize_vectorizer)\n",
    "OXtrain,OXtest,OYtrain,OYtest = train_test_split(X, Y, test_size=0.34, random_state=90)\n",
    "# Fitting the naive Bayes model\n",
    "cv_fitted_model = MultinomialNB(alpha =1)\n",
    "cv_fitted_model.fit(OXtrain, OYtrain)\n",
    "# Accuracy on the training model.\n",
    "print(\"Accuracy on the Training dataset: \", cv_fitted_model.score(OXtrain, OYtrain))\n",
    "# Accuracy on the training model.\n",
    "print(\"Accuracy on the Testing dataset: \", cv_fitted_model.score(OXtest, OYtest))"
   ]
  },
  {
   "cell_type": "markdown",
   "metadata": {
    "colab_type": "text",
    "id": "dZEUoU0QhkIh"
   },
   "source": [
    "*enter your observations here*\n",
    "\n",
    "By setting the \"classification accuracy\" as the maximize function, we could get the best alpha as 1 and best min_df is 0.0001. Then we have 0.91 as the accuracy on the training dataset and 0.774 as the accuracy on the testing dataset. It is similar to the default result at the begining and the discrepancy of accuracy between testing and training dataset is higher.\n",
    "\n",
    "But this is resonable, by maximizing the accuracy, our min_df is much lower than best_min_df in loss log function, which means we just ignore the words having frequency lower than 0.0001. Thus, we will have higher accuracy. But the result is overfitting, since we trained too much on the training dataset. \n",
    "\n",
    "In short, if we care more about the accuracy, we could set alpha=1, min_df=0.0001 as the hyperparameters of our classifier. \n",
    "If we care more about the generalization, we could set alpha=5, min_df=0.001 as the hyperparameters of our classifier. \n",
    "\n",
    "\n",
    "\n",
    "\n"
   ]
  },
  {
   "cell_type": "markdown",
   "metadata": {
    "colab_type": "text",
    "id": "t0VfWA6zhkIi"
   },
   "source": [
    "### 3.5 Interpretation\n",
    "\n",
    "What words best predict a fresh or rotten review?  Using your classifier and the `vectorizer.get_feature_names` method, determine which words best predict a positive or negative review. Print the 10 words that best predict a \"fresh\" review, and the 10 words that best predict a \"rotten\" review. For each word, what is the model's probability of freshness if the word appears one time?\n",
    "\n",
    "#### Hints\n",
    "* In thinking about how to measure the impact of a word on freshness rating, consider computing the classification probability for a feature vector which consists of all 0s, except for a single 1. What does this probability refer to?\n",
    "* `numpy.identity` generates an identity matrix, where all values are zero except the diagonal elements which have a value of one"
   ]
  },
  {
   "cell_type": "code",
   "execution_count": 0,
   "metadata": {
    "colab": {},
    "colab_type": "code",
    "id": "3ELA39S3hkIj",
    "outputId": "408bfe56-bc2e-4390-c84c-939a1ff5b9ad"
   },
   "outputs": [
    {
     "name": "stdout",
     "output_type": "stream",
     "text": [
      "Top 10 Best Predictors for \"rotten\" are:\n",
      "                words  rotten_prob\n",
      "11071   unfortunately    -0.144555\n",
      "5920             lame    -0.182887\n",
      "7804        pointless    -0.188442\n",
      "11089      uninspired    -0.214523\n",
      "1125            bland    -0.222216\n",
      "2931   disappointment    -0.244114\n",
      "3181             dull    -0.250860\n",
      "11073         unfunny    -0.252410\n",
      "10670        tiresome    -0.259467\n",
      "8944            sadly    -0.259467\n",
      "\n",
      "\n",
      "Top 10 Best Predictors for \"Fresh\" are:\n",
      "               words  fresh_prob\n",
      "6473     masterpiece   -0.078247\n",
      "2696         delight   -0.082043\n",
      "10743       touching   -0.102732\n",
      "10243         superb   -0.111200\n",
      "8547      remarkable   -0.111200\n",
      "5509     intelligent   -0.114661\n",
      "11653          witty   -0.116582\n",
      "3731   extraordinary   -0.117804\n",
      "10121       stunning   -0.117804\n",
      "2080         complex   -0.118738\n"
     ]
    }
   ],
   "source": [
    "# Enter your code here\n",
    "# using the above optimum values of min_df and  alpha\n",
    "opt_vectorizer = CountVectorizer(min_df =best_min_df, stop_words='english')\n",
    "opt_vectorizer=opt_vectorizer.fit(reviews['quote'])\n",
    "X, Y = make_xy(reviews, opt_vectorizer)\n",
    "opt_fitted_model = MultinomialNB(alpha = 5)\n",
    "opt_fitted_model.fit(X,Y)\n",
    "\n",
    "# find the features\n",
    "feature = pd.DataFrame(np.array(opt_vectorizer.get_feature_names()))\n",
    "feature.rename(columns={0:'words'}, inplace =True)\n",
    "\n",
    "# creating a indentity matrix \n",
    "identity_matrix = np.identity(np.shape(feature)[0])\n",
    "# calculating the porbability\n",
    "prob_prediction = opt_fitted_model.predict_log_proba(identity_matrix)\n",
    "feature['rotten_prob'] = prob_prediction[:,0]\n",
    "feature['fresh_prob'] = prob_prediction[:,1]\n",
    "\n",
    "# sorting  based on log probability\n",
    "print ('Top 10 Best Predictors for \"rotten\" are:')\n",
    "print (feature.sort_values('rotten_prob', ascending=False)[['words', 'rotten_prob']].head(10))\n",
    "print ('\\n')\n",
    "print ('Top 10 Best Predictors for \"Fresh\" are:')\n",
    "print (feature.sort_values('fresh_prob', ascending=False)[['words', 'fresh_prob']].head(10))\n"
   ]
  },
  {
   "cell_type": "markdown",
   "metadata": {
    "colab_type": "text",
    "id": "INgSYYpQhkIn"
   },
   "source": [
    "*enter your observations here*\n",
    "\n",
    "The top \"rotten\" words list are:\n",
    "[unfortunately, lame,pointless,uninspired,bland,disappointment, dull, unfunny, sadly, tiresome]\n",
    "\n",
    "The top \"fresh\" words list are:\n",
    "[masterpiece,delight, touching, remarkable,superb,intelligent, witty,extraordinary, stunning, complex]\n",
    "\n",
    "\n",
    "The probability of classification of a feature vector consist of 0s or 1s based on the conditional probability like P(\"fresh\"| i_word), which represents the probability of a \"fresh\" review given the occurrence of a certain word. In this case, the higher probability of a certain word, the better the predict classification will be. \n",
    "\n",
    "It will be idea is the data consist only 0s or 1s. But the predicted classification accuracy will decrease if there are netural words having higher probability that can be used for both fresh and rotten review. \n"
   ]
  },
  {
   "cell_type": "markdown",
   "metadata": {
    "colab_type": "text",
    "id": "VbIXEPZVhkIp"
   },
   "source": [
    "### 3.6 Error Analysis\n",
    "\n",
    "One of the best sources for inspiration when trying to improve a model is to look at examples where the model performs poorly.  Find 5 fresh and rotten reviews where your model performs particularly poorly. Print each review.\n",
    "\n",
    "What do you notice about these mis-predictions? Naive Bayes classifiers assume that every word affects the probability independently of other words. In what way is this a bad assumption? In your answer, report your classifier's Freshness probability for the review \"This movie is not remarkable, touching, or superb in any way\"."
   ]
  },
  {
   "cell_type": "code",
   "execution_count": 0,
   "metadata": {
    "colab": {},
    "colab_type": "code",
    "id": "B17QGPqlhkIq",
    "outputId": "86e18496-a8dc-447d-a05d-1bad2485a812"
   },
   "outputs": [
    {
     "name": "stdout",
     "output_type": "stream",
     "text": [
      "The worst 5 fresh reviews which were actually rotten are:\n",
      "2580     A work of grand visual wit, clever songs, funny gags and genuine pathos, it is perhaps the greatest stop-motion animated film ever, a painstaking style of model animation that computers have all b...\n",
      "1679     This movie is fascinating in so many different ways: As the story of an extraordinary life, as the reconstruction of the career of one of the greatest of film artists, as the record of an ideologi...\n",
      "4349     Blake Edwards's 1982 sex comedy has the most beautiful range of tones of any American film of its period: it is a work of dry wit, high slapstick, black despair, romantic warmth, and penetrating i...\n",
      "12823    As Lion King did before it, Toy Story revived the art of American children's animation, and ushered in a set of smart movies that entertained children and their parents. It's a landmark movie, and...\n",
      "5        As Lion King did before it, Toy Story revived the art of American children's animation, and ushered in a set of smart movies that entertained children and their parents. It's a landmark movie, and...\n",
      "Name: quote, dtype: object\n",
      "------------------------------------------------------------------------------------------------------------------------------------------------------------------------------------------------------------------------------------------\n",
      "The worst 5 rotten reviews which were actually fresh are:\n",
      "11391                                   A faint heh-heh might escape your lips at the antics of an Ellen Barkin lookalike tot (Schwan), but mostly it's predictable, hopelessly over-extended stuff.\n",
      "11382                                   A faint heh-heh might escape your lips at the antics of an Ellen Barkin lookalike tot (Schwan), but mostly it's predictable, hopelessly over-extended stuff.\n",
      "10230                                                                         A tepid affair, distinguished by bland character development, uninspired and insipid dialogue, and a nonexistent plot.\n",
      "12511                                      With intentionally stilted animation, uninspired music and lame jokes, Pokemon is basically an ultralong version of the phenomenon's own boring TV 'toon.\n",
      "801           What Rodriguez has essentially done in Desperado is make a slicker, more expensive copy of what came before. And what looked promising for $7,000 looks tiresome for a whole lot more.\n",
      "166      Heads may roll, torsos get severed and geysers of blood spurt, but no amount of CGI'd gore can save 'Assassin' from being dramatically lame, visually impaired and kinetically flat-footed.\n",
      "Name: quote, dtype: object\n"
     ]
    }
   ],
   "source": [
    "#Your code here\n",
    "reviews['prediction'] = opt_fitted_model.predict(X)\n",
    "reviews['outcome'] = (reviews.prediction == reviews.fresh)\n",
    "prediction_prob = opt_fitted_model.predict_proba(X)\n",
    "reviews['rotten_prob'] = prediction_prob[:,0]\n",
    "reviews['fresh_prob'] = prediction_prob[:,1]\n",
    "wrong_pred = pd.DataFrame(reviews[reviews.outcome == False])\n",
    "pd.options.display.max_colwidth = 200\n",
    "# Actual- 'Rotten'; Prediction- 'Fresh'\n",
    "print(\"The worst 5 fresh reviews which were actually rotten are:\")\n",
    "print(wrong_pred.sort_values('fresh_prob', ascending = False)['quote'].head(5))\n",
    "print(\"--\"*117)\n",
    "# Actual- 'fresh'; Prediction- 'Rotten'\n",
    "print(\"The worst 5 rotten reviews which were actually fresh are:\")\n",
    "print(wrong_pred.sort_values('rotten_prob', ascending = False)['quote'].head(6))\n"
   ]
  },
  {
   "cell_type": "markdown",
   "metadata": {
    "colab_type": "text",
    "id": "Zvbze6prhkIu"
   },
   "source": [
    "*Enter your observations here*\n",
    "\n",
    "The independent assumption of Naive Bayes will influence the accuracy of prediction when there exits correlation among features. \n",
    "\n",
    "For the top 5 Falsly 'fresh' prediction reviews, the most popular words among these reviews are positive words, like : The top most reviews have words like \"extraordinary\",\"best\",\"brilliant\". There are less negative words. Naive Bayes cannot predict the outcomes considering their relationship. \n",
    "\n",
    "For top 5 falsly 'rotten' prediciton reviews, the most popular words are negative words,like \"homeless\",\"assassin\",\"careless\".  Even if there are positive words, they will not be wighted heavily by the  calssifier since their ferquency are very low.\n"
   ]
  },
  {
   "cell_type": "code",
   "execution_count": 0,
   "metadata": {
    "colab": {},
    "colab_type": "code",
    "id": "cuOXHZ_chkIv",
    "outputId": "41af9077-6d00-45bd-be19-e359cf4b2042",
    "scrolled": true
   },
   "outputs": [
    {
     "name": "stdout",
     "output_type": "stream",
     "text": [
      "Predicted catergory: [1]\n",
      "Predicted probability of being fresh: 0.997393686324487\n",
      "Predicted probability of being rotten: 0.002606313675516143\n"
     ]
    }
   ],
   "source": [
    "#report your classifier's Freshness probability for the review \"This movie is not remarkable, touching, or superb in any way\".\n",
    "TRIAL= ['This movie is not remarkable, touching, or superb in any way']\n",
    "TRIAL = opt_vectorizer.transform(TRIAL)\n",
    "TRIAL= TRIAL.toarray()\n",
    "print(f'Predicted catergory: {opt_fitted_model.predict(TRIAL)}')\n",
    "print(f'Predicted probability of being fresh: {opt_fitted_model.predict_proba(TRIAL)[0][1]}')\n",
    "print(f'Predicted probability of being rotten: {opt_fitted_model.predict_proba(TRIAL)[0][0]}')"
   ]
  }
 ],
 "metadata": {
  "colab": {
   "name": "pset5_wenwenliu.ipynb",
   "provenance": []
  },
  "kernel_info": {
   "name": "python3"
  },
  "kernelspec": {
   "display_name": "Python 3",
   "language": "python",
   "name": "python3"
  },
  "language_info": {
   "codemirror_mode": {
    "name": "ipython",
    "version": 3
   },
   "file_extension": ".py",
   "mimetype": "text/x-python",
   "name": "python",
   "nbconvert_exporter": "python",
   "pygments_lexer": "ipython3",
   "version": "3.6.5"
  },
  "nteract": {
   "version": "0.12.3"
  }
 },
 "nbformat": 4,
 "nbformat_minor": 1
}
