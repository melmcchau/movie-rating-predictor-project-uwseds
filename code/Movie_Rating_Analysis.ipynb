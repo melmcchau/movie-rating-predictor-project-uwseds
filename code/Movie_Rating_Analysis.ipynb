{
 "cells": [
  {
   "cell_type": "markdown",
   "metadata": {},
   "source": [
    "---\n",
    "\n",
    "## Movie_Rating_Analysis\n",
    "\n"
   ]
  },
  {
   "cell_type": "markdown",
   "metadata": {},
   "source": [
    "#### Data Manager"
   ]
  },
  {
   "cell_type": "code",
<<<<<<< HEAD
   "execution_count": 2,
   "metadata": {},
   "outputs": [
    {
     "data": {
      "text/plain": [
       "RendererRegistry.enable('notebook')"
      ]
     },
     "execution_count": 2,
     "metadata": {},
     "output_type": "execute_result"
    }
   ],
=======
   "execution_count": 35,
   "metadata": {
    "collapsed": true
   },
   "outputs": [],
>>>>>>> ba49972fc49071598b6ffdaded6d44197380c711
   "source": [
    "%matplotlib inline\n",
    "import pandas as pd\n",
    "import numpy as np\n",
    "import matplotlib.pyplot as plt\n",
    "import mpld3\n",
    "\n",
    "import warnings\n",
    "warnings.filterwarnings('ignore')\n",
    "import datetime\n",
    "\n",
    "import re\n",
    "import sentiments_nrc\n",
    "from sentiments_nrc import SENTIMENTS\n",
    "from sentiments_nrc import EMOTIONS\n",
<<<<<<< HEAD
    "\n",
    "import altair as alt\n",
    "from vega_datasets import data\n",
    "alt.renderers.enable('notebook')"
=======
    "import seaborn as sns\n",
    "from matplotlib.ticker import MaxNLocator"
>>>>>>> ba49972fc49071598b6ffdaded6d44197380c711
   ]
  },
  {
   "cell_type": "code",
<<<<<<< HEAD
   "execution_count": 3,
   "metadata": {},
=======
   "execution_count": 2,
   "metadata": {
    "collapsed": true
   },
>>>>>>> ba49972fc49071598b6ffdaded6d44197380c711
   "outputs": [],
   "source": [
    "reviews = pd.read_csv('../data/reviews.csv')\n",
    "movies = pd.read_csv(\"../data/movies.dat\", delimiter='\\t')"
   ]
  },
  {
   "cell_type": "code",
<<<<<<< HEAD
   "execution_count": 4,
   "metadata": {},
=======
   "execution_count": 3,
   "metadata": {
    "collapsed": true
   },
>>>>>>> ba49972fc49071598b6ffdaded6d44197380c711
   "outputs": [],
   "source": [
    "### pre data cleaning for reviews data\n",
    "reviews = reviews[~reviews.quote.isnull()]\n",
    "reviews = reviews[reviews.fresh != 'none']\n",
    "reviews = reviews[reviews.quote.str.len() > 0]\n",
    "reviews['review_date']=pd.to_datetime(reviews['review_date']).dt.date\n",
    "reviews=reviews.drop(['link'], axis=1)"
   ]
  },
  {
   "cell_type": "code",
<<<<<<< HEAD
   "execution_count": 5,
   "metadata": {},
=======
   "execution_count": 4,
   "metadata": {
    "collapsed": true
   },
>>>>>>> ba49972fc49071598b6ffdaded6d44197380c711
   "outputs": [],
   "source": [
    "### pre data cleaning for movies data\n",
    "movies= movies.drop(['imdbPictureURL','spanishTitle','rtPictureURL'], axis=1)\n",
    "# drop movies with unknow or non-numeric values \n",
    "movies['rtAllCriticsRating'] = movies['rtAllCriticsRating'].apply(pd.to_numeric, errors='drop')\n",
    "movies['rtAllCriticsNumReviews'] = movies['rtAllCriticsNumReviews'].apply(pd.to_numeric, errors = 'drop')\n",
    "movies['rtAudienceRating'] = movies['rtAudienceRating'].apply(pd.to_numeric, errors= 'drop')"
   ]
  },
  {
   "cell_type": "code",
<<<<<<< HEAD
   "execution_count": 6,
=======
   "execution_count": 5,
>>>>>>> ba49972fc49071598b6ffdaded6d44197380c711
   "metadata": {},
   "outputs": [
    {
     "data": {
      "text/html": [
       "<div>\n",
       "<style>\n",
       "    .dataframe thead tr:only-child th {\n",
       "        text-align: right;\n",
       "    }\n",
       "\n",
       "    .dataframe thead th {\n",
       "        text-align: left;\n",
       "    }\n",
       "\n",
       "    .dataframe tbody tr th {\n",
       "        vertical-align: top;\n",
       "    }\n",
       "</style>\n",
       "<table border=\"1\" class=\"dataframe\">\n",
       "  <thead>\n",
       "    <tr style=\"text-align: right;\">\n",
       "      <th></th>\n",
       "      <th>critic</th>\n",
       "      <th>fresh</th>\n",
       "      <th>imdb</th>\n",
       "      <th>publication</th>\n",
       "      <th>quote</th>\n",
       "      <th>review_date</th>\n",
       "      <th>rtid</th>\n",
       "      <th>title</th>\n",
       "    </tr>\n",
       "  </thead>\n",
       "  <tbody>\n",
       "    <tr>\n",
       "      <th>0</th>\n",
       "      <td>Derek Adams</td>\n",
       "      <td>fresh</td>\n",
       "      <td>114709</td>\n",
       "      <td>Time Out</td>\n",
       "      <td>So ingenious in concept, design and execution ...</td>\n",
       "      <td>2009-10-04</td>\n",
       "      <td>9559</td>\n",
       "      <td>Toy Story</td>\n",
       "    </tr>\n",
       "    <tr>\n",
       "      <th>1</th>\n",
       "      <td>Richard Corliss</td>\n",
       "      <td>fresh</td>\n",
       "      <td>114709</td>\n",
       "      <td>TIME Magazine</td>\n",
       "      <td>The year's most inventive comedy.</td>\n",
       "      <td>2008-08-31</td>\n",
       "      <td>9559</td>\n",
       "      <td>Toy Story</td>\n",
       "    </tr>\n",
       "  </tbody>\n",
       "</table>\n",
       "</div>"
      ],
      "text/plain": [
       "            critic  fresh    imdb    publication  \\\n",
       "0      Derek Adams  fresh  114709       Time Out   \n",
       "1  Richard Corliss  fresh  114709  TIME Magazine   \n",
       "\n",
       "                                               quote review_date  rtid  \\\n",
       "0  So ingenious in concept, design and execution ...  2009-10-04  9559   \n",
       "1                  The year's most inventive comedy.  2008-08-31  9559   \n",
       "\n",
       "       title  \n",
       "0  Toy Story  \n",
       "1  Toy Story  "
      ]
     },
<<<<<<< HEAD
     "execution_count": 6,
=======
     "execution_count": 5,
>>>>>>> ba49972fc49071598b6ffdaded6d44197380c711
     "metadata": {},
     "output_type": "execute_result"
    }
   ],
   "source": [
    "reviews.head(2)"
   ]
  },
  {
   "cell_type": "code",
<<<<<<< HEAD
   "execution_count": 7,
=======
   "execution_count": 6,
>>>>>>> ba49972fc49071598b6ffdaded6d44197380c711
   "metadata": {},
   "outputs": [
    {
     "data": {
      "text/html": [
       "<div>\n",
       "<style>\n",
       "    .dataframe thead tr:only-child th {\n",
       "        text-align: right;\n",
       "    }\n",
       "\n",
       "    .dataframe thead th {\n",
       "        text-align: left;\n",
       "    }\n",
       "\n",
       "    .dataframe tbody tr th {\n",
       "        vertical-align: top;\n",
       "    }\n",
       "</style>\n",
       "<table border=\"1\" class=\"dataframe\">\n",
       "  <thead>\n",
       "    <tr style=\"text-align: right;\">\n",
       "      <th></th>\n",
       "      <th>id</th>\n",
       "      <th>title</th>\n",
       "      <th>imdbID</th>\n",
       "      <th>year</th>\n",
       "      <th>rtID</th>\n",
       "      <th>rtAllCriticsRating</th>\n",
       "      <th>rtAllCriticsNumReviews</th>\n",
       "      <th>rtAllCriticsNumFresh</th>\n",
       "      <th>rtAllCriticsNumRotten</th>\n",
       "      <th>rtAllCriticsScore</th>\n",
       "      <th>rtTopCriticsRating</th>\n",
       "      <th>rtTopCriticsNumReviews</th>\n",
       "      <th>rtTopCriticsNumFresh</th>\n",
       "      <th>rtTopCriticsNumRotten</th>\n",
       "      <th>rtTopCriticsScore</th>\n",
       "      <th>rtAudienceRating</th>\n",
       "      <th>rtAudienceNumRatings</th>\n",
       "      <th>rtAudienceScore</th>\n",
       "    </tr>\n",
       "  </thead>\n",
       "  <tbody>\n",
       "    <tr>\n",
       "      <th>0</th>\n",
       "      <td>1</td>\n",
       "      <td>Toy story</td>\n",
       "      <td>114709</td>\n",
       "      <td>1995</td>\n",
       "      <td>toy_story</td>\n",
       "      <td>9.0</td>\n",
       "      <td>73.0</td>\n",
       "      <td>73</td>\n",
       "      <td>0</td>\n",
       "      <td>100</td>\n",
       "      <td>8.5</td>\n",
       "      <td>17</td>\n",
       "      <td>17</td>\n",
       "      <td>0</td>\n",
       "      <td>100</td>\n",
       "      <td>3.7</td>\n",
       "      <td>102338</td>\n",
       "      <td>81</td>\n",
       "    </tr>\n",
       "    <tr>\n",
       "      <th>1</th>\n",
       "      <td>2</td>\n",
       "      <td>Jumanji</td>\n",
       "      <td>113497</td>\n",
       "      <td>1995</td>\n",
       "      <td>1068044-jumanji</td>\n",
       "      <td>5.6</td>\n",
       "      <td>28.0</td>\n",
       "      <td>13</td>\n",
       "      <td>15</td>\n",
       "      <td>46</td>\n",
       "      <td>5.8</td>\n",
       "      <td>5</td>\n",
       "      <td>2</td>\n",
       "      <td>3</td>\n",
       "      <td>40</td>\n",
       "      <td>3.2</td>\n",
       "      <td>44587</td>\n",
       "      <td>61</td>\n",
       "    </tr>\n",
       "  </tbody>\n",
       "</table>\n",
       "</div>"
      ],
      "text/plain": [
       "   id      title  imdbID  year             rtID  rtAllCriticsRating  \\\n",
       "0   1  Toy story  114709  1995        toy_story                 9.0   \n",
       "1   2    Jumanji  113497  1995  1068044-jumanji                 5.6   \n",
       "\n",
       "   rtAllCriticsNumReviews rtAllCriticsNumFresh rtAllCriticsNumRotten  \\\n",
       "0                    73.0                   73                     0   \n",
       "1                    28.0                   13                    15   \n",
       "\n",
       "  rtAllCriticsScore rtTopCriticsRating rtTopCriticsNumReviews  \\\n",
       "0               100                8.5                     17   \n",
       "1                46                5.8                      5   \n",
       "\n",
       "  rtTopCriticsNumFresh rtTopCriticsNumRotten rtTopCriticsScore  \\\n",
       "0                   17                     0               100   \n",
       "1                    2                     3                40   \n",
       "\n",
       "   rtAudienceRating rtAudienceNumRatings rtAudienceScore  \n",
       "0               3.7               102338              81  \n",
       "1               3.2                44587              61  "
      ]
     },
<<<<<<< HEAD
     "execution_count": 7,
=======
     "execution_count": 6,
>>>>>>> ba49972fc49071598b6ffdaded6d44197380c711
     "metadata": {},
     "output_type": "execute_result"
    }
   ],
   "source": [
    "movies.head(2)"
   ]
  },
  {
   "cell_type": "code",
<<<<<<< HEAD
   "execution_count": 8,
   "metadata": {},
=======
   "execution_count": 7,
   "metadata": {
    "collapsed": true
   },
>>>>>>> ba49972fc49071598b6ffdaded6d44197380c711
   "outputs": [],
   "source": [
    "sub_movies=movies[['title', 'imdbID', 'year', 'rtID','rtAllCriticsRating','rtAllCriticsNumReviews','rtAudienceNumRatings', 'rtAudienceScore']]"
   ]
  },
  {
   "cell_type": "code",
<<<<<<< HEAD
   "execution_count": 9,
=======
   "execution_count": 8,
>>>>>>> ba49972fc49071598b6ffdaded6d44197380c711
   "metadata": {},
   "outputs": [
    {
     "data": {
      "text/html": [
       "<div>\n",
       "<style>\n",
       "    .dataframe thead tr:only-child th {\n",
       "        text-align: right;\n",
       "    }\n",
       "\n",
       "    .dataframe thead th {\n",
       "        text-align: left;\n",
       "    }\n",
       "\n",
       "    .dataframe tbody tr th {\n",
       "        vertical-align: top;\n",
       "    }\n",
       "</style>\n",
       "<table border=\"1\" class=\"dataframe\">\n",
       "  <thead>\n",
       "    <tr style=\"text-align: right;\">\n",
       "      <th></th>\n",
       "      <th>title</th>\n",
       "      <th>imdbID</th>\n",
       "      <th>year</th>\n",
       "      <th>rtID</th>\n",
       "      <th>rtAllCriticsRating</th>\n",
       "      <th>rtAllCriticsNumReviews</th>\n",
       "      <th>rtAudienceNumRatings</th>\n",
       "      <th>rtAudienceScore</th>\n",
       "    </tr>\n",
       "  </thead>\n",
       "  <tbody>\n",
       "    <tr>\n",
       "      <th>0</th>\n",
       "      <td>Toy story</td>\n",
       "      <td>114709</td>\n",
       "      <td>1995</td>\n",
       "      <td>toy_story</td>\n",
       "      <td>9.0</td>\n",
       "      <td>73.0</td>\n",
       "      <td>102338</td>\n",
       "      <td>81</td>\n",
       "    </tr>\n",
       "  </tbody>\n",
       "</table>\n",
       "</div>"
      ],
      "text/plain": [
       "       title  imdbID  year       rtID  rtAllCriticsRating  \\\n",
       "0  Toy story  114709  1995  toy_story                 9.0   \n",
       "\n",
       "   rtAllCriticsNumReviews rtAudienceNumRatings rtAudienceScore  \n",
       "0                    73.0               102338              81  "
      ]
     },
<<<<<<< HEAD
     "execution_count": 9,
=======
     "execution_count": 8,
>>>>>>> ba49972fc49071598b6ffdaded6d44197380c711
     "metadata": {},
     "output_type": "execute_result"
    }
   ],
   "source": [
    "sub_movies.head(1)"
   ]
  },
  {
   "cell_type": "markdown",
   "metadata": {},
   "source": [
    "#### Visualization Manager I "
   ]
  },
  {
   "cell_type": "code",
<<<<<<< HEAD
   "execution_count": 10,
   "metadata": {
    "scrolled": true
   },
=======
   "execution_count": 16,
   "metadata": {},
>>>>>>> ba49972fc49071598b6ffdaded6d44197380c711
   "outputs": [
    {
     "name": "stdout",
     "output_type": "stream",
     "text": [
<<<<<<< HEAD
      "Please input the year range that you are interested in: \n",
      "1960\n",
      "1990\n"
=======
      "Please input two critics that you are interested in: \n",
      "1940\n",
      "1980\n"
>>>>>>> ba49972fc49071598b6ffdaded6d44197380c711
     ]
    },
    {
     "data": {
<<<<<<< HEAD
      "application/javascript": [
       "const spec = {\"config\": {\"view\": {\"width\": 400, \"height\": 300}, \"mark\": {\"tooltip\": null}}, \"data\": {\"name\": \"data-a11c10d62d9db2e5fc87ea0b9dba1b88\"}, \"mark\": \"line\", \"encoding\": {\"tooltip\": {\"type\": \"nominal\", \"field\": \"year\"}, \"x\": {\"type\": \"nominal\", \"field\": \"year\"}, \"y\": {\"type\": \"quantitative\", \"field\": \"rtAllCriticsRating\"}}, \"selection\": {\"selector001\": {\"type\": \"interval\", \"bind\": \"scales\"}}, \"$schema\": \"https://vega.github.io/schema/vega-lite/v3.4.0.json\", \"datasets\": {\"data-a11c10d62d9db2e5fc87ea0b9dba1b88\": [{\"year\": 1960, \"rtAllCriticsRating\": 6.8}, {\"year\": 1961, \"rtAllCriticsRating\": 6.5}, {\"year\": 1962, \"rtAllCriticsRating\": 7.1}, {\"year\": 1963, \"rtAllCriticsRating\": 6.5}, {\"year\": 1964, \"rtAllCriticsRating\": 7.2}, {\"year\": 1965, \"rtAllCriticsRating\": 6.0}, {\"year\": 1966, \"rtAllCriticsRating\": 6.5}, {\"year\": 1967, \"rtAllCriticsRating\": 6.6}, {\"year\": 1968, \"rtAllCriticsRating\": 6.5}, {\"year\": 1969, \"rtAllCriticsRating\": 5.9}, {\"year\": 1970, \"rtAllCriticsRating\": 6.4}, {\"year\": 1971, \"rtAllCriticsRating\": 6.75}, {\"year\": 1972, \"rtAllCriticsRating\": 6.45}, {\"year\": 1973, \"rtAllCriticsRating\": 6.75}, {\"year\": 1974, \"rtAllCriticsRating\": 5.8}, {\"year\": 1975, \"rtAllCriticsRating\": 6.3}, {\"year\": 1976, \"rtAllCriticsRating\": 6.25}, {\"year\": 1977, \"rtAllCriticsRating\": 6.0}, {\"year\": 1978, \"rtAllCriticsRating\": 5.95}, {\"year\": 1979, \"rtAllCriticsRating\": 6.7}, {\"year\": 1980, \"rtAllCriticsRating\": 4.9}, {\"year\": 1981, \"rtAllCriticsRating\": 5.4}, {\"year\": 1982, \"rtAllCriticsRating\": 5.1}, {\"year\": 1983, \"rtAllCriticsRating\": 6.0}, {\"year\": 1984, \"rtAllCriticsRating\": 5.7}, {\"year\": 1985, \"rtAllCriticsRating\": 5.6}, {\"year\": 1986, \"rtAllCriticsRating\": 5.3}, {\"year\": 1987, \"rtAllCriticsRating\": 5.5}, {\"year\": 1988, \"rtAllCriticsRating\": 5.3}, {\"year\": 1989, \"rtAllCriticsRating\": 5.2}, {\"year\": 1990, \"rtAllCriticsRating\": 5.4}]}};\n",
       "const opt = {};\n",
       "const type = \"vega-lite\";\n",
       "const id = \"c9e8c472-9bb2-4ba2-a787-7813d1b9a70e\";\n",
       "\n",
       "const output_area = this;\n",
       "\n",
       "require([\"nbextensions/jupyter-vega/index\"], function(vega) {\n",
       "  const target = document.createElement(\"div\");\n",
       "  target.id = id;\n",
       "  target.className = \"vega-embed\";\n",
       "\n",
       "  const style = document.createElement(\"style\");\n",
       "  style.textContent = [\n",
       "    \".vega-embed .error p {\",\n",
       "    \"  color: firebrick;\",\n",
       "    \"  font-size: 14px;\",\n",
       "    \"}\",\n",
       "  ].join(\"\\\\n\");\n",
       "\n",
       "  // element is a jQuery wrapped DOM element inside the output area\n",
       "  // see http://ipython.readthedocs.io/en/stable/api/generated/\\\n",
       "  // IPython.display.html#IPython.display.Javascript.__init__\n",
       "  element[0].appendChild(target);\n",
       "  element[0].appendChild(style);\n",
       "\n",
       "  vega.render(\"#\" + id, spec, type, opt, output_area);\n",
       "}, function (err) {\n",
       "  if (err.requireType !== \"scripterror\") {\n",
       "    throw(err);\n",
       "  }\n",
       "});\n"
      ],
      "text/plain": [
       "<vega.vegalite.VegaLite at 0x199c56333c8>"
      ]
     },
     "metadata": {
      "jupyter-vega": "#c9e8c472-9bb2-4ba2-a787-7813d1b9a70e"
     },
     "output_type": "display_data"
    },
    {
     "data": {
      "text/plain": []
     },
     "execution_count": 10,
     "metadata": {},
     "output_type": "execute_result"
    },
    {
     "data": {
      "image/png": "iVBORw0KGgoAAAANSUhEUgAAApIAAAFoCAYAAADkaRuEAAAgAElEQVR4Xu3dCXhkVZ338d+56ZVGUEFQEQdtZVF2FFFQEVG0U9UsYycV1kEcGRXUZulUQCBsXZVuBFRkRMaFrVMJCtKpNOKLyCgoKmiDoiAuiAKiog5beknd8z6nFqgOWWq5dWv73ueZZ6Rz71k+51Tqn3PPYsSFAAIIIIAAAggggEAFAqaCZ3gEAQQQQAABBBBAAAERSNIJEEAAAQQQQAABBCoSIJCsiI2HEEAAAQQQQAABBAgk6QMIIIAAAggggAACFQkQSFbExkMIIIAAAggggAACBJL0AQQQQAABBBBAAIGKBGoZSJ4l6TxJ90rqlvRgRSXkIQQQQAABBBBAAIGGFKhVILm/pIMknS9pJ0knSDpH0lhDKlAoBBBAAAEEEEAAgbIFahVIuuBxkaRL8oFk4X+XXUAeQAABBBBAAAEEEGhMgVoFkq62blTyDklXSFpaGI1MJBL9xhg3Ovn89YpXvEIHHnhgYwpRKgQQQAABBBBAAIGswMKFCzeJHWsVSB4l6fVFr7b7JZ0k6cnJ2iGZTNp4PF6rstD0CCCAAAIIIIAAAlUK/O53v7NhBpKuuNdJ2krShZLOJJCssgV5HAEEEEAAAQQQqJNAmIHk/Pz8yBPzdT1A0p1T1ZsRyTr1CLJFAAEEEEAAAQRKFAgzkCyxSLnbCCTL4uJmBBBAAAEEEEAgdAECydDJyRABBBBAAAEEEGgNAQLJ1mhHaoEAAggggAACCIQuQCAZOjkZIoAAAggggAACrSFAINka7UgtEEAAAQQQQACB0AUIJEMnJ0MEEEAAAQQQQKA1BAgkW6MdqQUCCCCAAAIIIBC6AIFk6ORkiAACCCCAAAIItIYAgWRrtCO1QAABBBBAAAEEQhcgkAydnAwRQAABBBBAAIHWECCQbI12pBYIIIAAAggggEDoAgSSoZOTIQIIIIAAAggg0BoCBJKt0Y7UAgEEEEAAAQQQCF2AQDJ0cjJEAAEEEEAAAQRaQ4BAsjXakVoggAACCCCAAAKhCxBIhk5OhggggAACCCCAQGsIEEi2RjtSCwQQQAABBBBAIHQBAsnQyckQAQQQQAABBBBoDQECydZoR2qBAAIIIIAAAgiELkAgGTo5GSKAAAIIIIAAAq0hQCDZGu1ILRBAAAEEEEAAgdAFCCRDJydDBBBAAAEEEECgNQQIJFujHakFAggggAACCCAQugCBZOjkZIgAAggggAACCLSGAIFka7RjRbWI9Kb2kOwB6YGeL1aUAA8hgAACCCCAQFsLEEi2afMvXnbTSzLe2H1Gmv2WeQ+8tr+/329TCqqNAAIIIIAAAhUKEEhWCNfsj0V7U9+0Rke4ehhrukcGuoebvU6UHwEEEEAAAQTCFSCQDNe7IXKLxFMnSfpCoTBG+vFIMrZfQxSOQiCAAAIIIIBA0wgQSNawqSLxwQNd8ulkz+01zKaspDvjw/sY+Xe7h6zUZaSrJc0zvt4+siJ2V1mJcTMCCCCAAAIItLUAgWSNmr9zWWoX4+lH2YDN19tHV8R+XaOsSk72sP4bXzq+bv19kra3RueNJmLnROIpNzJ5kpGuH0nGukpOjBsRQAABBBBAoO0Fwgwkj5J0bZH4vZK6JT04WSskk0kbj8dNM7bQB5dd+5pZ3uyfWNlXufIbmcfH/Y373rzi6D/Xsz6ReGq1pKisvpseiB3syrI4PvwGX/5D2XJZ79/SA12P1LOM5I0AAggggAACzSMQZiBZrLKTpJ0l3TQVVbMGkm7Ub+O69Xca6U2SXLDsrj2s9KvZ8+bu/63+w/9Vj+4R7Rs8zVqzMhvUGrPHzYmuvxXKEelN3Sijw6zMJaPJ7lPqUT7yRAABBBBAAIHmE6hHILmVpI9LukjSWCsFkkv6h+eMrc/8QNbsK+mR2WbO3hmzbpbvez+R9FoZ+5P5czveeX1/14Ywu8rivqH9fWvdPE3PM+ZdqxPddxbnH+0bfre1vvv5mOfP33b1ikOfDrN85IUAAggggAACzSlQj0DSveJ+WNImwcxEvmYbkezv7/fuXrfLjZJdLNknMxnztptXxn7n6vXB01MLOzrsjyWzlWRWv2Xerw8Pa9/Gw/tu2Gqj3XC/pG2tbHw02TMwWVeNxFNu9HR3K3PaaLL7s83ZnSk1AggggAACCIQpEHYgOV/SaZIul/RkoaKJRKLfGHPOxIovWbIkTIuq8hr8/sO668G/aXaHp08fuotes9Vmm6T35yef06U3/VobM7722+kV6nnXDlXlV8rDVtIXRx/UQ489pV2231L/9YEdp3zs7t8+qWu+93ttuWCOzu3ZQ6YpZ6eWosI9CCCAAAIIIBCkwMKFCzeJGmoZQri5kYskXTJTBZppRDLSm4rLKCEp48uPrEke+e3J6rcovuoDnry0pI7pRgdnsin1553xwbOMzHmSHp01b+6u083PPLD/e7M2X/eXRyWzDRuUlyrMfQgggAACCLS3QNgjkvtLckNx183E3iyBZGc8tcRI2VNhrDXHjA50F69Mf1E1O3uHjjbGXpO9X+oaTcaun8mikp93njH0HuPbW42UkbT/SDL205nS6YwP9hqZpJvLmU70vG2m+/k5AggggAACCLS3QNiBZMnazRBIRuOrDrLybpE0y1idMzIQc6N/M15FI4XjRv4hI8kjb5vxoTJuWHzGqm1939yfm5Opk9PJ2GWlPO7O3/a9sSckzbfW7j860PPDUp7jHgQQQAABBBBoTwECyQrbfXF8cC9f5geSFlirr4wOxD5STlKdvan/MUYnSHrWetpvdHnsl+U8P9W9btHPT9ft/H0j7W+lm0aTscPKSTfSN3SZrP2EpG+mk7EPlfMs9yKAAAIIIIBAewkQSFbQ3pHe4dfKZH7mRvyMzLf3mffrznJXYbuA7551u4xa2Q9IekLW2zeIzcCjfUMXWmvPkPRbz5+/d7lb+UQ/M/w6O+671eZWHd5r0xd2PVoBEY8ggAACCCCAQBsINH0g2dmXOtf4uiE9ECts/l3TZstvp+OOPnyjkX48b733nusv6ZpyP8zpCnNg/9fmbb5u3m2Sebuk38yaN/dt1WxYHomn3i/JvWqX9bRbpaOchQ3KjdWlIwOxpTUFJXEEEEAAAQQQaFqBpg4kI/HBAyXzvZy+/epGb/wztyw/5vFatUa0f2Qzu+5Zt3H3W93RjrPmzd2vmsDPlTN//rULTHeuJjB1xzJ2eLPc6/EtrTH/MZrovqpSh0W9Q+/yjP1fSesyc8e3vfnco5+qNC2eax2Bg3uHt3zZBm2o9A+nWkscsnT45XNm+zuOrIjdVeu8SB8BBBBAICfQ1IGkq0BnX+oI4+siGb3OncxiZRPevM0/O9IffS7oRo7Gh9JWtlOyf/U7/H3XXHjUH4PII/+q/Kdu6x1J6XQyFi033Wg8dZeV3uYC6nSyx829rOqK9KZ+LqM9ZXRqOhG7uKrEeLjpBaK9qQ9ao69mx7qN95l0ovvKRqpUND641Mr0G5lnNW+zN9Ti899I9W3XshwWH9zhW8ked6AFFwIINIhA0weSBcdIX+oU+TpLRi+V9JgxNj6S6MlusxPEVbQ45hnfeu9YM9D1iyDSLaSxqHd4N8/4d0jawkhfHknGTiw1/Ug85Y6bPFXS/fPXe28NYsQo2jt4pDXGbdP0WDoZ267UsnBfawm4Ub7Z8/wvyOrI4poZ6Re+Zz41urw7/0agPvWO9qYOlafPWquFL5TA9KeT3efWp0TkWiuB7FZr1nSlB7qb56SKWmGQLgINJNAygaQzzc1fXH+BZP4rb/xzWe+T6YEuF6BVfEXiQ+dItt8lYOS/N+jtegoFy+/9mNsKyJqz0gPdF8xU6M6+wcXGmpskPaNMZu/0yqMemumZUn8ejQ89ZmVfxQblpYq11n0uSLPGfjk/Uv6cjM6StW7T+vPdHOF8bW/2fG/p6hVdD4ZZ+9yuCfq8ZA7I5/sba3WZMe7fNLbR27iwltNcwqwreUlFU3c60snYSzBBAIHGEWipQPL5gGxZahfToUtkdUguKNO3rMmcOpo86vfl0kfjqY9YKfsaz1r1jA7EUuWmUc790fjQv1vZb2SfMfpwOhH72lTPu9c84zJukdEW1ujfRxOxG8rJa6Z7I31Dy2StO5v7nnQy9paZ7ufnrSEQPXXV1na29yVJ/56v0a2y3gnFuwpE+wY/aX1zbv4NgNtc//I5Zs7ZNyaOeP7o01poHHLGNa+a7c9OSjo2/9n+lwtwC3ulRuIp91n9iKy+lh6IfbgWZSDN8AUi8dT3Jb0z92uxdn/Mh18zckSg+QVaMpB8PqDsHew0xqyUtEv2F5DVpR3z555b6gKZztzz7khD99srtLmCkXjqJElfyJd50chA7ObJuloknrpb0j6S+Xw62f2poLtjfiGQ2/5nMxnvHelEl1sUxNXCAtG+wWOszKWyerms/iVPp0z1x4zrH5mx9edYo0/nSdyirAvSyZj7zAV65Ra6PXe6ZHvdhvn5IPLiWfPnnl/8ec5txu+5Pxg38z1vrzXLu9YGWhASC12g6AjaXN5WF6cHYm4qDxcCCDSAQEsHkgXffGDmTp15maR/GtnzR5I90573HVk2vK88/8f5ND6XTsYKX5ahNFsknloh6XSXme/bt65Z0eOCxuevwsbhxujukUTMrSKvyRWJp1xAe5Ks+Uazzk1yQYg/9syektkj/010rzd/87UsyHihy7iRvjn+nCtzi8lyo/izMxtOvPGiY/86U8fKjoxbb6WMzW9gb/5sjH9GUHOUO/uGjjPWulHIV2bLYpSaZW3fVIsuIr1Dn5Gx7vX77elk7D0zlZ+fN67AomWDb/E8kz3e1cieYmUultUf0gOx1zduqSkZAu0l0BaBpGtSt3XJfPn9RaMnv7XGnjqa6Fk9sckjp1/3RnV0uF9eW9YzgOqMD64yMj0y+odnvbetTnb91pW16PX3//kdmT2CWj0+Wdf/4OmphR0dyubrd2R2qGVeQXz03Ibqytg9fOvvZuTtZYzdfdOFGJvk8nvJ3GusXSvP3Ofb8fsqmf4QRLnrmUakb+g/Za1bmb+5ZJ801vv4yEB39vz4cq7OvsF3GmvcHx75gF33yHgnVzqSnd/e63OSds+X417PmE+sTnTfOV25cvuzznd9djtr7KGTfcbLqRf31kfg/addvWDOrDluRPkNRub8kWT32ZF46m+StlYms2OQ88HrU0NyRaA1BNomkCw0lwsSbUfHSiMdmv0r1+p7mQ7vlMIrMPdqLON7dxlph0YY0YjEh74r2YMk/T5jvP06xje+VB0dbl7kfBnTmU50r6l1VyxsUG5lLhlNdp9S6/xKTT+6LLWf72l3I71Jsu4Vvws4tpji+fsk+8/cz4wbmS4EJxNvf9pK9xmZe6zs/Z6v+57ebGzt7f3Hryu1XM1yX27bKf8r7u+sfJmvtsp8ejR5VN6psppE+lLHy5rzJPuaHPf0I4gTc8n98eKmpNjD8z/7kzH2zHJGOLOv6K25WtJD6WRsx8pqwlP1FHh+vquxP0knet7mytIZT33NSP/hRidneqtUz7KTNwLtJNB2gWShcd0Kac+3n7PSbtl/s/qa/ExCHR1DkvZy25uMzx0/oN6bcS/pH958bJ3vJprv5V5jy2pursw2kU72uKMQa37lR5pcGZ7JzB3fLmyTQ88c3D7je7sZa/eyMvtI9s2SpgoOnjLSWiuzVsau9axduzrZ8/PJkKJnpPb2fbOnkfYwsntaaS9JU60IfUhW91tjf2aMd4/vjd/f6KOz03WM/HSPRG4UUn9yC1TSydh3gupMblTwJevmn2ol10c3y6f72XXWO//Wga7/myyfzvh1L/Nsx9lFbw2ek8wFz8x77pJKAvlIb+oeGe0ta09KD/R8Mai6kU7tBSLxwcMl4xYPPpfJaPebV8bcsa0vvI2x+m56IFb4A6j2BSIHBBCYUqBtA8nnA8p46qNGcvMnty1S+qOf8fZbs7LrL43Qd7ILCDLej/KbrstI3x9Jxt4dZtmeX9gT0qKjXCAy70ors3iaUcZHJLPWGrvWvZ42szrWjlzQ9YdqXDrj173eyNvDGrOnsdnAck9J20+R5tNG9qaRZM8x1eQZ5rOL48Nv8OV/tbACVtJl8+d5fdf3dz1Ti3LkF7+4baw+kkvfPimrcyYGdpHe1KdkdE5+HrPr418eN95nbk50uVeZFV1FJzT9fZ313jBVAFtR4jxUM4HImcPbadz/ZXZHgAk7VyxedtNLfG8se9KW58/fYvWKQ5+uWUFIGAEEShJo+0DSKeXm4sw+UzJ92cU4xn/HSOLIB0oSDOmm7LzNWR13ySrjZ7zdww5yizYofySdjP1bLaudH4UdkXRgUT73SVprZNf6nrdW/vjaal/BlloHN1Imb9aebkRUNhtYujmAxa/Gr04nY8eVml697ov2DZ5mbXYXA3c95Blz/EzzDYMqa+cZqV1lzcXG2vfl0/yNrDnNyHrWyJUpty+l0S02o6WjK2K/DiLvSHzohvwr8pXpZGxZEGmSRm0For2p26zReyRzYzrZfcTE3CLx1P/LTscwdkk60ZPbKo0LAQTqJkAgWUS/6Mzr/q0j07HNSDKWXSXYaFc0nnqr75nN63WaSCSe+rNbwFDLDcqzJ6nM9b+dPc/c6l/WmCWjye5bG60tXHk6e1MxYzSYC4DsBelEz1mNWM5o36qdZb2v547QdFd40yImekT7UhFrs4HjzhN+9mtf/ilrkke6tg/sKl4sZmZ5r692xDqwgpHQpAKReMrtVOF2rHjMKrPrZH8s5kevLzWyV40ke/4DSgQQqK8AgWR9/Zsq98IG5Ub68Ugytl/QhXdb0MzyZ9+aXzzzV992HBz0UZRBlznamzrRGrnNuyVjPtp4Z1CnzrRS4YSkez3Z46eaMxq0zXTpReOpj1vJHWNorfSZ0WTsy7XKvzM+dLGRXWqk60eSsa5a5UO61QnkTisyP8um4tmD08t7vjtZirnpJx2/c9Mk0smeravLlacRQKBaAQLJagXb6Pn8BuWPS5pnrd1/dKDnh0FVP7+C2J3b7PaH+1Mmo/cUJtgHlUet0onEB5fnp0W4oy0Xpwe63Wv5ul6540I3uI3ss3uMWmvPHB3oWV7XQk3I3G3J5WXWjX/nomOfrWW53NQEo44/ZhdSWe+d1R6ZWsuytmva+S2b3G4UO5ay4XgknnJTj3Yyvt4+siJ2V7u6UW8EGkGAQLIRWqGJyhDtS33eWp0c5OhO57LULp5nvuvO9Zb0gDq8g9MXdrkTdZrmisRTV+WP7RuT7x2YXtH1k3oVPn8usZtHtrPbfcD43pKwz8KuV92nyjd7pKM1bk/Kn6aTsX0brXztXp7OvtSXjNWJkn6ZTsZyO2lMc3X2Dq00xp7WyFNKZqoDP0egVQQIJFulJUOqh9vw2477bisOqw7vtdUGfIvPWLW775vbJLOVpPtmmzkH1fq85lpQHdj/vVmbr/vrLfk9P//pydu3sIF8LfKbKs38quzb8ivNm9YzaLN9PnrF7Fe+fMvf5PeHPTqdjF0XdB6kV5lA0VG0Gzzf272UP3rc9m3Gt66f35tOxtwCOC4EEKiTAIFkneCbOdvCBuXu7PKRgdjSSuuyuG9of99a9/rV7d34w8zc8Q+GvUdlpWWf7Ln8anN36sruVnrYN96+1WxfU27ZFvUO7+YZ380re0UreJZb/5nuj/amDrVG35LMn5+Z99wbK9mbcqY8pvt5djHfuNl8w4ZZj99ySdc/qkmrVZ5ddPrwK70O/1du2ydr9cnRgZg7GamkKxJPua1/Ns/449vfvOJotxCQCwEE6iBAIFkH9GbPsniDcs+f/+pK9nLr7B06xBh7Y/aEHuk7Zt6Cw1vh7Ov8vonujHa3RdK9G8Y37F/rOYCuP3X2Dr7DGONOOdrSbaFj5i44ohU8g/6sROKDt0vm3WHPGY0sG95Xxr8luzfiC9cjbnWyrP5iPD3uW/u4MZ7bu/ZRa80THX7m8dUreh4L2qCR0ov0pm6V0Xvd74B0MnZIOWWLxFMpSd2S+Vg62Z1b8MaFAAKhCxBIhk7eGhlG4im3unIvVbBBeaRv8EOy5vqcxOR7xTWz0qK+1I6e9CNZvdwFdelE7AO1rE8knnq/pJvcIihJ30wnYx+qZX7NnHbRyuAxz/Nft3r5kU/Uuj6d8aGDjaxbgOXap5LrCVk9boz5i7X2cWv0mJH+YmQe9zX+82Y9H74zPnSqkb3I7d270dv45luWH+MW8pV8FR2DmU4nY9GSH+RGBBAIVIBAMlDO9kksGh/qsbKr3IhKOhnbrtSad8aHPmxk3fnObprlV9PJnhNKfbaZ7nPngFtPbg7X/Frud9cZTy0x0nCrewbZ9tH44NetzHGy9sr0QM9Hg0x7YlqdfakjjNU3c9190/zcavIOf/Y2mY7MNsadrOVrW+uZbYy120jetpJ1W9u4BWjbTHO6k/tjbLVv/OVrEj1uJLwprkhvag8ZrXWFNVaHjQzE3B9CZV351fhuisC6Z+aNvSzsqQplFZabEWhhAQLJFm7cWlctEk+5ldWvLnWD8sJGwvlyfS6djH261mWsZ/qR3qGojF2dLUMNNiyPxlMfsdKV7eIZVFtmj+DL+Nk5dcb6u44MHHl/UGkXpxPpSx0vK3ccZSCbwLstsnyb2cYYbyvj2VfLWjd94mOScYGmu35oZC4eSXbnAtcGvfJb/bggcid3FOZIMuZWa1d0dcZTdxhpfxnTmU50u6kdXAggELIAgWTI4K2UXWGDcrfaOp2MuWMDp7yi8aHzrGz+5Bd7bjrZ099KFlPVJdo3eIK15n+yoYR0YlAbb0fiqZMk5RcmtI9nUH2mqD/enk7G3hNUuoV08u3z+eyhj9LJ6WTssqDzcOl98OQ1czsWPH28ZN2JMG4PVnc9YIy9aN7cjmuu7+/aUIt8q0kzEh/8b8n8l6TfbxjfsHs1c4g7ewfPMMZcKNkvpZM9H6umXDyLAAKVCRBIVubGU5IWL7vpJb435uaYzZ96g3Jron1DX7TWjZzIWqNTRhOxS9sJsGjDcl/GRKsdOSlKz1qrT4wOxP67nTyDqGu0f2Qzu+6ZP7jRPGO1aGQg5nYPCOQqClKtNeb40US322O0pld/f793z7pduq1svHAOvJtDaa39fGbe+OWNshtC0VY/48bT20aWx3In2VR45bYP89xG5o+mk7HXVJgMjyGAQBUCBJJV4PGoFImn3KiYGx170SIP9+V297qdr5Z0lCTfbdjdrvv3ReOpYSstkTRmfB1U2Wkc1kR6U1fImP9sd88gPntFo8UPzf+dt8v113dlqkv3hfYx0kbfKDaaiN1QXZrlP50L1hSXzAH5p5+W1ZWetZ+t5yrw6Kmrtrazvd+4rX6M9JmRZOzC8mv34icKU2xktWd6IOaCSi4EEAhRgEAyROxWzGqqDcrzG0Bfb6RD3ZeqrJZUMqG+Vcyq3bDcPf+SsSeGrNEReAbTK/J/6Nwn6c3VbiGTbd/1T1wjq5j7Y8F6pnN0ebc78rNuV6R3+AAZv0/SIlcI12+slOowXvKmRJfbuzHUKxJPudOWDpZ011vmPbB/f3+/++Oy6ival7rcvfEIMjitulAkgEAbCRBItlFj16qqhQ3KJWUX0CxZOjx/bI4/kt8fbkyejaaX97iNstv6ev9pVy+YM2uOOxd4V0l/NBv9t4x89si/z4SSmwf3lFu047b5wXMmsDJ+HokPHiiZ78noH5k546+r5BXwhPZ5Wr53cD2PyJxYfbdRvTGZPiPTJakjF1Sab0uZlSPJI93OAjW/ovHBpVbmYklPdXTYXW+6sOdPQWUa6RtaJGtHJfujdLLnHUGlSzoIIFCaQNiBpFtscV6+aO61izsFZNIrmUzaeDzuJqpzNbhAfuTjB9kgp8N7ozL+NyTt5740jK9DKnuN2+CVrrB4+Q3L3Tncr5XVzzZkNrxrusUGbh5qxhu7ObsyFc8K1ad/LBofSlvZThkl04mYG8Er+XJ/HMyeNeeWXPvYv/q24+A1A12/KDmBEG/MvT3ILJPMfxTtaXmPZFe+Zd6D1wc1QjixSp1npHY1vu6RNMdac8zoQPe1QVZ7Sf/wnLF1vjvlZrbZ6G9Tyh9nQeZPWgi0u0CYgaT7ItxBkjvj1p2r/HFJbjPasckagUCyubpmJJ66W9I+L5TaPul7HQevWd6V3SuO6wWB4g3L3cjQSLL7g5P5HN53w1Yb7YZbcq541qoPLV42vJPv+Q+49Ds67GtLHS07ZOnwy2fP9b8t6a2S/uTJO6ge56uX65L/Y+bU3NZB2tw97470NNZeNH9Dx1evv6Rr0t/J5ebj7ndb/SxYN/8eI71JRql0ItZTSTozPROJD90k2cW1CFRnyrtZfv7BvuFXhHlka7O4UM7qBcIMJN2ZzM9KuiJfbEYkq2+/hkmhaINyV6bHPN87aPWKrgcbpoANVpCZNizP73V4q6Sd8ax940X7Up+3Vidb2cHRZM+RM+V4yBnXvGqWP/tWFyBZ6Vcdvn1fPReyzFTeyX5+cO/wlvPkf0xGp+TPZ3e3PSDZJ4w1vu/ZvxlrHpcxj1lfj6lDj2rc/mX2ZnMf/1b/4f8qJc+ixXiPZOaO71bJ1IGS8ukb+k9Z+2VJQ+lkzM1T5ZogkP9j/zkrb+lossuNEHMhEIhAmIFkfg9BnZ8fkXQr9s6U9GQikeg3xpwzsUZLlrhFrlzNInD2qns1u8Po5MjOeumCOc1S7LqV85d//Jeu/M5D2fwP2fvVWrRP7oCgvz+1Xl9IP6B/PbtBW28xV5/o3Fkv3xzPWjbUs+vGdd7QfVq3IaNTDnuT/u0VC6bMzrXPF9c8qH88vV7bb71AH1+0ozabO6uWxatp2hszvu568O+67d7H9Y9nStt2cvYsT1tuNltbLpijLebP1hbuf+f/2/1/999/fnJMV9/2u2zZPxndWQtf+ZKa1eP/ntuos69bq3lzOiubeNsAACAASURBVDRw3N41y6dZE/7hA3/T0A8efr74b33jVoruu322zbgQCEJg4cKFm0xFrNW8RDci6U4ecKNU8yWdK8kdlTfpqBWvtoNo2nDTiPYOdc3KrL/9xouO/Wu4OTdvbtHe1InW6EvZGhjzUd83d3nGdwuTXiHpl37Ge9+alV1/ad4aNk/JI32pU2T1WbeqOJ2MvX2ykkd7V73ZGs+NFL9S0u3z53nR6/u7nmmeWk5fUjedYoPZ8Cr55pXG2lfLM680vn2VNdmjGrd1J1nlj20sOSo0xiwfSXS7QYOaXpHe1D0y2luy70kne26vaWZNlHjuKEnvIclsZWUuMbKHFjavt0bneXMXDIz0R59roipR1AYTCHNE0s2RPEjKjkjuJMmdbOL2H3xyMhMCyQbrKRSnZgKd8dQFJjc6X3z91CpzyGjyqH/WLGMSfpFApDf1exm9brJjPyPLhveVl50T+TIr3TSajB3WroRuZ4ZnZvmv9jy7rfH0auubV8loW2P1amPMq6ysCzxdsP1IOhnbNwynzr7UucbqbEmfTSdjp4WRZzPkUbQ90vUjyZhbua/O+NCpRtZZbZHduN7YM9OJ2NeaoT6UsfEEwgwkXe1Ztd14fYASNYBAJJ5yp58cmy9Ky410NQBxSUVwo+rW2CF3fF86GVtYeCgaX3WQlee2YHLvvK9JJ2OFtiopXW6qvUA+0P+xe8uVTsbc3OK2vxbHB/fyZdzpQWMZf3zHm1ccnT1j3l1u8c0s619gpY9m/8FqrYxdymhu23ebsgHCDiRLLiAjkiVTcWMLCBRtWL4+8+wWh9/8hUXrW6BaTVmFSHzwh5Jxr7aXpZOxldG+VERWN1hptqy9Mj0QO1Eytikr19KFtiYSH3LTara2yiwcTR71+5aubgmVi8RTbquxt063WXtuuob5omTenYsndZPJZE5PrzwqN4GbC4EZBAgk6SIINIiA2zNy9YpD3X54XHUUKBrZesoanWOsLskVx/Snk91ubjdXgwpEelNfldHxsvp0eiD2uQYtZijFivSmjpWRe9Oxyej6VJlH+4YOs9a6OcKvz/Z2q0t9kzmP6TWhNFdTZ0Ig2dTNR+ERQKAWAp3xwVVG5vk9D63VJ0cHYu5cea4GFujsSx1hrL4p6dZ0Mva+Bi5qTYvm/ij1vTE3oujmrS4aGYjdXGqGxfMn3YlP8nVeuwflpdq1630Eku3a8tQbAQSmFDj0zMHtMxnziLuBTa6bp6PkA6inXIk9f/4W7TrCH+1NXWKNPi1pJJ2MLS63Bd38SU/++cbqxPyzD1mj+GgidkO5aXF/6wsQSLZ+G1NDBBCoQCASH+y3Rj8bTfS4RTZcTSLQ2Tf0HWPt+4zMh0aS3W50sq2u/BZVv3SVNrO8149c0PWHSgGyx1tmdKmM3ptLw9zmeZmlq5cfeV+lafJc6wkQSLZem1IjBBBAoG0FOvtSn3bzWo3sVSPJHneueFtdnfHUHe7sdyNz/kiy223xU/UV7U0dak32SOM3SPIl+/XZ4xv72DO4atqWSIBAsiWakUoggAACCDiBzvh1rzfqcEfqPJFOxtxelm1zFW1f9cgz88Z2ur3/+HVBVj6/ab8LTreU5DYxv8Ma3SXZe/xxc//NK2O5o4y42kqAQLKtmpvKIoAAAq0vEImnfp09p9733pZe0eW2wGn5K9o/spld9+xvJG0n2SPSyZ4ba1Hp6KmrtvbneBcUzZ8szuZZST8zVu6Uofszvl27ZkXP3bUoB2k2jgCBZOO0BSVBAAEEEAhAoLN3aKUx9rQgX+8GUKyaJhHpSyVkFZfVd9MDsYNrmpmkRX2pHTtkPyBr3ixpDyvtJmmzKfK918r+ysj8XNK9Vpmfsq1QrVsovPQJJMOzJicEEEAAgRAEIvHBAyXzPXdaS3ogtlcIWdY1C/c631PHA64QvjI712czdmsW9Q29scM3e1rj7ymZPSTtmT+f/UU+2aMZZdfK6F5Zu9bzO9auXrHkN2z2X9euVFHmBJIVsfEQAggggECjCixZMtwxttB/MjuXr8N7TfrCrkcbtaxBlCvSm7o1v7J6ZToZWxZEmkGl0Rm/7mXSrH08F1xaN3JpXHDpjrCcNUkefzTWLBsZ6B4OKn/Sqb0AgWTtjckBAQQQQCBkgUhfalBWMRnz0XSi+8qQsw8tu/yK6m9JemzD+IYdv3PRsW6eYsNf0XjqrTJ2d/lmV2u0j6S982fZu2Ma75S8T40mu+5p+IpQQBFI0gkQQAABBFpOINo3eIy15upKN+VuBpAPnrxmbseCp9wJNtsba48aGehZ1QzlnqqM+aB4paQ3urMAjOzVG7zxvluWH/N4M9er1ctOINnqLUz9EEAAgTYUcK9UjTr+IWldOhmb34oEbtN8yZxjpO+PJGPvbpU6RvsGP2mt6Zf0Mkljsmb5M/Ofuyjo7YzK8XKn/bj7b050/a2c59rhXgLJdmhl6ogAAgi0ocDzm3OXed50M1BFeodfK+P/0ZXVetptdHkse5pNq1zuDwHPdJxrrU7O1+lP1mrZ6EAsFWYdI/HBw428E6xsp8vXyIxa+V+p1fZKYdYtqLwIJIOSJB0EEEAAgYYSiPSm4jJKWOny0WTsEw1VuCoL0xlPfctIh0r6XDoZc+dqt+QVOf26N6pj1kWSLZwZfpeVd1It50929g6+QzIfNkZLJG0xBexT1up6yX51dKDnhy2JX2KlCCRLhOI2BBBAAIHmEljUO7ybZ3x3LvSj6WTsNc1V+qlLGzlj8L3yza2S/u7581+/esWhT7dK3aaqR7Rv+N3W+p9ze1a6QVhJ12z0NsaDmj956JmD22fGveNk7LH5OZrZohiju31fV49v8K5z/z1nbuY4K3NcvhyF4j4ka67umOVfddOFPX9q9baYWD8CyXZrceqLAAIItJFAJJ5yr39f61tv9zUDXb+oVdU7e1Mf8zy7YSTR85Va5VFIN9qX+q21Wmhkjx9J9ny91vk1UvqRvtTxslouyR1/OWaskk/PH1tRyfzJJf3Dm69b58es5ILHdxbqmdvj0v+6MfbqkcSR2f05J17RM1J7+7452si689zdXM5c4Gn1PRmtWj++YbBZVtC/qG6nrtpac7z9RhKxdCltTyBZihL3IIAAAgg0pUBnPPVFI31cMmekk92JWlQi0jv0GRl7fj7t+6yxJ40men5Qm7xyr+sl/TSdjO1bizwaPc3scZDrn+mTNZ/Jl9XtE9qbTsayo4YzXZ29Q4cYY49ULoAsXM/Jasgas2o02e1Ge0u+on1Dh/nye4w1XUUPuXPO3X6Y16WTse+UnFgdb4zGh/7dyrrR1qikZ+ev915x/SVdYzMViUByJiF+jgACCCDQtAKL4qs+4Mm7WbJ3pJM9z486BVWhSDx1kaRT8+m5s653zP5va74xy/infyvZ83BgeZ05vJ0yvtvuZ77xtM/I8tjPgkq7GdOJ5DxcUH1Mlnya/SejvavebOUdK6OjNzltx+q7xrNXzVvX8Y1SgqbpnLKbr9uOo42RC8bc3piF6zFZXWutvj66IubOgW+YqzM+7DaLP87arMvzI6uSfu7J61qd7PrtTIUlkJxJiJ8jgAACCDStwJL+4Tlj63w3h3D2Ouu97NaBrv8LqjLR+ODX8/PlZK16Rge6hzr7ho811l4oaTtJ643MpevH158fxGvOaDw1bKUlRvrySDJ2YlD1aPZ0XDAk+Z8z0v75ulzt5k9qbO762XN8F2S6ANJteF647pcxV/vj5uo1K7v+Uov6dy5L7WI8nSBlA7Rti/K4x1pd5eZc3nJJl9ueKvQr6l5dzzbHWBn3Wn73ogI8IavrrNX/lBPwEkiG3oRkiAACCCAQpkDRCuejS339OVP5OvsGhwqvMo1RtHg+WfbV67rnTpdsrxs9lPSElc4eTca+PFO6U/08v9jkdkn/nG3mvPHGxBHuCEiuIoFI3+CH5JsVMnrdJDB/szLXWt9ftWZFz91hwkX7UhFZHev+CNg0X/slI/NnK/srM6tj7cgFXX+oZbk6+1JHGKvjJUUm5DNkrK4aGYjdXEn+BJKVqPEMAggggEDTCETjqY9Y6UoZpdKJWE81Bc/Nz3v2BlkdIulpY7zoSKLrfydLc/GywVf7nnGvXrNz8Yz0Cyv7yXSyxwWEZV2ReOpXknax0onVBKRlZdqkN3fGh041sme5s9atscOezDWlLhypZZUP7h3ecr7xj7LGHidrJpvf+pSR1lqZtTJ2rWft2tXJnp9XU6apX13bHxlrrjJ2/qpqV/0TSFbTQjyLAAIIINDwAotOH36l1+G7Y/b+L52MvbTSAi9edtNLfG/s25LeIaN/GKP3lTJPcXF8cC8rc6mV3pXN2+pb1mROHU0e9ftSyhKNDy61MhfL6mfpgVjx3LtSHm/Le9zrW9OxYH21QVKt8BYvG97J77DvkrVvluw+knGvmKfas9JtYbXWGv1cxtwrf3ztaPKof05VNld3f3bHcZ7scVbarXCfW43uy361Q97XS5n7WGrdCSRLleI+BBBAAIGmFYj0pu5x8+R8a969ZqD7++VWxH0529meW327l6THjPHfO9XWMFN+wfcNHSbZi9zWPfmA8uJ18s6bbt7m4jNWbev7nlvwsLlv7H5rEj0/Lrfs3N8cAp3x614v4+1qrLdXNri02nWK1/SuQo9IZq01dq2xdq1vzP1G2nWSV9fPWWnYk3/NSPLI22ohQSBZC1XSRAABBBBoKIFofOg8m3vd+dl0MnZaOYU75IxrXjXbn+2CzzdY6eFZHfZdlW48vc9Hr5j9qq22PFm+zpKRGx39m2TOfsu8X3+5v7/fn1iuSDx1tVuVbGSvGkn2uMURXG0k8P7Trl4wp2PeXlLGbcS+hzztIWt2lbTZNAy+rL4X1Gr0mbgJJGcS4ucIIIAAAk0vEI2n3mqln0j6dToZe1OpFcof0XebZN3JOPdmjPe+mxNdfyv1+anuO7zvhq02auO5srZwdOMvrczS4j0Mo8tS+1lPP3JzMWePb3jDjRcd+9dq8+X51hCI9q3a2Zf3Jk/GjVzubWXdq/FnrLVX+TZz9c0rjv5zWDWtNJDcym2yKWUnG0+87pXULenBaiqRTCZtPB431aTBswgggAACCOQErInEh1wgtrVVZmEp8xNzRyxmbpXMNjL2J15ms4ODnnOXC1Q7Li5aSZtWJnNKeuWRv43Eh9a67Vms0dLRROxSWhKBRhSoRSDp6nmFpKXu+KJKK00gWakczyGAAAIITCYQiQ9+RTIfNsZ+aiTR8/nplBb1Db7N882386+fv2PmLTh8pD/6XK1k3fnZxjeXFC2OcKerHOxWeo8kY8V7/dWqCKSLQEUClQaSLjM318RN3Lwzn/NR+f/vdvF3P3P/XfE+VwSSFbUnDyGAAAIITCEQiQ8eLpkbJH0nnYxN9kYt+2TnGUPvMb4dkbTAbR8zmuhxb9lCuSJ9Q/8pmz1uMbuJtTHegVNtLxRKgcgEgRkEKg0kC6+2XWcvDiTdDvLu307K/19xIOk2Zb1EUmE3/mlHLQkk6bsIIIAAAkEK5DYKf/apbIA2b8EWk40w5jePvsFKs3MLXGLHS8YGWY6Z0nILLObOnnuGrL8dC2xm0uLn9RaoNJCcGBQW6pHK/w93BNXEV9su+HTHRp1ZykglgWS9uwb5I4AAAq0nEImn/l/ulbH50Eiy+5vFNezsTcWMyc7/9yRdlk7GTm49AWqEQLAClQaSrhQTF9zcIumTkty8k+KRykKJd5I0lF2+nrsOKBrNfFGtCCSDbWhSQwABBBCQIr2pT8noUll9LT0Q+3DBJP9K2b0pM7LqSw/EknghgMDMAtUEkjOnvukd7jD1g/JB5oyjkwSS5fJyPwIIIIDATALRzwy/zo777kSZv6eT3du419aR+NA5ku13S7utMcePJrqvmikdfo4AAjmBagJJt5jm2gmQblSylEU27tX4uZK+4rYJSiQS/caYcyY2ypIlE843p9UQQAABBBCoUmD59b/UE/8a0ymHvUk/fejv+sH9ue0ZP/y+N2iPHV5WZeo8jkD7CSxcuHCT7RpL2btxqn0kpwskC6u63fwT95r7BEkueJx0iyBGJNuvI1JjBBBAIAyBzt6hlcZYd7rNo5K2k7TOl3/4muSR7hxtLgQQKEOg0hHJyVZtz5Rt8QKdGTctJ5CciZOfI4AAAghUIhDtG363tf7t+WfdaSCHjA70/LCStHgGgXYXqDSQdG5uhNHtGVnY/idQSwLJQDlJDAEEEECgSCAST/1LRhnfeO9ds7zLnSDDhQACFQhUGkhW8mq7rOIRSJbFxc0IIIAAAmUIROKpizx5X1qd7PptGY9xKwIITBAgkKRLIIAAAggggAACCFQkUGkgWVFm5TzEiGQ5WtyLAAIIIIAAAgiEL1BuIOleaV+W/z93nvbEs0pL3f5nxpoSSM5IxA0IIIAAAggggEBdBQgk68pP5ggggAACCCCAQPMKlBtIFmpaGJl0JwE8mP9Hd3LNMZOcsV2RDiOSFbHxEAIIIIAAAgggEJpA0IGke91dysk2M1aQQHJGIm5AAAEEEEAAAQTqKlBuIFm8qfhkBWeOZF2bk8wRQAABBBBAAIHwBMoNJF3J3CvsO6Yo4tGS3BGIVV+MSFZNSAIIIIAAAggggEBNBSoJJF2BJpsjGWhBCSQD5SQxBBBAAAEEEEAgcIFKA0lXEDcX8toJJeLVduBNRIIIIIAAAggggEBjClQaSHJEYmO2J6VCAAEEEEAAAQRCE6gmkHQbk7vtf7rypb1c0hGSrgyi9LzaDkKRNBBAAAEEEEAAgdoJVBpIFlZvX5MvWmHxDa+2a9dWpIwAAggggAACCDSUQKWBpKtEYQPyMyVdKOlESWdLOj+IGjIiGYQiaSCAAAIIIIAAArUTqCaQnFgqN0p5miT3ivvJaotMIFmtIM8jgAACCCCAAAK1FagkkNxJ0pCkPSRdkT8Sce/83pK82q5te5E6AggggAACCCDQMALlBpKTnWzjXmefJ+leSd1FZ29XVUlGJKvi42EEEEAAAQQQQKDmAuUGkoVtf9wimxskXZKfG1kYmRwLqsQEkkFJkg4CCCCAAAIIIFAbgUoDSbeg5k5JZ0naLv96O7Ag0lWVQLI2DU6qCCCAAAIIIIBAUAJBBJKuLIGs1C6uFIFkUE1MOggggAACCCCAQG0EKg0kD5miOCy2qU07kSoCCCCAAAIIINBwAgSSDdckFAgBBBBAAAEEEGgOgXIDydBqxavt0KjJCAEEEEAAAQQQqEigmkCycLLNlyR9Pb+v5AH5RTgVFab4IQLJqglJAAEEEEAAAQQQqKlApYFkYT9JV7inJJ2eL2Vg2wARSNa03UkcAQQQQAABBBCoWqDSQNLtJ3lZ/v/cFkAPS3Ijk72STuKIxKrbhQQQQAABBBBAAIGGF6g0kJx4ws0pktxKbhdQLpVU9Z6SjEg2fN+hgAgggAACCCDQ5gKVBpKOzc2RvEOS2/Lnk5LOldTPEYlt3qOoPgIIIIAAAgi0jUA1gWRNkRiRrCkviSOAAAIIIIAAAlULVBNI7pQfgXRzIrcu+t9PzlCqwmtxd163O2Zx0otAsuq2JQEEEEAAAQQQQKCmApUGkoVgcAdJR0naOf+au5RV225xznmSpt0qiECypu1O4ggggAACCCCAQNUClQaShVXbxXMi3ZxJFyS6wHKqUUl3z0H5Ut/GiGTV7UcCCCCAAAIIIIBA3QQqDSQnrtouVGC6EUn3KvwESedIOk3S84FkIpHoN8a4f9/kWrJkSd1gyBgBBBBAAAEEEEBgZoGFCxea4rs2+Y9pHnejktflt/1xt7nV29ONRrqfXVuU3r2Suqda5c2r7ZkbjjsQQAABBBBAAIF6ClQ6Illtmd0rcF5tV6vI8wgggAACCCCAQB0Fyg0kJ55o4zYhL75mGpUs3EsgWcdGJ2sEEEAAAQQQQCAIgXoFkjOWnVfbMxJxAwIIIIAAAgggUFeBcgPJQmGnWrV9DEck1rU9yRwBBBBAAAEEEAhNIOhAcqbtf0quGCOSJVNxIwIIIIAAAgggUBeBcgPJqbb9KRS+1DmSM1aWQHJGIm5AAAEEEEAAAQTqKlBuIOkK6zYVv2OKUh+d3xKo6koRSFZNSAIIIIAAAggggEBNBSoJJF2BJpsjGWhBCSQD5SQxBBBAAAEEEEAgcIFyA8mgtv+ZsSIEkjMScQMCCCCAAAIIIFBXAQLJuvKTOQIIIIAAAggg0LwC5QaShZoWjke8U9L5tag+I5K1UCVNBBBAAAEEEEAgOIFKA8nC6u0fBLW4ZmKVCCSDa2RSQgABBBBAAAEEaiFQaSBZGJGs9IjEGetCIDkjETcggAACCCCAAAJ1FSCQrCs/mSOAAAIIIIAAAs0rUGkgWfMaMyJZc2IyQAABBBBAAAEEqhKoNJB0RyH+vmh+pPtvdwW28IZAsqp25WEEEEAAAQQQQKDmApUEki5oPE/S2fnAsXi+JCfb1LzJyAABBBBAAAEEEGgMgXIDyam2/Sms4t5B0lGSnqy2eoxIVivI8wgggAACCCCAQG0FKg0k3Stst4dk8eXO4HajlQSStW0zUkcAAQQQQAABBBpCoNxAcqqRx8K/u0otlTRWbe0YkaxWkOcRQAABBBBAAIHaCpQbSLrSuJHHO6Yo1gGTjFRWVAMCyYrYeAgBBBBAAAEEEAhNoJJA0hVuJ0lDkvbIl/ReSd2SHgyq5ASSQUmSDgIIIIAAAgggUBuBSgPJ2pSmKFUCyZoTkwECCCCAAAIIIFCVQLmB5FRHIxYKcQuLbapqDx5GAAEEEEAAAQSaRoBAsmmaioIigAACCCCAAAKNJVBuIBla6Xm1HRo1GSGAAAIIIIAAAhUJlBtI8mq7ImYeQgABBBBAAAEEWk+AQLL12pQaIYAAAggggAACoQiUG0iGUiiXCa+2Q6MmIwQQQAABBBBAoCKBIANJdzTiMazarqgdeAgBBBBAAAEEEGg6gWoDSXe29nlFtWb7n6brAhQYAQQQQAABBBCoTKDcQLJwpvaJE7LjZJvK/HkKAQQQQAABBBBoWoFyA8nCqu2HJS2VNJY/LvHzkj45wxGJxUHojIEncySbtk9RcAQQQAABBBBoE4FyA0nHsr+kO/I+7lX2+ZLOLiGQdM/tIOm6fBoH5Z+dlJpAsk16INVEAAEEEEAAgaYVqCSQLFS2OKB0/3aApDtLlHDPEkiWiMVtCCCAAAIIIIBAIwpUE0gW6rOTpCFJe0iaabFN4fX2fpK6p3sVzohkI3YXyoQAAggggAACCLwgUGkg6eZKXiapvygYXCRppaT3S3p0BmQXUJ4m6XJJTyYSiX5jzDkTn1myZAlthQACCCCAAAIIINDAAgsXLjTFxdvkP6Yo92SBpHtd7bYDcvtJPjnJc+7f3eXmSLrnL5R05hT3siF5A3cYioYAAggggAACCDiBckckp9r+p6A53avtic9OO6eSV9t0UAQQQAABBBBAoLEFyg0kXW0mLrIpruHR+RHHqmtNIFk1IQkggAACCCCAAAI1FagkkHQFeqOk/5V0vaRP1aKEBJK1UCVNBBBAAAEEEEAgOIFKA8nCa+ofBDUCObFKBJLBNTIpIYAAAggggAACtRCoNJAsnHBzyIRCzbT9T8l1IJAsmYobEUAAAQQQQACBuggQSNaFnUwRQAABBBBAAIHmF6g0kKx5zRmRrDkxGSCAAAIIIIAAAlUJEEhWxcfDCCCAAAIIIIBA+woQSLZv21NzBBBAAAEEEECgKgECyar4eBgBBBBAAAEEEGhfAQLJ9m17ao4AAggggAACCFQlQCBZFR8PI4AAAggggAAC7StAINm+bU/NEUAAAQQQQACBqgQIJKvi42EEEEAAAQQQQKB9BQgk27ftqTkCCCCAAAIIIFCVAIFkVXw8jAACCCCAAAIItK8AgWT7tj01RwABBBBAAAEEqhIgkKyKj4cRQAABBBBAAIH2FSCQbN+2p+YIIIAAAggggEBVAgSSVfHxMAIIIIAAAggg0L4CBJLt2/bUHAEEEEAAAQQQqEqAQLIqPh5GAAEEEEAAAQTaV4BAsn3bnpojgAACCCCAAAJVCRBIVsXHwwgggAACCCCAQPsKEEi2b9tTcwQQQAABBBBAoCoBAsmq+HgYAQQQQAABBBBoXwECyfZte2qOAAIIIIAAAghUJUAgWRUfDyOAAAIIIIAAAu0rQCDZvm1PzRFAAAEEEEAAgaoECCSr4uNhBBBAAAEEEECgfQUIJNu37ak5AggggAACCCBQlQCBZFV8PIwAAggggAACCLSvQJiB5HxJl0g6Mc99gKQ7p6JPJpM2Ho+b9m0aao4AAggggAACCDS2QJiB5FF5iuskbSXpQklnSnpyMiICycbuOJQOAQQQQAABBBAIM5As1najk6dJupxAkk6IAAIIIIAAAgg0p0A9AsnCK+5rCq+2E4lEvzHmnImES5YsaU5VSo0AAggggAACCLSJwMKFCzeZiljLeYnulfZlkvolPTidL6+226T3UU0EEEAAAQQQaFqBMEckd8oHkCdN9Tq7WJFAsmn7FAVHAAEEEEAAgTYRCDOQPEvSeUWut0hyC3BYbNMmnY1qIoAAAggggEBrCYQZSJYlx4hkWVzcjAACCCCAAAIIhC5AIBk6ORkigAACCCCAAAKtIUAg2RrtSC0QQAABBBBAAIHQBQgkQycnQwQQQAABBBBAoDUECCRbox2pBQIIIIAAAgggELoAgWTo5GSIAAIIIIAAAgi0hgCBZGu0I7VAAAEEEEAAAQRCFyCQDJ2cDBFAAAEEEEAAgdYQIJBsjXakFggggAACCCCAQOgCBJKhk5MhAggggAACCCDQGgIEkq3RjtQCAQQQQAABBBAIXYBAMnRyMkQAAQQQQAABBFpDgECyNdqRWiCAAAIIIIAAAqELEEiGTk6GCCCAAAIIIIBAawgQSLZGO1ILKHBgWAAADd1JREFUBBBAAAEEEEAgdAECydDJyRABBBBAAAEEEGgNAQLJ1mhHaoEAAggggAACCIQuQCAZOjkZIoAAAggggAACrSFAINka7UgtEEAAAQQQQACB0AUIJEMnJ0MEEEAAAQQQQKA1BAgkW6MdqQUCCCCAAAIIIBC6AIFk6ORkiAACCCCAAAIItIYAgWRrtCO1QAABBBBAAAEEQhcgkAydnAwRQAABBBBAAIHWECCQbI12pBYIIIAAAggggEDoAgSSoZOTIQIIIIAAAggg0BoCBJKt0Y7UAgEEEEAAAQQQCF2AQDJ0cjJEAAEEEEAAAQRaQ4BAsjXakVoggAACCCCAAAKhCxBIhk5OhggggAACCCCAQGsI1COQ3EnSCZLOkTQ2FWMymbTxeNy0BjO1QAABBBBAAAEEWk8g7EByf0l3SLpC0lICydbrUNQIAQQQQAABBNpHIMxAcr6k90t6gBHJ9ulg1BQBBBBAAAEEWlcgzECyoMir7dbtT9QMAQQQQAABBNpIoCECyUQi0W+McXMmN7mWLFnSRk1BVRFAAAEEEEAAgeYTWLhw4SZrWmq9wIURyebrI5QYAQQQQAABBBB4kUBDjEhO1i6s2qa3IoAAAggggAACjS1Qj0CyJBECyZKYuAkBBBBAAAEEEKibAIFk3ejJGAEEEEAAAQQQaG4BAsnmbj9KjwACCCCAAAII1E2AQLJu9GSMAAIIIIAAAgg0twCBZHO3H6VHAAEEEEAAAQTqJkAgWTd6MkYAAQQQQAABBJpbgECyuduP0iOAAAIIIIAAAnUTIJCsGz0ZI4AAAggggAACzS1AINnc7UfpEUAAAQQQQACBugkQSNaNnowRQAABBBBAAIHmFiCQbO72o/QIIIAAAggggEDdBAgk60ZPxggggAACCCCAQHMLEEg2d/tRegQQQAABBBBAoG4CBJJ1oydjBBBAAAEEEECguQUIJJu7/Sg9AggggAACCCBQNwECybrRkzECCCCAAAIIINDcAgSSzd1+lB4BBBBAAAEEEKibAIFk3ejJGAEEEEAAAQQQaG4BAsnmbj9KjwACCCCAAAII1E2AQLJu9GSMAAIIIIAAAgg0twCBZHO3H6VHAAEEEEAAAQTqJkAgWTd6MkYAAQQQQAABBJpbgECyuduP0iOAAAIIIIAAAnUTIJCsGz0ZI4AAAggggAACzS1AINnc7UfpEUAAAQQQQACBugkQSNaNnowRQAABBBBAAIHmFiCQbO72o/QIIIAAAggggEDdBAgk60ZPxggggAACCCCAQHMLEEg2d/tRegQQQAABBBBAoG4CBJJ1oydjBBBAAAEEEECguQUIJJu7/Sg9AggggAACCCBQN4GwA8mzJJ0n6V5J3ZIenKrmyWTSxuNxUzcZMkYAAQQQQAABBBCYViDMQHJ/SQdJOl/STpJOkHSOpLHJSkggSc9FAAEEEEAAAQQaWyDMQPIoSQ9LulPSfEmnSbpc0pMEko3dSSgdAggggAACCCAwmUA9A8lzJX3Fvd5OJBL9xhg3Ovn8tWDBAj377LO0GgIIIIAAAggggECDCrz5zW9WNBrdZCpireYlljUiWapX0K/ASa9U+cnvww+/cgToL+Vovfhe/PArR4D+Uo4Wn7dq+kutAsmy5kiW2tzVVHSyPEivVHkCSSdAf6G/lCNAfylHiy9y+gv9pRyBRuovtQoknUfJq7ZLxWskOAJTAqtS++1U99GfqxPED79yBOgv5WgR2NNfSu8vtQwkSy9FiXfSsCVCTXEbfviVI0B/KUeLL176C/2lHAH6Szlajf37pakCSbdQp6+vr786/heeJr3qJPHDrxwB+ks5Wi++Fz/8yhGgv5Sjxeetmv7SVIFkdd2CpxFAAAEEEEAAAQSCFCCQDFKzOdJyc1dvy+/x2RwlppQIhCfA5yM8a3JqPgE+H83XZjUvcTMEkltJuk7SIUUat0hyWwxNusF5zdU2zcCtUL8j/08HlLoJ+zRlLKR3haSnJJ1eyjGTU6Q3mV3h1koMXXofl3SRpM2K2qWStArlcPU9RtKZki6UdGKV9b1Mkpv+MOWRnGX2j0J7nC3p95KuraJ8LuvJ2sS19dKpTn6aobx8Pko4hpXPR1bA9RU+H1I1v6/K/PUx4+18f1TXHnx/SHX//mj0QNKdinOJpGsmjKAVOk+5X75BB1aufIXN1h8pKuvPZjrNZ4pfL8WnAH1A0jvzAcZrZzpmcppfVy7gfn3+uEp3WzV/URYHku60IhdYuSC/0vYo9ntLUTlnPFZzmsCgV9L2kn5VVOcZf5tP0x6F9nXlq7Y9iuvrAl3Xf9dI2rroSNFyysrnI2fI56O0XuM+v3w+Kv99xfcH3x+lfdJyd038fmvZ749GDySLA5fic7pnPHZxmtauNEiZLMmJ5XP/7UbVLpB0/HTHQk4TCBVG/PaWtEM+UKumvi6r4n09gwok/ysfBLmAqNLyFfsdUc6xmiX6uZFiN5Loznyv5CouXxDtMbG/uHZxbXxDhX948PnI/SFTaf8rHhU/KN9P+HyU/knh81G6Fd8fuRHxwvcb3x/THBtdwvebi4ca5vuj0QPJoEdcCu1TfPJONb8KJo4wubRcoOpGSdxr6YEyX79Pll4hzRMkuaMliwPqcspeGDV05bqpwjmShb/I3RnqbjSycJ56NcG5++J2ad0taVF+VLfS9CYLrAqvjip5nVWLvyiLR9gLdf920S/YctqXz0fuE1Bpfyn+/PD5KH+6EJ+Pcn4Dv/hevj8k911SzeeX7w+p7t8fjR5Iuo9eo88Bcx8CNyfvpKKgcbJ/K/VXzsRng5zX5NIekvSJCgPJ4hGcwmjf5VXOuyoEQ25uZOGqJOgr9JXCX7zlBGTTtU3QcyQLbbCHcnNbCnNDJ07fKLW/8PkIbt4fn49Se90L9/H5KN+s+Am+P6r7/PL9kXsLWtfvj2YIJKv7mPI0AggggAACCCCAQE0EmiGQDHJVlkMkvcpXueJX3aryoP2CHK0ujOgGuaqX8lX3axu/6vwKn7fC25Mgdl0IegSW9Kr/PqJ9pe4KdyoJZBeRRg8kg17VS3q5hSeVzknBr7H8gl6FS3rVBS74NZZfLeZw1moXh6B3hSC98tcUtHN/qWoXkUYPJGu5qjfoVcKkV90qNPyq83OryoNepU565QVGE1cx49dYftXuglHLVepB7wpBetX/Pm2n/lLVKvBGDyTdr6EgV2WRXm5fzkpHJPFrLL+gV6mTXm7qiwsAK1nwhV9j+bXzCBMjkoxIzvRn3MRdPyreRaQZAskgV2U5WNKr7Euy0Cnxaxy/qfaRnOkXyFQ/J71K5XLP4ddYfsyRrP4kLuZwtvYczkB2EWmGQDKQyaBFv99IL/gjlYI+oon0Sv9Cpj/Tn0vvLeEc0cnnt/QW4fPL57f03tKgn99GDyRrcaRcYbJ0VZNL8y1P+ao/4o/2qO6IRPzwK/WLiN9X/L4qta8U3t7x+4XfLzP2mUYPJGt9pFzQRwyRnvTkjL3uhRto32CPSKT/0f+m+/jxeePzxu/nqT8hfD4q/Hw0eiAZ2GTQohHEWh5RV/FkVcqXPSoLv/KOwOTzkTteM6gjwuh/9L/pAnE+b3zeyjkxrW36S6MHku5DHchk0KLfDqRX3ZFK+OFXxqAzn1/RX+gvUwvw+5TPR9N/PpohkCwHmXsRQAABBBBAAAEEQhIgkAwJmmwQQAABBBBAAIFWE2j0QHKyrREKbVDphsHXSTpkkoYkvZl7N+3xghH9hf4yUYDPB5+Pchez8H2U6zP8Pm3i36eNHkg62mpOYZmsaUhv5g473R344VeOAP2lHK0X34sffuUI0F/K0eLzFkh/aYZA0jX1UZIelrIre4O4SK86RfzwK0eA/lKO1ovvxQ+/cgToL+Vo8Xmrur80SyBZXbfgaQQQQAABBBBAAIHABQgkAyclQQQQQAABBBBAoD0ECCTbo52pJQIIIIAAAgggELgAgWTgpCSIAAIIIIAAAgi0hwCBZHu0M7VEAAEEEEAAAQQCFyCQDJyUBBFAAAEEEEAAgfYQIJBsj3amlggggAACCCCAQOACBJKBk5IgAggggAACCCDQHgIEku3RztQSAQSCEXCb954uqVvSg/nDEo7J//+tJQ1J2mPCkW/u9IjCv7tSHCDpZ5IukfQ6SdtKukvSUkljwRSTVBBAAIFwBAgkw3EmFwQQaA2Bwnna10i6IR8MPirpcknu3OTz8ydwnSVpO0lnSFou6Qf5n0/89x3yQWg5ZzS3hiS1QACBlhAgkGyJZqQSCCAQooALBt01nB9p/ET+v++YUIZbioJEN5J5bf7nVxQFmO6fGIkMsfHICgEEghUgkAzWk9QQQKD1BfaX5IJJFygekg8Wd5bkAkn32vrOIoLCCObD+YDxtAkjlQSSrd9fqCECLS1AINnSzUvlEECgBgKF4NAFkWfnX2cX/s0FkRcVvfIujFquLHoV7opUeOVNIFmDBiJJBBAIT4BAMjxrckIAgdYRcCOS500YgXQjlYXX28WvtQv3utq7RTcvlXRCflSTQLJ1+gQ1QaAtBQgk27LZqTQCCFQpUFg0w/zGKiF5HAEEmluAQLK524/SI4BAuALFW/lMnA8ZbknIDQEEEGgAAQLJBmgEioAAAggggAACCDSjAIFkM7YaZUYAAQQQQAABBBpAgECyARqBIiCAAAIIIIAAAs0oQCDZjK1GmRFAAAEEEEAAgQYQIJBsgEagCAgggAACCCCAQDMK/H9teQyjhc1ldAAAAABJRU5ErkJggg=="
     },
     "metadata": {
      "jupyter-vega": "#c9e8c472-9bb2-4ba2-a787-7813d1b9a70e"
     },
=======
      "image/png": "iVBORw0KGgoAAAANSUhEUgAAAXcAAAD8CAYAAACMwORRAAAABHNCSVQICAgIfAhkiAAAAAlwSFlz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\n",
      "text/plain": [
       "<matplotlib.figure.Figure at 0x25a2ecdb3c8>"
      ]
     },
     "metadata": {},
>>>>>>> ba49972fc49071598b6ffdaded6d44197380c711
     "output_type": "display_data"
    }
   ],
   "source": [
    "#### interactive one: draw the trendline of the median rating given a time interval \n",
    "\n",
    "def draw_trend_line_median_year(sub_movies):\n",
    "    \n",
    "    print('Please input two critics that you are interested in: ')\n",
    "    \n",
    "\n",
    "    start_year = int(input())\n",
    "    end_year = int(input())\n",
    "    \n",
    "\n",
    "    \n",
    "    year_median = sub_movies.groupby('year')['rtAllCriticsRating'].median().reset_index()\n",
    "    year_show = year_median[year_median['year'] >= start_year]\n",
    "    year_show = year_show[year_median['year'] <= end_year]\n",
    "    \n",
    "    \n",
    "    selection = alt.selection_interval(bind='scales')\n",
    "\n",
    "    chart = alt.Chart(year_show).mark_line().encode(\n",
    "    x='year:N',\n",
    "    y='rtAllCriticsRating:Q',\n",
    "    tooltip='year:N').add_selection(selection)\n",
    "   \n",
    "    return chart\n",
    "    \n",
    "\n",
    "    \n",
    "draw_trend_line_median_year(sub_movies)"
   ]
  },
  {
   "cell_type": "code",
   "execution_count": 13,
   "metadata": {},
   "outputs": [],
   "source": [
    "def top5_critic_per_year(reviews,year):\n",
    "    \n",
    "    reviews['review_date'] = pd.to_datetime(reviews['review_date'])\n",
    "    reviews['year'] = reviews['review_date'].dt.year\n",
    "    Group_Aggregation = reviews[['critic', 'publication', \n",
    "                       'year', 'quote']].groupby(['critic','year']).agg({ \n",
    "                         'quote': ['count']}).reset_index()\n",
    "    Group_Aggregation = Group_Aggregation[(Group_Aggregation['year'] == year)]\n",
    "    Top_five = Group_Aggregation.sort_values(by=[('quote','count')], ascending = False)[:5].reset_index(drop =True)\n",
    "#     print(Top_five.columns)\n",
    "#     Out = Top_five []\n",
    "    \n",
    "    return Top_five"
   ]
  },
  {
   "cell_type": "code",
   "execution_count": 14,
   "metadata": {},
   "outputs": [
    {
     "data": {
      "text/html": [
       "<div>\n",
       "<style scoped>\n",
       "    .dataframe tbody tr th:only-of-type {\n",
       "        vertical-align: middle;\n",
       "    }\n",
       "\n",
       "    .dataframe tbody tr th {\n",
       "        vertical-align: top;\n",
       "    }\n",
       "\n",
       "    .dataframe thead tr th {\n",
       "        text-align: left;\n",
       "    }\n",
       "</style>\n",
       "<table border=\"1\" class=\"dataframe\">\n",
       "  <thead>\n",
       "    <tr>\n",
       "      <th></th>\n",
       "      <th>critic</th>\n",
       "      <th>year</th>\n",
       "      <th>quote</th>\n",
       "    </tr>\n",
       "    <tr>\n",
       "      <th></th>\n",
       "      <th></th>\n",
       "      <th></th>\n",
       "      <th>count</th>\n",
       "    </tr>\n",
       "  </thead>\n",
       "  <tbody>\n",
       "    <tr>\n",
       "      <th>0</th>\n",
       "      <td>Variety Staff</td>\n",
       "      <td>2008</td>\n",
       "      <td>203</td>\n",
       "    </tr>\n",
       "    <tr>\n",
       "      <th>1</th>\n",
       "      <td>Jonathan Rosenbaum</td>\n",
       "      <td>2008</td>\n",
       "      <td>112</td>\n",
       "    </tr>\n",
       "    <tr>\n",
       "      <th>2</th>\n",
       "      <td>Todd McCarthy</td>\n",
       "      <td>2008</td>\n",
       "      <td>100</td>\n",
       "    </tr>\n",
       "    <tr>\n",
       "      <th>3</th>\n",
       "      <td>Dave Kehr</td>\n",
       "      <td>2008</td>\n",
       "      <td>55</td>\n",
       "    </tr>\n",
       "    <tr>\n",
       "      <th>4</th>\n",
       "      <td>Richard Corliss</td>\n",
       "      <td>2008</td>\n",
       "      <td>53</td>\n",
       "    </tr>\n",
       "  </tbody>\n",
       "</table>\n",
       "</div>"
      ],
      "text/plain": [
       "               critic  year quote\n",
       "                            count\n",
       "0       Variety Staff  2008   203\n",
       "1  Jonathan Rosenbaum  2008   112\n",
       "2       Todd McCarthy  2008   100\n",
       "3           Dave Kehr  2008    55\n",
       "4     Richard Corliss  2008    53"
      ]
     },
     "execution_count": 14,
     "metadata": {},
     "output_type": "execute_result"
    }
   ],
   "source": [
    "top_critics = top5_critic_per_year(reviews,2008)\n",
    "# top_critics['critic']\n",
    "top_critics "
   ]
  },
  {
   "cell_type": "markdown",
   "metadata": {},
   "source": [
    "#### Visualization Manager II"
   ]
  },
  {
   "cell_type": "code",
   "execution_count": 17,
   "metadata": {
    "collapsed": true
   },
   "outputs": [],
   "source": [
    "#### interactive 2: sentiment analysis  for reviews of per critic \n",
    "\n",
    "### global variables \n",
    "movies_sub=movies[['title','imdbID']]\n",
    "movie_review=reviews.merge(movies_sub, left_on='imdb', right_on='imdbID', how='inner')\n",
    "movie_review=movie_review[['critic','publication','quote','review_date','title_x','imdb']]\n",
    "EMOTIONS = ['positive', 'negative', 'anger', \n",
    "            'anticipation', 'disgust', 'fear', \n",
    "            'joy', 'sadness', 'surprise', 'trust']\n",
    "\n",
    "# support function 1\n",
    "def words_with_specific_emotion(list_of_split_words,emotion):\n",
    "    '''Produce a list that include the words that contain a specific emotion\n",
    "       Parameters: list_of_split_words (String): A list with split words \n",
    "                   emotion(string): the emotion words in EMOTIONS list\n",
    "       Returns: list: the words in the string with one certain kind of emotion'''\n",
    "    Look_Up=[SENTIMENTS.get(word) for word in list_of_split_words] #get the emotion list of every word in the list \n",
    "    Combine=list(zip(list_of_split_words,Look_Up)) # zip the emotion list with word in one list \n",
    "    Words_With_Specific_Emotion=[line[0] for line in Combine if line[1] is not None and line[1].get(emotion)==1 ]\n",
    "    return Words_With_Specific_Emotion #find the words in a specific emotion\n",
    "\n",
    "# support function 2\n",
    "def words_list_for_each_emotion(Split_Test_String):\n",
    "    '''Produce a disctionary with emotion words as keys and words list having that emotion as values\n",
    "       Parameters: Split_Test_String (String): A list with split words\n",
    "       Returns: list-the  most common words in the input list'''\n",
    "    matching_words=[words_with_specific_emotion(Split_Test_String,emotion) for emotion in EMOTIONS]\n",
    "    distinct_matching=[i for i in matching_words]\n",
    "    return {emotion:matching_word for (emotion,matching_word) in zip(EMOTIONS,distinct_matching)}\n",
    "\n",
    "# support function 3 \n",
    "def get_common_words_list(wordlist):\n",
    "    '''Produce a list with the most common words of the input list\n",
    "       Parameters: wordlist (string): \n",
    "       Returns: dict: the key-values pairs of emotions word and its corresponding words in the string'''\n",
    "    wordfreq=list(zip(wordlist,[wordlist.count(w) for w in wordlist]))\n",
    "    wordfreq_sort=list(set(sorted(wordfreq,key=lambda freq: freq[1], reverse=True)))\n",
    "    new_word_freq_sort=sorted(wordfreq_sort,key=lambda freq: freq[1], reverse=True)\n",
    "    return [i[0] for i in new_word_freq_sort]\n",
    "\n",
    "## main analysis function \n",
    "def analyze_quote(movie_review,criticname):\n",
    "    \n",
    "#     criticname = input(\"Please enter the Critic that you are interested: \")\n",
    "    critic_quote=movie_review[['critic','quote']]\n",
    "    quote = critic_quote[critic_quote['critic'] == criticname]\n",
    "#     quote = []\n",
    "#     for name in criticname:\n",
    "#         sub_quote = critic_quote[critic_quote['critic'] == name]\n",
    "#         quote.append(sub_quote)\n",
    "#     quote = pd.DataFrame(quote) \n",
    "    \n",
    "#     print\n",
    "    #### cominbine quotes into one row \n",
    "    content=quote.groupby('critic')['quote'].apply(' '.join).reset_index()['quote']\n",
    "    Split_String=re.split(r'\\W+',content[0]) \n",
    "    lower_words=[word.lower() for word in Split_String] \n",
    "    length_filtered=[word for word in lower_words if len(word)>1]\n",
    "    \n",
    "    ### calculate total number or words\n",
    "    Total_Words=len(length_filtered)\n",
    "    Words_List_for_Each_Emotion=words_list_for_each_emotion(length_filtered)\n",
    "    \n",
    "    result_list=[]\n",
    "    for i in EMOTIONS:\n",
    "        result={}\n",
    "        example_words=[get_common_words_list(value)[:3] for key,value in Words_List_for_Each_Emotion.items() if key==i]\n",
    "        result['EMOTION']=i\n",
    "        result['PERCENT']= len(Words_List_for_Each_Emotion[i])/Total_Words\n",
    "        result['EXAMPLE WORDS']=example_words[0]\n",
    "        result_list.append(result)\n",
    "    result=sorted(result_list,key=lambda k:k['PERCENT'],reverse=True)\n",
    "    \n",
    "    return pd.DataFrame(result)\n",
    "#     ### show the result in a table \n",
    "#     print(\"{0:<14} {1:<11} {2:35}\".format('EMOTION','%WORDS','EXAMPLE WORDS'))\n",
    "#     for line in result:\n",
    "#         emotion=line['EMOTION']\n",
    "#         words_percent=line['% WORDS']\n",
    "#         format_words_percent='{:.2%}'.format(words_percent)\n",
    "#         example_words=line['EXAMPLE WORDS']\n",
    "#         top_example_words=','.join(example_words)\n",
    "#         print(\"{0:<14} {1:<11} {2:35} \".format(emotion,format_words_percent,top_example_words))\n",
    "\n"
   ]
  },
  {
   "cell_type": "code",
<<<<<<< HEAD
   "execution_count": null,
   "metadata": {},
   "outputs": [],
   "source": [
    "### just for one year "
=======
   "execution_count": 18,
   "metadata": {},
   "outputs": [
    {
     "name": "stdout",
     "output_type": "stream",
     "text": [
      "EMOTION        %WORDS      EXAMPLE WORDS                      \n",
      "positive       9.38%       outstanding,excellent,achievement   \n",
      "joy            4.69%       outstanding,excellent,powerful      \n",
      "trust          4.69%       excellent,powerful,delightful       \n",
      "anticipation   4.30%       suspense,powerful,star              \n",
      "negative       3.12%       outstanding,shark,patronizing       \n",
      "fear           2.34%       suspense,powerful,murder            \n",
      "surprise       2.34%       suspense,occasional,hero            \n",
      "sadness        1.95%       blue,terrific,lower                 \n",
      "anger          0.78%       powerful,murder                     \n",
      "disgust        0.78%       powerful,murder                     \n"
     ]
    }
   ],
   "source": [
    "analyze_quote(movie_review,'A.D. Murphy')"
   ]
  },
  {
   "cell_type": "code",
   "execution_count": null,
   "metadata": {
    "collapsed": true
   },
   "outputs": [],
   "source": [
    "## There are some problem about interactive issues, need to fix latter \n",
    "# print('Pleas eneterthe Critic name that you are interested in: ')\n",
    "# criticname=str(input())\n",
    "# analyze_quote(movie_review,criticname)"
   ]
  },
  {
   "cell_type": "markdown",
   "metadata": {},
   "source": [
    "#### Visualization manager Ⅲ"
>>>>>>> ba49972fc49071598b6ffdaded6d44197380c711
   ]
  },
  {
   "cell_type": "code",
<<<<<<< HEAD
   "execution_count": 16,
   "metadata": {
    "scrolled": true
   },
   "outputs": [],
   "source": [
    "result = analyze_quote(movie_review,'Jonathan Rosenbaum')"
=======
   "execution_count": 19,
   "metadata": {},
   "outputs": [],
   "source": [
    "#give several critic names, plot their number of reviews and rating over time\n",
    "subr=reviews[['critic','imdb']]\n",
    "subm=movies[['title','imdbID','year','rtAllCriticsRating']]\n",
    "mr=pd.merge(subr,subm,left_on='imdb',right_on='imdbID')\n",
    "RateAndCount=mr.groupby(['critic','year'],as_index=False).aggregate({'title': 'count'})\n",
    "RateAndCount.rename(columns={'title':'count'}, inplace=True)"
   ]
  },
  {
   "cell_type": "code",
   "execution_count": 48,
   "metadata": {},
   "outputs": [],
   "source": [
    "def draw_comparison(RateAndCount):\n",
    "    \n",
    "    print('This is a section for compare two critics you are interested in! /nPlease input two critics that you are interested in: ')\n",
    "    \n",
    "    print('The first one: ')\n",
    "    first= input()\n",
    "    \n",
    "    print('The second one: ')\n",
    "    second = input()\n",
    "    \n",
    "    if not(first in set(RateAndCount['critic']) and second in set(RateAndCount['critic'])):\n",
    "        print ('Correct your spelling')\n",
    "    else:\n",
    "        fig,ax=plt.subplots(nrows=1,ncols=1,figsize=(10,10))\n",
    "\n",
    "\n",
    "        ax.title.set_text('Number of reviews comparison')\n",
    "        ax=sns.regplot('year','count',RateAndCount[RateAndCount['critic']==first],fit_reg=False,marker=\"+\",label=first)\n",
    "        ax=sns.regplot('year','count',RateAndCount[RateAndCount['critic']==second],fit_reg=False, marker='o',label=second)\n",
    "        plt.legend()\n",
    "        \n",
    "        \n",
    "        print('\\nQuote of '+first+ 'is:\\n')\n",
    "        analyze_quote(movie_review,first)\n",
    "        \n",
    "        \n",
    "        print('\\nQuote of '+second+ 'is: \\n')\n",
    "        analyze_quote(movie_review,second)"
   ]
  },
  {
   "cell_type": "code",
   "execution_count": 49,
   "metadata": {},
   "outputs": [
    {
     "name": "stdout",
     "output_type": "stream",
     "text": [
      "Please input two critics that you are interested in: \n",
      "The first one: \n",
      "A.D. Murphy\n",
      "The second one: \n",
      "A.H. Weiler\n",
      "\n",
      "Quote of A.D. Murphyis:\n",
      "\n",
      "EMOTION        %WORDS      EXAMPLE WORDS                      \n",
      "positive       9.38%       outstanding,excellent,achievement   \n",
      "joy            4.69%       outstanding,excellent,powerful      \n",
      "trust          4.69%       excellent,powerful,delightful       \n",
      "anticipation   4.30%       suspense,powerful,star              \n",
      "negative       3.12%       outstanding,shark,patronizing       \n",
      "fear           2.34%       suspense,powerful,murder            \n",
      "surprise       2.34%       suspense,occasional,hero            \n",
      "sadness        1.95%       blue,terrific,lower                 \n",
      "anger          0.78%       powerful,murder                     \n",
      "disgust        0.78%       powerful,murder                     \n",
      "\n",
      "Quote of A.H. Weileris: \n",
      "\n",
      "EMOTION        %WORDS      EXAMPLE WORDS                      \n",
      "positive       10.16%      romance,exciting,powerful           \n",
      "anticipation   4.76%       time,powerful,exciting              \n",
      "joy            4.13%       powerful,exciting,romance           \n",
      "trust          4.13%       powerful,romance,authentic          \n",
      "negative       3.49%       death,anger,angry                   \n",
      "fear           3.17%       powerful,romance,death              \n",
      "anger          2.86%       powerful,death,anger                \n",
      "disgust        2.54%       powerful,death,angry                \n",
      "sadness        2.22%       romance,death,lonely                \n",
      "surprise       1.90%       exciting,romance,death              \n"
     ]
    },
    {
     "data": {
      "image/png": "iVBORw0KGgoAAAANSUhEUgAAAmsAAAJcCAYAAACmM+PxAAAABHNCSVQICAgIfAhkiAAAAAlwSFlz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\nFcywJkmSVDDDmiRJUsH+HwFJ1mJGeTjmAAAAAElFTkSuQmCC\n",
      "text/plain": [
       "<matplotlib.figure.Figure at 0x25a357a5ef0>"
      ]
     },
     "metadata": {},
     "output_type": "display_data"
    }
   ],
   "source": [
    "draw_comparison(RateAndCount)\n",
    "#A.D. Murphy\n",
    "#A.H. Weiler"
   ]
  },
  {
   "cell_type": "markdown",
   "metadata": {},
   "source": [
    "## Potential Analysis \n",
    "\n",
    "### Number of reviews per reviewer\n",
    "\n",
    "Using the `reviews` dataset, create a histogram showing the distribution of the number of reviews per reviewer.  Create the bin width (x-axis) to be 1 unit wide, and the range of the axis to be from 0 to 30.  Scale the y-axis to show the logarithm of (count of) the number of reviews.  Label your axes and make your histogram look professional."
   ]
  },
  {
   "cell_type": "code",
   "execution_count": 21,
   "metadata": {
    "collapsed": true
   },
   "outputs": [],
   "source": [
    "reviewer_reviews=pd.DataFrame(reviews.groupby(['critic']).count().reset_index().sort_values('fresh'))"
>>>>>>> ba49972fc49071598b6ffdaded6d44197380c711
   ]
  },
  {
   "cell_type": "code",
<<<<<<< HEAD
   "execution_count": 17,
=======
   "execution_count": 22,
>>>>>>> ba49972fc49071598b6ffdaded6d44197380c711
   "metadata": {},
   "outputs": [
    {
     "data": {
      "text/html": [
       "<div>\n",
       "<style>\n",
       "    .dataframe thead tr:only-child th {\n",
       "        text-align: right;\n",
       "    }\n",
       "\n",
       "    .dataframe thead th {\n",
       "        text-align: left;\n",
       "    }\n",
       "\n",
<<<<<<< HEAD
       "    .dataframe thead th {\n",
       "        text-align: right;\n",
=======
       "    .dataframe tbody tr th {\n",
       "        vertical-align: top;\n",
>>>>>>> ba49972fc49071598b6ffdaded6d44197380c711
       "    }\n",
       "</style>\n",
       "<table border=\"1\" class=\"dataframe\">\n",
       "  <thead>\n",
       "    <tr style=\"text-align: right;\">\n",
       "      <th></th>\n",
<<<<<<< HEAD
       "      <th>EMOTION</th>\n",
       "      <th>EXAMPLE WORDS</th>\n",
       "      <th>PERCENT</th>\n",
=======
       "      <th>critic</th>\n",
       "      <th>fresh</th>\n",
       "      <th>imdb</th>\n",
       "      <th>publication</th>\n",
       "      <th>quote</th>\n",
       "      <th>review_date</th>\n",
       "      <th>rtid</th>\n",
       "      <th>title</th>\n",
>>>>>>> ba49972fc49071598b6ffdaded6d44197380c711
       "    </tr>\n",
       "  </thead>\n",
       "  <tbody>\n",
       "    <tr>\n",
       "      <th>0</th>\n",
<<<<<<< HEAD
       "      <td>positive</td>\n",
       "      <td>[good, feature, pretty]</td>\n",
       "      <td>0.075493</td>\n",
       "    </tr>\n",
       "    <tr>\n",
       "      <th>1</th>\n",
       "      <td>trust</td>\n",
       "      <td>[good, pretty, director]</td>\n",
       "      <td>0.039973</td>\n",
       "    </tr>\n",
       "    <tr>\n",
       "      <th>2</th>\n",
       "      <td>negative</td>\n",
       "      <td>[black, war, remains]</td>\n",
       "      <td>0.034851</td>\n",
       "    </tr>\n",
       "    <tr>\n",
       "      <th>3</th>\n",
       "      <td>joy</td>\n",
       "      <td>[good, pretty, entertaining]</td>\n",
       "      <td>0.031956</td>\n",
       "    </tr>\n",
       "    <tr>\n",
       "      <th>4</th>\n",
       "      <td>anticipation</td>\n",
       "      <td>[good, pretty, time]</td>\n",
       "      <td>0.030286</td>\n",
       "    </tr>\n",
       "    <tr>\n",
       "      <th>5</th>\n",
       "      <td>fear</td>\n",
       "      <td>[war, remains, intelligence]</td>\n",
       "      <td>0.017593</td>\n",
       "    </tr>\n",
       "    <tr>\n",
       "      <th>6</th>\n",
       "      <td>surprise</td>\n",
       "      <td>[good, entertainment, hero]</td>\n",
       "      <td>0.015143</td>\n",
       "    </tr>\n",
       "    <tr>\n",
       "      <th>7</th>\n",
       "      <td>sadness</td>\n",
       "      <td>[black, music, horror]</td>\n",
       "      <td>0.014030</td>\n",
       "    </tr>\n",
       "    <tr>\n",
       "      <th>8</th>\n",
       "      <td>anger</td>\n",
       "      <td>[moral, horror, bad]</td>\n",
       "      <td>0.013362</td>\n",
       "    </tr>\n",
       "    <tr>\n",
       "      <th>9</th>\n",
       "      <td>disgust</td>\n",
       "      <td>[remains, john, horror]</td>\n",
       "      <td>0.011691</td>\n",
=======
       "      <td>A.D. Murphy</td>\n",
       "      <td>14</td>\n",
       "      <td>14</td>\n",
       "      <td>14</td>\n",
       "      <td>14</td>\n",
       "      <td>14</td>\n",
       "      <td>14</td>\n",
       "      <td>14</td>\n",
       "    </tr>\n",
       "    <tr>\n",
       "      <th>1</th>\n",
       "      <td>A.H. Weiler</td>\n",
       "      <td>17</td>\n",
       "      <td>17</td>\n",
       "      <td>17</td>\n",
       "      <td>17</td>\n",
       "      <td>17</td>\n",
       "      <td>17</td>\n",
       "      <td>17</td>\n",
       "    </tr>\n",
       "    <tr>\n",
       "      <th>2</th>\n",
       "      <td>A.O. Scott</td>\n",
       "      <td>10</td>\n",
       "      <td>10</td>\n",
       "      <td>10</td>\n",
       "      <td>10</td>\n",
       "      <td>10</td>\n",
       "      <td>10</td>\n",
       "      <td>10</td>\n",
       "    </tr>\n",
       "    <tr>\n",
       "      <th>3</th>\n",
       "      <td>Aaron Hillis</td>\n",
       "      <td>2</td>\n",
       "      <td>2</td>\n",
       "      <td>2</td>\n",
       "      <td>2</td>\n",
       "      <td>2</td>\n",
       "      <td>2</td>\n",
       "      <td>2</td>\n",
       "    </tr>\n",
       "    <tr>\n",
       "      <th>4</th>\n",
       "      <td>Abel Green</td>\n",
       "      <td>5</td>\n",
       "      <td>5</td>\n",
       "      <td>5</td>\n",
       "      <td>5</td>\n",
       "      <td>5</td>\n",
       "      <td>5</td>\n",
       "      <td>5</td>\n",
       "    </tr>\n",
       "    <tr>\n",
       "      <th>5</th>\n",
       "      <td>Achy Obejas</td>\n",
       "      <td>1</td>\n",
       "      <td>1</td>\n",
       "      <td>1</td>\n",
       "      <td>1</td>\n",
       "      <td>1</td>\n",
       "      <td>1</td>\n",
       "      <td>1</td>\n",
       "    </tr>\n",
       "    <tr>\n",
       "      <th>6</th>\n",
       "      <td>Adam Graham</td>\n",
       "      <td>7</td>\n",
       "      <td>7</td>\n",
       "      <td>7</td>\n",
       "      <td>7</td>\n",
       "      <td>7</td>\n",
       "      <td>7</td>\n",
       "      <td>7</td>\n",
       "    </tr>\n",
       "    <tr>\n",
       "      <th>7</th>\n",
       "      <td>Adam Markovitz</td>\n",
       "      <td>1</td>\n",
       "      <td>1</td>\n",
       "      <td>1</td>\n",
       "      <td>1</td>\n",
       "      <td>1</td>\n",
       "      <td>1</td>\n",
       "      <td>1</td>\n",
       "    </tr>\n",
       "    <tr>\n",
       "      <th>8</th>\n",
       "      <td>Akiva Gottlieb</td>\n",
       "      <td>2</td>\n",
       "      <td>2</td>\n",
       "      <td>2</td>\n",
       "      <td>2</td>\n",
       "      <td>2</td>\n",
       "      <td>2</td>\n",
       "      <td>2</td>\n",
       "    </tr>\n",
       "    <tr>\n",
       "      <th>9</th>\n",
       "      <td>Al Brumley</td>\n",
       "      <td>2</td>\n",
       "      <td>2</td>\n",
       "      <td>2</td>\n",
       "      <td>2</td>\n",
       "      <td>2</td>\n",
       "      <td>2</td>\n",
       "      <td>2</td>\n",
       "    </tr>\n",
       "    <tr>\n",
       "      <th>10</th>\n",
       "      <td>Alan Scherstuhl</td>\n",
       "      <td>2</td>\n",
       "      <td>2</td>\n",
       "      <td>2</td>\n",
       "      <td>2</td>\n",
       "      <td>2</td>\n",
       "      <td>2</td>\n",
       "      <td>2</td>\n",
       "    </tr>\n",
       "    <tr>\n",
       "      <th>11</th>\n",
       "      <td>Alfred Rushford Greason</td>\n",
       "      <td>3</td>\n",
       "      <td>3</td>\n",
       "      <td>3</td>\n",
       "      <td>3</td>\n",
       "      <td>3</td>\n",
       "      <td>3</td>\n",
       "      <td>3</td>\n",
       "    </tr>\n",
       "    <tr>\n",
       "      <th>12</th>\n",
       "      <td>Alissa Simon</td>\n",
       "      <td>1</td>\n",
       "      <td>1</td>\n",
       "      <td>1</td>\n",
       "      <td>1</td>\n",
       "      <td>1</td>\n",
       "      <td>1</td>\n",
       "      <td>1</td>\n",
       "    </tr>\n",
       "    <tr>\n",
       "      <th>13</th>\n",
       "      <td>Allen Barra</td>\n",
       "      <td>1</td>\n",
       "      <td>1</td>\n",
       "      <td>1</td>\n",
       "      <td>1</td>\n",
       "      <td>1</td>\n",
       "      <td>1</td>\n",
       "      <td>1</td>\n",
       "    </tr>\n",
       "    <tr>\n",
       "      <th>14</th>\n",
       "      <td>Allison Benedikt</td>\n",
       "      <td>1</td>\n",
       "      <td>1</td>\n",
       "      <td>1</td>\n",
       "      <td>1</td>\n",
       "      <td>1</td>\n",
       "      <td>1</td>\n",
       "      <td>1</td>\n",
       "    </tr>\n",
       "    <tr>\n",
       "      <th>15</th>\n",
       "      <td>Amos Barshad</td>\n",
       "      <td>1</td>\n",
       "      <td>1</td>\n",
       "      <td>1</td>\n",
       "      <td>1</td>\n",
       "      <td>1</td>\n",
       "      <td>1</td>\n",
       "      <td>1</td>\n",
       "    </tr>\n",
       "    <tr>\n",
       "      <th>16</th>\n",
       "      <td>Amy Biancolli</td>\n",
       "      <td>26</td>\n",
       "      <td>26</td>\n",
       "      <td>26</td>\n",
       "      <td>26</td>\n",
       "      <td>26</td>\n",
       "      <td>26</td>\n",
       "      <td>26</td>\n",
       "    </tr>\n",
       "    <tr>\n",
       "      <th>17</th>\n",
       "      <td>Amy Dawes</td>\n",
       "      <td>2</td>\n",
       "      <td>2</td>\n",
       "      <td>2</td>\n",
       "      <td>2</td>\n",
       "      <td>2</td>\n",
       "      <td>2</td>\n",
       "      <td>2</td>\n",
       "    </tr>\n",
       "    <tr>\n",
       "      <th>18</th>\n",
       "      <td>Amy E. Schwartz</td>\n",
       "      <td>1</td>\n",
       "      <td>1</td>\n",
       "      <td>1</td>\n",
       "      <td>1</td>\n",
       "      <td>1</td>\n",
       "      <td>1</td>\n",
       "      <td>1</td>\n",
       "    </tr>\n",
       "    <tr>\n",
       "      <th>19</th>\n",
       "      <td>Amy Simmons</td>\n",
       "      <td>2</td>\n",
       "      <td>2</td>\n",
       "      <td>2</td>\n",
       "      <td>2</td>\n",
       "      <td>2</td>\n",
       "      <td>2</td>\n",
       "      <td>2</td>\n",
       "    </tr>\n",
       "    <tr>\n",
       "      <th>20</th>\n",
       "      <td>Amy Taubin</td>\n",
       "      <td>11</td>\n",
       "      <td>11</td>\n",
       "      <td>11</td>\n",
       "      <td>11</td>\n",
       "      <td>11</td>\n",
       "      <td>11</td>\n",
       "      <td>11</td>\n",
       "    </tr>\n",
       "    <tr>\n",
       "      <th>21</th>\n",
       "      <td>Ana Marie Cox</td>\n",
       "      <td>1</td>\n",
       "      <td>1</td>\n",
       "      <td>1</td>\n",
       "      <td>1</td>\n",
       "      <td>1</td>\n",
       "      <td>1</td>\n",
       "      <td>1</td>\n",
       "    </tr>\n",
       "    <tr>\n",
       "      <th>22</th>\n",
       "      <td>Andre Sennwald</td>\n",
       "      <td>5</td>\n",
       "      <td>5</td>\n",
       "      <td>5</td>\n",
       "      <td>5</td>\n",
       "      <td>5</td>\n",
       "      <td>5</td>\n",
       "      <td>5</td>\n",
       "    </tr>\n",
       "    <tr>\n",
       "      <th>23</th>\n",
       "      <td>Andrea C. Basora</td>\n",
       "      <td>2</td>\n",
       "      <td>2</td>\n",
       "      <td>2</td>\n",
       "      <td>2</td>\n",
       "      <td>2</td>\n",
       "      <td>2</td>\n",
       "      <td>2</td>\n",
       "    </tr>\n",
       "    <tr>\n",
       "      <th>24</th>\n",
       "      <td>Andrea Gronvall</td>\n",
       "      <td>9</td>\n",
       "      <td>9</td>\n",
       "      <td>9</td>\n",
       "      <td>9</td>\n",
       "      <td>9</td>\n",
       "      <td>9</td>\n",
       "      <td>9</td>\n",
       "    </tr>\n",
       "    <tr>\n",
       "      <th>25</th>\n",
       "      <td>Andrew Geller</td>\n",
       "      <td>1</td>\n",
       "      <td>1</td>\n",
       "      <td>1</td>\n",
       "      <td>1</td>\n",
       "      <td>1</td>\n",
       "      <td>1</td>\n",
       "      <td>1</td>\n",
       "    </tr>\n",
       "    <tr>\n",
       "      <th>26</th>\n",
       "      <td>Andrew O'Hehir</td>\n",
       "      <td>31</td>\n",
       "      <td>31</td>\n",
       "      <td>31</td>\n",
       "      <td>31</td>\n",
       "      <td>31</td>\n",
       "      <td>31</td>\n",
       "      <td>31</td>\n",
       "    </tr>\n",
       "    <tr>\n",
       "      <th>27</th>\n",
       "      <td>Andrew Ross</td>\n",
       "      <td>3</td>\n",
       "      <td>3</td>\n",
       "      <td>3</td>\n",
       "      <td>3</td>\n",
       "      <td>3</td>\n",
       "      <td>3</td>\n",
       "      <td>3</td>\n",
       "    </tr>\n",
       "    <tr>\n",
       "      <th>28</th>\n",
       "      <td>Andrew Sarris</td>\n",
       "      <td>66</td>\n",
       "      <td>66</td>\n",
       "      <td>66</td>\n",
       "      <td>66</td>\n",
       "      <td>66</td>\n",
       "      <td>66</td>\n",
       "      <td>66</td>\n",
       "    </tr>\n",
       "    <tr>\n",
       "      <th>29</th>\n",
       "      <td>Anita Gates</td>\n",
       "      <td>14</td>\n",
       "      <td>14</td>\n",
       "      <td>14</td>\n",
       "      <td>14</td>\n",
       "      <td>14</td>\n",
       "      <td>14</td>\n",
       "      <td>14</td>\n",
       "    </tr>\n",
       "    <tr>\n",
       "      <th>...</th>\n",
       "      <td>...</td>\n",
       "      <td>...</td>\n",
       "      <td>...</td>\n",
       "      <td>...</td>\n",
       "      <td>...</td>\n",
       "      <td>...</td>\n",
       "      <td>...</td>\n",
       "      <td>...</td>\n",
       "    </tr>\n",
       "    <tr>\n",
       "      <th>510</th>\n",
       "      <td>Thomas O'Connor</td>\n",
       "      <td>1</td>\n",
       "      <td>1</td>\n",
       "      <td>1</td>\n",
       "      <td>1</td>\n",
       "      <td>1</td>\n",
       "      <td>1</td>\n",
       "      <td>1</td>\n",
       "    </tr>\n",
       "    <tr>\n",
       "      <th>511</th>\n",
       "      <td>Tim Grierson</td>\n",
       "      <td>1</td>\n",
       "      <td>1</td>\n",
       "      <td>1</td>\n",
       "      <td>1</td>\n",
       "      <td>1</td>\n",
       "      <td>1</td>\n",
       "      <td>1</td>\n",
       "    </tr>\n",
       "    <tr>\n",
       "      <th>512</th>\n",
       "      <td>Tim Purtell</td>\n",
       "      <td>1</td>\n",
       "      <td>1</td>\n",
       "      <td>1</td>\n",
       "      <td>1</td>\n",
       "      <td>1</td>\n",
       "      <td>1</td>\n",
       "      <td>1</td>\n",
       "    </tr>\n",
       "    <tr>\n",
       "      <th>513</th>\n",
       "      <td>Todd Gilchrist</td>\n",
       "      <td>1</td>\n",
       "      <td>1</td>\n",
       "      <td>1</td>\n",
       "      <td>1</td>\n",
       "      <td>1</td>\n",
       "      <td>1</td>\n",
       "      <td>1</td>\n",
       "    </tr>\n",
       "    <tr>\n",
       "      <th>514</th>\n",
       "      <td>Todd McCarthy</td>\n",
       "      <td>223</td>\n",
       "      <td>223</td>\n",
       "      <td>223</td>\n",
       "      <td>223</td>\n",
       "      <td>223</td>\n",
       "      <td>223</td>\n",
       "      <td>223</td>\n",
       "    </tr>\n",
       "    <tr>\n",
       "      <th>515</th>\n",
       "      <td>Tom Charity</td>\n",
       "      <td>1</td>\n",
       "      <td>1</td>\n",
       "      <td>1</td>\n",
       "      <td>1</td>\n",
       "      <td>1</td>\n",
       "      <td>1</td>\n",
       "      <td>1</td>\n",
       "    </tr>\n",
       "    <tr>\n",
       "      <th>516</th>\n",
       "      <td>Tom Huddleston</td>\n",
       "      <td>5</td>\n",
       "      <td>5</td>\n",
       "      <td>5</td>\n",
       "      <td>5</td>\n",
       "      <td>5</td>\n",
       "      <td>5</td>\n",
       "      <td>5</td>\n",
       "    </tr>\n",
       "    <tr>\n",
       "      <th>517</th>\n",
       "      <td>Tom Huddlestone</td>\n",
       "      <td>7</td>\n",
       "      <td>7</td>\n",
       "      <td>7</td>\n",
       "      <td>7</td>\n",
       "      <td>7</td>\n",
       "      <td>7</td>\n",
       "      <td>7</td>\n",
       "    </tr>\n",
       "    <tr>\n",
       "      <th>518</th>\n",
       "      <td>Tom Keogh</td>\n",
       "      <td>9</td>\n",
       "      <td>9</td>\n",
       "      <td>9</td>\n",
       "      <td>9</td>\n",
       "      <td>9</td>\n",
       "      <td>9</td>\n",
       "      <td>9</td>\n",
       "    </tr>\n",
       "    <tr>\n",
       "      <th>519</th>\n",
       "      <td>Tom Long</td>\n",
       "      <td>45</td>\n",
       "      <td>45</td>\n",
       "      <td>45</td>\n",
       "      <td>45</td>\n",
       "      <td>45</td>\n",
       "      <td>45</td>\n",
       "      <td>45</td>\n",
       "    </tr>\n",
       "    <tr>\n",
       "      <th>520</th>\n",
       "      <td>Tom Maurstad</td>\n",
       "      <td>5</td>\n",
       "      <td>5</td>\n",
       "      <td>5</td>\n",
       "      <td>5</td>\n",
       "      <td>5</td>\n",
       "      <td>5</td>\n",
       "      <td>5</td>\n",
       "    </tr>\n",
       "    <tr>\n",
       "      <th>521</th>\n",
       "      <td>Tom Milne</td>\n",
       "      <td>20</td>\n",
       "      <td>20</td>\n",
       "      <td>20</td>\n",
       "      <td>20</td>\n",
       "      <td>20</td>\n",
       "      <td>20</td>\n",
       "      <td>20</td>\n",
       "    </tr>\n",
       "    <tr>\n",
       "      <th>522</th>\n",
       "      <td>Tom Russo</td>\n",
       "      <td>2</td>\n",
       "      <td>2</td>\n",
       "      <td>2</td>\n",
       "      <td>2</td>\n",
       "      <td>2</td>\n",
       "      <td>2</td>\n",
       "      <td>2</td>\n",
       "    </tr>\n",
       "    <tr>\n",
       "      <th>523</th>\n",
       "      <td>Tom Sime</td>\n",
       "      <td>2</td>\n",
       "      <td>2</td>\n",
       "      <td>2</td>\n",
       "      <td>2</td>\n",
       "      <td>2</td>\n",
       "      <td>2</td>\n",
       "      <td>2</td>\n",
       "    </tr>\n",
       "    <tr>\n",
       "      <th>524</th>\n",
       "      <td>Tony Wong</td>\n",
       "      <td>1</td>\n",
       "      <td>1</td>\n",
       "      <td>1</td>\n",
       "      <td>1</td>\n",
       "      <td>1</td>\n",
       "      <td>1</td>\n",
       "      <td>1</td>\n",
       "    </tr>\n",
       "    <tr>\n",
       "      <th>525</th>\n",
       "      <td>Trevor Johnston</td>\n",
       "      <td>38</td>\n",
       "      <td>38</td>\n",
       "      <td>38</td>\n",
       "      <td>38</td>\n",
       "      <td>38</td>\n",
       "      <td>38</td>\n",
       "      <td>38</td>\n",
       "    </tr>\n",
       "    <tr>\n",
       "      <th>526</th>\n",
       "      <td>Trevor Lewis</td>\n",
       "      <td>1</td>\n",
       "      <td>1</td>\n",
       "      <td>1</td>\n",
       "      <td>1</td>\n",
       "      <td>1</td>\n",
       "      <td>1</td>\n",
       "      <td>1</td>\n",
       "    </tr>\n",
       "    <tr>\n",
       "      <th>527</th>\n",
       "      <td>Ty Burr</td>\n",
       "      <td>50</td>\n",
       "      <td>50</td>\n",
       "      <td>50</td>\n",
       "      <td>50</td>\n",
       "      <td>50</td>\n",
       "      <td>50</td>\n",
       "      <td>50</td>\n",
       "    </tr>\n",
       "    <tr>\n",
       "      <th>528</th>\n",
       "      <td>V.A. Musetto</td>\n",
       "      <td>2</td>\n",
       "      <td>2</td>\n",
       "      <td>2</td>\n",
       "      <td>2</td>\n",
       "      <td>2</td>\n",
       "      <td>2</td>\n",
       "      <td>2</td>\n",
       "    </tr>\n",
       "    <tr>\n",
       "      <th>529</th>\n",
       "      <td>Variety Staff</td>\n",
       "      <td>449</td>\n",
       "      <td>449</td>\n",
       "      <td>449</td>\n",
       "      <td>449</td>\n",
       "      <td>449</td>\n",
       "      <td>449</td>\n",
       "      <td>449</td>\n",
       "    </tr>\n",
       "    <tr>\n",
       "      <th>530</th>\n",
       "      <td>Vic Vogler</td>\n",
       "      <td>1</td>\n",
       "      <td>1</td>\n",
       "      <td>1</td>\n",
       "      <td>1</td>\n",
       "      <td>1</td>\n",
       "      <td>1</td>\n",
       "      <td>1</td>\n",
       "    </tr>\n",
       "    <tr>\n",
       "      <th>531</th>\n",
       "      <td>Vincent Canby</td>\n",
       "      <td>207</td>\n",
       "      <td>207</td>\n",
       "      <td>207</td>\n",
       "      <td>207</td>\n",
       "      <td>207</td>\n",
       "      <td>207</td>\n",
       "      <td>207</td>\n",
       "    </tr>\n",
       "    <tr>\n",
       "      <th>532</th>\n",
       "      <td>Wally Hammond</td>\n",
       "      <td>38</td>\n",
       "      <td>38</td>\n",
       "      <td>38</td>\n",
       "      <td>38</td>\n",
       "      <td>38</td>\n",
       "      <td>38</td>\n",
       "      <td>38</td>\n",
       "    </tr>\n",
       "    <tr>\n",
       "      <th>533</th>\n",
       "      <td>Walter Goodman</td>\n",
       "      <td>7</td>\n",
       "      <td>7</td>\n",
       "      <td>7</td>\n",
       "      <td>7</td>\n",
       "      <td>7</td>\n",
       "      <td>7</td>\n",
       "      <td>7</td>\n",
       "    </tr>\n",
       "    <tr>\n",
       "      <th>534</th>\n",
       "      <td>Walter V. Addiego</td>\n",
       "      <td>2</td>\n",
       "      <td>2</td>\n",
       "      <td>2</td>\n",
       "      <td>2</td>\n",
       "      <td>2</td>\n",
       "      <td>2</td>\n",
       "      <td>2</td>\n",
       "    </tr>\n",
       "    <tr>\n",
       "      <th>535</th>\n",
       "      <td>Wesley Morris</td>\n",
       "      <td>15</td>\n",
       "      <td>15</td>\n",
       "      <td>15</td>\n",
       "      <td>15</td>\n",
       "      <td>15</td>\n",
       "      <td>15</td>\n",
       "      <td>15</td>\n",
       "    </tr>\n",
       "    <tr>\n",
       "      <th>536</th>\n",
       "      <td>Whitney Willaims</td>\n",
       "      <td>4</td>\n",
       "      <td>4</td>\n",
       "      <td>4</td>\n",
       "      <td>4</td>\n",
       "      <td>4</td>\n",
       "      <td>4</td>\n",
       "      <td>4</td>\n",
       "    </tr>\n",
       "    <tr>\n",
       "      <th>537</th>\n",
       "      <td>Whittaker Chambers</td>\n",
       "      <td>3</td>\n",
       "      <td>3</td>\n",
       "      <td>3</td>\n",
       "      <td>3</td>\n",
       "      <td>3</td>\n",
       "      <td>3</td>\n",
       "      <td>3</td>\n",
       "    </tr>\n",
       "    <tr>\n",
       "      <th>538</th>\n",
       "      <td>William Brogdon</td>\n",
       "      <td>4</td>\n",
       "      <td>4</td>\n",
       "      <td>4</td>\n",
       "      <td>4</td>\n",
       "      <td>4</td>\n",
       "      <td>4</td>\n",
       "      <td>4</td>\n",
       "    </tr>\n",
       "    <tr>\n",
       "      <th>539</th>\n",
       "      <td>William Goss</td>\n",
       "      <td>3</td>\n",
       "      <td>3</td>\n",
       "      <td>3</td>\n",
       "      <td>3</td>\n",
       "      <td>3</td>\n",
       "      <td>3</td>\n",
       "      <td>3</td>\n",
       "    </tr>\n",
       "  </tbody>\n",
       "</table>\n",
       "<p>540 rows × 8 columns</p>\n",
       "</div>"
      ],
      "text/plain": [
       "                      critic  fresh  imdb  publication  quote  review_date  \\\n",
       "0                A.D. Murphy     14    14           14     14           14   \n",
       "1                A.H. Weiler     17    17           17     17           17   \n",
       "2                 A.O. Scott     10    10           10     10           10   \n",
       "3               Aaron Hillis      2     2            2      2            2   \n",
       "4                 Abel Green      5     5            5      5            5   \n",
       "5                Achy Obejas      1     1            1      1            1   \n",
       "6                Adam Graham      7     7            7      7            7   \n",
       "7             Adam Markovitz      1     1            1      1            1   \n",
       "8             Akiva Gottlieb      2     2            2      2            2   \n",
       "9                 Al Brumley      2     2            2      2            2   \n",
       "10           Alan Scherstuhl      2     2            2      2            2   \n",
       "11   Alfred Rushford Greason      3     3            3      3            3   \n",
       "12              Alissa Simon      1     1            1      1            1   \n",
       "13               Allen Barra      1     1            1      1            1   \n",
       "14          Allison Benedikt      1     1            1      1            1   \n",
       "15              Amos Barshad      1     1            1      1            1   \n",
       "16             Amy Biancolli     26    26           26     26           26   \n",
       "17                 Amy Dawes      2     2            2      2            2   \n",
       "18           Amy E. Schwartz      1     1            1      1            1   \n",
       "19               Amy Simmons      2     2            2      2            2   \n",
       "20                Amy Taubin     11    11           11     11           11   \n",
       "21             Ana Marie Cox      1     1            1      1            1   \n",
       "22            Andre Sennwald      5     5            5      5            5   \n",
       "23          Andrea C. Basora      2     2            2      2            2   \n",
       "24           Andrea Gronvall      9     9            9      9            9   \n",
       "25             Andrew Geller      1     1            1      1            1   \n",
       "26            Andrew O'Hehir     31    31           31     31           31   \n",
       "27               Andrew Ross      3     3            3      3            3   \n",
       "28             Andrew Sarris     66    66           66     66           66   \n",
       "29               Anita Gates     14    14           14     14           14   \n",
       "..                       ...    ...   ...          ...    ...          ...   \n",
       "510          Thomas O'Connor      1     1            1      1            1   \n",
       "511             Tim Grierson      1     1            1      1            1   \n",
       "512              Tim Purtell      1     1            1      1            1   \n",
       "513           Todd Gilchrist      1     1            1      1            1   \n",
       "514            Todd McCarthy    223   223          223    223          223   \n",
       "515              Tom Charity      1     1            1      1            1   \n",
       "516           Tom Huddleston      5     5            5      5            5   \n",
       "517          Tom Huddlestone      7     7            7      7            7   \n",
       "518                Tom Keogh      9     9            9      9            9   \n",
       "519                 Tom Long     45    45           45     45           45   \n",
       "520             Tom Maurstad      5     5            5      5            5   \n",
       "521                Tom Milne     20    20           20     20           20   \n",
       "522                Tom Russo      2     2            2      2            2   \n",
       "523                 Tom Sime      2     2            2      2            2   \n",
       "524                Tony Wong      1     1            1      1            1   \n",
       "525          Trevor Johnston     38    38           38     38           38   \n",
       "526             Trevor Lewis      1     1            1      1            1   \n",
       "527                  Ty Burr     50    50           50     50           50   \n",
       "528             V.A. Musetto      2     2            2      2            2   \n",
       "529            Variety Staff    449   449          449    449          449   \n",
       "530               Vic Vogler      1     1            1      1            1   \n",
       "531            Vincent Canby    207   207          207    207          207   \n",
       "532            Wally Hammond     38    38           38     38           38   \n",
       "533           Walter Goodman      7     7            7      7            7   \n",
       "534        Walter V. Addiego      2     2            2      2            2   \n",
       "535            Wesley Morris     15    15           15     15           15   \n",
       "536         Whitney Willaims      4     4            4      4            4   \n",
       "537       Whittaker Chambers      3     3            3      3            3   \n",
       "538          William Brogdon      4     4            4      4            4   \n",
       "539             William Goss      3     3            3      3            3   \n",
       "\n",
       "     rtid  title  \n",
       "0      14     14  \n",
       "1      17     17  \n",
       "2      10     10  \n",
       "3       2      2  \n",
       "4       5      5  \n",
       "5       1      1  \n",
       "6       7      7  \n",
       "7       1      1  \n",
       "8       2      2  \n",
       "9       2      2  \n",
       "10      2      2  \n",
       "11      3      3  \n",
       "12      1      1  \n",
       "13      1      1  \n",
       "14      1      1  \n",
       "15      1      1  \n",
       "16     26     26  \n",
       "17      2      2  \n",
       "18      1      1  \n",
       "19      2      2  \n",
       "20     11     11  \n",
       "21      1      1  \n",
       "22      5      5  \n",
       "23      2      2  \n",
       "24      9      9  \n",
       "25      1      1  \n",
       "26     31     31  \n",
       "27      3      3  \n",
       "28     66     66  \n",
       "29     14     14  \n",
       "..    ...    ...  \n",
       "510     1      1  \n",
       "511     1      1  \n",
       "512     1      1  \n",
       "513     1      1  \n",
       "514   223    223  \n",
       "515     1      1  \n",
       "516     5      5  \n",
       "517     7      7  \n",
       "518     9      9  \n",
       "519    45     45  \n",
       "520     5      5  \n",
       "521    20     20  \n",
       "522     2      2  \n",
       "523     2      2  \n",
       "524     1      1  \n",
       "525    38     38  \n",
       "526     1      1  \n",
       "527    50     50  \n",
       "528     2      2  \n",
       "529   449    449  \n",
       "530     1      1  \n",
       "531   207    207  \n",
       "532    38     38  \n",
       "533     7      7  \n",
       "534     2      2  \n",
       "535    15     15  \n",
       "536     4      4  \n",
       "537     3      3  \n",
       "538     4      4  \n",
       "539     3      3  \n",
       "\n",
       "[540 rows x 8 columns]"
      ]
     },
     "execution_count": 22,
     "metadata": {},
     "output_type": "execute_result"
    }
   ],
   "source": [
    "reviewer_reviews=pd.DataFrame(reviews.groupby('critic').count())\n",
    "reviewer_reviews.reset_index(level=0, inplace=True)\n",
    "reviewer_reviews"
   ]
  },
  {
   "cell_type": "code",
   "execution_count": 23,
   "metadata": {
    "scrolled": true
   },
   "outputs": [
    {
     "data": {
      "image/png": "iVBORw0KGgoAAAANSUhEUgAAAYsAAAEWCAYAAACXGLsWAAAABHNCSVQICAgIfAhkiAAAAAlwSFlz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\n",
      "text/plain": [
       "<matplotlib.figure.Figure at 0x25a2cb29be0>"
      ]
     },
     "metadata": {},
     "output_type": "display_data"
    }
   ],
   "source": [
    "# enter your code here  \n",
    "%matplotlib inline  \n",
    "import matplotlib.pyplot as plt \n",
    "reviewer_reviews=pd.DataFrame(reviews.groupby('critic').count())\n",
    "reviewer_reviews.reset_index(level=0, inplace=True)\n",
    "fig, ax = plt.subplots()\n",
    "plt.xlim([0, 30])\n",
    "plt.yscale('log', nonposy='clip')\n",
    "ax.hist(reviewer_reviews.quote, range=[0,30],bins=30,color=['green'],edgecolor = 'white',alpha=0.5)\n",
    "plt.ylabel('Logarithm of (count of) the Number of Reviews') # add labels \n",
    "plt.xlabel('Number of Reviews')\n",
    "plt.title(' The histogram of reviews per reviewer')\n",
    "ax.spines['right'].set_visible(False)\n",
    "ax.spines['top'].set_visible(False)\n",
    "ax.legend(['Number of Reviewers'])\n",
    "plt.show()"
   ]
  },
  {
   "cell_type": "code",
   "execution_count": 24,
   "metadata": {},
   "outputs": [
    {
     "data": {
      "text/html": [
       "<div>\n",
       "<style>\n",
       "    .dataframe thead tr:only-child th {\n",
       "        text-align: right;\n",
       "    }\n",
       "\n",
       "    .dataframe thead th {\n",
       "        text-align: left;\n",
       "    }\n",
       "\n",
       "    .dataframe tbody tr th {\n",
       "        vertical-align: top;\n",
       "    }\n",
       "</style>\n",
       "<table border=\"1\" class=\"dataframe\">\n",
       "  <thead>\n",
       "    <tr style=\"text-align: right;\">\n",
       "      <th></th>\n",
       "      <th>critic</th>\n",
       "      <th>fresh</th>\n",
       "      <th>imdb</th>\n",
       "      <th>publication</th>\n",
       "      <th>quote</th>\n",
       "      <th>review_date</th>\n",
       "      <th>rtid</th>\n",
       "      <th>title</th>\n",
       "    </tr>\n",
       "  </thead>\n",
       "  <tbody>\n",
       "    <tr>\n",
       "      <th>0</th>\n",
       "      <td>A.D. Murphy</td>\n",
       "      <td>14</td>\n",
       "      <td>14</td>\n",
       "      <td>14</td>\n",
       "      <td>14</td>\n",
       "      <td>14</td>\n",
       "      <td>14</td>\n",
       "      <td>14</td>\n",
       "    </tr>\n",
       "    <tr>\n",
       "      <th>1</th>\n",
       "      <td>A.H. Weiler</td>\n",
       "      <td>17</td>\n",
       "      <td>17</td>\n",
       "      <td>17</td>\n",
       "      <td>17</td>\n",
       "      <td>17</td>\n",
       "      <td>17</td>\n",
       "      <td>17</td>\n",
       "    </tr>\n",
       "    <tr>\n",
       "      <th>2</th>\n",
       "      <td>A.O. Scott</td>\n",
       "      <td>10</td>\n",
       "      <td>10</td>\n",
       "      <td>10</td>\n",
       "      <td>10</td>\n",
       "      <td>10</td>\n",
       "      <td>10</td>\n",
       "      <td>10</td>\n",
       "    </tr>\n",
       "    <tr>\n",
       "      <th>3</th>\n",
       "      <td>Aaron Hillis</td>\n",
       "      <td>2</td>\n",
       "      <td>2</td>\n",
       "      <td>2</td>\n",
       "      <td>2</td>\n",
       "      <td>2</td>\n",
       "      <td>2</td>\n",
       "      <td>2</td>\n",
       "    </tr>\n",
       "    <tr>\n",
       "      <th>4</th>\n",
       "      <td>Abel Green</td>\n",
       "      <td>5</td>\n",
       "      <td>5</td>\n",
       "      <td>5</td>\n",
       "      <td>5</td>\n",
       "      <td>5</td>\n",
       "      <td>5</td>\n",
       "      <td>5</td>\n",
       "    </tr>\n",
       "  </tbody>\n",
       "</table>\n",
       "</div>"
      ],
      "text/plain": [
       "         critic  fresh  imdb  publication  quote  review_date  rtid  title\n",
       "0   A.D. Murphy     14    14           14     14           14    14     14\n",
       "1   A.H. Weiler     17    17           17     17           17    17     17\n",
       "2    A.O. Scott     10    10           10     10           10    10     10\n",
       "3  Aaron Hillis      2     2            2      2            2     2      2\n",
       "4    Abel Green      5     5            5      5            5     5      5"
      ]
     },
     "execution_count": 24,
     "metadata": {},
     "output_type": "execute_result"
    }
   ],
   "source": [
    "import plotly.express as px\n",
    "import plotly.graph_objs as go\n",
    "reviewer_reviews.head()"
   ]
  },
  {
   "cell_type": "code",
   "execution_count": 25,
   "metadata": {},
   "outputs": [
    {
     "name": "stderr",
     "output_type": "stream",
     "text": [
      "IOPub data rate exceeded.\n",
      "The notebook server will temporarily stop sending output\n",
      "to the client in order to avoid crashing it.\n",
      "To change this limit, set the config variable\n",
      "`--NotebookApp.iopub_data_rate_limit`.\n"
     ]
    },
    {
     "data": {
      "application/vnd.plotly.v1+json": {
       "config": {
        "plotlyServerURL": "https://plot.ly"
       },
       "data": [
        {
         "alignmentgroup": "True",
         "hoverlabel": {
          "namelength": 0
         },
         "hovertemplate": "critic=%{x}<br>quote=%{y}",
         "legendgroup": "",
         "marker": {
          "color": "#636efa"
         },
         "name": "",
         "offsetgroup": "",
         "orientation": "v",
         "showlegend": false,
         "textposition": "auto",
         "type": "bar",
         "x": [
          "A.D. Murphy",
          "A.H. Weiler",
          "A.O. Scott",
          "Aaron Hillis",
          "Abel Green",
          "Achy Obejas",
          "Adam Graham",
          "Adam Markovitz",
          "Akiva Gottlieb",
          "Al Brumley",
          "Alan Scherstuhl",
          "Alfred Rushford Greason",
          "Alissa Simon",
          "Allen Barra",
          "Allison Benedikt",
          "Amos Barshad",
          "Amy Biancolli",
          "Amy Dawes",
          "Amy E. Schwartz",
          "Amy Simmons",
          "Amy Taubin",
          "Ana Marie Cox",
          "Andre Sennwald",
          "Andrea C. Basora",
          "Andrea Gronvall",
          "Andrew Geller",
          "Andrew O'Hehir",
          "Andrew Ross",
          "Andrew Sarris",
          "Anita Gates",
          "Ann Hornaday",
          "Anna Smith",
          "Anthony Lane",
          "Anthony Puccinelli",
          "Arthur Schlesinger",
          "Athima Chansanchai",
          "B. Kite",
          "B.J. Sigesmund",
          "Barbara Shulgasser",
          "Barbara Thomas",
          "Ben Kenigsberg",
          "Ben Lyons",
          "Ben Mankiewicz",
          "Ben Walters",
          "Benedict Nightingale",
          "Bert Briller",
          "Betsy Sharkey",
          "Bilge Ebiri",
          "Bill Boisvert",
          "Bill Goodykoontz",
          "Bill Muller",
          "Bill Stamets",
          "Bill Zwecker",
          "Bob Campbell",
          "Bob Graham",
          "Bob Heisler",
          "Bob Longino",
          "Bob Mondello",
          "Bosley Crowther",
          "Brangien Davis",
          "Brendan Kelly",
          "Brian Lowry",
          "Brian Miller",
          "Bruce Demara",
          "Bruce Diones",
          "Bruce Fretts",
          "Bruce Newman",
          "Bruce Walker",
          "Bruce Westbrook",
          "C.W. Nevius",
          "Calvin Wilson",
          "Carina Chocano",
          "Carla Meyer",
          "Carol Buckland",
          "Carol Lloyd",
          "Carrie Rickey",
          "Caryn James",
          "Cath Clarke",
          "Catherine Dawson March",
          "Charles Champlin",
          "Charles Ealy",
          "Charles Schreger",
          "Charles Solomon",
          "Charles Taylor",
          "Charlotte O'Sullivan",
          "Chelsea Bain",
          "Chris Colin",
          "Chris Nashawaty",
          "Chris Peachment",
          "Chris Tamarri",
          "Chris Vognar",
          "Chris Willman",
          "Christine Dolen",
          "Christopher Harris",
          "Christopher Orr",
          "Christy DeSmith",
          "Christy Lemire",
          "Chuck Stephens",
          "Chuck Wilson",
          "Clark Collis",
          "Claudia Puig",
          "Cliff Doerksen",
          "Clifford Terry",
          "Cole Haddon",
          "Colin Covert",
          "Connie Ogle",
          "Craig Seligman",
          "Crosby Day",
          "Cynthia Joyce",
          "Dale Pollock",
          "Damon Smith",
          "Dan Fienberg",
          "Dan Kois",
          "Dan Zak",
          "Dana Stevens",
          "Daniel Gray Longino",
          "Daniel M. Kimmel",
          "Daniel Mangin",
          "Daphne Gordon",
          "Dave Calhoun",
          "Dave Kaufman",
          "Dave Kehr",
          "David Ansen",
          "David Chute",
          "David Denby",
          "David Edelstein",
          "David Fear",
          "David Germain",
          "David Hiltbrand",
          "David Jenkins",
          "David Kronke",
          "David Mermelstein",
          "David Mills",
          "David Ng",
          "David Rooney",
          "David Stratton",
          "David Thomson",
          "David Wiegand",
          "Deborah Young",
          "Delmore Schwartz",
          "Dennis Harvey",
          "Dennis Lim",
          "Derek Adams",
          "Derek Elley",
          "Desmond Ryan",
          "Desson Thomson",
          "Dick Kreck",
          "Don Druker",
          "Don McKellar",
          "Doug Saunders",
          "Doug Thomas",
          "Douglas Cruickshank",
          "Dwight Garner",
          "Ed Gonzalez",
          "Ed Halter",
          "Ed Park",
          "Eddie Cockrell",
          "Edward Guthmann",
          "Edward Margulies",
          "Edwin Schallert",
          "Eleanor Ringel Gillespie",
          "Elizabeth M. Tamny",
          "Elizabeth Weitzman",
          "Elizabeth Williams",
          "Ella Taylor",
          "Elliott Stein",
          "Elvis Mitchell",
          "Emanuel Levy",
          "Eric Brace",
          "Eric D. Snider",
          "Eric Harrison",
          "Eric Hynes",
          "Erik Lundegaard",
          "Erin Richter",
          "Ernest Hardy",
          "Esther Iverem",
          "Eugene Archer",
          "Eve Zibart",
          "F.X. Feeney",
          "Francis X. Clines",
          "Frank Ahrens",
          "Frank Rich",
          "Frank S. Nugent",
          "Fred Camper",
          "G. Allen Johnson",
          "Gary Arnold",
          "Gary Dauphin",
          "Gary Dowell",
          "Gary Dretzka",
          "Gary Goldstein",
          "Gary Kamiya",
          "Gene Moskowitz",
          "Gene Seymour",
          "Gene Siskel",
          "Geoff Andrew",
          "Geoff Pevere",
          "Gerald Clarke",
          "Gina Fattore",
          "Glenn Collins",
          "Glenn Lovell",
          "Glenn Whipp",
          "Godfrey Cheshire",
          "Greg Quill",
          "Hal Hinson",
          "Hank Sartin",
          "Hap Erstein",
          "Harold C. Schonberg",
          "Hazel-Dawn Dumpert",
          "Henry Allen",
          "Herb Golden",
          "Herb Schoenfeld",
          "Hillel Italie",
          "Hobe Morrison",
          "Howard Thompson",
          "J. Hoberman",
          "J. R. Jones",
          "Jack Kroll",
          "Jack Mathews",
          "Jack Pitman",
          "Jake Tracer",
          "James Berardinelli",
          "James Harwood",
          "James Rocchi",
          "Jami Bernard",
          "Jan Stuart",
          "Jane Horwitz",
          "Jane Sumner",
          "Janelle Brown",
          "Janet Maslin",
          "Janice Page",
          "Jason Anderson",
          "Jay Boyar",
          "Jay Carr",
          "Jay Cocks",
          "Jeanne Cooper",
          "Jeannette Catsoulis",
          "Jeff Giles",
          "Jeff Millar",
          "Jeff Shannon",
          "Jeff Strickler",
          "Jeff Unger",
          "Jeffrey Wells",
          "Jen Chaney",
          "Jenn Shreve",
          "Jennie Punter",
          "Jennie Yabroff",
          "Jennifer Preyss",
          "Jeremy Gerard",
          "Jesse Hamlin",
          "Jessica Reaves",
          "Jessica Winter",
          "Jim Emerson",
          "Jim Ridley",
          "Joan Walsh",
          "Joanne Kaufman",
          "Joe Baltake",
          "Joe Bigelow",
          "Joe Brown",
          "Joe Leydon",
          "Joe McGovern",
          "Joe Morgenstern",
          "Joe Neumaier",
          "Joe Williams",
          "Joey Guerra",
          "Johanna Steinmetz",
          "John Anderson",
          "John C. Flinn Sr.",
          "John Corry",
          "John Dooley",
          "John F. Kelly",
          "John Hartl",
          "John Haslett Cuff",
          "John Hofsess",
          "John L. Wasserman",
          "John Monaghan",
          "John Moore",
          "John Patterson",
          "John Petrakis",
          "John Skow",
          "Jonas Mekas",
          "Jonathan F. Richards",
          "Jonathan Foreman",
          "Jonathan Holland",
          "Jonathan Kiefer",
          "Jonathan Lethem",
          "Jonathan Rosenbaum",
          "Jorge Morales",
          "Joseph Litsch",
          "Joseph McBride",
          "Joshua Katzman",
          "Joshua Land",
          "Joshua Rothkopf",
          "Joyce Millman",
          "Judith Crist",
          "Judith Martin",
          "Julia Wallace",
          "Justin Berton",
          "Justin Chang",
          "Justine Elias",
          "Kamal Al-Solaylee",
          "Kate Taylor",
          "Kathie Smith",
          "Kathleen Murphy",
          "Keith Simanton",
          "Keith Staskiewicz",
          "Keith Uhlich",
          "Ken Tucker",
          "Kenneth Turan",
          "Kerry Lengel",
          "Kevin Courrier",
          "Kevin Crust",
          "Kevin Lee",
          "Kevin Maynard",
          "Kevin McManus",
          "Kevin Thomas",
          "King Kaufman",
          "Kris Wilton",
          "Kyle Smith",
          "Lael Loewenstein",
          "Lance Goldenberg",
          "Laremy Legel",
          "Laura Evenson",
          "Laura Kern",
          "Laura Miller",
          "Laura Shapiro",
          "Lawrence Cohn",
          "Lawrence Van Gelder",
          "Lawson Taitte",
          "Leah McLaren",
          "Leba Hertz",
          "Leonard Klady",
          "Liam Lacey",
          "Linda Barnard",
          "Lisa Alspector",
          "Lisa Kennedy",
          "Lisa Nesselson",
          "Lisa Rose",
          "Lisa Schwarzbaum",
          "Lloyd Rose",
          "Logan Hill",
          "Lonnae O'Neal Parker",
          "Loren King",
          "Lou Lumenick",
          "Louis B. Parks",
          "Louise Kennedy",
          "Malene Arpe",
          "Manny Farber",
          "Manohla Dargis",
          "Mario Tarradell",
          "Mark Bourne",
          "Mark Caro",
          "Mark Chalon Smith",
          "Mark Feeney",
          "Mark Holcomb",
          "Mark Medley",
          "Mark Olsen",
          "Mark Rahner",
          "Mark Salisbury",
          "Marta Barber",
          "Martin Hoyle",
          "Mary Elizabeth Williams",
          "Mary Houlihan",
          "Matt Zoller Seitz",
          "Megan Rosenfeld",
          "Melissa Anderson",
          "Michael Atkinson",
          "Michael Booth",
          "Michael O'Sullivan",
          "Michael Phillips",
          "Michael Snyder",
          "Michael Sragow",
          "Michael Upchurch",
          "Michael Wilmington",
          "Michelle Goldberg",
          "Mick LaSalle",
          "Mike Clark",
          "Mike Kaplan",
          "Mike Musgrove",
          "Milo Miles",
          "Misha Berson",
          "Moira MacDonald",
          "Molly Haskell",
          "Monica Eng",
          "Mordaunt Hall",
          "Nancy Churnin",
          "Nathan Lee",
          "Neely Tucker",
          "Nell Minow",
          "Nick Pinkerton",
          "Nick Schager",
          "Nicole Arthur",
          "Nigel Floyd",
          "Nina Caplan",
          "Nina Darnton",
          "Nora Sayre",
          "Norman Chad",
          "Otis Ferguson",
          "Owen Gleiberman",
          "Paine Knickerbocker",
          "Pam Grady",
          "Pat Graham",
          "Patrick Goldstein",
          "Paul Attanasio",
          "Paul Clinton (CNN.com)",
          "Paul Malcolm",
          "Paul Tatara",
          "Pauline Kael",
          "Penelope Gilliatt",
          "Peter Debruge",
          "Peter Hartlaub",
          "Peter Howell",
          "Peter L'Official",
          "Peter M. Nichols",
          "Peter Rainer",
          "Peter Stack",
          "Peter Travers",
          "Philip Kennicott",
          "Philip Roth",
          "Philip Wuntch",
          "R. Emmet Sweeney",
          "Rafer Guzman",
          "Rashod D. Ollison",
          "Ray Conlogue",
          "Renata Adler",
          "Rene Rodriguez",
          "Rex Reed",
          "Rich Cohen",
          "Rich Gold",
          "Richard Brody",
          "Richard Corliss",
          "Richard Eder",
          "Richard Harrington",
          "Richard Leiby",
          "Richard McGuinness",
          "Richard Natale",
          "Richard Nilsen",
          "Richard Ouzounian",
          "Richard Roeper",
          "Richard Schickel",
          "Rick Groen",
          "Rita Kempley",
          "Rob Nelson",
          "Rob Salem",
          "Robert Abele",
          "Robert B. Frederick",
          "Robert Denerstein",
          "Robert Hatch",
          "Robert J. Landry",
          "Robert K. Elder",
          "Robert Koehler",
          "Robin Dougherty",
          "Robin Rauzi",
          "Rod Dreher",
          "Roger Ebert",
          "Roger Greenspun",
          "Roger Moore",
          "Ron Givens",
          "Ron Stringer",
          "Ronald Holloway",
          "Ronnie Scheib",
          "Roy Chartier",
          "Russell Edwards",
          "Ruth Ford",
          "Ruth Hessey",
          "Ruthe Stein",
          "Sam Adams",
          "Sam Hurwitt",
          "Sara Frederick",
          "Sara Gebhardt",
          "Sarah Kerr",
          "Scott Bowles",
          "Scott Brown",
          "Scott Foundas",
          "Scott Rosenberg",
          "Sean Daly",
          "Sean Howe",
          "Sean O'Connell",
          "Sheila Benson",
          "Shirley O'Hara",
          "Sid Silverman",
          "Sid Smith",
          "Simon Houpt",
          "Stanley Kauffmann",
          "Stefan Kanfer",
          "Stephanie Merry",
          "Stephanie Zacharek",
          "Stephen Cole",
          "Stephen Garrett",
          "Stephen Holden",
          "Stephen Hunter",
          "Stephen Klain",
          "Stephen Whitty",
          "Steve Daly",
          "Steve Murray",
          "Steven Gaydos",
          "Steven Rea",
          "Steven Rosen",
          "Steven Winn",
          "Susan Stark",
          "Susan Walker",
          "Suzanne O'Connor",
          "Tasha Robinson",
          "Ted Anthony",
          "Ted Fry",
          "Ted Shen",
          "Teresa Wiltz",
          "Terrence Rafferty",
          "Terry Lawson",
          "Theodore Strauss",
          "Thomas M. Pryor",
          "Thomas O'Connor",
          "Tim Grierson",
          "Tim Purtell",
          "Todd Gilchrist",
          "Todd McCarthy",
          "Tom Charity",
          "Tom Huddleston",
          "Tom Huddlestone",
          "Tom Keogh",
          "Tom Long",
          "Tom Maurstad",
          "Tom Milne",
          "Tom Russo",
          "Tom Sime",
          "Tony Wong",
          "Trevor Johnston",
          "Trevor Lewis",
          "Ty Burr",
          "V.A. Musetto",
          "Variety Staff",
          "Vic Vogler",
          "Vincent Canby",
          "Wally Hammond",
          "Walter Goodman",
          "Walter V. Addiego",
          "Wesley Morris",
          "Whitney Willaims",
          "Whittaker Chambers",
          "William Brogdon",
          "William Goss"
         ],
         "xaxis": "x",
         "y": [
          14,
          17,
          10,
          2,
          5,
          1,
          7,
          1,
          2,
          2,
          2,
          3,
          1,
          1,
          1,
          1,
          26,
          2,
          1,
          2,
          11,
          1,
          5,
          2,
          9,
          1,
          31,
          3,
          66,
          14,
          17,
          5,
          25,
          1,
          1,
          1,
          1,
          1,
          3,
          1,
          2,
          15,
          15,
          16,
          1,
          1,
          6,
          1,
          1,
          7,
          12,
          6,
          1,
          2,
          52,
          4,
          15,
          9,
          137,
          1,
          4,
          34,
          1,
          3,
          5,
          4,
          3,
          1,
          25,
          2,
          2,
          5,
          4,
          1,
          1,
          35,
          67,
          3,
          1,
          4,
          1,
          1,
          2,
          70,
          6,
          1,
          2,
          8,
          2,
          1,
          16,
          1,
          2,
          3,
          7,
          2,
          8,
          1,
          6,
          2,
          31,
          1,
          5,
          1,
          28,
          12,
          2,
          1,
          2,
          2,
          1,
          1,
          1,
          1,
          6,
          1,
          23,
          2,
          3,
          16,
          1,
          360,
          51,
          1,
          36,
          62,
          14,
          4,
          1,
          14,
          5,
          1,
          1,
          1,
          10,
          9,
          3,
          1,
          1,
          1,
          16,
          17,
          154,
          17,
          31,
          373,
          1,
          48,
          1,
          3,
          5,
          1,
          3,
          2,
          1,
          2,
          3,
          121,
          1,
          2,
          30,
          1,
          22,
          1,
          5,
          5,
          4,
          110,
          4,
          1,
          25,
          2,
          4,
          1,
          1,
          5,
          2,
          2,
          3,
          1,
          1,
          4,
          18,
          1,
          1,
          2,
          12,
          3,
          1,
          1,
          9,
          1,
          5,
          83,
          361,
          25,
          2,
          2,
          1,
          10,
          1,
          11,
          1,
          174,
          3,
          4,
          1,
          6,
          1,
          3,
          1,
          1,
          1,
          5,
          78,
          22,
          9,
          52,
          1,
          1,
          833,
          3,
          1,
          8,
          8,
          3,
          7,
          2,
          526,
          4,
          5,
          95,
          2,
          8,
          1,
          3,
          3,
          86,
          18,
          32,
          1,
          3,
          1,
          2,
          5,
          1,
          1,
          3,
          1,
          1,
          15,
          1,
          1,
          1,
          2,
          231,
          2,
          34,
          50,
          2,
          43,
          9,
          3,
          1,
          3,
          12,
          6,
          1,
          2,
          4,
          26,
          5,
          1,
          2,
          11,
          1,
          1,
          11,
          1,
          1,
          4,
          1,
          2,
          4,
          3,
          420,
          1,
          1,
          6,
          2,
          1,
          30,
          1,
          1,
          2,
          1,
          2,
          3,
          4,
          2,
          2,
          1,
          3,
          5,
          1,
          17,
          10,
          282,
          1,
          2,
          6,
          1,
          2,
          12,
          145,
          1,
          1,
          18,
          9,
          1,
          2,
          2,
          1,
          9,
          1,
          3,
          48,
          1,
          1,
          1,
          66,
          111,
          2,
          80,
          26,
          9,
          10,
          117,
          8,
          1,
          1,
          1,
          12,
          13,
          1,
          2,
          3,
          10,
          1,
          10,
          16,
          1,
          2,
          1,
          1,
          4,
          6,
          2,
          4,
          1,
          20,
          1,
          2,
          5,
          3,
          26,
          19,
          28,
          21,
          1,
          23,
          2,
          103,
          1,
          280,
          13,
          1,
          1,
          1,
          1,
          49,
          1,
          1,
          14,
          4,
          7,
          1,
          1,
          5,
          1,
          1,
          16,
          1,
          8,
          3,
          1,
          3,
          241,
          2,
          1,
          29,
          2,
          17,
          26,
          1,
          56,
          10,
          2,
          6,
          14,
          41,
          1,
          1,
          99,
          138,
          20,
          4,
          1,
          13,
          2,
          5,
          1,
          6,
          5,
          32,
          15,
          1,
          2,
          11,
          104,
          4,
          65,
          2,
          1,
          1,
          1,
          1,
          38,
          106,
          129,
          236,
          5,
          1,
          3,
          3,
          2,
          2,
          3,
          1,
          10,
          4,
          2,
          2,
          1150,
          6,
          56,
          1,
          1,
          1,
          2,
          1,
          1,
          1,
          2,
          39,
          3,
          1,
          1,
          1,
          1,
          1,
          1,
          10,
          11,
          1,
          1,
          1,
          23,
          2,
          2,
          4,
          1,
          10,
          2,
          1,
          64,
          7,
          23,
          166,
          36,
          1,
          39,
          1,
          40,
          1,
          33,
          6,
          1,
          167,
          6,
          1,
          1,
          1,
          2,
          3,
          2,
          17,
          38,
          2,
          3,
          1,
          1,
          1,
          1,
          223,
          1,
          5,
          7,
          9,
          45,
          5,
          20,
          2,
          2,
          1,
          38,
          1,
          50,
          2,
          449,
          1,
          207,
          38,
          7,
          2,
          15,
          4,
          3,
          4,
          3
         ],
         "yaxis": "y"
        }
       ],
       "layout": {
        "barmode": "relative",
        "height": 400,
        "legend": {
         "tracegroupgap": 0
        },
        "margin": {
         "t": 60
        },
        "template": {
         "data": {
          "bar": [
           {
            "error_x": {
             "color": "#2a3f5f"
            },
            "error_y": {
             "color": "#2a3f5f"
            },
            "marker": {
             "line": {
              "color": "#E5ECF6",
              "width": 0.5
             }
            },
            "type": "bar"
           }
          ],
          "barpolar": [
           {
            "marker": {
             "line": {
              "color": "#E5ECF6",
              "width": 0.5
             }
            },
            "type": "barpolar"
           }
          ],
          "carpet": [
           {
            "aaxis": {
             "endlinecolor": "#2a3f5f",
             "gridcolor": "white",
             "linecolor": "white",
             "minorgridcolor": "white",
             "startlinecolor": "#2a3f5f"
            },
            "baxis": {
             "endlinecolor": "#2a3f5f",
             "gridcolor": "white",
             "linecolor": "white",
             "minorgridcolor": "white",
             "startlinecolor": "#2a3f5f"
            },
            "type": "carpet"
           }
          ],
          "choropleth": [
           {
            "colorbar": {
             "outlinewidth": 0,
             "ticks": ""
            },
            "type": "choropleth"
           }
          ],
          "contour": [
           {
            "colorbar": {
             "outlinewidth": 0,
             "ticks": ""
            },
            "colorscale": [
             [
              0,
              "#0d0887"
             ],
             [
              0.1111111111111111,
              "#46039f"
             ],
             [
              0.2222222222222222,
              "#7201a8"
             ],
             [
              0.3333333333333333,
              "#9c179e"
             ],
             [
              0.4444444444444444,
              "#bd3786"
             ],
             [
              0.5555555555555556,
              "#d8576b"
             ],
             [
              0.6666666666666666,
              "#ed7953"
             ],
             [
              0.7777777777777778,
              "#fb9f3a"
             ],
             [
              0.8888888888888888,
              "#fdca26"
             ],
             [
              1,
              "#f0f921"
             ]
            ],
            "type": "contour"
           }
          ],
          "contourcarpet": [
           {
            "colorbar": {
             "outlinewidth": 0,
             "ticks": ""
            },
            "type": "contourcarpet"
           }
          ],
          "heatmap": [
           {
            "colorbar": {
             "outlinewidth": 0,
             "ticks": ""
            },
            "colorscale": [
             [
              0,
              "#0d0887"
             ],
             [
              0.1111111111111111,
              "#46039f"
             ],
             [
              0.2222222222222222,
              "#7201a8"
             ],
             [
              0.3333333333333333,
              "#9c179e"
             ],
             [
              0.4444444444444444,
              "#bd3786"
             ],
             [
              0.5555555555555556,
              "#d8576b"
             ],
             [
              0.6666666666666666,
              "#ed7953"
             ],
             [
              0.7777777777777778,
              "#fb9f3a"
             ],
             [
              0.8888888888888888,
              "#fdca26"
             ],
             [
              1,
              "#f0f921"
             ]
            ],
            "type": "heatmap"
           }
          ],
          "heatmapgl": [
           {
            "colorbar": {
             "outlinewidth": 0,
             "ticks": ""
            },
            "colorscale": [
             [
              0,
              "#0d0887"
             ],
             [
              0.1111111111111111,
              "#46039f"
             ],
             [
              0.2222222222222222,
              "#7201a8"
             ],
             [
              0.3333333333333333,
              "#9c179e"
             ],
             [
              0.4444444444444444,
              "#bd3786"
             ],
             [
              0.5555555555555556,
              "#d8576b"
             ],
             [
              0.6666666666666666,
              "#ed7953"
             ],
             [
              0.7777777777777778,
              "#fb9f3a"
             ],
             [
              0.8888888888888888,
              "#fdca26"
             ],
             [
              1,
              "#f0f921"
             ]
            ],
            "type": "heatmapgl"
           }
          ],
          "histogram": [
           {
            "marker": {
             "colorbar": {
              "outlinewidth": 0,
              "ticks": ""
             }
            },
            "type": "histogram"
           }
          ],
          "histogram2d": [
           {
            "colorbar": {
             "outlinewidth": 0,
             "ticks": ""
            },
            "colorscale": [
             [
              0,
              "#0d0887"
             ],
             [
              0.1111111111111111,
              "#46039f"
             ],
             [
              0.2222222222222222,
              "#7201a8"
             ],
             [
              0.3333333333333333,
              "#9c179e"
             ],
             [
              0.4444444444444444,
              "#bd3786"
             ],
             [
              0.5555555555555556,
              "#d8576b"
             ],
             [
              0.6666666666666666,
              "#ed7953"
             ],
             [
              0.7777777777777778,
              "#fb9f3a"
             ],
             [
              0.8888888888888888,
              "#fdca26"
             ],
             [
              1,
              "#f0f921"
             ]
            ],
            "type": "histogram2d"
           }
          ],
          "histogram2dcontour": [
           {
            "colorbar": {
             "outlinewidth": 0,
             "ticks": ""
            },
            "colorscale": [
             [
              0,
              "#0d0887"
             ],
             [
              0.1111111111111111,
              "#46039f"
             ],
             [
              0.2222222222222222,
              "#7201a8"
             ],
             [
              0.3333333333333333,
              "#9c179e"
             ],
             [
              0.4444444444444444,
              "#bd3786"
             ],
             [
              0.5555555555555556,
              "#d8576b"
             ],
             [
              0.6666666666666666,
              "#ed7953"
             ],
             [
              0.7777777777777778,
              "#fb9f3a"
             ],
             [
              0.8888888888888888,
              "#fdca26"
             ],
             [
              1,
              "#f0f921"
             ]
            ],
            "type": "histogram2dcontour"
           }
          ],
          "mesh3d": [
           {
            "colorbar": {
             "outlinewidth": 0,
             "ticks": ""
            },
            "type": "mesh3d"
           }
          ],
          "parcoords": [
           {
            "line": {
             "colorbar": {
              "outlinewidth": 0,
              "ticks": ""
             }
            },
            "type": "parcoords"
           }
          ],
          "pie": [
           {
            "automargin": true,
            "type": "pie"
           }
          ],
          "scatter": [
           {
            "marker": {
             "colorbar": {
              "outlinewidth": 0,
              "ticks": ""
             }
            },
            "type": "scatter"
           }
          ],
          "scatter3d": [
           {
            "line": {
             "colorbar": {
              "outlinewidth": 0,
              "ticks": ""
             }
            },
            "marker": {
             "colorbar": {
              "outlinewidth": 0,
              "ticks": ""
             }
            },
            "type": "scatter3d"
           }
          ],
          "scattercarpet": [
           {
            "marker": {
             "colorbar": {
              "outlinewidth": 0,
              "ticks": ""
             }
            },
            "type": "scattercarpet"
           }
          ],
          "scattergeo": [
           {
            "marker": {
             "colorbar": {
              "outlinewidth": 0,
              "ticks": ""
             }
            },
            "type": "scattergeo"
           }
          ],
          "scattergl": [
           {
            "marker": {
             "colorbar": {
              "outlinewidth": 0,
              "ticks": ""
             }
            },
            "type": "scattergl"
           }
          ],
          "scattermapbox": [
           {
            "marker": {
             "colorbar": {
              "outlinewidth": 0,
              "ticks": ""
             }
            },
            "type": "scattermapbox"
           }
          ],
          "scatterpolar": [
           {
            "marker": {
             "colorbar": {
              "outlinewidth": 0,
              "ticks": ""
             }
            },
            "type": "scatterpolar"
           }
          ],
          "scatterpolargl": [
           {
            "marker": {
             "colorbar": {
              "outlinewidth": 0,
              "ticks": ""
             }
            },
            "type": "scatterpolargl"
           }
          ],
          "scatterternary": [
           {
            "marker": {
             "colorbar": {
              "outlinewidth": 0,
              "ticks": ""
             }
            },
            "type": "scatterternary"
           }
          ],
          "surface": [
           {
            "colorbar": {
             "outlinewidth": 0,
             "ticks": ""
            },
            "colorscale": [
             [
              0,
              "#0d0887"
             ],
             [
              0.1111111111111111,
              "#46039f"
             ],
             [
              0.2222222222222222,
              "#7201a8"
             ],
             [
              0.3333333333333333,
              "#9c179e"
             ],
             [
              0.4444444444444444,
              "#bd3786"
             ],
             [
              0.5555555555555556,
              "#d8576b"
             ],
             [
              0.6666666666666666,
              "#ed7953"
             ],
             [
              0.7777777777777778,
              "#fb9f3a"
             ],
             [
              0.8888888888888888,
              "#fdca26"
             ],
             [
              1,
              "#f0f921"
             ]
            ],
            "type": "surface"
           }
          ],
          "table": [
           {
            "cells": {
             "fill": {
              "color": "#EBF0F8"
             },
             "line": {
              "color": "white"
             }
            },
            "header": {
             "fill": {
              "color": "#C8D4E3"
             },
             "line": {
              "color": "white"
             }
            },
            "type": "table"
           }
          ]
         },
         "layout": {
          "annotationdefaults": {
           "arrowcolor": "#2a3f5f",
           "arrowhead": 0,
           "arrowwidth": 1
          },
          "coloraxis": {
           "colorbar": {
            "outlinewidth": 0,
            "ticks": ""
           }
          },
          "colorscale": {
           "diverging": [
            [
             0,
             "#8e0152"
            ],
            [
             0.1,
             "#c51b7d"
            ],
            [
             0.2,
             "#de77ae"
            ],
            [
             0.3,
             "#f1b6da"
            ],
            [
             0.4,
             "#fde0ef"
            ],
            [
             0.5,
             "#f7f7f7"
            ],
            [
             0.6,
             "#e6f5d0"
            ],
            [
             0.7,
             "#b8e186"
            ],
            [
             0.8,
             "#7fbc41"
            ],
            [
             0.9,
             "#4d9221"
            ],
            [
             1,
             "#276419"
            ]
           ],
           "sequential": [
            [
             0,
             "#0d0887"
            ],
            [
             0.1111111111111111,
             "#46039f"
            ],
            [
             0.2222222222222222,
             "#7201a8"
            ],
            [
             0.3333333333333333,
             "#9c179e"
            ],
            [
             0.4444444444444444,
             "#bd3786"
            ],
            [
             0.5555555555555556,
             "#d8576b"
            ],
            [
             0.6666666666666666,
             "#ed7953"
            ],
            [
             0.7777777777777778,
             "#fb9f3a"
            ],
            [
             0.8888888888888888,
             "#fdca26"
            ],
            [
             1,
             "#f0f921"
            ]
           ],
           "sequentialminus": [
            [
             0,
             "#0d0887"
            ],
            [
             0.1111111111111111,
             "#46039f"
            ],
            [
             0.2222222222222222,
             "#7201a8"
            ],
            [
             0.3333333333333333,
             "#9c179e"
            ],
            [
             0.4444444444444444,
             "#bd3786"
            ],
            [
             0.5555555555555556,
             "#d8576b"
            ],
            [
             0.6666666666666666,
             "#ed7953"
            ],
            [
             0.7777777777777778,
             "#fb9f3a"
            ],
            [
             0.8888888888888888,
             "#fdca26"
            ],
            [
             1,
             "#f0f921"
            ]
           ]
          },
          "colorway": [
           "#636efa",
           "#EF553B",
           "#00cc96",
           "#ab63fa",
           "#FFA15A",
           "#19d3f3",
           "#FF6692",
           "#B6E880",
           "#FF97FF",
           "#FECB52"
          ],
          "font": {
           "color": "#2a3f5f"
          },
          "geo": {
           "bgcolor": "white",
           "lakecolor": "white",
           "landcolor": "#E5ECF6",
           "showlakes": true,
           "showland": true,
           "subunitcolor": "white"
          },
          "hoverlabel": {
           "align": "left"
          },
          "hovermode": "closest",
          "mapbox": {
           "style": "light"
          },
          "paper_bgcolor": "white",
          "plot_bgcolor": "#E5ECF6",
          "polar": {
           "angularaxis": {
            "gridcolor": "white",
            "linecolor": "white",
            "ticks": ""
           },
           "bgcolor": "#E5ECF6",
           "radialaxis": {
            "gridcolor": "white",
            "linecolor": "white",
            "ticks": ""
           }
          },
          "scene": {
           "xaxis": {
            "backgroundcolor": "#E5ECF6",
            "gridcolor": "white",
            "gridwidth": 2,
            "linecolor": "white",
            "showbackground": true,
            "ticks": "",
            "zerolinecolor": "white"
           },
           "yaxis": {
            "backgroundcolor": "#E5ECF6",
            "gridcolor": "white",
            "gridwidth": 2,
            "linecolor": "white",
            "showbackground": true,
            "ticks": "",
            "zerolinecolor": "white"
           },
           "zaxis": {
            "backgroundcolor": "#E5ECF6",
            "gridcolor": "white",
            "gridwidth": 2,
            "linecolor": "white",
            "showbackground": true,
            "ticks": "",
            "zerolinecolor": "white"
           }
          },
          "shapedefaults": {
           "line": {
            "color": "#2a3f5f"
           }
          },
          "ternary": {
           "aaxis": {
            "gridcolor": "white",
            "linecolor": "white",
            "ticks": ""
           },
           "baxis": {
            "gridcolor": "white",
            "linecolor": "white",
            "ticks": ""
           },
           "bgcolor": "#E5ECF6",
           "caxis": {
            "gridcolor": "white",
            "linecolor": "white",
            "ticks": ""
           }
          },
          "title": {
           "x": 0.05
          },
          "xaxis": {
           "automargin": true,
           "gridcolor": "white",
           "linecolor": "white",
           "ticks": "",
           "title": {
            "standoff": 15
           },
           "zerolinecolor": "white",
           "zerolinewidth": 2
          },
          "yaxis": {
           "automargin": true,
           "gridcolor": "white",
           "linecolor": "white",
           "ticks": "",
           "title": {
            "standoff": 15
           },
           "zerolinecolor": "white",
           "zerolinewidth": 2
          }
         }
        },
        "xaxis": {
         "anchor": "y",
         "domain": [
          0,
          1
         ],
         "title": {
          "text": "critic"
         }
        },
        "yaxis": {
         "anchor": "x",
         "domain": [
          0,
          1
         ],
         "title": {
          "text": "quote"
         }
        }
       }
      },
      "text/html": [
       "<div>\n",
       "        \n",
       "        \n",
       "            <div id=\"a420c796-c62c-447a-9f23-ac3f60102087\" class=\"plotly-graph-div\" style=\"height:400px; width:100%;\"></div>\n",
       "            <script type=\"text/javascript\">\n",
       "                require([\"plotly\"], function(Plotly) {\n",
       "                    window.PLOTLYENV=window.PLOTLYENV || {};\n",
       "                    \n",
       "                if (document.getElementById(\"a420c796-c62c-447a-9f23-ac3f60102087\")) {\n",
       "                    Plotly.newPlot(\n",
       "                        'a420c796-c62c-447a-9f23-ac3f60102087',\n",
       "                        [{\"alignmentgroup\": \"True\", \"hoverlabel\": {\"namelength\": 0}, \"hovertemplate\": \"critic=%{x}<br>quote=%{y}\", \"legendgroup\": \"\", \"marker\": {\"color\": \"#636efa\"}, \"name\": \"\", \"offsetgroup\": \"\", \"orientation\": \"v\", \"showlegend\": false, \"textposition\": \"auto\", \"type\": \"bar\", \"x\": [\"A.D. Murphy\", \"A.H. Weiler\", \"A.O. Scott\", \"Aaron Hillis\", \"Abel Green\", \"Achy Obejas\", \"Adam Graham\", \"Adam Markovitz\", \"Akiva Gottlieb\", \"Al Brumley\", \"Alan Scherstuhl\", \"Alfred Rushford Greason\", \"Alissa Simon\", \"Allen Barra\", \"Allison Benedikt\", \"Amos Barshad\", \"Amy Biancolli\", \"Amy Dawes\", \"Amy E. Schwartz\", \"Amy Simmons\", \"Amy Taubin\", \"Ana Marie Cox\", \"Andre Sennwald\", \"Andrea C. Basora\", \"Andrea Gronvall\", \"Andrew Geller\", \"Andrew O'Hehir\", \"Andrew Ross\", \"Andrew Sarris\", \"Anita Gates\", \"Ann Hornaday\", \"Anna Smith\", \"Anthony Lane\", \"Anthony Puccinelli\", \"Arthur Schlesinger\", \"Athima Chansanchai\", \"B. Kite\", \"B.J. Sigesmund\", \"Barbara Shulgasser\", \"Barbara Thomas\", \"Ben Kenigsberg\", \"Ben Lyons\", \"Ben Mankiewicz\", \"Ben Walters\", \"Benedict Nightingale\", \"Bert Briller\", \"Betsy Sharkey\", \"Bilge Ebiri\", \"Bill Boisvert\", \"Bill Goodykoontz\", \"Bill Muller\", \"Bill Stamets\", \"Bill Zwecker\", \"Bob Campbell\", \"Bob Graham\", \"Bob Heisler\", \"Bob Longino\", \"Bob Mondello\", \"Bosley Crowther\", \"Brangien Davis\", \"Brendan Kelly\", \"Brian Lowry\", \"Brian Miller\", \"Bruce Demara\", \"Bruce Diones\", \"Bruce Fretts\", \"Bruce Newman\", \"Bruce Walker\", \"Bruce Westbrook\", \"C.W. Nevius\", \"Calvin Wilson\", \"Carina Chocano\", \"Carla Meyer\", \"Carol Buckland\", \"Carol Lloyd\", \"Carrie Rickey\", \"Caryn James\", \"Cath Clarke\", \"Catherine Dawson March\", \"Charles Champlin\", \"Charles Ealy\", \"Charles Schreger\", \"Charles Solomon\", \"Charles Taylor\", \"Charlotte O'Sullivan\", \"Chelsea Bain\", \"Chris Colin\", \"Chris Nashawaty\", \"Chris Peachment\", \"Chris Tamarri\", \"Chris Vognar\", \"Chris Willman\", \"Christine Dolen\", \"Christopher Harris\", \"Christopher Orr\", \"Christy DeSmith\", \"Christy Lemire\", \"Chuck Stephens\", \"Chuck Wilson\", \"Clark Collis\", \"Claudia Puig\", \"Cliff Doerksen\", \"Clifford Terry\", \"Cole Haddon\", \"Colin Covert\", \"Connie Ogle\", \"Craig Seligman\", \"Crosby Day\", \"Cynthia Joyce\", \"Dale Pollock\", \"Damon Smith\", \"Dan Fienberg\", \"Dan Kois\", \"Dan Zak\", \"Dana Stevens\", \"Daniel Gray Longino\", \"Daniel M. Kimmel\", \"Daniel Mangin\", \"Daphne Gordon\", \"Dave Calhoun\", \"Dave Kaufman\", \"Dave Kehr\", \"David Ansen\", \"David Chute\", \"David Denby\", \"David Edelstein\", \"David Fear\", \"David Germain\", \"David Hiltbrand\", \"David Jenkins\", \"David Kronke\", \"David Mermelstein\", \"David Mills\", \"David Ng\", \"David Rooney\", \"David Stratton\", \"David Thomson\", \"David Wiegand\", \"Deborah Young\", \"Delmore Schwartz\", \"Dennis Harvey\", \"Dennis Lim\", \"Derek Adams\", \"Derek Elley\", \"Desmond Ryan\", \"Desson Thomson\", \"Dick Kreck\", \"Don Druker\", \"Don McKellar\", \"Doug Saunders\", \"Doug Thomas\", \"Douglas Cruickshank\", \"Dwight Garner\", \"Ed Gonzalez\", \"Ed Halter\", \"Ed Park\", \"Eddie Cockrell\", \"Edward Guthmann\", \"Edward Margulies\", \"Edwin Schallert\", \"Eleanor Ringel Gillespie\", \"Elizabeth M. Tamny\", \"Elizabeth Weitzman\", \"Elizabeth Williams\", \"Ella Taylor\", \"Elliott Stein\", \"Elvis Mitchell\", \"Emanuel Levy\", \"Eric Brace\", \"Eric D. Snider\", \"Eric Harrison\", \"Eric Hynes\", \"Erik Lundegaard\", \"Erin Richter\", \"Ernest Hardy\", \"Esther Iverem\", \"Eugene Archer\", \"Eve Zibart\", \"F.X. Feeney\", \"Francis X. Clines\", \"Frank Ahrens\", \"Frank Rich\", \"Frank S. Nugent\", \"Fred Camper\", \"G. Allen Johnson\", \"Gary Arnold\", \"Gary Dauphin\", \"Gary Dowell\", \"Gary Dretzka\", \"Gary Goldstein\", \"Gary Kamiya\", \"Gene Moskowitz\", \"Gene Seymour\", \"Gene Siskel\", \"Geoff Andrew\", \"Geoff Pevere\", \"Gerald Clarke\", \"Gina Fattore\", \"Glenn Collins\", \"Glenn Lovell\", \"Glenn Whipp\", \"Godfrey Cheshire\", \"Greg Quill\", \"Hal Hinson\", \"Hank Sartin\", \"Hap Erstein\", \"Harold C. Schonberg\", \"Hazel-Dawn Dumpert\", \"Henry Allen\", \"Herb Golden\", \"Herb Schoenfeld\", \"Hillel Italie\", \"Hobe Morrison\", \"Howard Thompson\", \"J. Hoberman\", \"J. R. Jones\", \"Jack Kroll\", \"Jack Mathews\", \"Jack Pitman\", \"Jake Tracer\", \"James Berardinelli\", \"James Harwood\", \"James Rocchi\", \"Jami Bernard\", \"Jan Stuart\", \"Jane Horwitz\", \"Jane Sumner\", \"Janelle Brown\", \"Janet Maslin\", \"Janice Page\", \"Jason Anderson\", \"Jay Boyar\", \"Jay Carr\", \"Jay Cocks\", \"Jeanne Cooper\", \"Jeannette Catsoulis\", \"Jeff Giles\", \"Jeff Millar\", \"Jeff Shannon\", \"Jeff Strickler\", \"Jeff Unger\", \"Jeffrey Wells\", \"Jen Chaney\", \"Jenn Shreve\", \"Jennie Punter\", \"Jennie Yabroff\", \"Jennifer Preyss\", \"Jeremy Gerard\", \"Jesse Hamlin\", \"Jessica Reaves\", \"Jessica Winter\", \"Jim Emerson\", \"Jim Ridley\", \"Joan Walsh\", \"Joanne Kaufman\", \"Joe Baltake\", \"Joe Bigelow\", \"Joe Brown\", \"Joe Leydon\", \"Joe McGovern\", \"Joe Morgenstern\", \"Joe Neumaier\", \"Joe Williams\", \"Joey Guerra\", \"Johanna Steinmetz\", \"John Anderson\", \"John C. Flinn Sr.\", \"John Corry\", \"John Dooley\", \"John F. Kelly\", \"John Hartl\", \"John Haslett Cuff\", \"John Hofsess\", \"John L. Wasserman\", \"John Monaghan\", \"John Moore\", \"John Patterson\", \"John Petrakis\", \"John Skow\", \"Jonas Mekas\", \"Jonathan F. Richards\", \"Jonathan Foreman\", \"Jonathan Holland\", \"Jonathan Kiefer\", \"Jonathan Lethem\", \"Jonathan Rosenbaum\", \"Jorge Morales\", \"Joseph Litsch\", \"Joseph McBride\", \"Joshua Katzman\", \"Joshua Land\", \"Joshua Rothkopf\", \"Joyce Millman\", \"Judith Crist\", \"Judith Martin\", \"Julia Wallace\", \"Justin Berton\", \"Justin Chang\", \"Justine Elias\", \"Kamal Al-Solaylee\", \"Kate Taylor\", \"Kathie Smith\", \"Kathleen Murphy\", \"Keith Simanton\", \"Keith Staskiewicz\", \"Keith Uhlich\", \"Ken Tucker\", \"Kenneth Turan\", \"Kerry Lengel\", \"Kevin Courrier\", \"Kevin Crust\", \"Kevin Lee\", \"Kevin Maynard\", \"Kevin McManus\", \"Kevin Thomas\", \"King Kaufman\", \"Kris Wilton\", \"Kyle Smith\", \"Lael Loewenstein\", \"Lance Goldenberg\", \"Laremy Legel\", \"Laura Evenson\", \"Laura Kern\", \"Laura Miller\", \"Laura Shapiro\", \"Lawrence Cohn\", \"Lawrence Van Gelder\", \"Lawson Taitte\", \"Leah McLaren\", \"Leba Hertz\", \"Leonard Klady\", \"Liam Lacey\", \"Linda Barnard\", \"Lisa Alspector\", \"Lisa Kennedy\", \"Lisa Nesselson\", \"Lisa Rose\", \"Lisa Schwarzbaum\", \"Lloyd Rose\", \"Logan Hill\", \"Lonnae O'Neal Parker\", \"Loren King\", \"Lou Lumenick\", \"Louis B. Parks\", \"Louise Kennedy\", \"Malene Arpe\", \"Manny Farber\", \"Manohla Dargis\", \"Mario Tarradell\", \"Mark Bourne\", \"Mark Caro\", \"Mark Chalon Smith\", \"Mark Feeney\", \"Mark Holcomb\", \"Mark Medley\", \"Mark Olsen\", \"Mark Rahner\", \"Mark Salisbury\", \"Marta Barber\", \"Martin Hoyle\", \"Mary Elizabeth Williams\", \"Mary Houlihan\", \"Matt Zoller Seitz\", \"Megan Rosenfeld\", \"Melissa Anderson\", \"Michael Atkinson\", \"Michael Booth\", \"Michael O'Sullivan\", \"Michael Phillips\", \"Michael Snyder\", \"Michael Sragow\", \"Michael Upchurch\", \"Michael Wilmington\", \"Michelle Goldberg\", \"Mick LaSalle\", \"Mike Clark\", \"Mike Kaplan\", \"Mike Musgrove\", \"Milo Miles\", \"Misha Berson\", \"Moira MacDonald\", \"Molly Haskell\", \"Monica Eng\", \"Mordaunt Hall\", \"Nancy Churnin\", \"Nathan Lee\", \"Neely Tucker\", \"Nell Minow\", \"Nick Pinkerton\", \"Nick Schager\", \"Nicole Arthur\", \"Nigel Floyd\", \"Nina Caplan\", \"Nina Darnton\", \"Nora Sayre\", \"Norman Chad\", \"Otis Ferguson\", \"Owen Gleiberman\", \"Paine Knickerbocker\", \"Pam Grady\", \"Pat Graham\", \"Patrick Goldstein\", \"Paul Attanasio\", \"Paul Clinton (CNN.com)\", \"Paul Malcolm\", \"Paul Tatara\", \"Pauline Kael\", \"Penelope Gilliatt\", \"Peter Debruge\", \"Peter Hartlaub\", \"Peter Howell\", \"Peter L'Official\", \"Peter M. Nichols\", \"Peter Rainer\", \"Peter Stack\", \"Peter Travers\", \"Philip Kennicott\", \"Philip Roth\", \"Philip Wuntch\", \"R. Emmet Sweeney\", \"Rafer Guzman\", \"Rashod D. Ollison\", \"Ray Conlogue\", \"Renata Adler\", \"Rene Rodriguez\", \"Rex Reed\", \"Rich Cohen\", \"Rich Gold\", \"Richard Brody\", \"Richard Corliss\", \"Richard Eder\", \"Richard Harrington\", \"Richard Leiby\", \"Richard McGuinness\", \"Richard Natale\", \"Richard Nilsen\", \"Richard Ouzounian\", \"Richard Roeper\", \"Richard Schickel\", \"Rick Groen\", \"Rita Kempley\", \"Rob Nelson\", \"Rob Salem\", \"Robert Abele\", \"Robert B. Frederick\", \"Robert Denerstein\", \"Robert Hatch\", \"Robert J. Landry\", \"Robert K. Elder\", \"Robert Koehler\", \"Robin Dougherty\", \"Robin Rauzi\", \"Rod Dreher\", \"Roger Ebert\", \"Roger Greenspun\", \"Roger Moore\", \"Ron Givens\", \"Ron Stringer\", \"Ronald Holloway\", \"Ronnie Scheib\", \"Roy Chartier\", \"Russell Edwards\", \"Ruth Ford\", \"Ruth Hessey\", \"Ruthe Stein\", \"Sam Adams\", \"Sam Hurwitt\", \"Sara Frederick\", \"Sara Gebhardt\", \"Sarah Kerr\", \"Scott Bowles\", \"Scott Brown\", \"Scott Foundas\", \"Scott Rosenberg\", \"Sean Daly\", \"Sean Howe\", \"Sean O'Connell\", \"Sheila Benson\", \"Shirley O'Hara\", \"Sid Silverman\", \"Sid Smith\", \"Simon Houpt\", \"Stanley Kauffmann\", \"Stefan Kanfer\", \"Stephanie Merry\", \"Stephanie Zacharek\", \"Stephen Cole\", \"Stephen Garrett\", \"Stephen Holden\", \"Stephen Hunter\", \"Stephen Klain\", \"Stephen Whitty\", \"Steve Daly\", \"Steve Murray\", \"Steven Gaydos\", \"Steven Rea\", \"Steven Rosen\", \"Steven Winn\", \"Susan Stark\", \"Susan Walker\", \"Suzanne O'Connor\", \"Tasha Robinson\", \"Ted Anthony\", \"Ted Fry\", \"Ted Shen\", \"Teresa Wiltz\", \"Terrence Rafferty\", \"Terry Lawson\", \"Theodore Strauss\", \"Thomas M. Pryor\", \"Thomas O'Connor\", \"Tim Grierson\", \"Tim Purtell\", \"Todd Gilchrist\", \"Todd McCarthy\", \"Tom Charity\", \"Tom Huddleston\", \"Tom Huddlestone\", \"Tom Keogh\", \"Tom Long\", \"Tom Maurstad\", \"Tom Milne\", \"Tom Russo\", \"Tom Sime\", \"Tony Wong\", \"Trevor Johnston\", \"Trevor Lewis\", \"Ty Burr\", \"V.A. Musetto\", \"Variety Staff\", \"Vic Vogler\", \"Vincent Canby\", \"Wally Hammond\", \"Walter Goodman\", \"Walter V. Addiego\", \"Wesley Morris\", \"Whitney Willaims\", \"Whittaker Chambers\", \"William Brogdon\", \"William Goss\"], \"xaxis\": \"x\", \"y\": [14, 17, 10, 2, 5, 1, 7, 1, 2, 2, 2, 3, 1, 1, 1, 1, 26, 2, 1, 2, 11, 1, 5, 2, 9, 1, 31, 3, 66, 14, 17, 5, 25, 1, 1, 1, 1, 1, 3, 1, 2, 15, 15, 16, 1, 1, 6, 1, 1, 7, 12, 6, 1, 2, 52, 4, 15, 9, 137, 1, 4, 34, 1, 3, 5, 4, 3, 1, 25, 2, 2, 5, 4, 1, 1, 35, 67, 3, 1, 4, 1, 1, 2, 70, 6, 1, 2, 8, 2, 1, 16, 1, 2, 3, 7, 2, 8, 1, 6, 2, 31, 1, 5, 1, 28, 12, 2, 1, 2, 2, 1, 1, 1, 1, 6, 1, 23, 2, 3, 16, 1, 360, 51, 1, 36, 62, 14, 4, 1, 14, 5, 1, 1, 1, 10, 9, 3, 1, 1, 1, 16, 17, 154, 17, 31, 373, 1, 48, 1, 3, 5, 1, 3, 2, 1, 2, 3, 121, 1, 2, 30, 1, 22, 1, 5, 5, 4, 110, 4, 1, 25, 2, 4, 1, 1, 5, 2, 2, 3, 1, 1, 4, 18, 1, 1, 2, 12, 3, 1, 1, 9, 1, 5, 83, 361, 25, 2, 2, 1, 10, 1, 11, 1, 174, 3, 4, 1, 6, 1, 3, 1, 1, 1, 5, 78, 22, 9, 52, 1, 1, 833, 3, 1, 8, 8, 3, 7, 2, 526, 4, 5, 95, 2, 8, 1, 3, 3, 86, 18, 32, 1, 3, 1, 2, 5, 1, 1, 3, 1, 1, 15, 1, 1, 1, 2, 231, 2, 34, 50, 2, 43, 9, 3, 1, 3, 12, 6, 1, 2, 4, 26, 5, 1, 2, 11, 1, 1, 11, 1, 1, 4, 1, 2, 4, 3, 420, 1, 1, 6, 2, 1, 30, 1, 1, 2, 1, 2, 3, 4, 2, 2, 1, 3, 5, 1, 17, 10, 282, 1, 2, 6, 1, 2, 12, 145, 1, 1, 18, 9, 1, 2, 2, 1, 9, 1, 3, 48, 1, 1, 1, 66, 111, 2, 80, 26, 9, 10, 117, 8, 1, 1, 1, 12, 13, 1, 2, 3, 10, 1, 10, 16, 1, 2, 1, 1, 4, 6, 2, 4, 1, 20, 1, 2, 5, 3, 26, 19, 28, 21, 1, 23, 2, 103, 1, 280, 13, 1, 1, 1, 1, 49, 1, 1, 14, 4, 7, 1, 1, 5, 1, 1, 16, 1, 8, 3, 1, 3, 241, 2, 1, 29, 2, 17, 26, 1, 56, 10, 2, 6, 14, 41, 1, 1, 99, 138, 20, 4, 1, 13, 2, 5, 1, 6, 5, 32, 15, 1, 2, 11, 104, 4, 65, 2, 1, 1, 1, 1, 38, 106, 129, 236, 5, 1, 3, 3, 2, 2, 3, 1, 10, 4, 2, 2, 1150, 6, 56, 1, 1, 1, 2, 1, 1, 1, 2, 39, 3, 1, 1, 1, 1, 1, 1, 10, 11, 1, 1, 1, 23, 2, 2, 4, 1, 10, 2, 1, 64, 7, 23, 166, 36, 1, 39, 1, 40, 1, 33, 6, 1, 167, 6, 1, 1, 1, 2, 3, 2, 17, 38, 2, 3, 1, 1, 1, 1, 223, 1, 5, 7, 9, 45, 5, 20, 2, 2, 1, 38, 1, 50, 2, 449, 1, 207, 38, 7, 2, 15, 4, 3, 4, 3], \"yaxis\": \"y\"}],\n",
       "                        {\"barmode\": \"relative\", \"height\": 400, \"legend\": {\"tracegroupgap\": 0}, \"margin\": {\"t\": 60}, \"template\": {\"data\": {\"bar\": [{\"error_x\": {\"color\": \"#2a3f5f\"}, \"error_y\": {\"color\": \"#2a3f5f\"}, \"marker\": {\"line\": {\"color\": \"#E5ECF6\", \"width\": 0.5}}, \"type\": \"bar\"}], \"barpolar\": [{\"marker\": {\"line\": {\"color\": \"#E5ECF6\", \"width\": 0.5}}, \"type\": \"barpolar\"}], \"carpet\": [{\"aaxis\": {\"endlinecolor\": \"#2a3f5f\", \"gridcolor\": \"white\", \"linecolor\": \"white\", \"minorgridcolor\": \"white\", \"startlinecolor\": \"#2a3f5f\"}, \"baxis\": {\"endlinecolor\": \"#2a3f5f\", \"gridcolor\": \"white\", \"linecolor\": \"white\", \"minorgridcolor\": \"white\", \"startlinecolor\": \"#2a3f5f\"}, \"type\": \"carpet\"}], \"choropleth\": [{\"colorbar\": {\"outlinewidth\": 0, \"ticks\": \"\"}, \"type\": \"choropleth\"}], \"contour\": [{\"colorbar\": {\"outlinewidth\": 0, \"ticks\": \"\"}, \"colorscale\": [[0.0, \"#0d0887\"], [0.1111111111111111, \"#46039f\"], [0.2222222222222222, \"#7201a8\"], [0.3333333333333333, \"#9c179e\"], [0.4444444444444444, \"#bd3786\"], [0.5555555555555556, \"#d8576b\"], [0.6666666666666666, \"#ed7953\"], [0.7777777777777778, \"#fb9f3a\"], [0.8888888888888888, \"#fdca26\"], [1.0, \"#f0f921\"]], \"type\": \"contour\"}], \"contourcarpet\": [{\"colorbar\": {\"outlinewidth\": 0, \"ticks\": \"\"}, \"type\": \"contourcarpet\"}], \"heatmap\": [{\"colorbar\": {\"outlinewidth\": 0, \"ticks\": \"\"}, \"colorscale\": [[0.0, \"#0d0887\"], [0.1111111111111111, \"#46039f\"], [0.2222222222222222, \"#7201a8\"], [0.3333333333333333, \"#9c179e\"], [0.4444444444444444, \"#bd3786\"], [0.5555555555555556, \"#d8576b\"], [0.6666666666666666, \"#ed7953\"], [0.7777777777777778, \"#fb9f3a\"], [0.8888888888888888, \"#fdca26\"], [1.0, \"#f0f921\"]], \"type\": \"heatmap\"}], \"heatmapgl\": [{\"colorbar\": {\"outlinewidth\": 0, \"ticks\": \"\"}, \"colorscale\": [[0.0, \"#0d0887\"], [0.1111111111111111, \"#46039f\"], [0.2222222222222222, \"#7201a8\"], [0.3333333333333333, \"#9c179e\"], [0.4444444444444444, \"#bd3786\"], [0.5555555555555556, \"#d8576b\"], [0.6666666666666666, \"#ed7953\"], [0.7777777777777778, \"#fb9f3a\"], [0.8888888888888888, \"#fdca26\"], [1.0, \"#f0f921\"]], \"type\": \"heatmapgl\"}], \"histogram\": [{\"marker\": {\"colorbar\": {\"outlinewidth\": 0, \"ticks\": \"\"}}, \"type\": \"histogram\"}], \"histogram2d\": [{\"colorbar\": {\"outlinewidth\": 0, \"ticks\": \"\"}, \"colorscale\": [[0.0, \"#0d0887\"], [0.1111111111111111, \"#46039f\"], [0.2222222222222222, \"#7201a8\"], [0.3333333333333333, \"#9c179e\"], [0.4444444444444444, \"#bd3786\"], [0.5555555555555556, \"#d8576b\"], [0.6666666666666666, \"#ed7953\"], [0.7777777777777778, \"#fb9f3a\"], [0.8888888888888888, \"#fdca26\"], [1.0, \"#f0f921\"]], \"type\": \"histogram2d\"}], \"histogram2dcontour\": [{\"colorbar\": {\"outlinewidth\": 0, \"ticks\": \"\"}, \"colorscale\": [[0.0, \"#0d0887\"], [0.1111111111111111, \"#46039f\"], [0.2222222222222222, \"#7201a8\"], [0.3333333333333333, \"#9c179e\"], [0.4444444444444444, \"#bd3786\"], [0.5555555555555556, \"#d8576b\"], [0.6666666666666666, \"#ed7953\"], [0.7777777777777778, \"#fb9f3a\"], [0.8888888888888888, \"#fdca26\"], [1.0, \"#f0f921\"]], \"type\": \"histogram2dcontour\"}], \"mesh3d\": [{\"colorbar\": {\"outlinewidth\": 0, \"ticks\": \"\"}, \"type\": \"mesh3d\"}], \"parcoords\": [{\"line\": {\"colorbar\": {\"outlinewidth\": 0, \"ticks\": \"\"}}, \"type\": \"parcoords\"}], \"pie\": [{\"automargin\": true, \"type\": \"pie\"}], \"scatter\": [{\"marker\": {\"colorbar\": {\"outlinewidth\": 0, \"ticks\": \"\"}}, \"type\": \"scatter\"}], \"scatter3d\": [{\"line\": {\"colorbar\": {\"outlinewidth\": 0, \"ticks\": \"\"}}, \"marker\": {\"colorbar\": {\"outlinewidth\": 0, \"ticks\": \"\"}}, \"type\": \"scatter3d\"}], \"scattercarpet\": [{\"marker\": {\"colorbar\": {\"outlinewidth\": 0, \"ticks\": \"\"}}, \"type\": \"scattercarpet\"}], \"scattergeo\": [{\"marker\": {\"colorbar\": {\"outlinewidth\": 0, \"ticks\": \"\"}}, \"type\": \"scattergeo\"}], \"scattergl\": [{\"marker\": {\"colorbar\": {\"outlinewidth\": 0, \"ticks\": \"\"}}, \"type\": \"scattergl\"}], \"scattermapbox\": [{\"marker\": {\"colorbar\": {\"outlinewidth\": 0, \"ticks\": \"\"}}, \"type\": \"scattermapbox\"}], \"scatterpolar\": [{\"marker\": {\"colorbar\": {\"outlinewidth\": 0, \"ticks\": \"\"}}, \"type\": \"scatterpolar\"}], \"scatterpolargl\": [{\"marker\": {\"colorbar\": {\"outlinewidth\": 0, \"ticks\": \"\"}}, \"type\": \"scatterpolargl\"}], \"scatterternary\": [{\"marker\": {\"colorbar\": {\"outlinewidth\": 0, \"ticks\": \"\"}}, \"type\": \"scatterternary\"}], \"surface\": [{\"colorbar\": {\"outlinewidth\": 0, \"ticks\": \"\"}, \"colorscale\": [[0.0, \"#0d0887\"], [0.1111111111111111, \"#46039f\"], [0.2222222222222222, \"#7201a8\"], [0.3333333333333333, \"#9c179e\"], [0.4444444444444444, \"#bd3786\"], [0.5555555555555556, \"#d8576b\"], [0.6666666666666666, \"#ed7953\"], [0.7777777777777778, \"#fb9f3a\"], [0.8888888888888888, \"#fdca26\"], [1.0, \"#f0f921\"]], \"type\": \"surface\"}], \"table\": [{\"cells\": {\"fill\": {\"color\": \"#EBF0F8\"}, \"line\": {\"color\": \"white\"}}, \"header\": {\"fill\": {\"color\": \"#C8D4E3\"}, \"line\": {\"color\": \"white\"}}, \"type\": \"table\"}]}, \"layout\": {\"annotationdefaults\": {\"arrowcolor\": \"#2a3f5f\", \"arrowhead\": 0, \"arrowwidth\": 1}, \"coloraxis\": {\"colorbar\": {\"outlinewidth\": 0, \"ticks\": \"\"}}, \"colorscale\": {\"diverging\": [[0, \"#8e0152\"], [0.1, \"#c51b7d\"], [0.2, \"#de77ae\"], [0.3, \"#f1b6da\"], [0.4, \"#fde0ef\"], [0.5, \"#f7f7f7\"], [0.6, \"#e6f5d0\"], [0.7, \"#b8e186\"], [0.8, \"#7fbc41\"], [0.9, \"#4d9221\"], [1, \"#276419\"]], \"sequential\": [[0.0, \"#0d0887\"], [0.1111111111111111, \"#46039f\"], [0.2222222222222222, \"#7201a8\"], [0.3333333333333333, \"#9c179e\"], [0.4444444444444444, \"#bd3786\"], [0.5555555555555556, \"#d8576b\"], [0.6666666666666666, \"#ed7953\"], [0.7777777777777778, \"#fb9f3a\"], [0.8888888888888888, \"#fdca26\"], [1.0, \"#f0f921\"]], \"sequentialminus\": [[0.0, \"#0d0887\"], [0.1111111111111111, \"#46039f\"], [0.2222222222222222, \"#7201a8\"], [0.3333333333333333, \"#9c179e\"], [0.4444444444444444, \"#bd3786\"], [0.5555555555555556, \"#d8576b\"], [0.6666666666666666, \"#ed7953\"], [0.7777777777777778, \"#fb9f3a\"], [0.8888888888888888, \"#fdca26\"], [1.0, \"#f0f921\"]]}, \"colorway\": [\"#636efa\", \"#EF553B\", \"#00cc96\", \"#ab63fa\", \"#FFA15A\", \"#19d3f3\", \"#FF6692\", \"#B6E880\", \"#FF97FF\", \"#FECB52\"], \"font\": {\"color\": \"#2a3f5f\"}, \"geo\": {\"bgcolor\": \"white\", \"lakecolor\": \"white\", \"landcolor\": \"#E5ECF6\", \"showlakes\": true, \"showland\": true, \"subunitcolor\": \"white\"}, \"hoverlabel\": {\"align\": \"left\"}, \"hovermode\": \"closest\", \"mapbox\": {\"style\": \"light\"}, \"paper_bgcolor\": \"white\", \"plot_bgcolor\": \"#E5ECF6\", \"polar\": {\"angularaxis\": {\"gridcolor\": \"white\", \"linecolor\": \"white\", \"ticks\": \"\"}, \"bgcolor\": \"#E5ECF6\", \"radialaxis\": {\"gridcolor\": \"white\", \"linecolor\": \"white\", \"ticks\": \"\"}}, \"scene\": {\"xaxis\": {\"backgroundcolor\": \"#E5ECF6\", \"gridcolor\": \"white\", \"gridwidth\": 2, \"linecolor\": \"white\", \"showbackground\": true, \"ticks\": \"\", \"zerolinecolor\": \"white\"}, \"yaxis\": {\"backgroundcolor\": \"#E5ECF6\", \"gridcolor\": \"white\", \"gridwidth\": 2, \"linecolor\": \"white\", \"showbackground\": true, \"ticks\": \"\", \"zerolinecolor\": \"white\"}, \"zaxis\": {\"backgroundcolor\": \"#E5ECF6\", \"gridcolor\": \"white\", \"gridwidth\": 2, \"linecolor\": \"white\", \"showbackground\": true, \"ticks\": \"\", \"zerolinecolor\": \"white\"}}, \"shapedefaults\": {\"line\": {\"color\": \"#2a3f5f\"}}, \"ternary\": {\"aaxis\": {\"gridcolor\": \"white\", \"linecolor\": \"white\", \"ticks\": \"\"}, \"baxis\": {\"gridcolor\": \"white\", \"linecolor\": \"white\", \"ticks\": \"\"}, \"bgcolor\": \"#E5ECF6\", \"caxis\": {\"gridcolor\": \"white\", \"linecolor\": \"white\", \"ticks\": \"\"}}, \"title\": {\"x\": 0.05}, \"xaxis\": {\"automargin\": true, \"gridcolor\": \"white\", \"linecolor\": \"white\", \"ticks\": \"\", \"title\": {\"standoff\": 15}, \"zerolinecolor\": \"white\", \"zerolinewidth\": 2}, \"yaxis\": {\"automargin\": true, \"gridcolor\": \"white\", \"linecolor\": \"white\", \"ticks\": \"\", \"title\": {\"standoff\": 15}, \"zerolinecolor\": \"white\", \"zerolinewidth\": 2}}}, \"xaxis\": {\"anchor\": \"y\", \"domain\": [0.0, 1.0], \"title\": {\"text\": \"critic\"}}, \"yaxis\": {\"anchor\": \"x\", \"domain\": [0.0, 1.0], \"title\": {\"text\": \"quote\"}}},\n",
       "                        {\"responsive\": true}\n",
       "                    ).then(function(){\n",
       "                            \n",
       "var gd = document.getElementById('a420c796-c62c-447a-9f23-ac3f60102087');\n",
       "var x = new MutationObserver(function (mutations, observer) {{\n",
       "        var display = window.getComputedStyle(gd).display;\n",
       "        if (!display || display === 'none') {{\n",
       "            console.log([gd, 'removed!']);\n",
       "            Plotly.purge(gd);\n",
       "            observer.disconnect();\n",
       "        }}\n",
       "}});\n",
       "\n",
       "// Listen for the removal of the full notebook cells\n",
       "var notebookContainer = gd.closest('#notebook-container');\n",
       "if (notebookContainer) {{\n",
       "    x.observe(notebookContainer, {childList: true});\n",
       "}}\n",
       "\n",
       "// Listen for the clearing of the current output cell\n",
       "var outputEl = gd.closest('.output');\n",
       "if (outputEl) {{\n",
       "    x.observe(outputEl, {childList: true});\n",
       "}}\n",
       "\n",
       "                        })\n",
       "                };\n",
       "                });\n",
       "            </script>\n",
       "        </div>"
      ]
     },
     "metadata": {},
     "output_type": "display_data"
    }
   ],
   "source": [
    "\n",
    "fig = px.bar(reviewer_reviews, x='critic', y='quote',\n",
    "             labels={'pop':'population of Canada'}, height=400)\n",
    "fig.show()"
   ]
  },
  {
   "cell_type": "markdown",
   "metadata": {},
   "source": [
    "###  Zoom in on a few reviewers\n",
    "Find the 30 critics with the most reviews, and list their names in a table along with (a) the name of the publication they work for, (b) the date of their first review, and (c) the date of their last review\n",
    "\n",
    "*hint: use the groupby function to do this quickly*"
   ]
  },
  {
   "cell_type": "code",
   "execution_count": 26,
   "metadata": {},
   "outputs": [
    {
     "data": {
      "text/html": [
       "<div>\n",
       "<style>\n",
       "    .dataframe thead tr:only-child th {\n",
       "        text-align: right;\n",
       "    }\n",
       "\n",
       "    .dataframe thead th {\n",
       "        text-align: left;\n",
       "    }\n",
       "\n",
       "    .dataframe tbody tr th {\n",
       "        vertical-align: top;\n",
       "    }\n",
       "</style>\n",
       "<table border=\"1\" class=\"dataframe\">\n",
       "  <thead>\n",
       "    <tr>\n",
       "      <th></th>\n",
       "      <th>critic</th>\n",
       "      <th colspan=\"2\" halign=\"left\">review_date</th>\n",
       "      <th>publication</th>\n",
       "      <th>quote</th>\n",
       "    </tr>\n",
       "    <tr>\n",
       "      <th></th>\n",
       "      <th></th>\n",
       "      <th>max</th>\n",
       "      <th>min</th>\n",
       "      <th>max</th>\n",
       "      <th>count</th>\n",
       "    </tr>\n",
       "  </thead>\n",
       "  <tbody>\n",
       "    <tr>\n",
       "      <th>0</th>\n",
       "      <td>Roger Ebert</td>\n",
       "      <td>2013-06-11</td>\n",
       "      <td>2000-01-01</td>\n",
       "      <td>Chicago Sun-Times</td>\n",
       "      <td>1150</td>\n",
       "    </tr>\n",
       "    <tr>\n",
       "      <th>1</th>\n",
       "      <td>James Berardinelli</td>\n",
       "      <td>2012-02-07</td>\n",
       "      <td>1800-01-01</td>\n",
       "      <td>ReelViews</td>\n",
       "      <td>833</td>\n",
       "    </tr>\n",
       "    <tr>\n",
       "      <th>2</th>\n",
       "      <td>Janet Maslin</td>\n",
       "      <td>2010-09-07</td>\n",
       "      <td>2000-01-01</td>\n",
       "      <td>New York Times</td>\n",
       "      <td>526</td>\n",
       "    </tr>\n",
       "    <tr>\n",
       "      <th>3</th>\n",
       "      <td>Variety Staff</td>\n",
       "      <td>2012-08-15</td>\n",
       "      <td>2001-02-13</td>\n",
       "      <td>Variety</td>\n",
       "      <td>449</td>\n",
       "    </tr>\n",
       "    <tr>\n",
       "      <th>4</th>\n",
       "      <td>Jonathan Rosenbaum</td>\n",
       "      <td>2013-10-22</td>\n",
       "      <td>1988-07-11</td>\n",
       "      <td>Chicago Reader</td>\n",
       "      <td>420</td>\n",
       "    </tr>\n",
       "    <tr>\n",
       "      <th>5</th>\n",
       "      <td>Desson Thomson</td>\n",
       "      <td>2012-10-08</td>\n",
       "      <td>2000-01-01</td>\n",
       "      <td>Washington Post</td>\n",
       "      <td>373</td>\n",
       "    </tr>\n",
       "    <tr>\n",
       "      <th>6</th>\n",
       "      <td>Geoff Andrew</td>\n",
       "      <td>2012-04-05</td>\n",
       "      <td>2005-08-11</td>\n",
       "      <td>Time Out</td>\n",
       "      <td>361</td>\n",
       "    </tr>\n",
       "    <tr>\n",
       "      <th>7</th>\n",
       "      <td>Dave Kehr</td>\n",
       "      <td>2013-11-20</td>\n",
       "      <td>2000-01-01</td>\n",
       "      <td>New York Daily News</td>\n",
       "      <td>360</td>\n",
       "    </tr>\n",
       "    <tr>\n",
       "      <th>8</th>\n",
       "      <td>Kenneth Turan</td>\n",
       "      <td>2013-10-05</td>\n",
       "      <td>2000-01-01</td>\n",
       "      <td>Los Angeles Times</td>\n",
       "      <td>282</td>\n",
       "    </tr>\n",
       "    <tr>\n",
       "      <th>9</th>\n",
       "      <td>Mick LaSalle</td>\n",
       "      <td>2009-11-25</td>\n",
       "      <td>2000-01-01</td>\n",
       "      <td>San Francisco Chronicle</td>\n",
       "      <td>280</td>\n",
       "    </tr>\n",
       "    <tr>\n",
       "      <th>10</th>\n",
       "      <td>Owen Gleiberman</td>\n",
       "      <td>2011-09-07</td>\n",
       "      <td>1800-01-01</td>\n",
       "      <td>Entertainment Weekly</td>\n",
       "      <td>241</td>\n",
       "    </tr>\n",
       "    <tr>\n",
       "      <th>11</th>\n",
       "      <td>Rita Kempley</td>\n",
       "      <td>2013-11-02</td>\n",
       "      <td>2000-01-01</td>\n",
       "      <td>Washington Post</td>\n",
       "      <td>236</td>\n",
       "    </tr>\n",
       "    <tr>\n",
       "      <th>12</th>\n",
       "      <td>Joe Baltake</td>\n",
       "      <td>2013-08-04</td>\n",
       "      <td>2000-01-01</td>\n",
       "      <td>Sacramento Bee</td>\n",
       "      <td>231</td>\n",
       "    </tr>\n",
       "    <tr>\n",
       "      <th>13</th>\n",
       "      <td>Todd McCarthy</td>\n",
       "      <td>2012-10-09</td>\n",
       "      <td>2000-01-01</td>\n",
       "      <td>Variety</td>\n",
       "      <td>223</td>\n",
       "    </tr>\n",
       "    <tr>\n",
       "      <th>14</th>\n",
       "      <td>Vincent Canby</td>\n",
       "      <td>2013-07-29</td>\n",
       "      <td>2000-01-01</td>\n",
       "      <td>New York Times</td>\n",
       "      <td>207</td>\n",
       "    </tr>\n",
       "    <tr>\n",
       "      <th>15</th>\n",
       "      <td>Hal Hinson</td>\n",
       "      <td>2013-06-26</td>\n",
       "      <td>2000-01-01</td>\n",
       "      <td>Washington Post</td>\n",
       "      <td>174</td>\n",
       "    </tr>\n",
       "    <tr>\n",
       "      <th>16</th>\n",
       "      <td>Susan Stark</td>\n",
       "      <td>2002-10-25</td>\n",
       "      <td>2000-01-01</td>\n",
       "      <td>Detroit News</td>\n",
       "      <td>167</td>\n",
       "    </tr>\n",
       "    <tr>\n",
       "      <th>17</th>\n",
       "      <td>Stephen Holden</td>\n",
       "      <td>2009-02-06</td>\n",
       "      <td>2000-01-01</td>\n",
       "      <td>New York Times</td>\n",
       "      <td>166</td>\n",
       "    </tr>\n",
       "    <tr>\n",
       "      <th>18</th>\n",
       "      <td>Derek Adams</td>\n",
       "      <td>2009-10-04</td>\n",
       "      <td>2006-01-26</td>\n",
       "      <td>Time Out</td>\n",
       "      <td>154</td>\n",
       "    </tr>\n",
       "    <tr>\n",
       "      <th>19</th>\n",
       "      <td>Kevin Thomas</td>\n",
       "      <td>2013-11-02</td>\n",
       "      <td>2000-01-01</td>\n",
       "      <td>Los Angeles Times</td>\n",
       "      <td>145</td>\n",
       "    </tr>\n",
       "    <tr>\n",
       "      <th>20</th>\n",
       "      <td>Peter Stack</td>\n",
       "      <td>2002-06-18</td>\n",
       "      <td>2000-01-01</td>\n",
       "      <td>San Francisco Chronicle</td>\n",
       "      <td>138</td>\n",
       "    </tr>\n",
       "    <tr>\n",
       "      <th>21</th>\n",
       "      <td>Bosley Crowther</td>\n",
       "      <td>2008-05-06</td>\n",
       "      <td>2000-01-01</td>\n",
       "      <td>New York Times</td>\n",
       "      <td>137</td>\n",
       "    </tr>\n",
       "    <tr>\n",
       "      <th>22</th>\n",
       "      <td>Rick Groen</td>\n",
       "      <td>2009-08-14</td>\n",
       "      <td>2002-03-19</td>\n",
       "      <td>Globe and Mail</td>\n",
       "      <td>129</td>\n",
       "    </tr>\n",
       "    <tr>\n",
       "      <th>23</th>\n",
       "      <td>Edward Guthmann</td>\n",
       "      <td>2003-04-04</td>\n",
       "      <td>2000-01-01</td>\n",
       "      <td>San Francisco Chronicle</td>\n",
       "      <td>121</td>\n",
       "    </tr>\n",
       "    <tr>\n",
       "      <th>24</th>\n",
       "      <td>Lisa Schwarzbaum</td>\n",
       "      <td>2012-08-15</td>\n",
       "      <td>1979-01-01</td>\n",
       "      <td>Entertainment Weekly</td>\n",
       "      <td>117</td>\n",
       "    </tr>\n",
       "    <tr>\n",
       "      <th>25</th>\n",
       "      <td>Liam Lacey</td>\n",
       "      <td>2012-04-04</td>\n",
       "      <td>2001-08-24</td>\n",
       "      <td>Globe and Mail</td>\n",
       "      <td>111</td>\n",
       "    </tr>\n",
       "    <tr>\n",
       "      <th>26</th>\n",
       "      <td>Emanuel Levy</td>\n",
       "      <td>2010-08-06</td>\n",
       "      <td>2000-01-01</td>\n",
       "      <td>Variety</td>\n",
       "      <td>110</td>\n",
       "    </tr>\n",
       "    <tr>\n",
       "      <th>27</th>\n",
       "      <td>Richard Schickel</td>\n",
       "      <td>2013-08-05</td>\n",
       "      <td>2000-01-01</td>\n",
       "      <td>The Atlantic</td>\n",
       "      <td>106</td>\n",
       "    </tr>\n",
       "    <tr>\n",
       "      <th>28</th>\n",
       "      <td>Richard Corliss</td>\n",
       "      <td>2013-11-06</td>\n",
       "      <td>2003-12-16</td>\n",
       "      <td>TIME Magazine</td>\n",
       "      <td>104</td>\n",
       "    </tr>\n",
       "    <tr>\n",
       "      <th>29</th>\n",
       "      <td>Michael Wilmington</td>\n",
       "      <td>2013-11-21</td>\n",
       "      <td>2000-01-01</td>\n",
       "      <td>Los Angeles Times</td>\n",
       "      <td>103</td>\n",
>>>>>>> ba49972fc49071598b6ffdaded6d44197380c711
       "    </tr>\n",
       "  </tbody>\n",
       "</table>\n",
       "</div>"
      ],
      "text/plain": [
       "        EMOTION                 EXAMPLE WORDS   PERCENT\n",
       "0      positive       [good, feature, pretty]  0.075493\n",
       "1         trust      [good, pretty, director]  0.039973\n",
       "2      negative         [black, war, remains]  0.034851\n",
       "3           joy  [good, pretty, entertaining]  0.031956\n",
       "4  anticipation          [good, pretty, time]  0.030286\n",
       "5          fear  [war, remains, intelligence]  0.017593\n",
       "6      surprise   [good, entertainment, hero]  0.015143\n",
       "7       sadness        [black, music, horror]  0.014030\n",
       "8         anger          [moral, horror, bad]  0.013362\n",
       "9       disgust       [remains, john, horror]  0.011691"
      ]
     },
<<<<<<< HEAD
     "execution_count": 17,
=======
     "execution_count": 26,
>>>>>>> ba49972fc49071598b6ffdaded6d44197380c711
     "metadata": {},
     "output_type": "execute_result"
    }
   ],
   "source": [
    "result"
   ]
  },
  {
   "cell_type": "code",
   "execution_count": 18,
   "metadata": {},
   "outputs": [
    {
     "data": {
      "application/javascript": [
       "const spec = {\"config\": {\"view\": {\"width\": 400, \"height\": 300}, \"mark\": {\"tooltip\": null}}, \"data\": {\"name\": \"data-9ab9a7f8d3ac288cce643533e6247a5b\"}, \"mark\": \"bar\", \"encoding\": {\"color\": {\"type\": \"nominal\", \"field\": \"EMOTION\"}, \"tooltip\": {\"type\": \"quantitative\", \"field\": \"PERCENT\"}, \"x\": {\"type\": \"quantitative\", \"field\": \"PERCENT\"}, \"y\": {\"type\": \"nominal\", \"field\": \"EMOTION\", \"sort\": {\"field\": \"PERCENT\", \"op\": \"count\", \"order\": \"ascending\"}}}, \"$schema\": \"https://vega.github.io/schema/vega-lite/v3.4.0.json\", \"datasets\": {\"data-9ab9a7f8d3ac288cce643533e6247a5b\": [{\"EMOTION\": \"positive\", \"EXAMPLE WORDS\": [\"good\", \"feature\", \"pretty\"], \"PERCENT\": 0.07549270682552055}, {\"EMOTION\": \"trust\", \"EXAMPLE WORDS\": [\"good\", \"pretty\", \"director\"], \"PERCENT\": 0.03997327691793787}, {\"EMOTION\": \"negative\", \"EXAMPLE WORDS\": [\"black\", \"war\", \"remains\"], \"PERCENT\": 0.034851352856029395}, {\"EMOTION\": \"joy\", \"EXAMPLE WORDS\": [\"good\", \"pretty\", \"entertaining\"], \"PERCENT\": 0.03195635229929852}, {\"EMOTION\": \"anticipation\", \"EXAMPLE WORDS\": [\"good\", \"pretty\", \"time\"], \"PERCENT\": 0.03028615967041532}, {\"EMOTION\": \"fear\", \"EXAMPLE WORDS\": [\"war\", \"remains\", \"intelligence\"], \"PERCENT\": 0.017592695690903017}, {\"EMOTION\": \"surprise\", \"EXAMPLE WORDS\": [\"good\", \"entertainment\", \"hero\"], \"PERCENT\": 0.01514307983520766}, {\"EMOTION\": \"sadness\", \"EXAMPLE WORDS\": [\"black\", \"music\", \"horror\"], \"PERCENT\": 0.014029618082618862}, {\"EMOTION\": \"anger\", \"EXAMPLE WORDS\": [\"moral\", \"horror\", \"bad\"], \"PERCENT\": 0.013361541031065583}, {\"EMOTION\": \"disgust\", \"EXAMPLE WORDS\": [\"remains\", \"john\", \"horror\"], \"PERCENT\": 0.011691348402182385}]}};\n",
       "const opt = {};\n",
       "const type = \"vega-lite\";\n",
       "const id = \"d2de1398-3645-4294-ad1c-a962ea2f7b1b\";\n",
       "\n",
       "const output_area = this;\n",
       "\n",
       "require([\"nbextensions/jupyter-vega/index\"], function(vega) {\n",
       "  const target = document.createElement(\"div\");\n",
       "  target.id = id;\n",
       "  target.className = \"vega-embed\";\n",
       "\n",
       "  const style = document.createElement(\"style\");\n",
       "  style.textContent = [\n",
       "    \".vega-embed .error p {\",\n",
       "    \"  color: firebrick;\",\n",
       "    \"  font-size: 14px;\",\n",
       "    \"}\",\n",
       "  ].join(\"\\\\n\");\n",
       "\n",
       "  // element is a jQuery wrapped DOM element inside the output area\n",
       "  // see http://ipython.readthedocs.io/en/stable/api/generated/\\\n",
       "  // IPython.display.html#IPython.display.Javascript.__init__\n",
       "  element[0].appendChild(target);\n",
       "  element[0].appendChild(style);\n",
       "\n",
       "  vega.render(\"#\" + id, spec, type, opt, output_area);\n",
       "}, function (err) {\n",
       "  if (err.requireType !== \"scripterror\") {\n",
       "    throw(err);\n",
       "  }\n",
       "});\n"
      ],
      "text/plain": [
       "<vega.vegalite.VegaLite at 0x199c6c6c6a0>"
      ]
     },
     "metadata": {
      "jupyter-vega": "#d2de1398-3645-4294-ad1c-a962ea2f7b1b"
     },
     "output_type": "display_data"
    },
    {
     "data": {
      "text/plain": []
     },
     "execution_count": 18,
     "metadata": {},
     "output_type": "execute_result"
    },
    {
     "data": {
      "image/png": "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"
     },
     "metadata": {
      "jupyter-vega": "#d2de1398-3645-4294-ad1c-a962ea2f7b1b"
     },
     "output_type": "display_data"
    }
   ],
   "source": [
    "alt.Chart(result).mark_bar().encode(\n",
    "     x='PERCENT:Q',\n",
    "     y=alt.Y(\n",
    "        'EMOTION:N',\n",
    "        sort=alt.EncodingSortField(field='PERCENT', op='count', order='ascending')\n",
    "        ),\n",
    "    color='EMOTION:N',\n",
    "    tooltip='PERCENT:Q'\n",
    "    )\n"
   ]
  },
  {
   "cell_type": "code",
   "execution_count": null,
<<<<<<< HEAD
   "metadata": {},
=======
   "metadata": {
    "collapsed": true,
    "scrolled": true
   },
>>>>>>> ba49972fc49071598b6ffdaded6d44197380c711
   "outputs": [],
   "source": [
    "# input_dropdown = alt.binding_select(options= top_critics['critic'])\n",
    "# selection = alt.selection_single(fields=['critic'], bind=input_dropdown, name='Critic of ')\n",
    "# color = alt.condition(selection,\n",
    "#                     alt.Color('critic:N', legend=None),\n",
    "#                     alt.value('lightgray'))\n",
    "\n",
    "# alt.Chart(cars).mark_point().encode(\n",
    "#     x='Horsepower:Q',\n",
    "#     y='Miles_per_Gallon:Q',\n",
    "#     color=color,\n",
    "#     tooltip='Name:N'\n",
    "# ).add_selection(\n",
    "#     selection\n",
    "# )"
   ]
  },
  {
   "cell_type": "markdown",
   "metadata": {},
   "source": [
    "## Potential Analysis \n",
    "\n",
    "### Number of reviews per reviewer\n",
    "\n",
    "Using the `reviews` dataset, create a histogram showing the distribution of the number of reviews per reviewer.  Create the bin width (x-axis) to be 1 unit wide, and the range of the axis to be from 0 to 30.  Scale the y-axis to show the logarithm of (count of) the number of reviews.  Label your axes and make your histogram look professional."
   ]
  },
  {
   "cell_type": "code",
<<<<<<< HEAD
   "execution_count": 19,
   "metadata": {},
   "outputs": [],
   "source": [
    "reviewer_reviews=pd.DataFrame(reviews.groupby(['critic']).count().reset_index().sort_values('fresh'))"
   ]
  },
  {
   "cell_type": "code",
   "execution_count": 20,
   "metadata": {
    "scrolled": true
   },
   "outputs": [
    {
     "data": {
      "image/png": "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\n",
      "text/plain": [
       "<Figure size 432x288 with 1 Axes>"
      ]
     },
     "metadata": {
      "needs_background": "light"
     },
     "output_type": "display_data"
    }
   ],
=======
   "execution_count": null,
   "metadata": {},
   "outputs": [],
>>>>>>> ba49972fc49071598b6ffdaded6d44197380c711
   "source": [
    "# enter your code here  \n",
    "%matplotlib inline  \n",
    "import matplotlib.pyplot as plt \n",
    "reviewer_reviews=pd.DataFrame(reviews.groupby('critic').count())\n",
    "reviewer_reviews.reset_index(level=0, inplace=True)\n",
    "fig, ax = plt.subplots()\n",
    "plt.xlim([0, 30])\n",
    "plt.yscale('log', nonposy='clip')\n",
    "ax.hist(reviewer_reviews.quote, range=[0,30],bins=30,color=['green'],edgecolor = 'white',alpha=0.5)\n",
    "plt.ylabel('Logarithm of (count of) the Number of Reviews') # add labels \n",
    "plt.xlabel('Number of Reviews')\n",
    "plt.title(' The histogram of reviews per reviewer')\n",
    "ax.spines['right'].set_visible(False)\n",
    "ax.spines['top'].set_visible(False)\n",
    "ax.legend(['Number of Reviewers'])\n",
    "plt.show()"
   ]
  },
  {
   "cell_type": "code",
   "execution_count": null,
   "metadata": {
    "collapsed": true
   },
   "outputs": [],
   "source": []
  }
 ],
 "metadata": {
  "kernel_info": {
   "name": "python3"
  },
  "kernelspec": {
   "display_name": "Python 3",
   "language": "python",
   "name": "python3"
  },
  "language_info": {
   "codemirror_mode": {
    "name": "ipython",
    "version": 3
   },
   "file_extension": ".py",
   "mimetype": "text/x-python",
   "name": "python",
   "nbconvert_exporter": "python",
   "pygments_lexer": "ipython3",
   "version": "3.6.3"
  },
  "nteract": {
   "version": "0.12.3"
  }
 },
 "nbformat": 4,
 "nbformat_minor": 1
}
