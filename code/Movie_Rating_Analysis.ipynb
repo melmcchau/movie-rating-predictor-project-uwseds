{
 "cells": [
  {
   "cell_type": "markdown",
   "metadata": {},
   "source": [
    "---\n",
    "\n",
    "## Movie_Rating_Analysis\n",
    "\n"
   ]
  },
  {
   "cell_type": "markdown",
   "metadata": {},
   "source": [
    "#### Data Manager"
   ]
  },
  {
   "cell_type": "code",
   "execution_count": 2,
   "metadata": {},
   "outputs": [
    {
     "data": {
      "text/plain": [
       "RendererRegistry.enable('notebook')"
      ]
     },
     "execution_count": 2,
     "metadata": {},
     "output_type": "execute_result"
    }
   ],
   "source": [
    "%matplotlib inline\n",
    "import pandas as pd\n",
    "import numpy as np\n",
    "import matplotlib.pyplot as plt\n",
    "import mpld3\n",
    "\n",
    "import warnings\n",
    "warnings.filterwarnings('ignore')\n",
    "import datetime\n",
    "\n",
    "import re\n",
    "import sentiments_nrc\n",
    "from sentiments_nrc import SENTIMENTS\n",
    "from sentiments_nrc import EMOTIONS\n",
    "\n",
    "import altair as alt\n",
    "from vega_datasets import data\n",
    "alt.renderers.enable('notebook')"
   ]
  },
  {
   "cell_type": "code",
   "execution_count": 3,
   "metadata": {},
   "outputs": [],
   "source": [
    "reviews = pd.read_csv('../data/reviews.csv')\n",
    "movies = pd.read_csv(\"../data/movies.dat\", delimiter='\\t')"
   ]
  },
  {
   "cell_type": "code",
   "execution_count": 4,
   "metadata": {},
   "outputs": [],
   "source": [
    "### pre data cleaning for reviews data\n",
    "reviews = reviews[~reviews.quote.isnull()]\n",
    "reviews = reviews[reviews.fresh != 'none']\n",
    "reviews = reviews[reviews.quote.str.len() > 0]\n",
    "reviews['review_date']=pd.to_datetime(reviews['review_date']).dt.date\n",
    "reviews=reviews.drop(['link'], axis=1)"
   ]
  },
  {
   "cell_type": "code",
   "execution_count": 5,
   "metadata": {},
   "outputs": [],
   "source": [
    "### pre data cleaning for movies data\n",
    "movies= movies.drop(['imdbPictureURL','spanishTitle','rtPictureURL'], axis=1)\n",
    "# drop movies with unknow or non-numeric values \n",
    "movies['rtAllCriticsRating'] = movies['rtAllCriticsRating'].apply(pd.to_numeric, errors='drop')\n",
    "movies['rtAllCriticsNumReviews'] = movies['rtAllCriticsNumReviews'].apply(pd.to_numeric, errors = 'drop')\n",
    "movies['rtAudienceRating'] = movies['rtAudienceRating'].apply(pd.to_numeric, errors= 'drop')"
   ]
  },
  {
   "cell_type": "code",
   "execution_count": 6,
   "metadata": {},
   "outputs": [
    {
     "data": {
      "text/html": [
       "<div>\n",
       "<style scoped>\n",
       "    .dataframe tbody tr th:only-of-type {\n",
       "        vertical-align: middle;\n",
       "    }\n",
       "\n",
       "    .dataframe tbody tr th {\n",
       "        vertical-align: top;\n",
       "    }\n",
       "\n",
       "    .dataframe thead th {\n",
       "        text-align: right;\n",
       "    }\n",
       "</style>\n",
       "<table border=\"1\" class=\"dataframe\">\n",
       "  <thead>\n",
       "    <tr style=\"text-align: right;\">\n",
       "      <th></th>\n",
       "      <th>critic</th>\n",
       "      <th>fresh</th>\n",
       "      <th>imdb</th>\n",
       "      <th>publication</th>\n",
       "      <th>quote</th>\n",
       "      <th>review_date</th>\n",
       "      <th>rtid</th>\n",
       "      <th>title</th>\n",
       "    </tr>\n",
       "  </thead>\n",
       "  <tbody>\n",
       "    <tr>\n",
       "      <th>0</th>\n",
       "      <td>Derek Adams</td>\n",
       "      <td>fresh</td>\n",
       "      <td>114709</td>\n",
       "      <td>Time Out</td>\n",
       "      <td>So ingenious in concept, design and execution ...</td>\n",
       "      <td>2009-10-04</td>\n",
       "      <td>9559</td>\n",
       "      <td>Toy Story</td>\n",
       "    </tr>\n",
       "    <tr>\n",
       "      <th>1</th>\n",
       "      <td>Richard Corliss</td>\n",
       "      <td>fresh</td>\n",
       "      <td>114709</td>\n",
       "      <td>TIME Magazine</td>\n",
       "      <td>The year's most inventive comedy.</td>\n",
       "      <td>2008-08-31</td>\n",
       "      <td>9559</td>\n",
       "      <td>Toy Story</td>\n",
       "    </tr>\n",
       "  </tbody>\n",
       "</table>\n",
       "</div>"
      ],
      "text/plain": [
       "            critic  fresh    imdb    publication  \\\n",
       "0      Derek Adams  fresh  114709       Time Out   \n",
       "1  Richard Corliss  fresh  114709  TIME Magazine   \n",
       "\n",
       "                                               quote review_date  rtid  \\\n",
       "0  So ingenious in concept, design and execution ...  2009-10-04  9559   \n",
       "1                  The year's most inventive comedy.  2008-08-31  9559   \n",
       "\n",
       "       title  \n",
       "0  Toy Story  \n",
       "1  Toy Story  "
      ]
     },
     "execution_count": 6,
     "metadata": {},
     "output_type": "execute_result"
    }
   ],
   "source": [
    "reviews.head(2)"
   ]
  },
  {
   "cell_type": "code",
   "execution_count": 7,
   "metadata": {},
   "outputs": [
    {
     "data": {
      "text/html": [
       "<div>\n",
       "<style scoped>\n",
       "    .dataframe tbody tr th:only-of-type {\n",
       "        vertical-align: middle;\n",
       "    }\n",
       "\n",
       "    .dataframe tbody tr th {\n",
       "        vertical-align: top;\n",
       "    }\n",
       "\n",
       "    .dataframe thead th {\n",
       "        text-align: right;\n",
       "    }\n",
       "</style>\n",
       "<table border=\"1\" class=\"dataframe\">\n",
       "  <thead>\n",
       "    <tr style=\"text-align: right;\">\n",
       "      <th></th>\n",
       "      <th>id</th>\n",
       "      <th>title</th>\n",
       "      <th>imdbID</th>\n",
       "      <th>year</th>\n",
       "      <th>rtID</th>\n",
       "      <th>rtAllCriticsRating</th>\n",
       "      <th>rtAllCriticsNumReviews</th>\n",
       "      <th>rtAllCriticsNumFresh</th>\n",
       "      <th>rtAllCriticsNumRotten</th>\n",
       "      <th>rtAllCriticsScore</th>\n",
       "      <th>rtTopCriticsRating</th>\n",
       "      <th>rtTopCriticsNumReviews</th>\n",
       "      <th>rtTopCriticsNumFresh</th>\n",
       "      <th>rtTopCriticsNumRotten</th>\n",
       "      <th>rtTopCriticsScore</th>\n",
       "      <th>rtAudienceRating</th>\n",
       "      <th>rtAudienceNumRatings</th>\n",
       "      <th>rtAudienceScore</th>\n",
       "    </tr>\n",
       "  </thead>\n",
       "  <tbody>\n",
       "    <tr>\n",
       "      <th>0</th>\n",
       "      <td>1</td>\n",
       "      <td>Toy story</td>\n",
       "      <td>114709</td>\n",
       "      <td>1995</td>\n",
       "      <td>toy_story</td>\n",
       "      <td>9.0</td>\n",
       "      <td>73.0</td>\n",
       "      <td>73</td>\n",
       "      <td>0</td>\n",
       "      <td>100</td>\n",
       "      <td>8.5</td>\n",
       "      <td>17</td>\n",
       "      <td>17</td>\n",
       "      <td>0</td>\n",
       "      <td>100</td>\n",
       "      <td>3.7</td>\n",
       "      <td>102338</td>\n",
       "      <td>81</td>\n",
       "    </tr>\n",
       "    <tr>\n",
       "      <th>1</th>\n",
       "      <td>2</td>\n",
       "      <td>Jumanji</td>\n",
       "      <td>113497</td>\n",
       "      <td>1995</td>\n",
       "      <td>1068044-jumanji</td>\n",
       "      <td>5.6</td>\n",
       "      <td>28.0</td>\n",
       "      <td>13</td>\n",
       "      <td>15</td>\n",
       "      <td>46</td>\n",
       "      <td>5.8</td>\n",
       "      <td>5</td>\n",
       "      <td>2</td>\n",
       "      <td>3</td>\n",
       "      <td>40</td>\n",
       "      <td>3.2</td>\n",
       "      <td>44587</td>\n",
       "      <td>61</td>\n",
       "    </tr>\n",
       "  </tbody>\n",
       "</table>\n",
       "</div>"
      ],
      "text/plain": [
       "   id      title  imdbID  year             rtID  rtAllCriticsRating  \\\n",
       "0   1  Toy story  114709  1995        toy_story                 9.0   \n",
       "1   2    Jumanji  113497  1995  1068044-jumanji                 5.6   \n",
       "\n",
       "   rtAllCriticsNumReviews rtAllCriticsNumFresh rtAllCriticsNumRotten  \\\n",
       "0                    73.0                   73                     0   \n",
       "1                    28.0                   13                    15   \n",
       "\n",
       "  rtAllCriticsScore rtTopCriticsRating rtTopCriticsNumReviews  \\\n",
       "0               100                8.5                     17   \n",
       "1                46                5.8                      5   \n",
       "\n",
       "  rtTopCriticsNumFresh rtTopCriticsNumRotten rtTopCriticsScore  \\\n",
       "0                   17                     0               100   \n",
       "1                    2                     3                40   \n",
       "\n",
       "   rtAudienceRating rtAudienceNumRatings rtAudienceScore  \n",
       "0               3.7               102338              81  \n",
       "1               3.2                44587              61  "
      ]
     },
     "execution_count": 7,
     "metadata": {},
     "output_type": "execute_result"
    }
   ],
   "source": [
    "movies.head(2)"
   ]
  },
  {
   "cell_type": "code",
   "execution_count": 8,
   "metadata": {},
   "outputs": [],
   "source": [
    "sub_movies=movies[['title', 'imdbID', 'year', 'rtID','rtAllCriticsRating','rtAllCriticsNumReviews','rtAudienceNumRatings', 'rtAudienceScore']]"
   ]
  },
  {
   "cell_type": "code",
   "execution_count": 9,
   "metadata": {},
   "outputs": [
    {
     "data": {
      "text/html": [
       "<div>\n",
       "<style scoped>\n",
       "    .dataframe tbody tr th:only-of-type {\n",
       "        vertical-align: middle;\n",
       "    }\n",
       "\n",
       "    .dataframe tbody tr th {\n",
       "        vertical-align: top;\n",
       "    }\n",
       "\n",
       "    .dataframe thead th {\n",
       "        text-align: right;\n",
       "    }\n",
       "</style>\n",
       "<table border=\"1\" class=\"dataframe\">\n",
       "  <thead>\n",
       "    <tr style=\"text-align: right;\">\n",
       "      <th></th>\n",
       "      <th>title</th>\n",
       "      <th>imdbID</th>\n",
       "      <th>year</th>\n",
       "      <th>rtID</th>\n",
       "      <th>rtAllCriticsRating</th>\n",
       "      <th>rtAllCriticsNumReviews</th>\n",
       "      <th>rtAudienceNumRatings</th>\n",
       "      <th>rtAudienceScore</th>\n",
       "    </tr>\n",
       "  </thead>\n",
       "  <tbody>\n",
       "    <tr>\n",
       "      <th>0</th>\n",
       "      <td>Toy story</td>\n",
       "      <td>114709</td>\n",
       "      <td>1995</td>\n",
       "      <td>toy_story</td>\n",
       "      <td>9.0</td>\n",
       "      <td>73.0</td>\n",
       "      <td>102338</td>\n",
       "      <td>81</td>\n",
       "    </tr>\n",
       "  </tbody>\n",
       "</table>\n",
       "</div>"
      ],
      "text/plain": [
       "       title  imdbID  year       rtID  rtAllCriticsRating  \\\n",
       "0  Toy story  114709  1995  toy_story                 9.0   \n",
       "\n",
       "   rtAllCriticsNumReviews rtAudienceNumRatings rtAudienceScore  \n",
       "0                    73.0               102338              81  "
      ]
     },
     "execution_count": 9,
     "metadata": {},
     "output_type": "execute_result"
    }
   ],
   "source": [
    "sub_movies.head(1)"
   ]
  },
  {
   "cell_type": "markdown",
   "metadata": {},
   "source": [
    "#### Visualization Manager I "
   ]
  },
  {
   "cell_type": "code",
   "execution_count": 10,
   "metadata": {
    "scrolled": true
   },
   "outputs": [
    {
     "name": "stdout",
     "output_type": "stream",
     "text": [
      "Please input the year range that you are interested in: \n",
      "1960\n",
      "1990\n"
     ]
    },
    {
     "data": {
      "application/javascript": [
       "const spec = {\"config\": {\"view\": {\"width\": 400, \"height\": 300}, \"mark\": {\"tooltip\": null}}, \"data\": {\"name\": \"data-a11c10d62d9db2e5fc87ea0b9dba1b88\"}, \"mark\": \"line\", \"encoding\": {\"tooltip\": {\"type\": \"nominal\", \"field\": \"year\"}, \"x\": {\"type\": \"nominal\", \"field\": \"year\"}, \"y\": {\"type\": \"quantitative\", \"field\": \"rtAllCriticsRating\"}}, \"selection\": {\"selector001\": {\"type\": \"interval\", \"bind\": \"scales\"}}, \"$schema\": \"https://vega.github.io/schema/vega-lite/v3.4.0.json\", \"datasets\": {\"data-a11c10d62d9db2e5fc87ea0b9dba1b88\": [{\"year\": 1960, \"rtAllCriticsRating\": 6.8}, {\"year\": 1961, \"rtAllCriticsRating\": 6.5}, {\"year\": 1962, \"rtAllCriticsRating\": 7.1}, {\"year\": 1963, \"rtAllCriticsRating\": 6.5}, {\"year\": 1964, \"rtAllCriticsRating\": 7.2}, {\"year\": 1965, \"rtAllCriticsRating\": 6.0}, {\"year\": 1966, \"rtAllCriticsRating\": 6.5}, {\"year\": 1967, \"rtAllCriticsRating\": 6.6}, {\"year\": 1968, \"rtAllCriticsRating\": 6.5}, {\"year\": 1969, \"rtAllCriticsRating\": 5.9}, {\"year\": 1970, \"rtAllCriticsRating\": 6.4}, {\"year\": 1971, \"rtAllCriticsRating\": 6.75}, {\"year\": 1972, \"rtAllCriticsRating\": 6.45}, {\"year\": 1973, \"rtAllCriticsRating\": 6.75}, {\"year\": 1974, \"rtAllCriticsRating\": 5.8}, {\"year\": 1975, \"rtAllCriticsRating\": 6.3}, {\"year\": 1976, \"rtAllCriticsRating\": 6.25}, {\"year\": 1977, \"rtAllCriticsRating\": 6.0}, {\"year\": 1978, \"rtAllCriticsRating\": 5.95}, {\"year\": 1979, \"rtAllCriticsRating\": 6.7}, {\"year\": 1980, \"rtAllCriticsRating\": 4.9}, {\"year\": 1981, \"rtAllCriticsRating\": 5.4}, {\"year\": 1982, \"rtAllCriticsRating\": 5.1}, {\"year\": 1983, \"rtAllCriticsRating\": 6.0}, {\"year\": 1984, \"rtAllCriticsRating\": 5.7}, {\"year\": 1985, \"rtAllCriticsRating\": 5.6}, {\"year\": 1986, \"rtAllCriticsRating\": 5.3}, {\"year\": 1987, \"rtAllCriticsRating\": 5.5}, {\"year\": 1988, \"rtAllCriticsRating\": 5.3}, {\"year\": 1989, \"rtAllCriticsRating\": 5.2}, {\"year\": 1990, \"rtAllCriticsRating\": 5.4}]}};\n",
       "const opt = {};\n",
       "const type = \"vega-lite\";\n",
       "const id = \"c9e8c472-9bb2-4ba2-a787-7813d1b9a70e\";\n",
       "\n",
       "const output_area = this;\n",
       "\n",
       "require([\"nbextensions/jupyter-vega/index\"], function(vega) {\n",
       "  const target = document.createElement(\"div\");\n",
       "  target.id = id;\n",
       "  target.className = \"vega-embed\";\n",
       "\n",
       "  const style = document.createElement(\"style\");\n",
       "  style.textContent = [\n",
       "    \".vega-embed .error p {\",\n",
       "    \"  color: firebrick;\",\n",
       "    \"  font-size: 14px;\",\n",
       "    \"}\",\n",
       "  ].join(\"\\\\n\");\n",
       "\n",
       "  // element is a jQuery wrapped DOM element inside the output area\n",
       "  // see http://ipython.readthedocs.io/en/stable/api/generated/\\\n",
       "  // IPython.display.html#IPython.display.Javascript.__init__\n",
       "  element[0].appendChild(target);\n",
       "  element[0].appendChild(style);\n",
       "\n",
       "  vega.render(\"#\" + id, spec, type, opt, output_area);\n",
       "}, function (err) {\n",
       "  if (err.requireType !== \"scripterror\") {\n",
       "    throw(err);\n",
       "  }\n",
       "});\n"
      ],
      "text/plain": [
       "<vega.vegalite.VegaLite at 0x199c56333c8>"
      ]
     },
     "metadata": {
      "jupyter-vega": "#c9e8c472-9bb2-4ba2-a787-7813d1b9a70e"
     },
     "output_type": "display_data"
    },
    {
     "data": {
      "text/plain": []
     },
     "execution_count": 10,
     "metadata": {},
     "output_type": "execute_result"
    },
    {
     "data": {
      "image/png": "[encoded data removed]"
     },
     "metadata": {
      "jupyter-vega": "#c9e8c472-9bb2-4ba2-a787-7813d1b9a70e"
     },
     "output_type": "display_data"
    }
   ],
   "source": [
    "#### interactive one: draw the trendline of the median rating given a time interval \n",
    "\n",
    "def draw_trend_line_median_year(sub_movies):\n",
    "    \n",
    "    print('Please input the year range that you are interested in: ')\n",
    "    \n",
    "\n",
    "    start_year = int(input())\n",
    "    end_year = int(input())\n",
    "    \n",
    "    year_median = sub_movies.groupby('year')['rtAllCriticsRating'].median().reset_index()\n",
    "    year_show = year_median[year_median['year'] >= start_year]\n",
    "    year_show = year_show[year_median['year'] <= end_year]\n",
    "    \n",
    "    \n",
    "    selection = alt.selection_interval(bind='scales')\n",
    "\n",
    "    chart = alt.Chart(year_show).mark_line().encode(\n",
    "    x='year:N',\n",
    "    y='rtAllCriticsRating:Q',\n",
    "    tooltip='year:N').add_selection(selection)\n",
    "   \n",
    "    return chart\n",
    "    \n",
    "\n",
    "    \n",
    "draw_trend_line_median_year(sub_movies)"
   ]
  },
  {
   "cell_type": "code",
   "execution_count": 13,
   "metadata": {},
   "outputs": [],
   "source": [
    "def top5_critic_per_year(reviews,year):\n",
    "    \n",
    "    reviews['review_date'] = pd.to_datetime(reviews['review_date'])\n",
    "    reviews['year'] = reviews['review_date'].dt.year\n",
    "    Group_Aggregation = reviews[['critic', 'publication', \n",
    "                       'year', 'quote']].groupby(['critic','year']).agg({ \n",
    "                         'quote': ['count']}).reset_index()\n",
    "    Group_Aggregation = Group_Aggregation[(Group_Aggregation['year'] == year)]\n",
    "    Top_five = Group_Aggregation.sort_values(by=[('quote','count')], ascending = False)[:5].reset_index(drop =True)\n",
    "\n",
    "    return Top_five"
   ]
  },
  {
   "cell_type": "code",
   "execution_count": 14,
   "metadata": {},
   "outputs": [
    {
     "data": {
      "text/html": [
       "<div>\n",
       "<style scoped>\n",
       "    .dataframe tbody tr th:only-of-type {\n",
       "        vertical-align: middle;\n",
       "    }\n",
       "\n",
       "    .dataframe tbody tr th {\n",
       "        vertical-align: top;\n",
       "    }\n",
       "\n",
       "    .dataframe thead tr th {\n",
       "        text-align: left;\n",
       "    }\n",
       "</style>\n",
       "<table border=\"1\" class=\"dataframe\">\n",
       "  <thead>\n",
       "    <tr>\n",
       "      <th></th>\n",
       "      <th>critic</th>\n",
       "      <th>year</th>\n",
       "      <th>quote</th>\n",
       "    </tr>\n",
       "    <tr>\n",
       "      <th></th>\n",
       "      <th></th>\n",
       "      <th></th>\n",
       "      <th>count</th>\n",
       "    </tr>\n",
       "  </thead>\n",
       "  <tbody>\n",
       "    <tr>\n",
       "      <th>0</th>\n",
       "      <td>Variety Staff</td>\n",
       "      <td>2008</td>\n",
       "      <td>203</td>\n",
       "    </tr>\n",
       "    <tr>\n",
       "      <th>1</th>\n",
       "      <td>Jonathan Rosenbaum</td>\n",
       "      <td>2008</td>\n",
       "      <td>112</td>\n",
       "    </tr>\n",
       "    <tr>\n",
       "      <th>2</th>\n",
       "      <td>Todd McCarthy</td>\n",
       "      <td>2008</td>\n",
       "      <td>100</td>\n",
       "    </tr>\n",
       "    <tr>\n",
       "      <th>3</th>\n",
       "      <td>Dave Kehr</td>\n",
       "      <td>2008</td>\n",
       "      <td>55</td>\n",
       "    </tr>\n",
       "    <tr>\n",
       "      <th>4</th>\n",
       "      <td>Richard Corliss</td>\n",
       "      <td>2008</td>\n",
       "      <td>53</td>\n",
       "    </tr>\n",
       "  </tbody>\n",
       "</table>\n",
       "</div>"
      ],
      "text/plain": [
       "               critic  year quote\n",
       "                            count\n",
       "0       Variety Staff  2008   203\n",
       "1  Jonathan Rosenbaum  2008   112\n",
       "2       Todd McCarthy  2008   100\n",
       "3           Dave Kehr  2008    55\n",
       "4     Richard Corliss  2008    53"
      ]
     },
     "execution_count": 14,
     "metadata": {},
     "output_type": "execute_result"
    }
   ],
   "source": [
    "top_critics = top5_critic_per_year(reviews,2008)\n",
    "# top_critics['critic']\n",
    "top_critics "
   ]
  },
  {
   "cell_type": "markdown",
   "metadata": {},
   "source": [
    "#### Visualization Manager II"
   ]
  },
  {
   "cell_type": "code",
   "execution_count": 15,
   "metadata": {},
   "outputs": [],
   "source": [
    "#### interactive 2: sentiment analysis  for reviews of per critic \n",
    "\n",
    "### global variables \n",
    "movies_sub=movies[['title','imdbID']]\n",
    "movie_review=reviews.merge(movies_sub, left_on='imdb', right_on='imdbID', how='inner')\n",
    "movie_review=movie_review[['critic','publication','quote','review_date','title_x','imdb']]\n",
    "EMOTIONS = ['positive', 'negative', 'anger', \n",
    "            'anticipation', 'disgust', 'fear', \n",
    "            'joy', 'sadness', 'surprise', 'trust']\n",
    "\n",
    "# support function 1\n",
    "def words_with_specific_emotion(list_of_split_words,emotion):\n",
    "    '''Produce a list that include the words that contain a specific emotion\n",
    "       Parameters: list_of_split_words (String): A list with split words \n",
    "                   emotion(string): the emotion words in EMOTIONS list\n",
    "       Returns: list: the words in the string with one certain kind of emotion'''\n",
    "    Look_Up=[SENTIMENTS.get(word) for word in list_of_split_words] #get the emotion list of every word in the list \n",
    "    Combine=list(zip(list_of_split_words,Look_Up)) # zip the emotion list with word in one list \n",
    "    Words_With_Specific_Emotion=[line[0] for line in Combine if line[1] is not None and line[1].get(emotion)==1 ]\n",
    "    return Words_With_Specific_Emotion #find the words in a specific emotion\n",
    "\n",
    "# support function 2\n",
    "def words_list_for_each_emotion(Split_Test_String):\n",
    "    '''Produce a disctionary with emotion words as keys and words list having that emotion as values\n",
    "       Parameters: Split_Test_String (String): A list with split words\n",
    "       Returns: list-the  most common words in the input list'''\n",
    "    matching_words=[words_with_specific_emotion(Split_Test_String,emotion) for emotion in EMOTIONS]\n",
    "    distinct_matching=[i for i in matching_words]\n",
    "    return {emotion:matching_word for (emotion,matching_word) in zip(EMOTIONS,distinct_matching)}\n",
    "\n",
    "# support function 3 \n",
    "def get_common_words_list(wordlist):\n",
    "    '''Produce a list with the most common words of the input list\n",
    "       Parameters: wordlist (string): \n",
    "       Returns: dict: the key-values pairs of emotions word and its corresponding words in the string'''\n",
    "    wordfreq=list(zip(wordlist,[wordlist.count(w) for w in wordlist]))\n",
    "    wordfreq_sort=list(set(sorted(wordfreq,key=lambda freq: freq[1], reverse=True)))\n",
    "    new_word_freq_sort=sorted(wordfreq_sort,key=lambda freq: freq[1], reverse=True)\n",
    "    return [i[0] for i in new_word_freq_sort]\n",
    "\n",
    "## main analysis function \n",
    "def analyze_quote(movie_review,criticname):\n",
    "    \n",
    "#     criticname = input(\"Please enter the Critic that you are interested: \")\n",
    "    critic_quote=movie_review[['critic','quote']]\n",
    "    quote = critic_quote[critic_quote['critic'] == criticname]\n",
    "#     quote = []\n",
    "#     for name in criticname:\n",
    "#         sub_quote = critic_quote[critic_quote['critic'] == name]\n",
    "#         quote.append(sub_quote)\n",
    "#     quote = pd.DataFrame(quote) \n",
    "    \n",
    "#     print\n",
    "    #### cominbine quotes into one row \n",
    "    content=quote.groupby('critic')['quote'].apply(' '.join).reset_index()['quote']\n",
    "    Split_String=re.split(r'\\W+',content[0]) \n",
    "    lower_words=[word.lower() for word in Split_String] \n",
    "    length_filtered=[word for word in lower_words if len(word)>1]\n",
    "    \n",
    "    ### calculate total number or words\n",
    "    Total_Words=len(length_filtered)\n",
    "    Words_List_for_Each_Emotion=words_list_for_each_emotion(length_filtered)\n",
    "    \n",
    "    result_list=[]\n",
    "    for i in EMOTIONS:\n",
    "        result={}\n",
    "        example_words=[get_common_words_list(value)[:3] for key,value in Words_List_for_Each_Emotion.items() if key==i]\n",
    "        result['EMOTION']=i\n",
    "        result['PERCENT']= len(Words_List_for_Each_Emotion[i])/Total_Words\n",
    "        result['EXAMPLE WORDS']=example_words[0]\n",
    "        result_list.append(result)\n",
    "    result=sorted(result_list,key=lambda k:k['PERCENT'],reverse=True)\n",
    "    \n",
    "    return pd.DataFrame(result)\n",
    "#     ### show the result in a table \n",
    "#     print(\"{0:<14} {1:<11} {2:35}\".format('EMOTION','%WORDS','EXAMPLE WORDS'))\n",
    "#     for line in result:\n",
    "#         emotion=line['EMOTION']\n",
    "#         words_percent=line['% WORDS']\n",
    "#         format_words_percent='{:.2%}'.format(words_percent)\n",
    "#         example_words=line['EXAMPLE WORDS']\n",
    "#         top_example_words=','.join(example_words)\n",
    "#         print(\"{0:<14} {1:<11} {2:35} \".format(emotion,format_words_percent,top_example_words))\n",
    "\n"
   ]
  },
  {
   "cell_type": "code",
   "execution_count": null,
   "metadata": {},
   "outputs": [],
   "source": [
    "### just for one year "
   ]
  },
  {
   "cell_type": "code",
   "execution_count": 16,
   "metadata": {
    "scrolled": true
   },
   "outputs": [],
   "source": [
    "result = analyze_quote(movie_review,'Jonathan Rosenbaum')"
   ]
  },
  {
   "cell_type": "code",
   "execution_count": 17,
   "metadata": {},
   "outputs": [
    {
     "data": {
      "text/html": [
       "<div>\n",
       "<style scoped>\n",
       "    .dataframe tbody tr th:only-of-type {\n",
       "        vertical-align: middle;\n",
       "    }\n",
       "\n",
       "    .dataframe tbody tr th {\n",
       "        vertical-align: top;\n",
       "    }\n",
       "\n",
       "    .dataframe thead th {\n",
       "        text-align: right;\n",
       "    }\n",
       "</style>\n",
       "<table border=\"1\" class=\"dataframe\">\n",
       "  <thead>\n",
       "    <tr style=\"text-align: right;\">\n",
       "      <th></th>\n",
       "      <th>EMOTION</th>\n",
       "      <th>EXAMPLE WORDS</th>\n",
       "      <th>PERCENT</th>\n",
       "    </tr>\n",
       "  </thead>\n",
       "  <tbody>\n",
       "    <tr>\n",
       "      <th>0</th>\n",
       "      <td>positive</td>\n",
       "      <td>[good, feature, pretty]</td>\n",
       "      <td>0.075493</td>\n",
       "    </tr>\n",
       "    <tr>\n",
       "      <th>1</th>\n",
       "      <td>trust</td>\n",
       "      <td>[good, pretty, director]</td>\n",
       "      <td>0.039973</td>\n",
       "    </tr>\n",
       "    <tr>\n",
       "      <th>2</th>\n",
       "      <td>negative</td>\n",
       "      <td>[black, war, remains]</td>\n",
       "      <td>0.034851</td>\n",
       "    </tr>\n",
       "    <tr>\n",
       "      <th>3</th>\n",
       "      <td>joy</td>\n",
       "      <td>[good, pretty, entertaining]</td>\n",
       "      <td>0.031956</td>\n",
       "    </tr>\n",
       "    <tr>\n",
       "      <th>4</th>\n",
       "      <td>anticipation</td>\n",
       "      <td>[good, pretty, time]</td>\n",
       "      <td>0.030286</td>\n",
       "    </tr>\n",
       "    <tr>\n",
       "      <th>5</th>\n",
       "      <td>fear</td>\n",
       "      <td>[war, remains, intelligence]</td>\n",
       "      <td>0.017593</td>\n",
       "    </tr>\n",
       "    <tr>\n",
       "      <th>6</th>\n",
       "      <td>surprise</td>\n",
       "      <td>[good, entertainment, hero]</td>\n",
       "      <td>0.015143</td>\n",
       "    </tr>\n",
       "    <tr>\n",
       "      <th>7</th>\n",
       "      <td>sadness</td>\n",
       "      <td>[black, music, horror]</td>\n",
       "      <td>0.014030</td>\n",
       "    </tr>\n",
       "    <tr>\n",
       "      <th>8</th>\n",
       "      <td>anger</td>\n",
       "      <td>[moral, horror, bad]</td>\n",
       "      <td>0.013362</td>\n",
       "    </tr>\n",
       "    <tr>\n",
       "      <th>9</th>\n",
       "      <td>disgust</td>\n",
       "      <td>[remains, john, horror]</td>\n",
       "      <td>0.011691</td>\n",
       "    </tr>\n",
       "  </tbody>\n",
       "</table>\n",
       "</div>"
      ],
      "text/plain": [
       "        EMOTION                 EXAMPLE WORDS   PERCENT\n",
       "0      positive       [good, feature, pretty]  0.075493\n",
       "1         trust      [good, pretty, director]  0.039973\n",
       "2      negative         [black, war, remains]  0.034851\n",
       "3           joy  [good, pretty, entertaining]  0.031956\n",
       "4  anticipation          [good, pretty, time]  0.030286\n",
       "5          fear  [war, remains, intelligence]  0.017593\n",
       "6      surprise   [good, entertainment, hero]  0.015143\n",
       "7       sadness        [black, music, horror]  0.014030\n",
       "8         anger          [moral, horror, bad]  0.013362\n",
       "9       disgust       [remains, john, horror]  0.011691"
      ]
     },
     "execution_count": 17,
     "metadata": {},
     "output_type": "execute_result"
    }
   ],
   "source": [
    "result"
   ]
  },
  {
   "cell_type": "code",
   "execution_count": 18,
   "metadata": {},
   "outputs": [
    {
     "data": {
      "application/javascript": [
       "const spec = {\"config\": {\"view\": {\"width\": 400, \"height\": 300}, \"mark\": {\"tooltip\": null}}, \"data\": {\"name\": \"data-9ab9a7f8d3ac288cce643533e6247a5b\"}, \"mark\": \"bar\", \"encoding\": {\"color\": {\"type\": \"nominal\", \"field\": \"EMOTION\"}, \"tooltip\": {\"type\": \"quantitative\", \"field\": \"PERCENT\"}, \"x\": {\"type\": \"quantitative\", \"field\": \"PERCENT\"}, \"y\": {\"type\": \"nominal\", \"field\": \"EMOTION\", \"sort\": {\"field\": \"PERCENT\", \"op\": \"count\", \"order\": \"ascending\"}}}, \"$schema\": \"https://vega.github.io/schema/vega-lite/v3.4.0.json\", \"datasets\": {\"data-9ab9a7f8d3ac288cce643533e6247a5b\": [{\"EMOTION\": \"positive\", \"EXAMPLE WORDS\": [\"good\", \"feature\", \"pretty\"], \"PERCENT\": 0.07549270682552055}, {\"EMOTION\": \"trust\", \"EXAMPLE WORDS\": [\"good\", \"pretty\", \"director\"], \"PERCENT\": 0.03997327691793787}, {\"EMOTION\": \"negative\", \"EXAMPLE WORDS\": [\"black\", \"war\", \"remains\"], \"PERCENT\": 0.034851352856029395}, {\"EMOTION\": \"joy\", \"EXAMPLE WORDS\": [\"good\", \"pretty\", \"entertaining\"], \"PERCENT\": 0.03195635229929852}, {\"EMOTION\": \"anticipation\", \"EXAMPLE WORDS\": [\"good\", \"pretty\", \"time\"], \"PERCENT\": 0.03028615967041532}, {\"EMOTION\": \"fear\", \"EXAMPLE WORDS\": [\"war\", \"remains\", \"intelligence\"], \"PERCENT\": 0.017592695690903017}, {\"EMOTION\": \"surprise\", \"EXAMPLE WORDS\": [\"good\", \"entertainment\", \"hero\"], \"PERCENT\": 0.01514307983520766}, {\"EMOTION\": \"sadness\", \"EXAMPLE WORDS\": [\"black\", \"music\", \"horror\"], \"PERCENT\": 0.014029618082618862}, {\"EMOTION\": \"anger\", \"EXAMPLE WORDS\": [\"moral\", \"horror\", \"bad\"], \"PERCENT\": 0.013361541031065583}, {\"EMOTION\": \"disgust\", \"EXAMPLE WORDS\": [\"remains\", \"john\", \"horror\"], \"PERCENT\": 0.011691348402182385}]}};\n",
       "const opt = {};\n",
       "const type = \"vega-lite\";\n",
       "const id = \"d2de1398-3645-4294-ad1c-a962ea2f7b1b\";\n",
       "\n",
       "const output_area = this;\n",
       "\n",
       "require([\"nbextensions/jupyter-vega/index\"], function(vega) {\n",
       "  const target = document.createElement(\"div\");\n",
       "  target.id = id;\n",
       "  target.className = \"vega-embed\";\n",
       "\n",
       "  const style = document.createElement(\"style\");\n",
       "  style.textContent = [\n",
       "    \".vega-embed .error p {\",\n",
       "    \"  color: firebrick;\",\n",
       "    \"  font-size: 14px;\",\n",
       "    \"}\",\n",
       "  ].join(\"\\\\n\");\n",
       "\n",
       "  // element is a jQuery wrapped DOM element inside the output area\n",
       "  // see http://ipython.readthedocs.io/en/stable/api/generated/\\\n",
       "  // IPython.display.html#IPython.display.Javascript.__init__\n",
       "  element[0].appendChild(target);\n",
       "  element[0].appendChild(style);\n",
       "\n",
       "  vega.render(\"#\" + id, spec, type, opt, output_area);\n",
       "}, function (err) {\n",
       "  if (err.requireType !== \"scripterror\") {\n",
       "    throw(err);\n",
       "  }\n",
       "});\n"
      ],
      "text/plain": [
       "<vega.vegalite.VegaLite at 0x199c6c6c6a0>"
      ]
     },
     "metadata": {
      "jupyter-vega": "#d2de1398-3645-4294-ad1c-a962ea2f7b1b"
     },
     "output_type": "display_data"
    },
    {
     "data": {
      "text/plain": []
     },
     "execution_count": 18,
     "metadata": {},
     "output_type": "execute_result"
    },
    {
     "data": {
      "image/png": "[encoded data removed]"
     },
     "metadata": {
      "jupyter-vega": "#d2de1398-3645-4294-ad1c-a962ea2f7b1b"
     },
     "output_type": "display_data"
    }
   ],
   "source": [
    "alt.Chart(result).mark_bar().encode(\n",
    "     x='PERCENT:Q',\n",
    "     y=alt.Y(\n",
    "        'EMOTION:N',\n",
    "        sort=alt.EncodingSortField(field='PERCENT', op='count', order='ascending')\n",
    "        ),\n",
    "    color='EMOTION:N',\n",
    "    tooltip='PERCENT:Q'\n",
    "    )\n"
   ]
  },
  {
   "cell_type": "code",
   "execution_count": null,
   "metadata": {},
   "outputs": [],
   "source": [
    "# input_dropdown = alt.binding_select(options= top_critics['critic'])\n",
    "# selection = alt.selection_single(fields=['critic'], bind=input_dropdown, name='Critic of ')\n",
    "# color = alt.condition(selection,\n",
    "#                     alt.Color('critic:N', legend=None),\n",
    "#                     alt.value('lightgray'))\n",
    "\n",
    "# alt.Chart(cars).mark_point().encode(\n",
    "#     x='Horsepower:Q',\n",
    "#     y='Miles_per_Gallon:Q',\n",
    "#     color=color,\n",
    "#     tooltip='Name:N'\n",
    "# ).add_selection(\n",
    "#     selection\n",
    "# )"
   ]
  },
  {
   "cell_type": "markdown",
   "metadata": {},
   "source": [
    "## Potential Analysis \n",
    "\n",
    "### Number of reviews per reviewer\n",
    "\n",
    "Using the `reviews` dataset, create a histogram showing the distribution of the number of reviews per reviewer.  Create the bin width (x-axis) to be 1 unit wide, and the range of the axis to be from 0 to 30.  Scale the y-axis to show the logarithm of (count of) the number of reviews.  Label your axes and make your histogram look professional."
   ]
  },
  {
   "cell_type": "code",
   "execution_count": 19,
   "metadata": {},
   "outputs": [],
   "source": [
    "reviewer_reviews=pd.DataFrame(reviews.groupby(['critic']).count().reset_index().sort_values('fresh'))"
   ]
  },
  {
   "cell_type": "code",
   "execution_count": 20,
   "metadata": {
    "scrolled": false
   },
   "outputs": [
    {
     "data": {
      "image/png": "[encoded data removed]",
      "text/plain": [
       "<Figure size 432x288 with 1 Axes>"
      ]
     },
     "metadata": {
      "needs_background": "light"
     },
     "output_type": "display_data"
    }
   ],
   "source": [
    "# enter your code here  \n",
    "%matplotlib inline  \n",
    "import matplotlib.pyplot as plt \n",
    "reviewer_reviews=pd.DataFrame(reviews.groupby('critic').count())\n",
    "reviewer_reviews.reset_index(level=0, inplace=True)\n",
    "fig, ax = plt.subplots()\n",
    "plt.xlim([0, 30])\n",
    "plt.yscale('log', nonposy='clip')\n",
    "ax.hist(reviewer_reviews.quote, range=[0,30],bins=30,color=['green'],edgecolor = 'white',alpha=0.5)\n",
    "plt.ylabel('Logarithm of (count of) the Number of Reviews') # add labels \n",
    "plt.xlabel('Number of Reviews')\n",
    "plt.title(' The histogram of reviews per reviewer')\n",
    "ax.spines['right'].set_visible(False)\n",
    "ax.spines['top'].set_visible(False)\n",
    "ax.legend(['Number of Reviewers'])\n",
    "plt.show()"
   ]
  },
  {
   "cell_type": "code",
   "execution_count": null,
   "metadata": {},
   "outputs": [],
   "source": []
  }
 ],
 "metadata": {
  "kernel_info": {
   "name": "python3"
  },
  "kernelspec": {
   "display_name": "Python 3",
   "language": "python",
   "name": "python3"
  },
  "language_info": {
   "codemirror_mode": {
    "name": "ipython",
    "version": 3
   },
   "file_extension": ".py",
   "mimetype": "text/x-python",
   "name": "python",
   "nbconvert_exporter": "python",
   "pygments_lexer": "ipython3",
   "version": "3.7.3"
  },
  "nteract": {
   "version": "0.12.3"
  }
 },
 "nbformat": 4,
 "nbformat_minor": 1
}
