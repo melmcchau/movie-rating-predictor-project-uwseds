{
 "cells": [
  {
   "cell_type": "markdown",
   "metadata": {},
   "source": [
    "---\n",
    "\n",
    "## Movie_Rating_Analysis\n",
    "\n"
   ]
  },
  {
   "cell_type": "markdown",
   "metadata": {},
   "source": [
    "#### Data Manager"
   ]
  },
  {
   "cell_type": "code",
   "execution_count": 23,
   "metadata": {},
   "outputs": [
    {
     "data": {
      "text/plain": [
       "RendererRegistry.enable('notebook')"
      ]
     },
     "execution_count": 23,
     "metadata": {},
     "output_type": "execute_result"
    }
   ],
   "source": [
    "%matplotlib inline\n",
    "import pandas as pd\n",
    "import numpy as np\n",
    "import matplotlib.pyplot as plt\n",
    "import mpld3\n",
    "\n",
    "import warnings\n",
    "warnings.filterwarnings('ignore')\n",
    "import datetime\n",
    "\n",
    "import re\n",
    "import sentiments_nrc\n",
    "from sentiments_nrc import SENTIMENTS\n",
    "from sentiments_nrc import EMOTIONS\n",
    "\n",
    "import altair as alt\n",
    "from vega_datasets import data\n",
    "alt.renderers.enable('notebook')"
   ]
  },
  {
   "cell_type": "code",
   "execution_count": 24,
   "metadata": {},
   "outputs": [],
   "source": [
    "reviews = pd.read_csv('../data/reviews.csv')\n",
    "movies = pd.read_csv(\"../data/movies.dat\", delimiter='\\t')"
   ]
  },
  {
   "cell_type": "code",
   "execution_count": 25,
   "metadata": {},
   "outputs": [],
   "source": [
    "### pre data cleaning for reviews data\n",
    "reviews = reviews[~reviews.quote.isnull()]\n",
    "reviews = reviews[reviews.fresh != 'none']\n",
    "reviews = reviews[reviews.quote.str.len() > 0]\n",
    "reviews['review_date']=pd.to_datetime(reviews['review_date']).dt.date\n",
    "reviews=reviews.drop(['link'], axis=1)"
   ]
  },
  {
   "cell_type": "code",
   "execution_count": 26,
   "metadata": {},
   "outputs": [],
   "source": [
    "### pre data cleaning for movies data\n",
    "movies= movies.drop(['imdbPictureURL','spanishTitle','rtPictureURL'], axis=1)\n",
    "# drop movies with unknow or non-numeric values \n",
    "movies['rtAllCriticsRating'] = movies['rtAllCriticsRating'].apply(pd.to_numeric, errors='drop')\n",
    "movies['rtAllCriticsNumReviews'] = movies['rtAllCriticsNumReviews'].apply(pd.to_numeric, errors = 'drop')\n",
    "movies['rtAudienceRating'] = movies['rtAudienceRating'].apply(pd.to_numeric, errors= 'drop')"
   ]
  },
  {
   "cell_type": "code",
   "execution_count": 27,
   "metadata": {},
   "outputs": [
    {
     "data": {
      "text/html": [
       "<div>\n",
       "<style scoped>\n",
       "    .dataframe tbody tr th:only-of-type {\n",
       "        vertical-align: middle;\n",
       "    }\n",
       "\n",
       "    .dataframe tbody tr th {\n",
       "        vertical-align: top;\n",
       "    }\n",
       "\n",
       "    .dataframe thead th {\n",
       "        text-align: right;\n",
       "    }\n",
       "</style>\n",
       "<table border=\"1\" class=\"dataframe\">\n",
       "  <thead>\n",
       "    <tr style=\"text-align: right;\">\n",
       "      <th></th>\n",
       "      <th>critic</th>\n",
       "      <th>fresh</th>\n",
       "      <th>imdb</th>\n",
       "      <th>publication</th>\n",
       "      <th>quote</th>\n",
       "      <th>review_date</th>\n",
       "      <th>rtid</th>\n",
       "      <th>title</th>\n",
       "    </tr>\n",
       "  </thead>\n",
       "  <tbody>\n",
       "    <tr>\n",
       "      <th>0</th>\n",
       "      <td>Derek Adams</td>\n",
       "      <td>fresh</td>\n",
       "      <td>114709</td>\n",
       "      <td>Time Out</td>\n",
       "      <td>So ingenious in concept, design and execution ...</td>\n",
       "      <td>2009-10-04</td>\n",
       "      <td>9559</td>\n",
       "      <td>Toy Story</td>\n",
       "    </tr>\n",
       "    <tr>\n",
       "      <th>1</th>\n",
       "      <td>Richard Corliss</td>\n",
       "      <td>fresh</td>\n",
       "      <td>114709</td>\n",
       "      <td>TIME Magazine</td>\n",
       "      <td>The year's most inventive comedy.</td>\n",
       "      <td>2008-08-31</td>\n",
       "      <td>9559</td>\n",
       "      <td>Toy Story</td>\n",
       "    </tr>\n",
       "  </tbody>\n",
       "</table>\n",
       "</div>"
      ],
      "text/plain": [
       "            critic  fresh    imdb    publication  \\\n",
       "0      Derek Adams  fresh  114709       Time Out   \n",
       "1  Richard Corliss  fresh  114709  TIME Magazine   \n",
       "\n",
       "                                               quote review_date  rtid  \\\n",
       "0  So ingenious in concept, design and execution ...  2009-10-04  9559   \n",
       "1                  The year's most inventive comedy.  2008-08-31  9559   \n",
       "\n",
       "       title  \n",
       "0  Toy Story  \n",
       "1  Toy Story  "
      ]
     },
     "execution_count": 27,
     "metadata": {},
     "output_type": "execute_result"
    }
   ],
   "source": [
    "reviews.head(2)"
   ]
  },
  {
   "cell_type": "code",
   "execution_count": 28,
   "metadata": {},
   "outputs": [
    {
     "data": {
      "text/html": [
       "<div>\n",
       "<style scoped>\n",
       "    .dataframe tbody tr th:only-of-type {\n",
       "        vertical-align: middle;\n",
       "    }\n",
       "\n",
       "    .dataframe tbody tr th {\n",
       "        vertical-align: top;\n",
       "    }\n",
       "\n",
       "    .dataframe thead th {\n",
       "        text-align: right;\n",
       "    }\n",
       "</style>\n",
       "<table border=\"1\" class=\"dataframe\">\n",
       "  <thead>\n",
       "    <tr style=\"text-align: right;\">\n",
       "      <th></th>\n",
       "      <th>id</th>\n",
       "      <th>title</th>\n",
       "      <th>imdbID</th>\n",
       "      <th>year</th>\n",
       "      <th>rtID</th>\n",
       "      <th>rtAllCriticsRating</th>\n",
       "      <th>rtAllCriticsNumReviews</th>\n",
       "      <th>rtAllCriticsNumFresh</th>\n",
       "      <th>rtAllCriticsNumRotten</th>\n",
       "      <th>rtAllCriticsScore</th>\n",
       "      <th>rtTopCriticsRating</th>\n",
       "      <th>rtTopCriticsNumReviews</th>\n",
       "      <th>rtTopCriticsNumFresh</th>\n",
       "      <th>rtTopCriticsNumRotten</th>\n",
       "      <th>rtTopCriticsScore</th>\n",
       "      <th>rtAudienceRating</th>\n",
       "      <th>rtAudienceNumRatings</th>\n",
       "      <th>rtAudienceScore</th>\n",
       "    </tr>\n",
       "  </thead>\n",
       "  <tbody>\n",
       "    <tr>\n",
       "      <th>0</th>\n",
       "      <td>1</td>\n",
       "      <td>Toy story</td>\n",
       "      <td>114709</td>\n",
       "      <td>1995</td>\n",
       "      <td>toy_story</td>\n",
       "      <td>9.0</td>\n",
       "      <td>73.0</td>\n",
       "      <td>73</td>\n",
       "      <td>0</td>\n",
       "      <td>100</td>\n",
       "      <td>8.5</td>\n",
       "      <td>17</td>\n",
       "      <td>17</td>\n",
       "      <td>0</td>\n",
       "      <td>100</td>\n",
       "      <td>3.7</td>\n",
       "      <td>102338</td>\n",
       "      <td>81</td>\n",
       "    </tr>\n",
       "    <tr>\n",
       "      <th>1</th>\n",
       "      <td>2</td>\n",
       "      <td>Jumanji</td>\n",
       "      <td>113497</td>\n",
       "      <td>1995</td>\n",
       "      <td>1068044-jumanji</td>\n",
       "      <td>5.6</td>\n",
       "      <td>28.0</td>\n",
       "      <td>13</td>\n",
       "      <td>15</td>\n",
       "      <td>46</td>\n",
       "      <td>5.8</td>\n",
       "      <td>5</td>\n",
       "      <td>2</td>\n",
       "      <td>3</td>\n",
       "      <td>40</td>\n",
       "      <td>3.2</td>\n",
       "      <td>44587</td>\n",
       "      <td>61</td>\n",
       "    </tr>\n",
       "  </tbody>\n",
       "</table>\n",
       "</div>"
      ],
      "text/plain": [
       "   id      title  imdbID  year             rtID  rtAllCriticsRating  \\\n",
       "0   1  Toy story  114709  1995        toy_story                 9.0   \n",
       "1   2    Jumanji  113497  1995  1068044-jumanji                 5.6   \n",
       "\n",
       "   rtAllCriticsNumReviews rtAllCriticsNumFresh rtAllCriticsNumRotten  \\\n",
       "0                    73.0                   73                     0   \n",
       "1                    28.0                   13                    15   \n",
       "\n",
       "  rtAllCriticsScore rtTopCriticsRating rtTopCriticsNumReviews  \\\n",
       "0               100                8.5                     17   \n",
       "1                46                5.8                      5   \n",
       "\n",
       "  rtTopCriticsNumFresh rtTopCriticsNumRotten rtTopCriticsScore  \\\n",
       "0                   17                     0               100   \n",
       "1                    2                     3                40   \n",
       "\n",
       "   rtAudienceRating rtAudienceNumRatings rtAudienceScore  \n",
       "0               3.7               102338              81  \n",
       "1               3.2                44587              61  "
      ]
     },
     "execution_count": 28,
     "metadata": {},
     "output_type": "execute_result"
    }
   ],
   "source": [
    "movies.head(2)"
   ]
  },
  {
   "cell_type": "code",
   "execution_count": 29,
   "metadata": {},
   "outputs": [],
   "source": [
    "sub_movies=movies[['title', 'imdbID', 'year', 'rtID','rtAllCriticsRating','rtAllCriticsNumReviews','rtAudienceNumRatings', 'rtAudienceScore']]"
   ]
  },
  {
   "cell_type": "code",
   "execution_count": 30,
   "metadata": {},
   "outputs": [
    {
     "data": {
      "text/html": [
       "<div>\n",
       "<style scoped>\n",
       "    .dataframe tbody tr th:only-of-type {\n",
       "        vertical-align: middle;\n",
       "    }\n",
       "\n",
       "    .dataframe tbody tr th {\n",
       "        vertical-align: top;\n",
       "    }\n",
       "\n",
       "    .dataframe thead th {\n",
       "        text-align: right;\n",
       "    }\n",
       "</style>\n",
       "<table border=\"1\" class=\"dataframe\">\n",
       "  <thead>\n",
       "    <tr style=\"text-align: right;\">\n",
       "      <th></th>\n",
       "      <th>title</th>\n",
       "      <th>imdbID</th>\n",
       "      <th>year</th>\n",
       "      <th>rtID</th>\n",
       "      <th>rtAllCriticsRating</th>\n",
       "      <th>rtAllCriticsNumReviews</th>\n",
       "      <th>rtAudienceNumRatings</th>\n",
       "      <th>rtAudienceScore</th>\n",
       "    </tr>\n",
       "  </thead>\n",
       "  <tbody>\n",
       "    <tr>\n",
       "      <th>0</th>\n",
       "      <td>Toy story</td>\n",
       "      <td>114709</td>\n",
       "      <td>1995</td>\n",
       "      <td>toy_story</td>\n",
       "      <td>9.0</td>\n",
       "      <td>73.0</td>\n",
       "      <td>102338</td>\n",
       "      <td>81</td>\n",
       "    </tr>\n",
       "  </tbody>\n",
       "</table>\n",
       "</div>"
      ],
      "text/plain": [
       "       title  imdbID  year       rtID  rtAllCriticsRating  \\\n",
       "0  Toy story  114709  1995  toy_story                 9.0   \n",
       "\n",
       "   rtAllCriticsNumReviews rtAudienceNumRatings rtAudienceScore  \n",
       "0                    73.0               102338              81  "
      ]
     },
     "execution_count": 30,
     "metadata": {},
     "output_type": "execute_result"
    }
   ],
   "source": [
    "sub_movies.head(1)"
   ]
  },
  {
   "cell_type": "markdown",
   "metadata": {},
   "source": [
    "#### Visualization Manager I "
   ]
  },
  {
   "cell_type": "code",
   "execution_count": 31,
   "metadata": {
    "scrolled": true
   },
   "outputs": [
    {
     "name": "stdout",
     "output_type": "stream",
     "text": [
      "Please input the year range that you are interested in: \n",
      "2006\n",
      "2009\n"
     ]
    },
    {
     "data": {
      "application/javascript": [
       "const spec = {\"config\": {\"view\": {\"width\": 400, \"height\": 300}, \"mark\": {\"tooltip\": null}}, \"data\": {\"name\": \"data-3f1eebc8d5559effc8ce4aeafa11f798\"}, \"mark\": \"line\", \"encoding\": {\"tooltip\": {\"type\": \"nominal\", \"field\": \"year\"}, \"x\": {\"type\": \"nominal\", \"field\": \"year\"}, \"y\": {\"type\": \"quantitative\", \"field\": \"rtAllCriticsRating\"}}, \"selection\": {\"selector002\": {\"type\": \"interval\", \"bind\": \"scales\"}}, \"$schema\": \"https://vega.github.io/schema/vega-lite/v3.4.0.json\", \"datasets\": {\"data-3f1eebc8d5559effc8ce4aeafa11f798\": [{\"year\": 2006, \"rtAllCriticsRating\": 5.7}, {\"year\": 2007, \"rtAllCriticsRating\": 5.6}, {\"year\": 2008, \"rtAllCriticsRating\": 5.2}, {\"year\": 2009, \"rtAllCriticsRating\": 5.0}]}};\n",
       "const opt = {};\n",
       "const type = \"vega-lite\";\n",
       "const id = \"0052f6a2-8726-4aff-bc1a-aa758af691a6\";\n",
       "\n",
       "const output_area = this;\n",
       "\n",
       "require([\"nbextensions/jupyter-vega/index\"], function(vega) {\n",
       "  const target = document.createElement(\"div\");\n",
       "  target.id = id;\n",
       "  target.className = \"vega-embed\";\n",
       "\n",
       "  const style = document.createElement(\"style\");\n",
       "  style.textContent = [\n",
       "    \".vega-embed .error p {\",\n",
       "    \"  color: firebrick;\",\n",
       "    \"  font-size: 14px;\",\n",
       "    \"}\",\n",
       "  ].join(\"\\\\n\");\n",
       "\n",
       "  // element is a jQuery wrapped DOM element inside the output area\n",
       "  // see http://ipython.readthedocs.io/en/stable/api/generated/\\\n",
       "  // IPython.display.html#IPython.display.Javascript.__init__\n",
       "  element[0].appendChild(target);\n",
       "  element[0].appendChild(style);\n",
       "\n",
       "  vega.render(\"#\" + id, spec, type, opt, output_area);\n",
       "}, function (err) {\n",
       "  if (err.requireType !== \"scripterror\") {\n",
       "    throw(err);\n",
       "  }\n",
       "});\n"
      ],
      "text/plain": [
       "<vega.vegalite.VegaLite at 0x10d1224e0>"
      ]
     },
     "metadata": {
      "jupyter-vega": "#0052f6a2-8726-4aff-bc1a-aa758af691a6"
     },
     "output_type": "display_data"
    },
    {
     "data": {
      "text/plain": []
     },
     "execution_count": 31,
     "metadata": {},
     "output_type": "execute_result"
    },
    {
     "data": {
      "image/png": "[encoded data removed]"
     },
     "metadata": {
      "jupyter-vega": "#0052f6a2-8726-4aff-bc1a-aa758af691a6"
     },
     "output_type": "display_data"
    }
   ],
   "source": [
    "#### interactive one: draw the trendline of the median rating given a time interval \n",
    "\n",
    "def draw_trend_line_median_year(sub_movies):\n",
    "    \n",
    "    print('Please input the year range that you are interested in: ')\n",
    "    \n",
    "\n",
    "    start_year = int(input())\n",
    "    end_year = int(input())\n",
    "    \n",
    "    year_median = sub_movies.groupby('year')['rtAllCriticsRating'].median().reset_index()\n",
    "    year_show = year_median[year_median['year'] >= start_year]\n",
    "    year_show = year_show[year_median['year'] <= end_year]\n",
    "    \n",
    "    \n",
    "    selection = alt.selection_interval(bind='scales')\n",
    "\n",
    "    chart = alt.Chart(year_show).mark_line().encode(\n",
    "    x='year:N',\n",
    "    y='rtAllCriticsRating:Q',\n",
    "    tooltip='year:N').add_selection(selection)\n",
    "    \n",
    "    chart.save('chart.html')\n",
    "    return chart\n",
    "    \n",
    "\n",
    "    \n",
    "draw_trend_line_median_year(sub_movies)"
   ]
  },
  {
   "cell_type": "code",
   "execution_count": 32,
   "metadata": {},
   "outputs": [],
   "source": [
    "def top5_critic_per_year(reviews,year):\n",
    "    \n",
    "    reviews['review_date'] = pd.to_datetime(reviews['review_date'])\n",
    "    reviews['year'] = reviews['review_date'].dt.year\n",
    "    Group_Aggregation = reviews[['critic', 'publication', \n",
    "                       'year', 'quote']].groupby(['critic','year']).agg({ \n",
    "                         'quote': ['count']}).reset_index()\n",
    "    Group_Aggregation = Group_Aggregation[(Group_Aggregation['year'] == year)]\n",
    "    Top_five = Group_Aggregation.sort_values(by=[('quote','count')], ascending = False)[:5].reset_index(drop =True)\n",
    "    \n",
    "    print(Group_Aggregation)\n",
    "    \n",
    "    return Top_five.reset_index()\n",
    "\n"
   ]
  },
  {
   "cell_type": "code",
   "execution_count": 33,
   "metadata": {},
   "outputs": [
    {
     "name": "stdout",
     "output_type": "stream",
     "text": [
      "                critic  year quote\n",
      "                             count\n",
      "930   Lisa Schwarzbaum  1994     4\n",
      "1115   Owen Gleiberman  1994     7\n"
     ]
    }
   ],
   "source": [
    "year = 1994\n",
    "\n",
    "reviews['review_date'] = pd.to_datetime(reviews['review_date'])\n",
    "reviews['year'] = reviews['review_date'].dt.year\n",
    "Group_Aggregation = reviews[['critic', 'publication', \n",
    "                   'year', 'quote']].groupby(['critic','year']).agg({ \n",
    "                     'quote': ['count']}).reset_index()\n",
    "Group_Aggregation = Group_Aggregation[(Group_Aggregation['year'] == year)]\n",
    "Top_five = Group_Aggregation.sort_values(by=[('quote','count')], ascending = False)[:5].reset_index(drop =True)\n",
    "\n",
    "print(Group_Aggregation)"
   ]
  },
  {
   "cell_type": "code",
   "execution_count": 34,
   "metadata": {},
   "outputs": [
    {
     "name": "stdout",
     "output_type": "stream",
     "text": [
      "                critic  year quote\n",
      "                             count\n",
      "930   Lisa Schwarzbaum  1994     4\n",
      "1115   Owen Gleiberman  1994     7\n"
     ]
    },
    {
     "data": {
      "text/plain": [
       "['Owen Gleiberman', 'Lisa Schwarzbaum']"
      ]
     },
     "execution_count": 34,
     "metadata": {},
     "output_type": "execute_result"
    }
   ],
   "source": [
    "top_critics =list( top5_critic_per_year(reviews,1994)['critic'])\n",
    "# top_critics['critic']\n",
    "# list(top_critics['critic'])\n",
    "top_critics"
   ]
  },
  {
   "cell_type": "markdown",
   "metadata": {},
   "source": [
    "#### Visualization Manager II"
   ]
  },
  {
   "cell_type": "code",
   "execution_count": 35,
   "metadata": {},
   "outputs": [],
   "source": [
    "#### interactive 2: sentiment analysis  for reviews of per critic \n",
    "\n",
    "### global variables \n",
    "movies_sub=movies[['title','imdbID']]\n",
    "movie_review=reviews.merge(movies_sub, left_on='imdb', right_on='imdbID', how='inner')\n",
    "movie_review=movie_review[['critic','publication','quote','review_date','title_x','imdb']]\n",
    "EMOTIONS = ['positive', 'negative', 'anger', \n",
    "            'anticipation', 'disgust', 'fear', \n",
    "            'joy', 'sadness', 'surprise', 'trust']\n",
    "\n",
    "# support function 1\n",
    "def words_with_specific_emotion(list_of_split_words,emotion):\n",
    "    '''Produce a list that include the words that contain a specific emotion\n",
    "       Parameters: list_of_split_words (String): A list with split words \n",
    "                   emotion(string): the emotion words in EMOTIONS list\n",
    "       Returns: list: the words in the string with one certain kind of emotion'''\n",
    "    Look_Up=[SENTIMENTS.get(word) for word in list_of_split_words] #get the emotion list of every word in the list \n",
    "    Combine=list(zip(list_of_split_words,Look_Up)) # zip the emotion list with word in one list \n",
    "    Words_With_Specific_Emotion=[line[0] for line in Combine if line[1] is not None and line[1].get(emotion)==1 ]\n",
    "    return Words_With_Specific_Emotion #find the words in a specific emotion\n",
    "\n",
    "# support function 2\n",
    "def words_list_for_each_emotion(Split_Test_String):\n",
    "    '''Produce a disctionary with emotion words as keys and words list having that emotion as values\n",
    "       Parameters: Split_Test_String (String): A list with split words\n",
    "       Returns: list-the  most common words in the input list'''\n",
    "    matching_words=[words_with_specific_emotion(Split_Test_String,emotion) for emotion in EMOTIONS]\n",
    "    distinct_matching=[i for i in matching_words]\n",
    "    return {emotion:matching_word for (emotion,matching_word) in zip(EMOTIONS,distinct_matching)}\n",
    "\n",
    "# support function 3 \n",
    "def get_common_words_list(wordlist):\n",
    "    '''Produce a list with the most common words of the input list\n",
    "       Parameters: wordlist (string): \n",
    "       Returns: dict: the key-values pairs of emotions word and its corresponding words in the string'''\n",
    "    wordfreq=list(zip(wordlist,[wordlist.count(w) for w in wordlist]))\n",
    "    wordfreq_sort=list(set(sorted(wordfreq,key=lambda freq: freq[1], reverse=True)))\n",
    "    new_word_freq_sort=sorted(wordfreq_sort,key=lambda freq: freq[1], reverse=True)\n",
    "    return [i[0] for i in new_word_freq_sort]\n"
   ]
  },
  {
   "cell_type": "code",
   "execution_count": 36,
   "metadata": {},
   "outputs": [
    {
     "name": "stdout",
     "output_type": "stream",
     "text": [
      "             critic                                              quote\n",
      "0  Lisa Schwarzbaum  Australian director Chris Noonan and producer ...\n",
      "1   Owen Gleiberman  Heat is an ''epic'' that feels like a stunt. I...\n"
     ]
    }
   ],
   "source": [
    "## main analysis function \n",
    "## I will wrap latter \n",
    "quote = pd.DataFrame()\n",
    "for name in top_critics:\n",
    "    critic_quote=movie_review[['critic','quote']]\n",
    "    sub_quote = critic_quote[critic_quote['critic'] == name]\n",
    "#     print(len(sub_quote))\n",
    "    quote = quote.append(sub_quote,ignore_index=True)\n",
    "    quote = quote.groupby('critic')['quote'].apply(' '.join).reset_index()\n",
    "    \n",
    "print(quote)\n",
    "    \n",
    "    \n",
    "def analyze_quote(quote,top_critics):\n",
    "    \n",
    "#     criticname = input(\"Please enter the Critic that you are interested: \")\n",
    "#     critic_quote=movie_review[['critic','quote']]\n",
    "    res = pd.DataFrame()\n",
    "    for name in top_critics:\n",
    "        content = quote[quote['critic'] == name]['quote'].values[0]\n",
    "#         content=quote.groupby('critic')['quote'].apply(' '.join).reset_index()['quote']\n",
    "        Split_String=re.split(r'\\W+',content) \n",
    "        lower_words=[word.lower() for word in Split_String] \n",
    "        length_filtered=[word for word in lower_words if len(word)>1]\n",
    "    \n",
    "    ### calculate total number or words\n",
    "        Total_Words=len(length_filtered)\n",
    "        Words_List_for_Each_Emotion=words_list_for_each_emotion(length_filtered)\n",
    "    \n",
    "        result_list=[]\n",
    "        for i in EMOTIONS:\n",
    "            result={}\n",
    "            example_words=[get_common_words_list(value)[:3] for key,value in Words_List_for_Each_Emotion.items() if key==i]\n",
    "            result['EMOTION']=i\n",
    "            result['PERCENT']= len(Words_List_for_Each_Emotion[i])/Total_Words\n",
    "            result['EXAMPLE WORDS']=example_words[0]\n",
    "            result['name'] = name\n",
    "            result_list.append(result)\n",
    "            result=sorted(result_list,key=lambda k:k['PERCENT'],reverse=True)\n",
    "            result = pd.DataFrame(result)\n",
    "            res = res.append(result)\n",
    "    \n",
    "\n",
    "    return res"
   ]
  },
  {
   "cell_type": "code",
   "execution_count": 15,
   "metadata": {},
   "outputs": [
    {
     "data": {
      "text/html": [
       "<div>\n",
       "<style scoped>\n",
       "    .dataframe tbody tr th:only-of-type {\n",
       "        vertical-align: middle;\n",
       "    }\n",
       "\n",
       "    .dataframe tbody tr th {\n",
       "        vertical-align: top;\n",
       "    }\n",
       "\n",
       "    .dataframe thead th {\n",
       "        text-align: right;\n",
       "    }\n",
       "</style>\n",
       "<table border=\"1\" class=\"dataframe\">\n",
       "  <thead>\n",
       "    <tr style=\"text-align: right;\">\n",
       "      <th></th>\n",
       "      <th>EMOTION</th>\n",
       "      <th>EXAMPLE WORDS</th>\n",
       "      <th>PERCENT</th>\n",
       "      <th>name</th>\n",
       "    </tr>\n",
       "  </thead>\n",
       "  <tbody>\n",
       "    <tr>\n",
       "      <th>0</th>\n",
       "      <td>positive</td>\n",
       "      <td>[don, director, action]</td>\n",
       "      <td>0.070557</td>\n",
       "      <td>Owen Gleiberman</td>\n",
       "    </tr>\n",
       "    <tr>\n",
       "      <th>0</th>\n",
       "      <td>positive</td>\n",
       "      <td>[don, director, action]</td>\n",
       "      <td>0.070557</td>\n",
       "      <td>Owen Gleiberman</td>\n",
       "    </tr>\n",
       "    <tr>\n",
       "      <th>1</th>\n",
       "      <td>negative</td>\n",
       "      <td>[pop, horror, lost]</td>\n",
       "      <td>0.051254</td>\n",
       "      <td>Owen Gleiberman</td>\n",
       "    </tr>\n",
       "    <tr>\n",
       "      <th>0</th>\n",
       "      <td>positive</td>\n",
       "      <td>[don, director, action]</td>\n",
       "      <td>0.070557</td>\n",
       "      <td>Owen Gleiberman</td>\n",
       "    </tr>\n",
       "    <tr>\n",
       "      <th>1</th>\n",
       "      <td>negative</td>\n",
       "      <td>[pop, horror, lost]</td>\n",
       "      <td>0.051254</td>\n",
       "      <td>Owen Gleiberman</td>\n",
       "    </tr>\n",
       "  </tbody>\n",
       "</table>\n",
       "</div>"
      ],
      "text/plain": [
       "    EMOTION            EXAMPLE WORDS   PERCENT             name\n",
       "0  positive  [don, director, action]  0.070557  Owen Gleiberman\n",
       "0  positive  [don, director, action]  0.070557  Owen Gleiberman\n",
       "1  negative      [pop, horror, lost]  0.051254  Owen Gleiberman\n",
       "0  positive  [don, director, action]  0.070557  Owen Gleiberman\n",
       "1  negative      [pop, horror, lost]  0.051254  Owen Gleiberman"
      ]
     },
     "execution_count": 15,
     "metadata": {},
     "output_type": "execute_result"
    }
   ],
   "source": [
    "result= analyze_quote(quote,top_critics)\n",
    "result.head()"
   ]
  },
  {
   "cell_type": "code",
   "execution_count": 16,
   "metadata": {
    "scrolled": true
   },
   "outputs": [
    {
     "data": {
      "application/javascript": [
       "const spec = {\"config\": {\"view\": {\"width\": 400, \"height\": 300}, \"mark\": {\"tooltip\": null}}, \"data\": {\"name\": \"data-fc1083b00837c2f318854ab6f9a7c73a\"}, \"mark\": \"bar\", \"encoding\": {\"color\": {\"condition\": {\"type\": \"nominal\", \"field\": \"critic\", \"legend\": null, \"selection\": \"Critic of \"}, \"value\": \"lightgray\"}, \"tooltip\": {\"type\": \"quantitative\", \"field\": \"PERCENT\"}, \"x\": {\"type\": \"quantitative\", \"field\": \"PERCENT\"}, \"y\": {\"type\": \"nominal\", \"field\": \"EMOTION\", \"sort\": {\"field\": \"PERCENT\", \"op\": \"count\", \"order\": \"ascending\"}}}, \"selection\": {\"Critic of \": {\"type\": \"single\", \"fields\": [\"name\"], \"bind\": {\"input\": \"select\", \"options\": [\"Owen Gleiberman\"]}}}, \"$schema\": \"https://vega.github.io/schema/vega-lite/v3.4.0.json\", \"datasets\": {\"data-fc1083b00837c2f318854ab6f9a7c73a\": [{\"EMOTION\": \"positive\", \"EXAMPLE WORDS\": [\"don\", \"director\", \"action\"], \"PERCENT\": 0.07055691147104504, \"name\": \"Owen Gleiberman\"}, {\"EMOTION\": \"positive\", \"EXAMPLE WORDS\": [\"don\", \"director\", \"action\"], \"PERCENT\": 0.07055691147104504, \"name\": \"Owen Gleiberman\"}, {\"EMOTION\": \"negative\", \"EXAMPLE WORDS\": [\"pop\", \"horror\", \"lost\"], \"PERCENT\": 0.051253605502551584, \"name\": \"Owen Gleiberman\"}, {\"EMOTION\": \"positive\", \"EXAMPLE WORDS\": [\"don\", \"director\", \"action\"], \"PERCENT\": 0.07055691147104504, \"name\": \"Owen Gleiberman\"}, {\"EMOTION\": \"negative\", \"EXAMPLE WORDS\": [\"pop\", \"horror\", \"lost\"], \"PERCENT\": 0.051253605502551584, \"name\": \"Owen Gleiberman\"}, {\"EMOTION\": \"anger\", \"EXAMPLE WORDS\": [\"horror\", \"bad\", \"noisy\"], \"PERCENT\": 0.021522076769469715, \"name\": \"Owen Gleiberman\"}, {\"EMOTION\": \"positive\", \"EXAMPLE WORDS\": [\"don\", \"director\", \"action\"], \"PERCENT\": 0.07055691147104504, \"name\": \"Owen Gleiberman\"}, {\"EMOTION\": \"negative\", \"EXAMPLE WORDS\": [\"pop\", \"horror\", \"lost\"], \"PERCENT\": 0.051253605502551584, \"name\": \"Owen Gleiberman\"}, {\"EMOTION\": \"anticipation\", \"EXAMPLE WORDS\": [\"time\", \"good\", \"entertainment\"], \"PERCENT\": 0.03039715997337475, \"name\": \"Owen Gleiberman\"}, {\"EMOTION\": \"anger\", \"EXAMPLE WORDS\": [\"horror\", \"bad\", \"noisy\"], \"PERCENT\": 0.021522076769469715, \"name\": \"Owen Gleiberman\"}, {\"EMOTION\": \"positive\", \"EXAMPLE WORDS\": [\"don\", \"director\", \"action\"], \"PERCENT\": 0.07055691147104504, \"name\": \"Owen Gleiberman\"}, {\"EMOTION\": \"negative\", \"EXAMPLE WORDS\": [\"pop\", \"horror\", \"lost\"], \"PERCENT\": 0.051253605502551584, \"name\": \"Owen Gleiberman\"}, {\"EMOTION\": \"anticipation\", \"EXAMPLE WORDS\": [\"time\", \"good\", \"entertainment\"], \"PERCENT\": 0.03039715997337475, \"name\": \"Owen Gleiberman\"}, {\"EMOTION\": \"anger\", \"EXAMPLE WORDS\": [\"horror\", \"bad\", \"noisy\"], \"PERCENT\": 0.021522076769469715, \"name\": \"Owen Gleiberman\"}, {\"EMOTION\": \"disgust\", \"EXAMPLE WORDS\": [\"horror\", \"bad\", \"corruption\"], \"PERCENT\": 0.01775016640781007, \"name\": \"Owen Gleiberman\"}, {\"EMOTION\": \"positive\", \"EXAMPLE WORDS\": [\"don\", \"director\", \"action\"], \"PERCENT\": 0.07055691147104504, \"name\": \"Owen Gleiberman\"}, {\"EMOTION\": \"negative\", \"EXAMPLE WORDS\": [\"pop\", \"horror\", \"lost\"], \"PERCENT\": 0.051253605502551584, \"name\": \"Owen Gleiberman\"}, {\"EMOTION\": \"anticipation\", \"EXAMPLE WORDS\": [\"time\", \"good\", \"entertainment\"], \"PERCENT\": 0.03039715997337475, \"name\": \"Owen Gleiberman\"}, {\"EMOTION\": \"fear\", \"EXAMPLE WORDS\": [\"horror\", \"bad\", \"thrill\"], \"PERCENT\": 0.02618149545151986, \"name\": \"Owen Gleiberman\"}, {\"EMOTION\": \"anger\", \"EXAMPLE WORDS\": [\"horror\", \"bad\", \"noisy\"], \"PERCENT\": 0.021522076769469715, \"name\": \"Owen Gleiberman\"}, {\"EMOTION\": \"disgust\", \"EXAMPLE WORDS\": [\"horror\", \"bad\", \"corruption\"], \"PERCENT\": 0.01775016640781007, \"name\": \"Owen Gleiberman\"}, {\"EMOTION\": \"positive\", \"EXAMPLE WORDS\": [\"don\", \"director\", \"action\"], \"PERCENT\": 0.07055691147104504, \"name\": \"Owen Gleiberman\"}, {\"EMOTION\": \"negative\", \"EXAMPLE WORDS\": [\"pop\", \"horror\", \"lost\"], \"PERCENT\": 0.051253605502551584, \"name\": \"Owen Gleiberman\"}, {\"EMOTION\": \"joy\", \"EXAMPLE WORDS\": [\"beauty\", \"love\", \"good\"], \"PERCENT\": 0.033281562014643884, \"name\": \"Owen Gleiberman\"}, {\"EMOTION\": \"anticipation\", \"EXAMPLE WORDS\": [\"time\", \"good\", \"entertainment\"], \"PERCENT\": 0.03039715997337475, \"name\": \"Owen Gleiberman\"}, {\"EMOTION\": \"fear\", \"EXAMPLE WORDS\": [\"horror\", \"bad\", \"thrill\"], \"PERCENT\": 0.02618149545151986, \"name\": \"Owen Gleiberman\"}, {\"EMOTION\": \"anger\", \"EXAMPLE WORDS\": [\"horror\", \"bad\", \"noisy\"], \"PERCENT\": 0.021522076769469715, \"name\": \"Owen Gleiberman\"}, {\"EMOTION\": \"disgust\", \"EXAMPLE WORDS\": [\"horror\", \"bad\", \"corruption\"], \"PERCENT\": 0.01775016640781007, \"name\": \"Owen Gleiberman\"}, {\"EMOTION\": \"positive\", \"EXAMPLE WORDS\": [\"don\", \"director\", \"action\"], \"PERCENT\": 0.07055691147104504, \"name\": \"Owen Gleiberman\"}, {\"EMOTION\": \"negative\", \"EXAMPLE WORDS\": [\"pop\", \"horror\", \"lost\"], \"PERCENT\": 0.051253605502551584, \"name\": \"Owen Gleiberman\"}, {\"EMOTION\": \"joy\", \"EXAMPLE WORDS\": [\"beauty\", \"love\", \"good\"], \"PERCENT\": 0.033281562014643884, \"name\": \"Owen Gleiberman\"}, {\"EMOTION\": \"anticipation\", \"EXAMPLE WORDS\": [\"time\", \"good\", \"entertainment\"], \"PERCENT\": 0.03039715997337475, \"name\": \"Owen Gleiberman\"}, {\"EMOTION\": \"fear\", \"EXAMPLE WORDS\": [\"horror\", \"bad\", \"thrill\"], \"PERCENT\": 0.02618149545151986, \"name\": \"Owen Gleiberman\"}, {\"EMOTION\": \"sadness\", \"EXAMPLE WORDS\": [\"horror\", \"bad\", \"lost\"], \"PERCENT\": 0.023075216330153095, \"name\": \"Owen Gleiberman\"}, {\"EMOTION\": \"anger\", \"EXAMPLE WORDS\": [\"horror\", \"bad\", \"noisy\"], \"PERCENT\": 0.021522076769469715, \"name\": \"Owen Gleiberman\"}, {\"EMOTION\": \"disgust\", \"EXAMPLE WORDS\": [\"horror\", \"bad\", \"corruption\"], \"PERCENT\": 0.01775016640781007, \"name\": \"Owen Gleiberman\"}, {\"EMOTION\": \"positive\", \"EXAMPLE WORDS\": [\"don\", \"director\", \"action\"], \"PERCENT\": 0.07055691147104504, \"name\": \"Owen Gleiberman\"}, {\"EMOTION\": \"negative\", \"EXAMPLE WORDS\": [\"pop\", \"horror\", \"lost\"], \"PERCENT\": 0.051253605502551584, \"name\": \"Owen Gleiberman\"}, {\"EMOTION\": \"joy\", \"EXAMPLE WORDS\": [\"beauty\", \"love\", \"good\"], \"PERCENT\": 0.033281562014643884, \"name\": \"Owen Gleiberman\"}, {\"EMOTION\": \"anticipation\", \"EXAMPLE WORDS\": [\"time\", \"good\", \"entertainment\"], \"PERCENT\": 0.03039715997337475, \"name\": \"Owen Gleiberman\"}, {\"EMOTION\": \"fear\", \"EXAMPLE WORDS\": [\"horror\", \"bad\", \"thrill\"], \"PERCENT\": 0.02618149545151986, \"name\": \"Owen Gleiberman\"}, {\"EMOTION\": \"sadness\", \"EXAMPLE WORDS\": [\"horror\", \"bad\", \"lost\"], \"PERCENT\": 0.023075216330153095, \"name\": \"Owen Gleiberman\"}, {\"EMOTION\": \"surprise\", \"EXAMPLE WORDS\": [\"pop\", \"good\", \"horror\"], \"PERCENT\": 0.02285333925005547, \"name\": \"Owen Gleiberman\"}, {\"EMOTION\": \"anger\", \"EXAMPLE WORDS\": [\"horror\", \"bad\", \"noisy\"], \"PERCENT\": 0.021522076769469715, \"name\": \"Owen Gleiberman\"}, {\"EMOTION\": \"disgust\", \"EXAMPLE WORDS\": [\"horror\", \"bad\", \"corruption\"], \"PERCENT\": 0.01775016640781007, \"name\": \"Owen Gleiberman\"}, {\"EMOTION\": \"positive\", \"EXAMPLE WORDS\": [\"don\", \"director\", \"action\"], \"PERCENT\": 0.07055691147104504, \"name\": \"Owen Gleiberman\"}, {\"EMOTION\": \"negative\", \"EXAMPLE WORDS\": [\"pop\", \"horror\", \"lost\"], \"PERCENT\": 0.051253605502551584, \"name\": \"Owen Gleiberman\"}, {\"EMOTION\": \"joy\", \"EXAMPLE WORDS\": [\"beauty\", \"love\", \"good\"], \"PERCENT\": 0.033281562014643884, \"name\": \"Owen Gleiberman\"}, {\"EMOTION\": \"trust\", \"EXAMPLE WORDS\": [\"don\", \"director\", \"series\"], \"PERCENT\": 0.032837807854448633, \"name\": \"Owen Gleiberman\"}, {\"EMOTION\": \"anticipation\", \"EXAMPLE WORDS\": [\"time\", \"good\", \"entertainment\"], \"PERCENT\": 0.03039715997337475, \"name\": \"Owen Gleiberman\"}, {\"EMOTION\": \"fear\", \"EXAMPLE WORDS\": [\"horror\", \"bad\", \"thrill\"], \"PERCENT\": 0.02618149545151986, \"name\": \"Owen Gleiberman\"}, {\"EMOTION\": \"sadness\", \"EXAMPLE WORDS\": [\"horror\", \"bad\", \"lost\"], \"PERCENT\": 0.023075216330153095, \"name\": \"Owen Gleiberman\"}, {\"EMOTION\": \"surprise\", \"EXAMPLE WORDS\": [\"pop\", \"good\", \"horror\"], \"PERCENT\": 0.02285333925005547, \"name\": \"Owen Gleiberman\"}, {\"EMOTION\": \"anger\", \"EXAMPLE WORDS\": [\"horror\", \"bad\", \"noisy\"], \"PERCENT\": 0.021522076769469715, \"name\": \"Owen Gleiberman\"}, {\"EMOTION\": \"disgust\", \"EXAMPLE WORDS\": [\"horror\", \"bad\", \"corruption\"], \"PERCENT\": 0.01775016640781007, \"name\": \"Owen Gleiberman\"}]}};\n",
       "const opt = {};\n",
       "const type = \"vega-lite\";\n",
       "const id = \"fadf8f8c-373b-4ad4-b983-04ba61357105\";\n",
       "\n",
       "const output_area = this;\n",
       "\n",
       "require([\"nbextensions/jupyter-vega/index\"], function(vega) {\n",
       "  const target = document.createElement(\"div\");\n",
       "  target.id = id;\n",
       "  target.className = \"vega-embed\";\n",
       "\n",
       "  const style = document.createElement(\"style\");\n",
       "  style.textContent = [\n",
       "    \".vega-embed .error p {\",\n",
       "    \"  color: firebrick;\",\n",
       "    \"  font-size: 14px;\",\n",
       "    \"}\",\n",
       "  ].join(\"\\\\n\");\n",
       "\n",
       "  // element is a jQuery wrapped DOM element inside the output area\n",
       "  // see http://ipython.readthedocs.io/en/stable/api/generated/\\\n",
       "  // IPython.display.html#IPython.display.Javascript.__init__\n",
       "  element[0].appendChild(target);\n",
       "  element[0].appendChild(style);\n",
       "\n",
       "  vega.render(\"#\" + id, spec, type, opt, output_area);\n",
       "}, function (err) {\n",
       "  if (err.requireType !== \"scripterror\") {\n",
       "    throw(err);\n",
       "  }\n",
       "});\n"
      ],
      "text/plain": [
       "<vega.vegalite.VegaLite at 0x10c7a1f60>"
      ]
     },
     "metadata": {
      "jupyter-vega": "#fadf8f8c-373b-4ad4-b983-04ba61357105"
     },
     "output_type": "display_data"
    },
    {
     "data": {
      "text/plain": []
     },
     "execution_count": 16,
     "metadata": {},
     "output_type": "execute_result"
    },
    {
     "data": {
      "image/png": "[encoded data removed]"
     },
     "metadata": {
      "jupyter-vega": "#fadf8f8c-373b-4ad4-b983-04ba61357105"
     },
     "output_type": "display_data"
    }
   ],
   "source": [
    "input_dropdown = alt.binding_select(options= top_critics)\n",
    "selection = alt.selection_single(fields=['name'], bind=input_dropdown, name='Critic of ')\n",
    "color = alt.condition(selection,\n",
    "                    alt.Color('critic:N', legend=None),\n",
    "                    alt.value('lightgray'))\n",
    "alt.Chart(result).mark_bar().encode(\n",
    "     x='PERCENT:Q',\n",
    "     y=alt.Y(\n",
    "        'EMOTION:N',\n",
    "        sort=alt.EncodingSortField(field='PERCENT', op='count', order='ascending')\n",
    "        ),\n",
    "    color=color,\n",
    "    tooltip='PERCENT:Q'\n",
    "    ).add_selection(\n",
    "    selection\n",
    ")\n"
   ]
  },
  {
   "cell_type": "code",
   "execution_count": 17,
   "metadata": {},
   "outputs": [],
   "source": [
    "\n",
    "# ## main analysis function \n",
    "# def analyze_quote(movie_review,criticname):\n",
    "    \n",
    "# #     criticname = input(\"Please enter the Critic that you are interested: \")\n",
    "#     critic_quote=movie_review[['critic','quote']]\n",
    "#     quote = critic_quote[critic_quote['critic'] == criticname[0]]\n",
    " \n",
    "#     for name in criticname[1:]:\n",
    "#         sub_quote = critic_quote[critic_quote['critic'] == name]\n",
    "#         quote.append(sub_quote,ignore_index=True)\n",
    "    \n",
    "# #     print\n",
    "#     #### cominbine quotes into one row \n",
    "#     content=quote.groupby('critic')['quote'].apply(' '.join).reset_index()['quote']\n",
    "#     Split_String=re.split(r'\\W+',content[0]) \n",
    "#     lower_words=[word.lower() for word in Split_String] \n",
    "#     length_filtered=[word for word in lower_words if len(word)>1]\n",
    "    \n",
    "#     ### calculate total number or words\n",
    "#     Total_Words=len(length_filtered)\n",
    "#     Words_List_for_Each_Emotion=words_list_for_each_emotion(length_filtered)\n",
    "    \n",
    "#     result_list=[]\n",
    "#     for i in EMOTIONS:\n",
    "#         result={}\n",
    "#         example_words=[get_common_words_list(value)[:3] for key,value in Words_List_for_Each_Emotion.items() if key==i]\n",
    "#         result['EMOTION']=i\n",
    "#         result['PERCENT']= len(Words_List_for_Each_Emotion[i])/Total_Words\n",
    "#         result['EXAMPLE WORDS']=example_words[0]\n",
    "#         result_list.append(result)\n",
    "#     result=sorted(result_list,key=lambda k:k['PERCENT'],reverse=True)\n",
    "    \n",
    "#     return pd.DataFrame(result)\n",
    "# #     ### show the result in a table \n",
    "#     print(\"{0:<14} {1:<11} {2:35}\".format('EMOTION','%WORDS','EXAMPLE WORDS'))\n",
    "#     for line in result:\n",
    "#         emotion=line['EMOTION']\n",
    "#         words_percent=line['% WORDS']\n",
    "#         format_words_percent='{:.2%}'.format(words_percent)\n",
    "#         example_words=line['EXAMPLE WORDS']\n",
    "#         top_example_words=','.join(example_words)\n",
    "#         print(\"{0:<14} {1:<11} {2:35} \".format(emotion,format_words_percent,top_example_words))\n",
    "\n"
   ]
  },
  {
   "cell_type": "code",
   "execution_count": 18,
   "metadata": {},
   "outputs": [],
   "source": [
    "### just for one year "
   ]
  },
  {
   "cell_type": "code",
   "execution_count": 19,
   "metadata": {
    "scrolled": true
   },
   "outputs": [],
   "source": [
    "# result = analyze_quote(movie_review,'Jonathan Rosenbaum')"
   ]
  },
  {
   "cell_type": "code",
   "execution_count": 20,
   "metadata": {},
   "outputs": [],
   "source": [
    "# alt.Chart(result).mark_bar().encode(\n",
    "#      x='PERCENT:Q',\n",
    "#      y=alt.Y(\n",
    "#         'EMOTION:N',\n",
    "#         sort=alt.EncodingSortField(field='PERCENT', op='count', order='ascending')\n",
    "#         ),\n",
    "#     color='EMOTION:N',\n",
    "#     tooltip='PERCENT:Q'\n",
    "#     )\n"
   ]
  },
  {
   "cell_type": "markdown",
   "metadata": {},
   "source": [
    "## Potential Analysis \n",
    "\n",
    "### Number of reviews per reviewer\n",
    "\n",
    "Using the `reviews` dataset, create a histogram showing the distribution of the number of reviews per reviewer.  Create the bin width (x-axis) to be 1 unit wide, and the range of the axis to be from 0 to 30.  Scale the y-axis to show the logarithm of (count of) the number of reviews.  Label your axes and make your histogram look professional."
   ]
  },
  {
   "cell_type": "code",
   "execution_count": 21,
   "metadata": {},
   "outputs": [],
   "source": [
    "reviewer_reviews=pd.DataFrame(reviews.groupby(['critic']).count().reset_index().sort_values('fresh'))"
   ]
  },
  {
   "cell_type": "code",
   "execution_count": 22,
   "metadata": {
    "scrolled": false
   },
   "outputs": [
    {
     "data": {
      "image/png": "[encoded data removed]",
      "text/plain": [
       "<Figure size 432x288 with 1 Axes>"
      ]
     },
     "metadata": {},
     "output_type": "display_data"
    }
   ],
   "source": [
    "# enter your code here  \n",
    "%matplotlib inline  \n",
    "import matplotlib.pyplot as plt \n",
    "reviewer_reviews=pd.DataFrame(reviews.groupby('critic').count())\n",
    "reviewer_reviews.reset_index(level=0, inplace=True)\n",
    "fig, ax = plt.subplots()\n",
    "plt.xlim([0, 30])\n",
    "plt.yscale('log', nonposy='clip')\n",
    "ax.hist(reviewer_reviews.quote, range=[0,30],bins=30,color=['green'],edgecolor = 'white',alpha=0.5)\n",
    "plt.ylabel('Logarithm of (count of) the Number of Reviews') # add labels \n",
    "plt.xlabel('Number of Reviews')\n",
    "plt.title(' The histogram of reviews per reviewer')\n",
    "ax.spines['right'].set_visible(False)\n",
    "ax.spines['top'].set_visible(False)\n",
    "ax.legend(['Number of Reviewers'])\n",
    "plt.show()"
   ]
  },
  {
   "cell_type": "code",
   "execution_count": null,
   "metadata": {},
   "outputs": [],
   "source": []
  },
  {
   "cell_type": "code",
   "execution_count": null,
   "metadata": {},
   "outputs": [],
   "source": []
  }
 ],
 "metadata": {
  "kernel_info": {
   "name": "python3"
  },
  "kernelspec": {
   "display_name": "Python 3",
   "language": "python",
   "name": "python3"
  },
  "language_info": {
   "codemirror_mode": {
    "name": "ipython",
    "version": 3
   },
   "file_extension": ".py",
   "mimetype": "text/x-python",
   "name": "python",
   "nbconvert_exporter": "python",
   "pygments_lexer": "ipython3",
   "version": "3.6.5"
  },
  "nteract": {
   "version": "0.12.3"
  }
 },
 "nbformat": 4,
 "nbformat_minor": 1
}
