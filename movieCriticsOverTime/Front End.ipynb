{
 "cells": [
  {
   "cell_type": "markdown",
   "metadata": {},
   "source": [
    "# Movie Critic Explorer Front End\n",
    "## Created for SEDS FALL 2019\n",
    "\n",
    "This project was created for.... this is how you use it....\n"
   ]
  },
  {
   "cell_type": "markdown",
   "metadata": {},
   "source": [
    "### Import Relevant Packages"
   ]
  },
  {
   "cell_type": "code",
   "execution_count": 1,
   "metadata": {},
   "outputs": [],
   "source": [
    "import altair as alt\n",
    "import CleanData\n",
    "from ipywidgets import interact,widgets\n",
    "import pandas as pd\n",
    "import OverallRating\n",
    "import SentimentAnalysis\n",
    "import tabletext\n",
    "import Visualization"
   ]
  },
  {
   "cell_type": "markdown",
   "metadata": {},
   "source": [
    "### Import Data\n",
    "\n",
    "To use your own data here, simply replace the reference"
   ]
  },
  {
   "cell_type": "code",
   "execution_count": 2,
   "metadata": {},
   "outputs": [],
   "source": [
    "MOVIES = pd.read_csv(\"../data/movies.dat\", delimiter='\\t')\n",
    "REVIEWS = pd.read_csv('../data/reviews.csv')"
   ]
  },
  {
   "cell_type": "markdown",
   "metadata": {},
   "source": [
    "### Clean Data\n",
    "\n",
    "This puts the data in the correct format for use in the modules"
   ]
  },
  {
   "cell_type": "code",
   "execution_count": 3,
   "metadata": {
    "scrolled": true
   },
   "outputs": [],
   "source": [
    "SUB_MOVIES = CleanData.clean_movies(MOVIES)\n",
    "REVIEWS_CLEAN = CleanData.clean_reviews(REVIEWS)\n",
    "REVIEWS_MERGE = CleanData.merge_movies_reviews(REVIEWS_CLEAN,SUB_MOVIES)"
   ]
  },
  {
   "cell_type": "markdown",
   "metadata": {},
   "source": [
    "### View Overall Shape of Review Scores Over User Specified Time.\n",
    "\n",
    "This will show you a visualization of the average rating per year. From here, you can find a year of interest to dive further into. If you are runnning main.py instead of using jupyter notebook as the front end, this will export into your folder as overallratings.html."
   ]
  },
  {
   "cell_type": "markdown",
   "metadata": {},
   "source": [
    "*Select Year Range of Interest*\n"
   ]
  },
  {
   "cell_type": "code",
   "execution_count": null,
   "metadata": {
    "scrolled": false
   },
   "outputs": [],
   "source": [
    "print('Please insert the start year of a range of interest')\n",
    "start_year = int(input())"
   ]
  },
  {
   "cell_type": "code",
   "execution_count": null,
   "metadata": {},
   "outputs": [
    {
     "name": "stdout",
     "output_type": "stream",
     "text": [
      "Please insert the end year of a range of interest\n"
     ]
    }
   ],
   "source": [
    "print('Please insert the end year of a range of interest')\n",
    "\n",
    "end_year = int(input())"
   ]
  },
  {
   "cell_type": "code",
   "execution_count": null,
   "metadata": {},
   "outputs": [],
   "source": [
    "#Initialize ability to see visualization in Jupyter Notebook\n",
    "alt.renderers.enable('notebook')"
   ]
  },
  {
   "cell_type": "code",
   "execution_count": null,
   "metadata": {
    "scrolled": true
   },
   "outputs": [],
   "source": [
    "OverallRating.draw_trend_line_median_year(SUB_MOVIES,start_year,end_year)\n",
    "#clean up axis and add title"
   ]
  },
  {
   "cell_type": "markdown",
   "metadata": {},
   "source": [
    "### Select a Year of Interest to See Top Critics of that Year and Thier Sentiment"
   ]
  },
  {
   "cell_type": "markdown",
   "metadata": {},
   "source": [
    "Did you see an interesting spike or valley? If so, maybe investigate that more to see what critics could be driving that change!\n",
    "*Test to make sure it is in the correct range*"
   ]
  },
  {
   "cell_type": "code",
   "execution_count": null,
   "metadata": {},
   "outputs": [],
   "source": [
    "print('Please input a year of interest to see critic activity that year: ')\n",
    "interest_year = int(input())"
   ]
  },
  {
   "cell_type": "code",
   "execution_count": null,
   "metadata": {},
   "outputs": [],
   "source": [
    "top_critics = OverallRating.top5_critic_per_year(REVIEWS_MERGE,interest_year)\n",
    "print('The top critics that year are:')\n",
    "pd.DataFrame(top_critics)\n",
    "#add number of Reviews"
   ]
  },
  {
   "cell_type": "markdown",
   "metadata": {},
   "source": [
    "### Grab Top Critic Reviews for Year of Interest and Analyze them for Sentiment"
   ]
  },
  {
   "cell_type": "code",
   "execution_count": null,
   "metadata": {},
   "outputs": [],
   "source": [
    "QUOTES = SentimentAnalysis.grab_quotes(REVIEWS_MERGE,top_critics,interest_year)\n",
    "EMOTION_ARRAY = SentimentAnalysis.analyze_quote(QUOTES,top_critics)\n",
    "\n",
    "Visualization.visualize(EMOTION_ARRAY)"
   ]
  },
  {
   "cell_type": "code",
   "execution_count": null,
   "metadata": {},
   "outputs": [],
   "source": []
  }
 ],
 "metadata": {
  "kernelspec": {
   "display_name": "Python 3",
   "language": "python",
   "name": "python3"
  },
  "language_info": {
   "codemirror_mode": {
    "name": "ipython",
    "version": 3
   },
   "file_extension": ".py",
   "mimetype": "text/x-python",
   "name": "python",
   "nbconvert_exporter": "python",
   "pygments_lexer": "ipython3",
   "version": "3.6.5"
  }
 },
 "nbformat": 4,
 "nbformat_minor": 2
}
