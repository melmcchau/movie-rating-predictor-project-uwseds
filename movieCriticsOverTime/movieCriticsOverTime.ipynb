{
 "cells": [
  {
   "cell_type": "markdown",
   "metadata": {},
   "source": [
    "# Movie Critic Explorer Front End\n",
    "## Created for SEDS FALL 2019\n",
    "\n",
    "This project was created to be able to explore movie critic scores and sentiments over time. To use it, use the setup.py file to download all necessary packages. After that, you can use this jupyter notebook as a front-end to access all of the modles and run a sentiment analysis. Throughout the program, you will be asked to specify a time range of interest and a year of interest to create certain visualizations. You can also use main.py for the same thing.\n",
    "\n",
    "#### Created by: Melinda Haughey, Olivia Li, and Jessica Liu\n"
   ]
  },
  {
   "cell_type": "markdown",
   "metadata": {},
   "source": [
    "### Import Relevant Packages"
   ]
  },
  {
   "cell_type": "code",
   "execution_count": null,
   "metadata": {},
   "outputs": [],
   "source": [
    "import altair as alt\n",
    "import clean_data\n",
    "from ipywidgets import interact,widgets\n",
    "import pandas as pd\n",
    "import overall_rating\n",
    "import sentiment_analysis\n",
    "import visualization\n",
    "import word_cloud"
   ]
  },
  {
   "cell_type": "markdown",
   "metadata": {},
   "source": [
    "### Import Data\n",
    "\n",
    "To use your own data here, simply replace the reference"
   ]
  },
  {
   "cell_type": "code",
   "execution_count": null,
   "metadata": {},
   "outputs": [],
   "source": [
    "MOVIES = pd.read_csv(\"../data/movies.dat\", delimiter='\\t')\n",
    "REVIEWS = pd.read_csv('../data/reviews.csv')"
   ]
  },
  {
   "cell_type": "markdown",
   "metadata": {},
   "source": [
    "### Clean Data\n",
    "\n",
    "This puts the data in the correct format for use in the modules"
   ]
  },
  {
   "cell_type": "code",
   "execution_count": null,
   "metadata": {
    "scrolled": true
   },
   "outputs": [],
   "source": [
    "SUB_MOVIES = clean_data.clean_movies(MOVIES)\n",
    "REVIEWS_CLEAN = clean_data.clean_reviews(REVIEWS)\n",
    "REVIEWS_MERGE = clean_data.merge_movies_reviews(REVIEWS_CLEAN,SUB_MOVIES)"
   ]
  },
  {
   "cell_type": "markdown",
   "metadata": {},
   "source": [
    "### View Overall Shape of Review Scores Over User Specified Time.\n",
    "\n",
    "This will show you a visualization of the average rating per year. From here, you can find a year of interest to dive further into. If you are runnning main.py instead of using jupyter notebook as the front end, this will export into your folder as overallratings.html."
   ]
  },
  {
   "cell_type": "markdown",
   "metadata": {},
   "source": [
    "*Select Year Range of Interest*\n"
   ]
  },
  {
   "cell_type": "code",
   "execution_count": null,
   "metadata": {
    "scrolled": false
   },
   "outputs": [],
   "source": [
    "print('Please insert the start year of a range of interest between 1903 and 2009')\n",
    "start_year = int(input())"
   ]
  },
  {
   "cell_type": "code",
   "execution_count": null,
   "metadata": {},
   "outputs": [],
   "source": [
    "print('Please insert the end year of a range of interest between 1903 and 2009')\n",
    "\n",
    "end_year = int(input())"
   ]
  },
  {
   "cell_type": "code",
   "execution_count": null,
   "metadata": {},
   "outputs": [],
   "source": [
    "#Initialize ability to see visualization in Jupyter Notebook\n",
    "alt.renderers.enable('notebook')"
   ]
  },
  {
   "cell_type": "code",
   "execution_count": null,
   "metadata": {
    "scrolled": true
   },
   "outputs": [],
   "source": [
    "overall_rating.draw_trend_line_median_year(SUB_MOVIES,start_year,end_year)"
   ]
  },
  {
   "cell_type": "markdown",
   "metadata": {},
   "source": [
    "### Select a Year of Interest to See Top Critics of that Year and Thier Sentiment"
   ]
  },
  {
   "cell_type": "markdown",
   "metadata": {},
   "source": [
    "Did you see an interesting spike or valley? If so, maybe investigate that more to see what critics could be driving that change!"
   ]
  },
  {
   "cell_type": "code",
   "execution_count": null,
   "metadata": {},
   "outputs": [],
   "source": [
    "print('Please input a year of interest to see critic activity that year: ')\n",
    "interest_year = int(input())"
   ]
  },
  {
   "cell_type": "code",
   "execution_count": null,
   "metadata": {},
   "outputs": [],
   "source": [
    "top_critics = overall_rating.top5_critic_per_year(REVIEWS_MERGE,interest_year)\n",
    "print('The top critics that year are:')\n",
    "pd.DataFrame(top_critics)\n",
    "#add number of Reviews"
   ]
  },
  {
   "cell_type": "markdown",
   "metadata": {},
   "source": [
    "### Grab Top Critic Reviews for Year of Interest and Analyze them for Sentiment"
   ]
  },
  {
   "cell_type": "code",
   "execution_count": null,
   "metadata": {},
   "outputs": [],
   "source": [
    "QUOTES = sentiment_analysis.grab_quotes(REVIEWS_MERGE,top_critics,interest_year)\n",
    "EMOTION_ARRAY = sentiment_analysis.analyze_quote(QUOTES,top_critics)\n",
    "\n",
    "visualization.visualize(EMOTION_ARRAY)"
   ]
  },
  {
   "cell_type": "markdown",
   "metadata": {},
   "source": [
    "### Word Cloud for Top 5 Critic Words\n",
    "You can see what words are most commonly used by the critics listed above in the word cloud. This could suggest movies or reasons that may have impacted the overall score for your selected year. "
   ]
  },
  {
   "cell_type": "code",
   "execution_count": null,
   "metadata": {},
   "outputs": [],
   "source": [
    "word_cloud.vis_word_cloud(QUOTES)"
   ]
  }
 ],
 "metadata": {
  "kernelspec": {
   "display_name": "Python 3",
   "language": "python",
   "name": "python3"
  },
  "language_info": {
   "codemirror_mode": {
    "name": "ipython",
    "version": 3
   },
   "file_extension": ".py",
   "mimetype": "text/x-python",
   "name": "python",
   "nbconvert_exporter": "python",
   "pygments_lexer": "ipython3",
   "version": "3.6.5"
  }
 },
 "nbformat": 4,
 "nbformat_minor": 2
}
